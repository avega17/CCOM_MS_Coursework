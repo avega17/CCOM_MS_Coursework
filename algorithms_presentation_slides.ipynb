{
 "cells": [
  {
   "cell_type": "code",
   "execution_count": null,
   "id": "5cf1a316-0557-4f9b-a4a4-7b87337039c2",
   "metadata": {
    "editable": true,
    "slideshow": {
     "slide_type": "skip"
    },
    "tags": []
   },
   "outputs": [],
   "source": [
    "# python libraries\n",
    "import os\n",
    "import json\n",
    "import requests\n",
    "import urllib.parse\n",
    "from pathlib import Path\n",
    "import subprocess\n",
    "import tempfile\n",
    "import shutil\n",
    "import pprint as pp\n",
    "import time\n",
    "import json\n",
    "import re\n",
    "from zipfile import ZipFile\n",
    "import random\n",
    "from typing import Optional, List, Dict, Tuple, Any\n",
    "\n",
    "# Geospatial & Data Handling\n",
    "import pandas as pd\n",
    "import geopandas as gpd\n",
    "import duckdb\n",
    "import h3\n",
    "import pyarrow.parquet as pq\n",
    "import pyarrow as pa\n",
    "import xarray as xr # For ND-Array section\n",
    "import pystac_client # For STAC section\n",
    "from shapely.geometry import Point, Polygon, MultiPolygon\n",
    "\n",
    "# Visualization\n",
    "import matplotlib.pyplot as plt\n",
    "import pydeck as pdk\n",
    "import folium\n",
    "import lonboard\n",
    "\n",
    "# Presentation/Notebook Specific\n",
    "# from IPython.display import display, Markdown, Latex\n",
    "from IPython.display import display\n",
    "from IPython.display import clear_output\n",
    "from tqdm import tqdm\n",
    "import ipywidgets as widgets\n",
    "from jupyter_bbox_widget import BBoxWidget\n",
    "from ipywidgets import Layout, interact\n",
    "\n",
    "# data\n",
    "import duckdb\n",
    "import datahugger\n",
    "import sciencebasepy\n",
    "from seedir import seedir\n",
    "\n",
    "# Import refactored utility functions\n",
    "from utils.fetch_and_preprocess import (\n",
    "    fetch_dataset_files, \n",
    "    filter_gdf_duplicates, \n",
    "    process_vector_geoms, \n",
    "    geom_db_consolidate_dataset,\n",
    "    ddb_filter_duplicates\n",
    ")\n",
    "from utils.visualizations import (\n",
    "    format_dataset_info,\n",
    "    create_folium_cluster_map,\n",
    "    create_folium_choropleth,\n",
    "    create_folium_heatmap,\n",
    "    create_pydeck_scatterplot,\n",
    "    create_pydeck_polygons,\n",
    "    create_pydeck_heatmap\n",
    ")\n",
    "\n",
    "from utils.st_context_processing import (\n",
    "    add_h3_index_to_pv_labels,\n",
    "    ddb_alter_table_add_h3,\n",
    "    ddb_save_div_matches,\n",
    "    ddb_save_subtype_geoms,\n",
    "    get_duckdb_connection,\n",
    "    group_pv_by_h3_cells,\n",
    "    spatial_join_stac_items_with_h3,\n",
    "    create_h3_stac_fetch_plan,\n",
    "    fetch_overture_maps_theme,\n",
    "    spatial_join_pv_overture_duckdb\n",
    ")\n",
    "\n",
    "from dotenv import load_dotenv\n",
    "load_dotenv()\n",
    "\n",
    "print(\"Libraries imported.\")"
   ]
  },
  {
   "cell_type": "markdown",
   "id": "96706a2e",
   "metadata": {
    "editable": true,
    "slideshow": {
     "slide_type": "slide"
    },
    "tags": []
   },
   "source": [
    "# Leveraging Hierarchical Spatial Clustering and DGGS for Planetary-scale surveys of Photovoltaic Solar Panel Arrays\n",
    "\n",
    "*CCOM6050: Analysis and Design of Algorithms*  \n",
    "**Alejandro Vega Nogales**  \n",
    "*Data Scientist @ Maxar Puerto Rico*   \n",
    "*CCOM MS Student*"
   ]
  },
  {
   "cell_type": "markdown",
   "id": "2ccc7bf3-344f-49e9-806f-8211b19017f9",
   "metadata": {
    "editable": true,
    "slideshow": {
     "slide_type": "slide"
    },
    "tags": []
   },
   "source": [
    "## Outline\n",
    "\n",
    "1.  **Introduction & Background (Earth Observation)**\n",
    "    * Earth Observation (EO) \n",
    "    * Remote Sensing (RS)\n",
    "    * Geospatial Data\n",
    "    * Thesis Topic \n",
    "2.  **Data & Methodology**\n",
    "    * Open, Published PV Solar Panel Location Datasets\n",
    "    * Cloud-Native Geospatial Stack\n",
    "        - GeoParquet \n",
    "        - DuckDB\n",
    "        - Overture\n",
    "        - H3\n",
    "    * Geospatial Data Handling & Analysis\n",
    "        * STAC Collections\n",
    "        * Xarray & ND-Arrays\n",
    "        * Virtualization & Virtual Datasets\n",
    "4.  **Core Topic: Hierarchical Spatial Clustering**\n",
    "    * Relevant Algorithms & Papers\n",
    "    * Application with H3 for PV Cluster Analysis\n",
    "    * Minimizing STAC queries for multi-sensor and multi-temporal data\n",
    "5.  **Preliminary Findings & Next Steps**\n",
    "    * Testing with preliminary datasets and h3\n",
    "    * Graphs and Network Algorithms?\n",
    "    * Scaling to the Cloud\n",
    "6.  **Conclusion**"
   ]
  },
  {
   "cell_type": "markdown",
   "id": "47c43c42",
   "metadata": {
    "editable": true,
    "slideshow": {
     "slide_type": "slide"
    },
    "tags": []
   },
   "source": [
    "## Earth Observation (EO): Fundamentals and Background\n"
   ]
  },
  {
   "cell_type": "markdown",
   "id": "7f833698",
   "metadata": {
    "editable": true,
    "jp-MarkdownHeadingCollapsed": true,
    "slideshow": {
     "slide_type": "slide"
    },
    "tags": []
   },
   "source": [
    "### What is Earth Observation (EO)?\n",
    "\n",
    "- Gathering information about Earth's physical, chemical, and biological systems via remote sensing technologies.\n",
    "- Sensors on satellites, aircraft, drones, etc.\n",
    "- Key characteristics: Spatial, Temporal, and Spectral Resolution.\n",
    "\n",
    "<figure style=\"text-align: right\">\n",
    "<img src=\"report/assets/figures/schmitt_et_al_fig1_geospatial_data.png\" style=\"width:auto; height:40%;\">\n",
    "<figcaption align = \"center\"> Illustration of different RS sources, imagery types, and imaging details </figcaption>\n",
    "</figure>"
   ]
  },
  {
   "cell_type": "markdown",
   "id": "d305cd07-1d60-4d0f-a4c4-be68a045fd33",
   "metadata": {
    "editable": true,
    "slideshow": {
     "slide_type": "slide"
    },
    "tags": []
   },
   "source": [
    "### Sensor Modalities\n",
    "\n",
    "- **Optical:** Captures visible and near-infrared light (e.g., satellite imagery).\n",
    "  - Panchromatic (grayscale), True Color (RGB), Multispectral (4-15 bands), Hyperspectral (100+ bands).\n",
    "- **Radar (SAR):** Active sensor, penetrates clouds, measures surface properties and elevation.\n",
    "- **Thermal:** Detects heat emitted/reflected."
   ]
  },
  {
   "cell_type": "markdown",
   "id": "8ad83652",
   "metadata": {
    "editable": true,
    "slideshow": {
     "slide_type": "subslide"
    },
    "tags": []
   },
   "source": [
    "### EO Data Complexities\n",
    "\n",
    "- **Spatial Resolution (GSD):** Size of ground area covered by one pixel.\n",
    "- **Temporal Resolution:** Time between observations of the same location.\n",
    "- **Spectral Resolution:** Number and width of electromagnetic bands captured.\n",
    "- **Challenges:** Clouds, atmospheric distortion, data volume, coordinate systems."
   ]
  },
  {
   "cell_type": "markdown",
   "id": "8006c4a1",
   "metadata": {
    "editable": true,
    "slideshow": {
     "slide_type": "subslide"
    },
    "tags": []
   },
   "source": [
    "### Geospatial Data Types\n",
    "\n",
    "- **Raster:**\n",
    "  - Grid-based data (pixels).\n",
    "  - Represents continuous phenomena (e.g., elevation, temperature, imagery).\n",
    "  - Cell values store attribute information.\n",
    "- **Vector:**\n",
    "  - Coordinate-based data.\n",
    "  - Represents discrete features (e.g., points, lines, polygons).\n",
    "  - Examples: Roads (lines), buildings (polygons), PV panels (points/polygons)."
   ]
  },
  {
   "cell_type": "markdown",
   "id": "6ccd2744",
   "metadata": {
    "editable": true,
    "slideshow": {
     "slide_type": "slide"
    },
    "tags": []
   },
   "source": [
    "## Proposed Thesis Topic: \n",
    "\n",
    "### Training on planetary-scale Datasets for Nation-scale Inventories of PV Solar Panel Datasets"
   ]
  },
  {
   "cell_type": "markdown",
   "id": "03c9de6d",
   "metadata": {
    "editable": true,
    "slideshow": {
     "slide_type": "subslide"
    },
    "tags": []
   },
   "source": [
    "## Data & Methodology\n",
    "\n",
    "### Open, Published PV Solar Panel Locations\n",
    "\n",
    "- Aggregated multiple open, published datasets of PV locations worldwide.\n",
    "- Sources include Zenodo, Figshare, GitHub, ScienceBase.\n",
    "- Variety of formats (CSV, *GeoJSON* [ideal], Shapefile, etc.).\n",
    "- Goal: Create a consolidated, deduplicated dataset for analysis.\n",
    "\n",
    "\n",
    "<!-- prev note for Georectified USA (Note: these correspond to PV _facilities_ rather than individual panel arrays or objects and need filtering of duplicates with other datasets and further processing to extract the PV arrays in the facility) -->\n",
    "\n",
    "Here we list the dataset titles of publications alongside their first author, DOI links, and their number of labels:\n",
    "- \"Distributed solar photovoltaic array location and extent dataset for remote sensing object identification\" - K. Bradbury, 2016 | [paper DOI](https://doi.org/10.1038/sdata.2016.106) | [dataset DOI](https://doi.org/10.6084/m9.figshare.3385780.v4) | polygon annotations for 19,433 PV modules in 4 cities in California, USA\n",
    "- \"A solar panel dataset of very high resolution satellite imagery to support the Sustainable Development Goals\" - C. Clark et al, 2023 | [paper DOI](https://doi.org/10.1038/s41597-023-02539-8) | [dataset DOI](https://doi.org/10.6084/m9.figshare.22081091.v3) | 2,542 object labels (per spatial resolution)\n",
    "- \"A harmonised, high-coverage, open dataset of solar photovoltaic installations in the UK\" - D. Stowell et al, 2020 | [paper DOI](https://doi.org/10.1038/s41597-020-00739-0) | [dataset DOI](https://zenodo.org/records/4059881) | 265,418 data points (over 255,000 are stand-alone installations, 1067 solar farms, and rest are subcomponents within solar farms)\n",
    "- \"An Artificial Intelligence Dataset for Solar Energy Locations in India\" - A. Ortiz, 2022 | [paper DOI](https://doi.org/10.1038/s41597-022-01499-9) | [dataset link 1](https://researchlabwuopendata.blob.core.windows.net/solar-farms/solar_farms_india_2021.geojson) or [dataset link 2](https://raw.githubusercontent.com/microsoft/solar-farms-mapping/refs/heads/main/data/solar_farms_india_2021_merged_simplified.geojson) | 117 geo-referenced points of solar installations across India\n",
    "- \"GloSoFarID: Global multispectral dataset for Solar Farm IDentification in satellite imagery\" - Z. Yang, 2024 | [paper DOI](https://doi.org/10.48550/arXiv.2404.05180) | [dataset DOI](https://github.com/yzyly1992/GloSoFarID/tree/main/data_coordinates) | 6,793 PV samples across 3 years (2019-2021) and 3 different spatial resolutions (0.5m, 1m, and 2m)\n",
    "- \"A global inventory of photovoltaic solar energy generating units\" - L. Kruitwagen et al, 2021 | [paper DOI](https://doi.org/10.1038/s41586-021-03957-7) | [dataset DOI](https://doi.org/10.5281/zenodo.5005867) | 50,426 for training, cross-validation, and testing; 68,661 predicted polygon labels\n",
    "- \"Harmonised global datasets of wind and solar farm locations and power\" - S. Dunnett et al, 2020 | [paper DOI](https://doi.org/10.1038/s41597-020-0469-8) | [dataset DOI](https://doi.org/10.6084/m9.figshare.11310269.v6) | 35272 PV installations"
   ]
  },
  {
   "cell_type": "code",
   "execution_count": null,
   "id": "e9c8eb31-a4a8-4613-9482-9683b5d63f72",
   "metadata": {
    "editable": true,
    "slideshow": {
     "slide_type": "subslide"
    },
    "tags": []
   },
   "outputs": [],
   "source": [
    "# load environment variables\n",
    "load_dotenv()\n",
    "DATASET_DIR = Path(os.getenv('DATA_PATH'))\n",
    "# read dataset metadata from json file\n",
    "with open('dataset_metadata.json', 'r') as f:\n",
    "    dataset_metadata = json.load(f)\n",
    "\n",
    "dataset_choices = [\n",
    "    'global_harmonized_large_solar_farms_2020',\n",
    "    # 'global_pv_inventory_sent2_2024',\n",
    "    'global_pv_inventory_sent2_spot_2021',\n",
    "    # 'fra_west_eur_pv_installations_2023',\n",
    "    'ind_pv_solar_farms_2022',\n",
    "    'usa_cali_usgs_pv_2016',\n",
    "    # 'chn_med_res_pv_2024',\n",
    "    # 'usa_eia_large_scale_pv_2023',\n",
    "    'uk_crowdsourced_pv_2020',\n",
    "    # 'deu_maxar_vhr_2023'   \n",
    "]"
   ]
  },
  {
   "cell_type": "code",
   "execution_count": null,
   "id": "1581ef17-722e-44c3-ad42-7a88b8c19aa5",
   "metadata": {
    "editable": true,
    "slideshow": {
     "slide_type": "skip"
    },
    "tags": []
   },
   "outputs": [],
   "source": [
    "# Initialize a list to store selected datasets\n",
    "# mostly gen by github copilot with Claude 3.7 model\n",
    "selected_datasets = dataset_choices.copy()\n",
    "\n",
    "# Create an accordion to display selected datasets with centered layout\n",
    "dataset_accordion = widgets.Accordion(\n",
    "    children=[widgets.HTML(format_dataset_info(ds)) for ds in selected_datasets],\n",
    "    layout=Layout(width='50%', margin='0 auto')\n",
    ")\n",
    "for i, ds in enumerate(selected_datasets):\n",
    "    dataset_accordion.set_title(i, ds)\n",
    "\n",
    "# Define a function to add or remove datasets\n",
    "def manage_datasets(action, dataset=None):\n",
    "    global selected_datasets, dataset_accordion\n",
    "    \n",
    "    if action == 'add' and dataset and dataset not in selected_datasets:\n",
    "        selected_datasets.append(dataset)\n",
    "    elif action == 'remove' and dataset and dataset in selected_datasets:\n",
    "        selected_datasets.remove(dataset)\n",
    "    \n",
    "    # Update the accordion with current selections\n",
    "    dataset_accordion.children = [widgets.HTML(format_dataset_info(ds)) for ds in selected_datasets]\n",
    "    for i, ds in enumerate(selected_datasets):\n",
    "        dataset_accordion.set_title(i, ds)\n",
    "    \n",
    "    f\"Currently selected datasets: {len(selected_datasets)}\"\n",
    "\n",
    "# Create dropdown for available datasets\n",
    "dataset_dropdown = widgets.Dropdown(\n",
    "    options=list(dataset_metadata.keys()),\n",
    "    description='Dataset:',\n",
    "    disabled=False,\n",
    "    layout=Layout(width='70%', margin='20 20 auto 20 20')\n",
    ")\n",
    "\n",
    "# Create buttons for actions\n",
    "add_button = widgets.Button(description=\"Add Dataset\", button_style='success')\n",
    "remove_button = widgets.Button(description=\"Remove Dataset\", button_style='danger')\n",
    "\n",
    "# Define button click handlers\n",
    "def on_add_clicked(b):\n",
    "    manage_datasets('add', dataset_dropdown.value)\n",
    "\n",
    "def on_remove_clicked(b):\n",
    "    manage_datasets('remove', dataset_dropdown.value)\n",
    "\n",
    "# Link buttons to handlers\n",
    "add_button.on_click(on_add_clicked)\n",
    "remove_button.on_click(on_remove_clicked)"
   ]
  },
  {
   "cell_type": "markdown",
   "id": "690227a7-d2ed-4624-a5a3-266c95fdba7a",
   "metadata": {
    "editable": true,
    "slideshow": {
     "slide_type": ""
    },
    "tags": []
   },
   "source": [
    "### Dataset Selection Interface\n",
    "#### Use the dropdown and buttons below to customize which solar panel datasets will be fetched and processed.\n",
    "- Select a dataset from the dropdown:\n",
    "    - Click \"Add Dataset\" to include it in processing\n",
    "    - Click \"Remove Dataset\" to exclude it\n",
    "- View metadata table for each selected dataset by clicking on it's row in the list"
   ]
  },
  {
   "cell_type": "code",
   "execution_count": null,
   "id": "9c4a2ea3-9498-430f-93e7-2a513019c8c6",
   "metadata": {
    "editable": true,
    "slideshow": {
     "slide_type": "fragment"
    },
    "tags": []
   },
   "outputs": [],
   "source": [
    "# Display the widgets\n",
    "display(widgets.HBox([dataset_dropdown, add_button, remove_button]))\n",
    "display(dataset_accordion)"
   ]
  },
  {
   "cell_type": "markdown",
   "id": "e3c4ba43-4a21-4d9e-9887-79232a0e57e0",
   "metadata": {
    "editable": true,
    "slideshow": {
     "slide_type": "slide"
    },
    "tags": []
   },
   "source": [
    "### Simplifying Fetching and Organizing datasets\n",
    "\n",
    "Using:\n",
    "- [datahugger](https://j535d165.github.io/datahugger/) to fetch datasets hosted in Zenodo, figshare.\n",
    "- sciencebasepy for the dataset hosted in the USGS ScienceBase Catalog.\n",
    "- github datasets will be fetched using ad hoc functions.\n",
    "<!-- We will use osf-client to fetch datasets hosted in the Open Science Framework (OSF). -->\n",
    "\n",
    "#### Dataset Fetching UI widget \n",
    "\n",
    "- You can sequentially go through the selected datasets above \n",
    "- Initiate the download with the fetch button \n",
    "- Files that are already downloaded will be skipped unless the force redownload checkbox is checked \n",
    "- You can inspect each download's std out and stderr logs in the output area below"
   ]
  },
  {
   "cell_type": "code",
   "execution_count": null,
   "id": "c34c0ef0-f390-41b7-8b8c-2bdb0b11a188",
   "metadata": {
    "editable": true,
    "slideshow": {
     "slide_type": "skip"
    },
    "tags": []
   },
   "outputs": [],
   "source": [
    "# iterate through the selected datasets and fetch files\n",
    "# iterate through the selected datasets and fetch files\n",
    "ds_trees = {}\n",
    "max_mb = int(os.getenv('MAX_LABEL_MB', 100))\n",
    "\n",
    "# Create widgets for controlling the fetching process\n",
    "fetch_output = widgets.Output(\n",
    "    layout=widgets.Layout(\n",
    "        width='80%', \n",
    "        border='1px solid #ddd', \n",
    "        padding='10px',\n",
    "        overflow='auto'\n",
    "    )\n",
    ")\n",
    "# Apply direct CSS styling for text wrapping (Note: unvalidated)\n",
    "display(widgets.HTML(\"\"\"\n",
    "<style>\n",
    ".jupyter-widgets-output-area pre {\n",
    "    white-space: pre-wrap !important;       /* CSS3 */\n",
    "    word-wrap: break-word !important;        /* Internet Explorer 5.5+ */\n",
    "    overflow-wrap: break-word !important;\n",
    "    max-width: 100%;\n",
    "}\n",
    "</style>\n",
    "\"\"\"))\n",
    "control_panel = widgets.VBox(layout=widgets.Layout(width='20%', padding='10px', overflow='auto', word_wrap='break-word'))\n",
    "fetch_button = widgets.Button(description=\"Fetch Next Dataset\", button_style=\"primary\")\n",
    "progress_label = widgets.HTML(\"Waiting to start...\")\n",
    "dataset_index = 0\n",
    "\n",
    "# Function to fetch the next dataset\n",
    "def fetch_next_dataset(button=None):\n",
    "    global dataset_index\n",
    "    global dataset_metadata\n",
    "    \n",
    "    if dataset_index >= len(selected_datasets):\n",
    "        with fetch_output:\n",
    "            print(\"All datasets have been fetched!\")\n",
    "            progress_label.value = f\"<b>Completed:</b> {dataset_index}/{len(selected_datasets)} datasets\"\n",
    "        fetch_button.disabled = True\n",
    "        return\n",
    "    \n",
    "    dataset = selected_datasets[dataset_index]\n",
    "    progress_label.value = f\"<b>Fetching:</b> {dataset_index+1}/{len(selected_datasets)}<br><b>Current:</b> {dataset}\"\n",
    "    \n",
    "    with fetch_output:\n",
    "        clear_output(wait=True)\n",
    "        print(f\"Fetching dataset files for {dataset} using DOI/URL:\\n {dataset_metadata[dataset]['doi']}\")\n",
    "        ds_tree = fetch_dataset_files(dataset, dataset_metadata[dataset], max_mb=max_mb, force=force_download_checkbox.value)\n",
    "        \n",
    "        \n",
    "        if ds_tree:\n",
    "            ds_trees[dataset] = ds_tree\n",
    "            # update metadata dict with local filesystem info\n",
    "            dataset_metadata[dataset]['output_folder'] = ds_tree['output_folder']\n",
    "            dataset_metadata[dataset]['files'] = ds_tree['files']\n",
    "            dataset_metadata[dataset]['fs_tree'] = ds_tree['fs_tree']\n",
    "            # print the dataset file tree\n",
    "        else:\n",
    "            print(f\"Failed to fetch dataset {dataset}\")\n",
    "    \n",
    "    dataset_index += 1\n",
    "    progress_label.value = f\"<b>Completed:</b> {dataset_index}/{len(selected_datasets)}<br><b>Next:</b> {selected_datasets[dataset_index] if dataset_index < len(selected_datasets) else 'Done'}\"\n",
    "\n",
    "# Add a checkbox for force download option\n",
    "force_download_checkbox = widgets.Checkbox(\n",
    "    value=False,\n",
    "    description='Force Download',\n",
    "    tooltip='If checked, download will be forced even if files exist locally',\n",
    "    layout=widgets.Layout(width='auto')\n",
    ")\n",
    "\n",
    "# Configure the button callback\n",
    "fetch_button.on_click(fetch_next_dataset)\n",
    "\n",
    "# Create the control panel\n",
    "dataset_progress = widgets.HTML(f\"Datasets selected: {len(selected_datasets)}\")\n",
    "fetch_status = widgets.HTML(\n",
    "    f\"Status: Ready to begin\",\n",
    "    layout=widgets.Layout(margin=\"10px 0\")\n",
    ")\n",
    "\n",
    "# Create the control panel with left alignment\n",
    "control_panel.children = [\n",
    "    widgets.HTML(\"<h3 style='align:left;'>Fetch Control</h3>\"), \n",
    "    dataset_progress,\n",
    "    force_download_checkbox,\n",
    "    widgets.HTML(\"<hr style='margin:10px 0'>\"),\n",
    "    progress_label,\n",
    "    fetch_button\n",
    "]"
   ]
  },
  {
   "cell_type": "code",
   "execution_count": null,
   "id": "679be592-6159-4dd9-84b5-71355cfcb384",
   "metadata": {
    "editable": true,
    "slideshow": {
     "slide_type": "slide"
    },
    "tags": []
   },
   "outputs": [],
   "source": [
    "# Add custom CSS to ensure alignment\n",
    "display(widgets.HTML(\"\"\"\n",
    "<style>\n",
    ".widget-html {\n",
    "    text-align: left !important;\n",
    "}\n",
    ".widget-checkbox {\n",
    "    align-items: left !important;\n",
    "}\n",
    ".widget-button {\n",
    "    width: 100% !important;\n",
    "}\n",
    "</style>\n",
    "\"\"\"))\n",
    "# Display the widget layout\n",
    "display(widgets.HBox([fetch_output, control_panel]))\n",
    "\n",
    "# Set up for first fetch\n",
    "if selected_datasets:\n",
    "    progress_label.value = f\"<b>Ready to start:</b><br>First dataset: {selected_datasets[0]}\"\n",
    "else:\n",
    "    progress_label.value = \"<b>No datasets selected</b>\"\n",
    "    fetch_button.disabled = True"
   ]
  },
  {
   "cell_type": "code",
   "execution_count": null,
   "id": "b9caccc7-6aad-452a-b026-b582a99a3e4f",
   "metadata": {
    "editable": false,
    "slideshow": {
     "slide_type": "skip"
    },
    "tags": []
   },
   "outputs": [],
   "source": [
    "# keep subset of metadata dict for selected datasets\n",
    "selected_metadata = {ds: dataset_metadata[ds] for ds in selected_datasets}\n",
    "get_ds_files = lambda ds: dataset_metadata[ds]['files']\n",
    "get_ds_dir = lambda ds: dataset_metadata[ds]['output_folder']\n",
    "is_ds_ftype = lambda ds, fname: fname.endswith(f\".{dataset_metadata[ds]['label_fmt']}\")\n",
    "get_full_ds_path = lambda ds: DATASET_DIR / 'raw' / 'labels' / ds\n",
    "fra_ds_folder = 'replication'\n",
    "\n",
    "# TODO: refactor this to a function as it'll quickly get out of hand with more datasets and pruning required\n",
    "# make a manual selection of the set of files we'll use from each dataset\n",
    "selected_ds_files = {ds : [f for f in get_ds_files(ds) if is_ds_ftype(ds, f)] for ds in selected_datasets}\n",
    "\n",
    "# ad hoc selection of files for testing (keep files that contain 'solar' and 'WGS84' in filename)\n",
    "selected_ds_files['global_harmonized_large_solar_farms_2020'] = [f for f in selected_ds_files['global_harmonized_large_solar_farms_2020'] if 'solar' in f.split('/')[-1] and 'WGS84' in f and not os.path.isdir(f)]\n",
    "# prediction dataset was human verified thoroughly and meant for downstream applications; only use this file for now\n",
    "selected_ds_files['global_pv_inventory_sent2_spot_2021'] = [f for f in selected_ds_files['global_pv_inventory_sent2_spot_2021'] if 'predicted' in os.path.basename(f)]\n",
    "print(f\"Selected {len(selected_ds_files['global_pv_inventory_sent2_spot_2021'])} files for {selected_datasets[0]}:\\n{selected_ds_files['global_pv_inventory_sent2_spot_2021']}\")\n",
    "\n",
    "# only include files that were not filtered out\n",
    "include_files = [os.path.basename(f) for ds in selected_datasets for f in selected_ds_files[ds]]\n",
    "# don't print out unused directories\n",
    "exclude_folders = [os.path.basename(dir) for dir in os.listdir(DATASET_DIR / 'raw' / 'labels') if dir not in selected_datasets]\n",
    "\n",
    "# build and output tree for selected datasets\n",
    "selected_ds_dirs = [get_ds_dir(ds) for ds in selected_datasets]\n",
    "print(\"All selected datasets have been fetched with the following file tree:\\n\")\n",
    "# TODO: fix unwanted dirs in the tree\n",
    "selected_ds_tree = seedir(DATASET_DIR / 'raw' / 'labels', depthlimit=10, printout=True, regex=False, include_files=include_files, exclude_folders=exclude_folders)"
   ]
  },
  {
   "cell_type": "code",
   "execution_count": null,
   "id": "44f993eb-0f2e-4bf8-936a-93e70a1268e7",
   "metadata": {
    "editable": true,
    "slideshow": {
     "slide_type": ""
    },
    "tags": []
   },
   "outputs": [],
   "source": [
    "# Organize outputs in tabs with dataset DOIs as tab titles \n",
    "tabs = widgets.Tab(children=out_widgets)\n",
    "for i, ds in enumerate(selected_datasets):\n",
    "    title = '_'.join(ds.split('_')[:3])\n",
    "    tabs.set_title(i, title)\n",
    "display(tabs)"
   ]
  },
  {
   "cell_type": "markdown",
   "id": "9269e70a",
   "metadata": {},
   "source": [
    "## Cloud-Native Geospatial Stack\n",
    "\n",
    "- Focus on tools optimized for scalable cloud environments.\n",
    "- **Goal:** Process and analyze large geospatial datasets efficiently, leveraging cloud storage and compute."
   ]
  },
  {
   "cell_type": "markdown",
   "id": "0395762c",
   "metadata": {
    "editable": true,
    "slideshow": {
     "slide_type": ""
    },
    "tags": []
   },
   "source": [
    "### GeoParquet: Cloud-Optimized Vector Data\n",
    "<div style=\"max-width: 80%; margin: 0 auto; padding-left: 1em; padding-right: 1em; text-align: justify;\">\n",
    "<h4 style=\"text-align: left\">GeoParquet: Intro</h2>\n",
    "\n",
    "<p>GeoParquet is <a href=\"https://geoparquet.org/\">an incubating Open Geospatial Consortium (OGC) standard</a> that simply adds compatible geospatial <a href=\"https://docs.safe.com/fme/html/FME-Form-Documentation/FME-ReadersWriters/geoparquet/Geometry-Support.htm\">geometry types</a> (Point, Line, Polygon, etc) to the mature and widely adopted <a href=\"https://parquet.apache.org/\">Apache Parquet format</a>, a popular columnar storage file format commonly used in big data processing and modern data engineering pipelines and analytics. This is analogous to how the GeoTIFF raster format adds geospatial metadata to the longstanding TIFF standard. GeoParquet is designed to be a simple and efficient way to store geospatial <em>vector</em> data in a columnar format, and is designed to be compatible with existing Parquet tools and libraries to enable Cloud <em>Data Warehouse</em> Interoperability.</p>\n",
    "\n",
    "<figure style=\"text-align: center\">\n",
    "<img src=\"https://miro.medium.com/v2/resize:fit:1400/1*QEQJjtnDb3JQ2xqhzARZZw.png\" style=\"width:70%; height:auto;\">\n",
    "<figcaption align = \"center\"> Visualization of the layout of a Parquet file </figcaption>\n",
    "</figure>"
   ]
  },
  {
   "cell_type": "markdown",
   "id": "3950ebdf",
   "metadata": {
    "editable": true,
    "slideshow": {
     "slide_type": ""
    },
    "tags": []
   },
   "source": [
    "<div style=\"max-width: 80%; margin: 0 auto; padding-left: 1em; padding-right: 1em; text-align: justify;\">\n",
    "<h4 style=\"text-align: left\">GeoParquet: Internal Layout</h2>\n",
    "\n",
    "<p>These files are organized in a set of file chunks called \"row groups\". Row groups are logical groups of columns with the same number of rows. Each of these columns is actually a \"column chunk\" which is a contiguous block of data for that column. The schema across row groups must be consistent, i.e. the data types and number of columns must be the same for every row group. The new geospatial standard adds some relevant additional metadata such as the geometry's Coordinate Reference System (CRS), additional metadata for geometry columns, and <a href=\"https://medium.com/radiant-earth-insights/geoparquet-1-1-coming-soon-9b72c900fbf2\">support for spatial indexing in v1.1</a>.\n",
    "</div>\n",
    "\n",
    "<figure style=\"text-align: center\">\n",
    "<img src=\"https://guide.cloudnativegeo.org/images/geoparquet_layout.png\" style=\"width:40%; height:auto;\">\n",
    "<figcaption align = \"center\"> GeoParquet has the same layout with additional metadata </figcaption>\n",
    "</figure>\n",
    "\n",
    "<!-- GeoParquet is only the latest in a long line of cloud-native file formats  -->"
   ]
  },
  {
   "cell_type": "markdown",
   "id": "b11710e4",
   "metadata": {},
   "source": [
    "<div style=\"max-width: 77%; margin: 0 auto; padding-left: 1em; padding-right: 1em; text-align: justify;\">\n",
    "<h4 style=\"text-align: left\">GeoParquet: Features & Performance</h2>\n",
    "\n",
    "\n",
    "- Efficient storage and compression: \n",
    "    - Internally compressed by default, and can be configured to optimize decompression (time) or storage size (space)\n",
    "    - columnar format is more efficient for filtering on columns which is common in analytical workloads and results in better compression ratios vs row-based formats\n",
    "- Scalability and Efficient data access:\n",
    "    - Spatial indexing, spatial partitioning, and other optimizations enables\n",
    "        - spatial joins and containment operations like intersection, within, overlaps, etc (ST_*)\n",
    "        - [spatial predicate pushdowns](https://medium.com/radiant-earth-insights/geoparquet-1-1-coming-soon-9b72c900fbf2)\n",
    "            - can significantly speed up spatial queries over the network by **applying filters at the storage level**\n",
    "            - greatly reducing data movement if applied correctly\n",
    "- Optimized for *read-heavy workflows*: \n",
    "    - Parquet itself is an immutable file format, which means taking advantage of cheap reads, and efficient filtering and grouping\n",
    "    - Popular choice for storing large datasets using *modern cloud-centric DBMS architectures* like data lakes and data warehouses.\n",
    "    - Designed for analytical workloads that require fast reads and complex queries (but not transactions and frequent updates)\n",
    "        - idealfor OLAP (Online Analytical Processing) and BI (Business Intelligence) workloads\n",
    "        - these revolve around historical and aggregated data that dont require high-frequency updates\n",
    "- Cloud-native format: Optimized for object storage (s3, gcs, abfs, etc.)\n",
    "    - **designed to be highly compressed**, which reduces storage and data transfer costs and improves RW performance\n",
    "    - integrates into existing ecosystem of cloud data pipelines and workflows that have been built around the parquet format\n",
    "    - Broad and fast adoption across the data engineering and geospatial ecosystems"
   ]
  },
  {
   "cell_type": "markdown",
   "id": "eb962ab5",
   "metadata": {},
   "source": [
    "### DuckDB: In-Process SQL OLAP RDBMS\n",
    "\n",
    "From their [\"Why DuckDB?\" page](https://duckdb.org/why_duckdb.html):\n",
    "\n",
    "DuckDB is an **in-process analytical data management system (OLAP RDBMS)**. Unlike traditional client-server databases (like PostgreSQL or MySQL), DuckDB runs directly within the host process (e.g., our Python script or Jupyter kernel), similar to SQLite. However, unlike SQLite which is optimized for transactional workloads (OLTP), DuckDB is specifically designed for **analytical queries (OLAP)** involving complex, long-running queries over potentially huge datasets, typical in big data analytics and scientific computing workflows.\n",
    "\n",
    "Key benefits for our workflow include:\n",
    "-   **Simplicity & Portability:** Easy installation (`pip install duckdb`) and no external dependencies or database server management required. Databases are stored as single, portable files (`.duckdb`), making them easy to manage, share, and archive.\n",
    "-   **Direct Data Access:** Can directly query various file formats, including the **Parquet and GeoParquet files** we are generating and (geo)pandas DataFrames(!), without needing a separate, time-consuming ingestion/copy step. This is highly efficient for consolidating data from multiple files, and remote sources (e.g., S3, GCS).\n",
    "-   **Powerful SQL:** Offers a rich, modern SQL dialect, including window functions, complex joins, and support for common table expressions (CTEs), allowing sophisticated data manipulation and analysis directly in SQL.\n",
    "-   **Geospatial Capabilities:** Crucially, DuckDB has a **`spatial` extension** that provides functions for handling and querying geospatial data types (like points, lines, and polygons) using libraries like GEOS. This enables operations such as spatial joins (e.g., `ST_Intersects`, `ST_Contains`), area calculations (`ST_Area`), centroid computation (`ST_Centroid`), and reading/writing WKT/WKB formats directly within the database. This is essential for our tasks like deduplication and integrating PV labels with contextual layers like Overture Maps.\n",
    "-   **Performance:** Its **column-vectorized query execution engine** is optimized for analytical performance, often *significantly faster than row-based systems* and more optimized than *pure Python/Pandas operations* for large datasets that may not fit into memory. \n",
    "-   **Python Integration:** Seamlessly integrates with Python libraries like Pandas and GeoPandas through its client API and tools like `jupysql`, allowing easy data exchange between dataframes and the database directly from our notebooks! \n",
    "\n",
    "In this notebook, we use DuckDB to:\n",
    "1.  Efficiently consolidate multiple GeoParquet files (one per source dataset) into a single database table using its ability to read Parquet directly.\n",
    "2.  Leverage its `spatial` extension for geospatial indexing, filtering, and performing spatial joins with the [Overture Maps divisions](#Overture-Maps-Divisions) data based on [H3 indices](#H3-Geospatial-Indexing-System-and-Spatial-Clustering).\n",
    "3.  Provide a persistent, queryable, and portable database (`.duckdb` file) containing the cleaned, consolidated, and spatially enriched PV label data.\n"
   ]
  },
  {
   "cell_type": "markdown",
   "id": "d67c43a3",
   "metadata": {},
   "source": [
    "### Overture Maps: Adding Geospatial Context\n",
    "\n",
    "<!-- From their [Division theme guide](https://docs.overturemaps.org/guides/divisions/) and their [brief blog on the history of the project](https://overturemaps.org/blog/2025/overture-maps-foundation-making-open-data-the-winning-choice/): -->\n",
    "\n",
    "Overture Maps is a collaborative project that aims to create a high-quality, open map datasets for the entire world:\n",
    "    - The project is a collaboration between several organizations, including Meta, Amazon Web Services (AWS), and Microsoft. \n",
    "    - Overture distributes its open datasets as GeoParquet files, and can be accessed through CLI, API or downloaded directly from [their S3](https://docs.overturemaps.org/guides/divisions/#data-access-and-retrieval) buckets\n",
    "\n",
    "The Overture divisions theme: \n",
    "- has three feature types (division, **division_area**, and division_boundary) and contains more than 5.45 million point, line, and polygon representations of human settlements, such as countries, regions, states, cities, and even neighborhoods. \n",
    "- is derived from a conflation of OpenStreetMap data and geoBoundaries data\n",
    "- **Used here as contextual layers** (e.g. dividing our data by continent, country, etc) to enrich PV data.\n",
    "- their `division_area` subset provides a **hierarchical structure of administrative boundaries**, including countries, states, and cities.\n",
    "\n",
    "<figure style=\"text-align: center\">\n",
    "<img src=\"https://docs.overturemaps.org/assets/images/divisions-admin0-admin1-coverage-ff1a8d4c6d68c88047b34d1f9c9109be.png\" style=\"width:65%; height:auto;\">\n",
    "<figcaption align = \"center\"> Overture divisions data, styled by subtype: countries in purple, region boundaries as green lines. </figcaption>\n",
    "</figure>"
   ]
  },
  {
   "cell_type": "markdown",
   "id": "b87835c0",
   "metadata": {},
   "source": [
    "### H3: Geospatial Indexing System and Spatial Clustering\n",
    "\n",
    "<!-- From their [home page](https://h3geo.org/), [announcement blog](https://www.uber.com/blog/h3/), and [overview page](https://h3geo.org/docs/core-library/overview/): -->\n",
    "\n",
    "The H3 geospatial indexing system is a discrete global grid system developed at Uber. It was designed for **indexing geographies via multi-precision hexagonal tiling into a hexagonal grid with hierarchical indexes**. Geospatial coordinates can be indexed to *cell IDs* at different levels of resolution (0-15) that each represent a unique cell in the grid at each resolution. The hexagonal grid system is designed to be **hierarchical**, meaning that each cell at a given resolution can be subdivided into smaller cells at higher resolutions, allowing for efficient spatial queries and analysis.The hexagonal grid system is created on the planar faces of [a sphere-circumscribed icosahedron](https://www.researchgate.net/figure/a-Icosahedron-faces-projected-onto-a-sphere-b-Triangular-tessellation-c-Diamond_fig1_339813234) and the grid cells are then projected to the surface of the sphere...\n",
    "<!-- It is common to use WGS84/EPSG:4326 CRS data with the H3 library. -->\n",
    "\n",
    "<figure style=\"text-align: center\">\n",
    "<img src=\"https://blog.uber-cdn.com/cdn-cgi/image/width=2160,quality=100,onerror=redirect,format=auto/wp-content/uploads/2018/06/Twitter-H3.png\" style=\"width:75%; height:50%;\">\n",
    "<figcaption align = \"center\"> H3 enables users to partition the globe into hexagons for more accurate analysis. </figcaption>\n",
    "</figure>"
   ]
  },
  {
   "cell_type": "markdown",
   "id": "135acda5",
   "metadata": {},
   "source": [
    "- **Benefits for Spatial Analysis:**\n",
    "  - *Fast Joins & Aggregation:* Quickly combine data across datasets based on cell ID.\n",
    "  - *Efficient Neighborhood Queries:* Hexagons have uniform adjacency and H3 provides a built-in Grid Traversal API with distance metrics.\n",
    "  - *Hierarchical Structure:* Easy aggregation/disaggregation across resolutions (parent/child cells).\n",
    "  - *Optimized Grid Traversal:* Useful for spatial algorithms.\n",
    "  - **Foundation for spatial indexing and clustering in this work.**"
   ]
  },
  {
   "cell_type": "code",
   "execution_count": null,
   "id": "2d15d494",
   "metadata": {},
   "outputs": [],
   "source": [
    "from IPython.display import IFrame\n",
    "# display h3 viewer \n",
    "IFrame(\"https://h3.chotard.com\", width=1080, height=540)"
   ]
  },
  {
   "cell_type": "markdown",
   "id": "a760d615",
   "metadata": {},
   "source": [
    "# Cloud-Native Geospatial Stack: Scalability and Efficiency"
   ]
  },
  {
   "cell_type": "markdown",
   "id": "2b94a7cd",
   "metadata": {},
   "source": [
    "## Querying and Searching STAC Collections\n",
    "\n",
    "- **S**patio**T**emporal **A**sset **C**atalog (STAC).\n",
    "- Standardized specification for describing geospatial information.\n",
    "- Enables searching and discovery of EO data (imagery, etc.) across different providers.\n",
    "- Key concepts: Catalogs, Collections, Items, Assets.\n",
    "- Libraries like `pystac-client` facilitate programmatic searching based on spatial (bbox, geometry) and temporal criteria.\n",
    "    - STAC API supports CQL (Common Query Language) for complex queries over catalog fields"
   ]
  },
  {
   "cell_type": "markdown",
   "id": "341e3a1c",
   "metadata": {},
   "source": [
    "### Xarray and ND-arrays in Scientific Computing\n",
    "\n",
    "- Xarray introduces labels (dimensions, coordinates, attributes) to multi-dimensional arrays (like NumPy's ndarray).\n",
    "- **Benefits for Geospatial/EO Data:**\n",
    "  - Handles complex data like satellite image time series (e.g., dimensions: time, band, y, x).\n",
    "  - Facilitates operations like alignment, indexing, and aggregation based on labels (e.g., time series analysis, band math).\n",
    "  - Integrates well with Dask for parallel computing on large datasets.\n",
    "- Common in climate science, oceanography, and remote sensing."
   ]
  },
  {
   "cell_type": "markdown",
   "id": "74049d8e",
   "metadata": {},
   "source": [
    "### Importance of Virtualization for Cloud Advances\n",
    "\n",
    "- **Foundation of Cloud Computing:** Allows abstraction of physical hardware (networks, storage, compute, you name it!) into virtual, ephemeral resources.\n",
    "- **Resource Pooling & Elasticity:** Enables efficient sharing and dynamic allocation/scaling of compute, storage, and network resources centralized in data centers distributed across the globe.\n",
    "- **Separation of Concerns:** Decouples applications from underlying infrastructure, allowing developers to focus on building applications without worrying about hardware management and reproducibility across environments.\n",
    "- **Cost Efficiency:** Pay-as-you-go model for resources, reducing upfront costs and allowing for scaling based on demand.\n",
    "    - **Cost Efficiency:** Pay-as-you-go model reduces upfront capital expenses.\n",
    "        - Cloud providers offer flexible pricing models (on-demand, reserved, spot instances).\n",
    "        - Be aware of potential vendor lock-in and hidden costs that can impact long-term economics.\n",
    "    - **Computational Scale:** Access to dirt-cheap storage and massive computing resources on demand without infrastructure management overhead.\n",
    "- **Enabler for:**\n",
    "  - Infrastructure as a Service (IaaS), Platform as a Service (PaaS), Software as a Service (SaaS).\n",
    "  - Modern data architectures (Data Lakes, Lakehouses)\n",
    "  - **Serverless computing**\n",
    "    - particularly relevant for data processing and analysis\n",
    "    - easier to scale and manage briefly as needed for analysis\n",
    "        - e.g. no need to keep a high-availability cluster with replicas and failover running 24/7"
   ]
  },
  {
   "cell_type": "markdown",
   "id": "1976f48c",
   "metadata": {},
   "source": [
    "### Rise of Virtual Datasets in EO \n",
    "\n",
    "(Kerchunk, VirtuliZarr, Icechunk)\n",
    "\n",
    "- **Concept:** Datasets defined by *references* to data assets stored elsewhere (often cloud object storage), rather than containing the data itself.\n",
    "    - Pointers or references, but for TB's of scientific data.\n",
    "    - These formats create lightweight indexes that map to specific byte ranges in cloud-stored files.\n",
    "- **Motivation:** Avoid data duplication and large data transfers; analyze data *in place*.\n",
    "- **Benefits:** \n",
    "        - Avoids data duplication and large data transfers.\n",
    "        - Enables analysis of data *in place*.\n",
    "        - Facilitates sharing and collaboration without transferring large datasets.\n",
    "- **Impact:** Enables efficient analysis of massive planetary-scale archives (e.g., climate models, satellite imagery) directly from cloud storage.\n",
    "- **Examples:**\n",
    "  - **Kerchunk:** Creates index files mapping logical chunks (e.g., in NetCDF/HDF5) to byte ranges in cloud storage. Allows libraries like Xarray to read cloud data as if it were a single local file.\n",
    "  - **VirtualiZarr:** Similar concepts for creating virtual Zarr datasets via Kerchunk references.\n",
    "  - **Icechunk:** A library for chunked data access in cloud storage, enabling efficient reading of large datasets without downloading them entirely."
   ]
  },
  {
   "cell_type": "markdown",
   "id": "5cb55917",
   "metadata": {},
   "source": [
    "## Hierarchical Spatial Clustering Algorithms\n",
    "- **Hierarchical Clustering:** Groups data points into a hierarchy of clusters.\n",
    "- **Spatial Clustering:** Groups data points based on their spatial proximity.\n",
    "- **Hierarchical Spatial Clustering:** Combines both concepts, creating a hierarchy of clusters based on spatial relationships.\n",
    "- **Benefits:**\n",
    "  - Captures multi-scale spatial patterns.\n",
    "  - Provides a hierarchical structure for data exploration and analysis.\n",
    "  - Useful for large datasets with varying spatial resolutions."
   ]
  },
  {
   "cell_type": "markdown",
   "id": "1c61f44a",
   "metadata": {},
   "source": [
    "### Research References\n",
    "- \"Fast Parallel Algorithms for Euclidean Minimum Spanning Tree and Hierarchical Spatial Clustering∗\"\n",
    "- \"Optimal Parallel Algorithms for Dendrogram Computation and Single-Linkage Clustering\" (resolves and parallelizes sequential bottleneck in algorithm above)\n",
    "- \"PANDORA: A Parallel Dendrogram Construction Algorithm for Single Linkage Clustering on GPU\" (same as above but for GPUs)"
   ]
  },
  {
   "cell_type": "markdown",
   "id": "77006acb",
   "metadata": {
    "editable": true,
    "slideshow": {
     "slide_type": ""
    },
    "tags": []
   },
   "source": [
    "## Application with H3 for PV Cluster Analysis\n",
    "\n",
    "- **Goal:** Identify optimal spatial clusters of PV solar panel labels.\n",
    "- **Approach:**\n",
    "  - Use Uber's H3 DGGS.\n",
    "  - Index PV label locations (centroids or polygons) into H3 cells at an appropriate resolution.\n",
    "  - Treat H3 cells containing PV labels as the nodes/vertices in the clustering algorithms.\n",
    "- **Leveraging H3 Features:**\n",
    "  - **Proximity:** Efficiently find neighboring cells (`k_ring`).\n",
    "  - **Hierarchy:** Quickly compute parent/child cells for potential multi-resolution clustering or aggregation.\n",
    "  - **Traversal:** Efficient grid traversal algorithms can be adapted.\n",
    "- **Hypothesis:** H3 provides a performant spatial indexing foundation for implementing and scaling these hierarchical clustering algorithms, especially for distributed/parallel computation (relevant to thesis)."
   ]
  },
  {
   "cell_type": "markdown",
   "id": "d795ca3f-8072-4164-a971-2f8b2241e1bb",
   "metadata": {
    "editable": true,
    "slideshow": {
     "slide_type": ""
    },
    "tags": []
   },
   "source": [
    "## Demo of Preliminary Work"
   ]
  },
  {
   "cell_type": "markdown",
   "id": "6a2a9343-91f1-49d0-9040-bbf4bb75e16d",
   "metadata": {
    "editable": true,
    "slideshow": {
     "slide_type": ""
    },
    "tags": []
   },
   "source": [
    "### Setup and data overview"
   ]
  },
  {
   "cell_type": "code",
   "execution_count": null,
   "id": "94648cb7-727e-40ed-aaf4-090772628630",
   "metadata": {
    "editable": true,
    "slideshow": {
     "slide_type": ""
    },
    "tags": []
   },
   "outputs": [],
   "source": [
    "# Core Libraries\n",
    "import os\n",
    "import json\n",
    "from pathlib import Path\n",
    "\n",
    "# Geospatial & Data Handling\n",
    "import pandas as pd\n",
    "import geopandas as gpd\n",
    "import duckdb\n",
    "import h3\n",
    "import pyarrow.parquet as pq\n",
    "import pyarrow as pa\n",
    "import xarray as xr # For ND-Array section\n",
    "import pystac_client # For STAC section\n",
    "from shapely.geometry import Point, Polygon, MultiPolygon\n",
    "\n",
    "# Visualization\n",
    "import matplotlib.pyplot as plt\n",
    "import pydeck as pdk\n",
    "import folium\n",
    "import lonboard\n",
    "\n",
    "# Presentation/Notebook Specific\n",
    "from IPython.display import display, Markdown, Latex\n",
    "\n",
    "# Optional: Load environment variables if needed (e.g., API keys, paths)\n",
    "# from dotenv import load_dotenv\n",
    "# load_dotenv()\n",
    "\n",
    "print(\"Libraries imported.\")"
   ]
  },
  {
   "cell_type": "markdown",
   "id": "242d1b3d",
   "metadata": {},
   "source": [
    "# ¡Gracias! ¿Preguntas?"
   ]
  }
 ],
 "metadata": {
  "kernelspec": {
   "display_name": "Python 3 (ipykernel)",
   "language": "python",
   "name": "python3"
  },
  "language_info": {
   "codemirror_mode": {
    "name": "ipython",
    "version": 3
   },
   "file_extension": ".py",
   "mimetype": "text/x-python",
   "name": "python",
   "nbconvert_exporter": "python",
   "pygments_lexer": "ipython3",
   "version": "3.12.10"
  },
  "widgets": {
   "application/vnd.jupyter.widget-state+json": {
    "state": {
     "02dbe6ea4e964f0c9c8fed45a97316d2": {
      "model_module": "@jupyter-widgets/base",
      "model_module_version": "2.0.0",
      "model_name": "LayoutModel",
      "state": {
       "width": "auto"
      }
     },
     "07e5952f69ba4177b18badc6cdf72a68": {
      "model_module": "@jupyter-widgets/controls",
      "model_module_version": "2.0.0",
      "model_name": "ButtonStyleModel",
      "state": {
       "font_family": null,
       "font_size": null,
       "font_style": null,
       "font_variant": null,
       "font_weight": null,
       "text_color": null,
       "text_decoration": null
      }
     },
     "0c825c59410e4f1bac6727761cf28f05": {
      "model_module": "@jupyter-widgets/controls",
      "model_module_version": "2.0.0",
      "model_name": "HTMLModel",
      "state": {
       "layout": "IPY_MODEL_bc4f19dfde3747b7b7a9d4713f882c17",
       "style": "IPY_MODEL_86b96ffc5e0b442d962af7143257d8ed",
       "value": "<b>Ready to start:</b><br>First dataset: global_harmonized_large_solar_farms_2020"
      }
     },
     "0e386732f82d424f9804217ea60014c4": {
      "model_module": "@jupyter-widgets/base",
      "model_module_version": "2.0.0",
      "model_name": "LayoutModel",
      "state": {}
     },
     "0f528876360740348115b6c442018cd9": {
      "model_module": "@jupyter-widgets/controls",
      "model_module_version": "2.0.0",
      "model_name": "HTMLModel",
      "state": {
       "layout": "IPY_MODEL_a5712d47376d4afb990144bbc95becc8",
       "style": "IPY_MODEL_e1e7b30384a14f17bb5e3124a44c32d6",
       "value": "<hr style='margin:10px 0'>"
      }
     },
     "1601719fd8e446479c40d6dd752ab146": {
      "model_module": "@jupyter-widgets/base",
      "model_module_version": "2.0.0",
      "model_name": "LayoutModel",
      "state": {}
     },
     "16477d61dd054d09bbcc4c73918751af": {
      "model_module": "@jupyter-widgets/output",
      "model_module_version": "1.0.0",
      "model_name": "OutputModel",
      "state": {
       "layout": "IPY_MODEL_c8125a39a3cc43a3960dd8d80708150e"
      }
     },
     "171cfa6d48b048519204abf1103f32e8": {
      "model_module": "@jupyter-widgets/controls",
      "model_module_version": "2.0.0",
      "model_name": "HTMLStyleModel",
      "state": {
       "description_width": "",
       "font_size": null,
       "text_color": null
      }
     },
     "1aaba4291f94428ba571c1d200bfd473": {
      "model_module": "@jupyter-widgets/controls",
      "model_module_version": "2.0.0",
      "model_name": "HTMLStyleModel",
      "state": {
       "description_width": "",
       "font_size": null,
       "text_color": null
      }
     },
     "1dd4d19d65c642d9b572adc366a8aa69": {
      "model_module": "@jupyter-widgets/controls",
      "model_module_version": "2.0.0",
      "model_name": "HTMLModel",
      "state": {
       "layout": "IPY_MODEL_f788fc65c7e6442f9e6d23528c931ed8",
       "style": "IPY_MODEL_45da630afe8046909126ce16798c78fc",
       "value": "\n<style>\n.widget-html {\n    text-align: left !important;\n}\n.widget-checkbox {\n    align-items: left !important;\n}\n.widget-button {\n    width: 100% !important;\n}\n</style>\n"
      }
     },
     "2627b91f6d8f4ab69bc0298c1c9361a4": {
      "model_module": "@jupyter-widgets/controls",
      "model_module_version": "2.0.0",
      "model_name": "HTMLModel",
      "state": {
       "layout": "IPY_MODEL_326febbac2324d62aa0466d424c25717",
       "style": "IPY_MODEL_89336412d2b7474994c413c5c5593e57",
       "value": "\n    <style>\n    .dataset-table {\n        border-collapse: collapse;\n        width: 30%;\n        margin: 20px auto;\n        font-family: Arial, sans-serif;\n    }\n    .dataset-table th, .dataset-table td {\n        border: 1px solid #ddd;\n        padding: 8px;\n        text-align: left;\n    }\n    .dataset-table th {\n        background-color: #f2f2f2;\n        font-weight: bold;\n    }\n    </style>\n    <table class=\"dataset-table\">\n        <tr><th>Metadata</th><th>Value</th></tr>\n        <tr><td>DOI/URL</td><td>10.6084/m9.figshare.3385780.v4</td></tr>\n        <tr><td>Repository</td><td>figshare</td></tr>\n        <tr><td>Compression</td><td>None</td></tr>\n        <tr><td>Label Format</td><td>geojson</td></tr>\n        <tr><td>Has Images</td><td>False</td></tr>\n        <tr><td>Label Count</td><td>19433</td></tr>\n    </table>\n    "
      }
     },
     "292748e2f91440adb9e9a343ce175db3": {
      "model_module": "@jupyter-widgets/controls",
      "model_module_version": "2.0.0",
      "model_name": "CheckboxModel",
      "state": {
       "description": "Force Download",
       "disabled": false,
       "layout": "IPY_MODEL_02dbe6ea4e964f0c9c8fed45a97316d2",
       "style": "IPY_MODEL_c6657c57531d484a99a4ea5a23086993",
       "tooltip": "If checked, download will be forced even if files exist locally",
       "value": false
      }
     },
     "2976f2843eb74f1bb6bc0b90e8da5fd4": {
      "model_module": "@jupyter-widgets/base",
      "model_module_version": "2.0.0",
      "model_name": "LayoutModel",
      "state": {
       "margin": "20 20 auto 20 20",
       "width": "70%"
      }
     },
     "2ff192254432468aa919087d338bdafc": {
      "model_module": "@jupyter-widgets/controls",
      "model_module_version": "2.0.0",
      "model_name": "DescriptionStyleModel",
      "state": {
       "description_width": ""
      }
     },
     "3010af4a00284696934955f01509c9e0": {
      "model_module": "@jupyter-widgets/base",
      "model_module_version": "2.0.0",
      "model_name": "LayoutModel",
      "state": {
       "overflow": "auto",
       "padding": "10px",
       "width": "20%"
      }
     },
     "303e1dea751942ba98e9b4da7ffba39c": {
      "model_module": "@jupyter-widgets/base",
      "model_module_version": "2.0.0",
      "model_name": "LayoutModel",
      "state": {}
     },
     "326febbac2324d62aa0466d424c25717": {
      "model_module": "@jupyter-widgets/base",
      "model_module_version": "2.0.0",
      "model_name": "LayoutModel",
      "state": {}
     },
     "3a672ce4449049ad97dea0fc346815fb": {
      "model_module": "@jupyter-widgets/base",
      "model_module_version": "2.0.0",
      "model_name": "LayoutModel",
      "state": {}
     },
     "3df491de67004928944c9c8b5a10d6b7": {
      "model_module": "@jupyter-widgets/controls",
      "model_module_version": "2.0.0",
      "model_name": "ButtonStyleModel",
      "state": {
       "font_family": null,
       "font_size": null,
       "font_style": null,
       "font_variant": null,
       "font_weight": null,
       "text_color": null,
       "text_decoration": null
      }
     },
     "4392dff31a23401596454fe1e01766e9": {
      "model_module": "@jupyter-widgets/controls",
      "model_module_version": "2.0.0",
      "model_name": "VBoxModel",
      "state": {
       "children": [
        "IPY_MODEL_e80964573ee54c30b6dd70eb1e9515e5",
        "IPY_MODEL_b34e60f560504018b977794937584f8e",
        "IPY_MODEL_292748e2f91440adb9e9a343ce175db3",
        "IPY_MODEL_0f528876360740348115b6c442018cd9",
        "IPY_MODEL_0c825c59410e4f1bac6727761cf28f05",
        "IPY_MODEL_f665ba915cbe4797887dd3f17e0ce056"
       ],
       "layout": "IPY_MODEL_3010af4a00284696934955f01509c9e0"
      }
     },
     "45da630afe8046909126ce16798c78fc": {
      "model_module": "@jupyter-widgets/controls",
      "model_module_version": "2.0.0",
      "model_name": "HTMLStyleModel",
      "state": {
       "description_width": "",
       "font_size": null,
       "text_color": null
      }
     },
     "4d3bd80620bb49769c1759f298c3d759": {
      "model_module": "@jupyter-widgets/controls",
      "model_module_version": "2.0.0",
      "model_name": "HTMLModel",
      "state": {
       "layout": "IPY_MODEL_8e99a51815084b4391a79c9e5ca3f949",
       "style": "IPY_MODEL_7b3b793c1f6c43a2a69249e4fb986171",
       "value": "\n    <style>\n    .dataset-table {\n        border-collapse: collapse;\n        width: 30%;\n        margin: 20px auto;\n        font-family: Arial, sans-serif;\n    }\n    .dataset-table th, .dataset-table td {\n        border: 1px solid #ddd;\n        padding: 8px;\n        text-align: left;\n    }\n    .dataset-table th {\n        background-color: #f2f2f2;\n        font-weight: bold;\n    }\n    </style>\n    <table class=\"dataset-table\">\n        <tr><th>Metadata</th><th>Value</th></tr>\n        <tr><td>DOI/URL</td><td>10.5281/zenodo.4059881</td></tr>\n        <tr><td>Repository</td><td>zenodo</td></tr>\n        <tr><td>Compression</td><td>None</td></tr>\n        <tr><td>Label Format</td><td>geojson</td></tr>\n        <tr><td>Has Images</td><td>False</td></tr>\n        <tr><td>Label Count</td><td>265418</td></tr>\n    </table>\n    "
      }
     },
     "4f302a2ac9d8495f96faa82ac80e2a2f": {
      "model_module": "@jupyter-widgets/controls",
      "model_module_version": "2.0.0",
      "model_name": "ButtonModel",
      "state": {
       "button_style": "danger",
       "description": "Remove Dataset",
       "layout": "IPY_MODEL_303e1dea751942ba98e9b4da7ffba39c",
       "style": "IPY_MODEL_4f89cd556321414694bdba73d5894e48",
       "tooltip": null
      }
     },
     "4f89cd556321414694bdba73d5894e48": {
      "model_module": "@jupyter-widgets/controls",
      "model_module_version": "2.0.0",
      "model_name": "ButtonStyleModel",
      "state": {
       "font_family": null,
       "font_size": null,
       "font_style": null,
       "font_variant": null,
       "font_weight": null,
       "text_color": null,
       "text_decoration": null
      }
     },
     "52fcd4809f2c4a78822e39b2bcf1cd9b": {
      "model_module": "@jupyter-widgets/controls",
      "model_module_version": "2.0.0",
      "model_name": "AccordionModel",
      "state": {
       "children": [
        "IPY_MODEL_aaedd9aeda004eaeaf09cdb503304b5d",
        "IPY_MODEL_ca22c35bd03140ffb77bbffc5a30bbe1",
        "IPY_MODEL_a9c708691fbb44d49708214eba5d9461",
        "IPY_MODEL_2627b91f6d8f4ab69bc0298c1c9361a4",
        "IPY_MODEL_4d3bd80620bb49769c1759f298c3d759"
       ],
       "layout": "IPY_MODEL_9789de2472c14a68874f906f74fa28fa",
       "selected_index": 3,
       "titles": [
        "global_harmonized_large_solar_farms_2020",
        "global_pv_inventory_sent2_spot_2021",
        "ind_pv_solar_farms_2022",
        "usa_cali_usgs_pv_2016",
        "uk_crowdsourced_pv_2020"
       ]
      }
     },
     "5b63dcb6fa5a4209b427dc3b34289cd8": {
      "model_module": "@jupyter-widgets/controls",
      "model_module_version": "2.0.0",
      "model_name": "HBoxModel",
      "state": {
       "children": [
        "IPY_MODEL_9926a489aa304706b52d1aca17a70c21",
        "IPY_MODEL_7e79b7c8626841488976fc6eef0ef325",
        "IPY_MODEL_4f302a2ac9d8495f96faa82ac80e2a2f"
       ],
       "layout": "IPY_MODEL_a06d6c7c2dce43d1a800aaf6ba2daf16"
      }
     },
     "60fbe8e0c82f46b6bc625275d72821b4": {
      "model_module": "@jupyter-widgets/controls",
      "model_module_version": "2.0.0",
      "model_name": "HTMLStyleModel",
      "state": {
       "description_width": "",
       "font_size": null,
       "text_color": null
      }
     },
     "65b9e1ad72ba45caaa0579eb4fdb7255": {
      "model_module": "@jupyter-widgets/controls",
      "model_module_version": "2.0.0",
      "model_name": "HTMLStyleModel",
      "state": {
       "description_width": "",
       "font_size": null,
       "text_color": null
      }
     },
     "6a721aa1045c4c3ba2638f086bf2c30e": {
      "model_module": "@jupyter-widgets/controls",
      "model_module_version": "2.0.0",
      "model_name": "HTMLModel",
      "state": {
       "layout": "IPY_MODEL_cb8ca258fbfb4cef9376b395d30f30f4",
       "style": "IPY_MODEL_60fbe8e0c82f46b6bc625275d72821b4",
       "value": "Status: Ready to begin"
      }
     },
     "6c26042b6c6547a9ba6714c4da2907eb": {
      "model_module": "@jupyter-widgets/base",
      "model_module_version": "2.0.0",
      "model_name": "LayoutModel",
      "state": {}
     },
     "7b3b793c1f6c43a2a69249e4fb986171": {
      "model_module": "@jupyter-widgets/controls",
      "model_module_version": "2.0.0",
      "model_name": "HTMLStyleModel",
      "state": {
       "description_width": "",
       "font_size": null,
       "text_color": null
      }
     },
     "7e79b7c8626841488976fc6eef0ef325": {
      "model_module": "@jupyter-widgets/controls",
      "model_module_version": "2.0.0",
      "model_name": "ButtonModel",
      "state": {
       "button_style": "success",
       "description": "Add Dataset",
       "layout": "IPY_MODEL_f8eba60234664c6db15dfdd69dcf5963",
       "style": "IPY_MODEL_3df491de67004928944c9c8b5a10d6b7",
       "tooltip": null
      }
     },
     "8075dcfe103d477ca326c670cec63cb3": {
      "model_module": "@jupyter-widgets/base",
      "model_module_version": "2.0.0",
      "model_name": "LayoutModel",
      "state": {}
     },
     "86b96ffc5e0b442d962af7143257d8ed": {
      "model_module": "@jupyter-widgets/controls",
      "model_module_version": "2.0.0",
      "model_name": "HTMLStyleModel",
      "state": {
       "description_width": "",
       "font_size": null,
       "text_color": null
      }
     },
     "89336412d2b7474994c413c5c5593e57": {
      "model_module": "@jupyter-widgets/controls",
      "model_module_version": "2.0.0",
      "model_name": "HTMLStyleModel",
      "state": {
       "description_width": "",
       "font_size": null,
       "text_color": null
      }
     },
     "8b1cfb70e3ac4360841734df0fc89a95": {
      "model_module": "@jupyter-widgets/base",
      "model_module_version": "2.0.0",
      "model_name": "LayoutModel",
      "state": {}
     },
     "8e99a51815084b4391a79c9e5ca3f949": {
      "model_module": "@jupyter-widgets/base",
      "model_module_version": "2.0.0",
      "model_name": "LayoutModel",
      "state": {}
     },
     "8f901ecd07de428a9ad48b537d476c41": {
      "model_module": "@jupyter-widgets/controls",
      "model_module_version": "2.0.0",
      "model_name": "HTMLStyleModel",
      "state": {
       "description_width": "",
       "font_size": null,
       "text_color": null
      }
     },
     "94ae7c12ce3b4d5291ea1c869c364b69": {
      "model_module": "@jupyter-widgets/controls",
      "model_module_version": "2.0.0",
      "model_name": "HBoxModel",
      "state": {
       "children": [
        "IPY_MODEL_16477d61dd054d09bbcc4c73918751af",
        "IPY_MODEL_4392dff31a23401596454fe1e01766e9"
       ],
       "layout": "IPY_MODEL_3a672ce4449049ad97dea0fc346815fb"
      }
     },
     "9789de2472c14a68874f906f74fa28fa": {
      "model_module": "@jupyter-widgets/base",
      "model_module_version": "2.0.0",
      "model_name": "LayoutModel",
      "state": {
       "margin": "0 auto",
       "width": "50%"
      }
     },
     "9926a489aa304706b52d1aca17a70c21": {
      "model_module": "@jupyter-widgets/controls",
      "model_module_version": "2.0.0",
      "model_name": "DropdownModel",
      "state": {
       "_options_labels": [
        "deu_maxar_vhr_2023",
        "uk_crowdsourced_pv_2020",
        "usa_eia_large_scale_pv_2023",
        "chn_med_res_pv_2024",
        "usa_cali_usgs_pv_2016",
        "chn_jiangsu_vhr_pv_2021",
        "ind_pv_solar_farms_2022",
        "fra_west_eur_pv_installations_2023",
        "global_pv_inventory_sent2_spot_2021",
        "global_pv_inventory_sent2_2024",
        "global_harmonized_large_solar_farms_2020"
       ],
       "description": "Dataset:",
       "index": 0,
       "layout": "IPY_MODEL_2976f2843eb74f1bb6bc0b90e8da5fd4",
       "style": "IPY_MODEL_2ff192254432468aa919087d338bdafc"
      }
     },
     "a06d6c7c2dce43d1a800aaf6ba2daf16": {
      "model_module": "@jupyter-widgets/base",
      "model_module_version": "2.0.0",
      "model_name": "LayoutModel",
      "state": {}
     },
     "a180cbeff4ab427fbcf5fb75a372485b": {
      "model_module": "@jupyter-widgets/controls",
      "model_module_version": "2.0.0",
      "model_name": "HTMLStyleModel",
      "state": {
       "description_width": "",
       "font_size": null,
       "text_color": null
      }
     },
     "a5712d47376d4afb990144bbc95becc8": {
      "model_module": "@jupyter-widgets/base",
      "model_module_version": "2.0.0",
      "model_name": "LayoutModel",
      "state": {}
     },
     "a6ea8fc75a364094a50ff8b1e38e9441": {
      "model_module": "@jupyter-widgets/base",
      "model_module_version": "2.0.0",
      "model_name": "LayoutModel",
      "state": {}
     },
     "a703223a3cb5433e991c6416651e12d0": {
      "model_module": "@jupyter-widgets/controls",
      "model_module_version": "2.0.0",
      "model_name": "HBoxModel",
      "state": {
       "children": [
        "IPY_MODEL_9926a489aa304706b52d1aca17a70c21",
        "IPY_MODEL_7e79b7c8626841488976fc6eef0ef325",
        "IPY_MODEL_4f302a2ac9d8495f96faa82ac80e2a2f"
       ],
       "layout": "IPY_MODEL_1601719fd8e446479c40d6dd752ab146"
      }
     },
     "a9c708691fbb44d49708214eba5d9461": {
      "model_module": "@jupyter-widgets/controls",
      "model_module_version": "2.0.0",
      "model_name": "HTMLModel",
      "state": {
       "layout": "IPY_MODEL_c2579eeff45945c3bdeefe4bc007f07a",
       "style": "IPY_MODEL_171cfa6d48b048519204abf1103f32e8",
       "value": "\n    <style>\n    .dataset-table {\n        border-collapse: collapse;\n        width: 30%;\n        margin: 20px auto;\n        font-family: Arial, sans-serif;\n    }\n    .dataset-table th, .dataset-table td {\n        border: 1px solid #ddd;\n        padding: 8px;\n        text-align: left;\n    }\n    .dataset-table th {\n        background-color: #f2f2f2;\n        font-weight: bold;\n    }\n    </style>\n    <table class=\"dataset-table\">\n        <tr><th>Metadata</th><th>Value</th></tr>\n        <tr><td>DOI/URL</td><td>https://raw.githubusercontent.com/microsoft/solar-farms-mapping/refs/heads/main/data/solar_farms_india_2021_merged_simplified.geojson</td></tr>\n        <tr><td>Repository</td><td>github</td></tr>\n        <tr><td>Compression</td><td>None</td></tr>\n        <tr><td>Label Format</td><td>geojson</td></tr>\n        <tr><td>Has Images</td><td>False</td></tr>\n        <tr><td>Label Count</td><td>117</td></tr>\n    </table>\n    "
      }
     },
     "aaedd9aeda004eaeaf09cdb503304b5d": {
      "model_module": "@jupyter-widgets/controls",
      "model_module_version": "2.0.0",
      "model_name": "HTMLModel",
      "state": {
       "layout": "IPY_MODEL_a6ea8fc75a364094a50ff8b1e38e9441",
       "style": "IPY_MODEL_65b9e1ad72ba45caaa0579eb4fdb7255",
       "value": "\n    <style>\n    .dataset-table {\n        border-collapse: collapse;\n        width: 30%;\n        margin: 20px auto;\n        font-family: Arial, sans-serif;\n    }\n    .dataset-table th, .dataset-table td {\n        border: 1px solid #ddd;\n        padding: 8px;\n        text-align: left;\n    }\n    .dataset-table th {\n        background-color: #f2f2f2;\n        font-weight: bold;\n    }\n    </style>\n    <table class=\"dataset-table\">\n        <tr><th>Metadata</th><th>Value</th></tr>\n        <tr><td>DOI/URL</td><td>10.6084/m9.figshare.11310269.v6</td></tr>\n        <tr><td>Repository</td><td>figshare</td></tr>\n        <tr><td>Compression</td><td>zip</td></tr>\n        <tr><td>Label Format</td><td>gpkg</td></tr>\n        <tr><td>Has Images</td><td>False</td></tr>\n        <tr><td>Label Count</td><td>35272</td></tr>\n    </table>\n    "
      }
     },
     "b34e60f560504018b977794937584f8e": {
      "model_module": "@jupyter-widgets/controls",
      "model_module_version": "2.0.0",
      "model_name": "HTMLModel",
      "state": {
       "layout": "IPY_MODEL_8075dcfe103d477ca326c670cec63cb3",
       "style": "IPY_MODEL_fcc88d0d9503405db353c3af82567cbb",
       "value": "Datasets selected: 5"
      }
     },
     "bc4f19dfde3747b7b7a9d4713f882c17": {
      "model_module": "@jupyter-widgets/base",
      "model_module_version": "2.0.0",
      "model_name": "LayoutModel",
      "state": {}
     },
     "c2579eeff45945c3bdeefe4bc007f07a": {
      "model_module": "@jupyter-widgets/base",
      "model_module_version": "2.0.0",
      "model_name": "LayoutModel",
      "state": {}
     },
     "c6657c57531d484a99a4ea5a23086993": {
      "model_module": "@jupyter-widgets/controls",
      "model_module_version": "2.0.0",
      "model_name": "CheckboxStyleModel",
      "state": {
       "description_width": ""
      }
     },
     "c8125a39a3cc43a3960dd8d80708150e": {
      "model_module": "@jupyter-widgets/base",
      "model_module_version": "2.0.0",
      "model_name": "LayoutModel",
      "state": {
       "border_bottom": "1px solid #ddd",
       "border_left": "1px solid #ddd",
       "border_right": "1px solid #ddd",
       "border_top": "1px solid #ddd",
       "overflow": "auto",
       "padding": "10px",
       "width": "80%"
      }
     },
     "ca22c35bd03140ffb77bbffc5a30bbe1": {
      "model_module": "@jupyter-widgets/controls",
      "model_module_version": "2.0.0",
      "model_name": "HTMLModel",
      "state": {
       "layout": "IPY_MODEL_f0289bb306b147b3be361bfeb639426b",
       "style": "IPY_MODEL_1aaba4291f94428ba571c1d200bfd473",
       "value": "\n    <style>\n    .dataset-table {\n        border-collapse: collapse;\n        width: 30%;\n        margin: 20px auto;\n        font-family: Arial, sans-serif;\n    }\n    .dataset-table th, .dataset-table td {\n        border: 1px solid #ddd;\n        padding: 8px;\n        text-align: left;\n    }\n    .dataset-table th {\n        background-color: #f2f2f2;\n        font-weight: bold;\n    }\n    </style>\n    <table class=\"dataset-table\">\n        <tr><th>Metadata</th><th>Value</th></tr>\n        <tr><td>DOI/URL</td><td>10.5281/zenodo.5005867</td></tr>\n        <tr><td>Repository</td><td>zenodo</td></tr>\n        <tr><td>Compression</td><td>None</td></tr>\n        <tr><td>Label Format</td><td>geojson</td></tr>\n        <tr><td>Has Images</td><td>False</td></tr>\n        <tr><td>Label Count</td><td>[50426, 68661]</td></tr>\n    </table>\n    "
      }
     },
     "cb8ca258fbfb4cef9376b395d30f30f4": {
      "model_module": "@jupyter-widgets/base",
      "model_module_version": "2.0.0",
      "model_name": "LayoutModel",
      "state": {
       "margin": "10px 0"
      }
     },
     "e1e7b30384a14f17bb5e3124a44c32d6": {
      "model_module": "@jupyter-widgets/controls",
      "model_module_version": "2.0.0",
      "model_name": "HTMLStyleModel",
      "state": {
       "description_width": "",
       "font_size": null,
       "text_color": null
      }
     },
     "e80964573ee54c30b6dd70eb1e9515e5": {
      "model_module": "@jupyter-widgets/controls",
      "model_module_version": "2.0.0",
      "model_name": "HTMLModel",
      "state": {
       "layout": "IPY_MODEL_0e386732f82d424f9804217ea60014c4",
       "style": "IPY_MODEL_a180cbeff4ab427fbcf5fb75a372485b",
       "value": "<h3 style='align:left;'>Fetch Control</h3>"
      }
     },
     "f0289bb306b147b3be361bfeb639426b": {
      "model_module": "@jupyter-widgets/base",
      "model_module_version": "2.0.0",
      "model_name": "LayoutModel",
      "state": {}
     },
     "f4c3a18b663844c795f6e53288b3d05a": {
      "model_module": "@jupyter-widgets/controls",
      "model_module_version": "2.0.0",
      "model_name": "HTMLModel",
      "state": {
       "layout": "IPY_MODEL_8b1cfb70e3ac4360841734df0fc89a95",
       "style": "IPY_MODEL_8f901ecd07de428a9ad48b537d476c41",
       "value": "\n<style>\n.jupyter-widgets-output-area pre {\n    white-space: pre-wrap !important;       /* CSS3 */\n    word-wrap: break-word !important;        /* Internet Explorer 5.5+ */\n    overflow-wrap: break-word !important;\n    max-width: 100%;\n}\n</style>\n"
      }
     },
     "f665ba915cbe4797887dd3f17e0ce056": {
      "model_module": "@jupyter-widgets/controls",
      "model_module_version": "2.0.0",
      "model_name": "ButtonModel",
      "state": {
       "button_style": "primary",
       "description": "Fetch Next Dataset",
       "layout": "IPY_MODEL_6c26042b6c6547a9ba6714c4da2907eb",
       "style": "IPY_MODEL_07e5952f69ba4177b18badc6cdf72a68",
       "tooltip": null
      }
     },
     "f788fc65c7e6442f9e6d23528c931ed8": {
      "model_module": "@jupyter-widgets/base",
      "model_module_version": "2.0.0",
      "model_name": "LayoutModel",
      "state": {}
     },
     "f8eba60234664c6db15dfdd69dcf5963": {
      "model_module": "@jupyter-widgets/base",
      "model_module_version": "2.0.0",
      "model_name": "LayoutModel",
      "state": {}
     },
     "fcc88d0d9503405db353c3af82567cbb": {
      "model_module": "@jupyter-widgets/controls",
      "model_module_version": "2.0.0",
      "model_name": "HTMLStyleModel",
      "state": {
       "description_width": "",
       "font_size": null,
       "text_color": null
      }
     }
    },
    "version_major": 2,
    "version_minor": 0
   }
  }
 },
 "nbformat": 4,
 "nbformat_minor": 5
}

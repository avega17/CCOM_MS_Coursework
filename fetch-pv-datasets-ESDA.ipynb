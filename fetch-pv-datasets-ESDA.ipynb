{
 "cells": [
  {
   "cell_type": "code",
   "execution_count": 1,
   "id": "8564ba95",
   "metadata": {},
   "outputs": [],
   "source": [
    "from IPython.display import display\n",
    "from IPython.display import clear_output\n",
    "from tqdm import tqdm\n",
    "import ipywidgets as widgets\n",
    "from jupyter_bbox_widget import BBoxWidget\n",
    "from ipywidgets import Layout, interact\n",
    "from dotenv import load_dotenv\n",
    "\n",
    "import numpy as np\n",
    "import xarray as xr\n",
    "from branca.colormap import linear\n",
    "import matplotlib.pyplot as plt\n",
    "import matplotlib.colors as mcolors\n",
    "import matplotlib.cm as cm # To specify colormaps\n",
    "import pandas as pd\n",
    "# import matplotlib.pyplot as plt\n",
    "\n",
    "import geopandas as gpd\n",
    "import pycountry\n",
    "from shapely import wkt, Polygon\n",
    "import folium\n",
    "import lonboard\n",
    "import pydeck as pdk\n",
    "# import openeo \n",
    "# import pystac_client\n",
    "# import easystac\n",
    "# import cubo\n",
    "\n",
    "import duckdb\n",
    "import datahugger\n",
    "import sciencebasepy\n",
    "from seedir import seedir\n",
    "\n",
    "# python libraries\n",
    "import os\n",
    "import json\n",
    "import requests\n",
    "import urllib.parse\n",
    "from pathlib import Path\n",
    "import subprocess\n",
    "import tempfile\n",
    "import shutil\n",
    "import pprint as pp\n",
    "import time\n",
    "import json\n",
    "import re\n",
    "from zipfile import ZipFile\n",
    "import random\n",
    "from typing import Optional, List, Dict, Tuple, Any\n",
    "\n",
    "# Import refactored utility functions\n",
    "from utils.fetch_and_preprocess import (\n",
    "    fetch_dataset_files, \n",
    "    filter_gdf_duplicates, \n",
    "    process_vector_geoms, \n",
    "    geom_db_consolidate_dataset,\n",
    "    ddb_filter_duplicates\n",
    ")\n",
    "from utils.visualizations import (\n",
    "    format_dataset_info,\n",
    "    create_folium_cluster_map,\n",
    "    create_folium_choropleth,\n",
    "    create_folium_heatmap,\n",
    "    create_pydeck_scatterplot,\n",
    "    create_pydeck_polygons,\n",
    "    create_pydeck_heatmap\n",
    ")\n",
    "\n",
    "from utils.st_context_processing import (\n",
    "    add_h3_index_to_pv_labels,\n",
    "    ddb_alter_table_add_h3,\n",
    "    ddb_save_div_matches,\n",
    "    ddb_save_subtype_geoms,\n",
    "    get_duckdb_connection,\n",
    "    group_pv_by_h3_cells,\n",
    "    spatial_join_stac_items_with_h3,\n",
    "    create_h3_stac_fetch_plan,\n",
    "    fetch_overture_maps_theme,\n",
    "    spatial_join_pv_overture_duckdb\n",
    ")"
   ]
  },
  {
   "cell_type": "markdown",
   "id": "73f645e0",
   "metadata": {},
   "source": [
    "# Fetch Open, Published Datasets of PV Solar Panel locations across the world\n",
    "\n",
    "Many of these datasets are located in [Zenodo](https://zenodo.org/), a general-purpose open-access repository developed under the European OpenAIRE program and operated by CERN. Others are hosted in figshare, a web-based platform for sharing research data and other types of content. The rest are hosted in GitHub repositories or other open-access data platforms.\n",
    "\n",
    "The datasets are available in a variety of formats, including CSV, GeoJSON, GeoPackage, ESRI shapefiles, raw raster masks, and *[GeoParquet](#Intro-to-GeoParquet)*. We'll be using open-source Python libraries to download and process them into properly georeferenced geoparquet files that we'll manage using [dbt-core+duckdb](https://motherduck.com/blog/motherduck-duckdb-dbt/) (see these short videos on [this stack](https://www.youtube.com/watch?v=asxGh2TrNyI) and [MotherDuck](https://www.youtube.com/watch?v=OuCY7_DzCTA) to scale compute and storage in the cloud *with the same tools and codebase*.\n",
    "\n",
    "\n",
    "<!-- prev note for Georectified USA (Note: these correspond to PV _facilities_ rather than individual panel arrays or objects and need filtering of duplicates with other datasets and further processing to extract the PV arrays in the facility) -->\n",
    "\n",
    "Here we list the dataset titles of publications alongside their first author, DOI links, and their number of labels:\n",
    "- **\"Distributed solar photovoltaic array location and extent dataset for remote sensing object identification\"** - K. Bradbury, 2016 | [paper DOI](https://doi.org/10.1038/sdata.2016.106) | [dataset DOI](https://doi.org/10.6084/m9.figshare.3385780.v4) | polygon annotations for 19,433 PV modules in 4 cities in California, USA\n",
    "- \"A solar panel dataset of very high resolution satellite imagery to support the Sustainable Development Goals\" - C. Clark et al, 2023 | [paper DOI](https://doi.org/10.1038/s41597-023-02539-8) | [dataset DOI](https://doi.org/10.6084/m9.figshare.22081091.v3) | 2,542 object labels (per spatial resolution)\n",
    "- **\"A harmonised, high-coverage, open dataset of solar photovoltaic installations in the UK\" - D. Stowell et al, 2020** | [paper DOI](https://doi.org/10.1038/s41597-020-00739-0) | [dataset DOI](https://zenodo.org/records/4059881) | 265,418 data points (over 255,000 are stand-alone installations, 1067 solar farms, and rest are subcomponents within solar farms)\n",
    "- \"Georectified polygon database of ground-mounted large-scale solar photovoltaic sites in the United States\" - K. Sydny, 2023 | [paper DOI](https://doi.org/10.1038/s41597-023-02644-8) | [dataset DOI](https://www.sciencebase.gov/catalog/item/6671c479d34e84915adb7536) | 4186 data points \n",
    "- \"Vectorized solar photovoltaic installation dataset across China in 2015 and 2020\" - J. Liu et al, 2024 | [paper DOI](https://doi.org/10.1038/s41597-024-04356-z) | [dataset link](https://github.com/qingfengxitu/ChinaPV) | 3,356 PV labels (inspect quality!)\n",
    "- \"Multi-resolution dataset for photovoltaic panel segmentation from satellite and aerial imagery\" - H. Jiang, 2021 | [paper DOI](https://doi.org/10.5194/essd-13-5389-2021) | [dataset DOI](https://doi.org/10.5281/zenodo.5171712) | 3,716 samples of PV data points\n",
    "- \"A crowdsourced dataset of aerial images with annotated solar photovoltaic arrays and installation metadata\" - G. Kasmi, 2023 | [paper DOI](https://doi.org/10.1038/s41597-023-01951-4) | [dataset DOI](https://doi.org/10.5281/zenodo.6865878) | > 28K points of PV installations; 13K+ segmentation masks for PV arrays; metadata for 8K+ installations\n",
    "- **\"An Artificial Intelligence Dataset for Solar Energy Locations in India\"** - A. Ortiz, 2022 | [paper DOI](https://doi.org/10.1038/s41597-022-01499-9) | [dataset link 1](https://researchlabwuopendata.blob.core.windows.net/solar-farms/solar_farms_india_2021.geojson) or [dataset link 2](https://raw.githubusercontent.com/microsoft/solar-farms-mapping/refs/heads/main/data/solar_farms_india_2021_merged_simplified.geojson) | 117 geo-referenced points of solar installations across India\n",
    "- \"GloSoFarID: Global multispectral dataset for Solar Farm IDentification in satellite imagery\" - Z. Yang, 2024** | [paper DOI](https://doi.org/10.48550/arXiv.2404.05180) | [dataset DOI](https://github.com/yzyly1992/GloSoFarID/tree/main/data_coordinates) | 6,793 PV samples across 3 years (double counting of samples)\n",
    "- **\"A global inventory of photovoltaic solar energy generating units\" - L. Kruitwagen et al, 2021** | [paper DOI](https://doi.org/10.1038/s41586-021-03957-7) | [dataset DOI](https://doi.org/10.5281/zenodo.5005867) | 50,426 for training, cross-validation, and testing; 68,661 predicted polygon labels \n",
    "- **\"Harmonised global datasets of wind and solar farm locations and power\" - S. Dunnett et al, 2020** | [paper DOI](https://doi.org/10.1038/s41597-020-0469-8) | [dataset DOI](https://doi.org/10.6084/m9.figshare.11310269.v6) | 35272 PV installations"
   ]
  },
  {
   "cell_type": "markdown",
   "id": "04686807",
   "metadata": {},
   "source": [
    "# Dataset Metadata and Preparation\n",
    "\n",
    "We will use datahugger, sciencebasepy, and osf-client to manage official dataset records published in open access scientific data repositories.\n",
    "We also implement some ad-hoc functions to download some data assets hosted in GitHub repositories. \n",
    "We will also use geopandas, rasterio, and pyproj to process the datasets into georeferenced geoparquet files. "
   ]
  },
  {
   "cell_type": "code",
   "execution_count": 2,
   "id": "c3aad185",
   "metadata": {},
   "outputs": [],
   "source": [
    "# load environment variables\n",
    "load_dotenv()\n",
    "DATASET_DIR = Path(os.getenv('DATA_PATH'))\n",
    "# read dataset metadata from json file\n",
    "with open('dataset_metadata.json', 'r') as f:\n",
    "    dataset_metadata = json.load(f)\n",
    "\n",
    "dataset_choices = [\n",
    "    'global_harmonized_large_solar_farms_2020',\n",
    "    # 'global_pv_inventory_sent2_2024',\n",
    "    'global_pv_inventory_sent2_spot_2021',\n",
    "    # 'fra_west_eur_pv_installations_2023',\n",
    "    'ind_pv_solar_farms_2022',\n",
    "    'usa_cali_usgs_pv_2016',\n",
    "    # 'chn_med_res_pv_2024',\n",
    "    # 'usa_eia_large_scale_pv_2023',\n",
    "    'uk_crowdsourced_pv_2020',\n",
    "    # 'deu_maxar_vhr_2023'   \n",
    "]"
   ]
  },
  {
   "cell_type": "code",
   "execution_count": 3,
   "id": "6162a17b",
   "metadata": {},
   "outputs": [],
   "source": [
    "# Initialize a list to store selected datasets\n",
    "# mostly gen by github copilot with Claude 3.7 model\n",
    "selected_datasets = dataset_choices.copy()\n",
    "\n",
    "# Create an accordion to display selected datasets with centered layout\n",
    "dataset_accordion = widgets.Accordion(\n",
    "    children=[widgets.HTML(format_dataset_info(ds)) for ds in selected_datasets],\n",
    "    layout=Layout(width='50%', margin='0 auto')\n",
    ")\n",
    "for i, ds in enumerate(selected_datasets):\n",
    "    dataset_accordion.set_title(i, ds)\n",
    "\n",
    "# Define a function to add or remove datasets\n",
    "def manage_datasets(action, dataset=None):\n",
    "    global selected_datasets, dataset_accordion\n",
    "    \n",
    "    if action == 'add' and dataset and dataset not in selected_datasets:\n",
    "        selected_datasets.append(dataset)\n",
    "    elif action == 'remove' and dataset and dataset in selected_datasets:\n",
    "        selected_datasets.remove(dataset)\n",
    "    \n",
    "    # Update the accordion with current selections\n",
    "    dataset_accordion.children = [widgets.HTML(format_dataset_info(ds)) for ds in selected_datasets]\n",
    "    for i, ds in enumerate(selected_datasets):\n",
    "        dataset_accordion.set_title(i, ds)\n",
    "    \n",
    "    f\"Currently selected datasets: {len(selected_datasets)}\"\n",
    "\n",
    "# Create dropdown for available datasets\n",
    "dataset_dropdown = widgets.Dropdown(\n",
    "    options=list(dataset_metadata.keys()),\n",
    "    description='Dataset:',\n",
    "    disabled=False,\n",
    "    layout=Layout(width='70%', margin='20 20 auto 20 20')\n",
    ")\n",
    "\n",
    "# Create buttons for actions\n",
    "add_button = widgets.Button(description=\"Add Dataset\", button_style='success')\n",
    "remove_button = widgets.Button(description=\"Remove Dataset\", button_style='danger')\n",
    "\n",
    "# Define button click handlers\n",
    "def on_add_clicked(b):\n",
    "    manage_datasets('add', dataset_dropdown.value)\n",
    "\n",
    "def on_remove_clicked(b):\n",
    "    manage_datasets('remove', dataset_dropdown.value)\n",
    "\n",
    "# Link buttons to handlers\n",
    "add_button.on_click(on_add_clicked)\n",
    "remove_button.on_click(on_remove_clicked)"
   ]
  },
  {
   "cell_type": "markdown",
   "id": "6f44fde4",
   "metadata": {},
   "source": [
    "## Dataset Selection Interface\n",
    "### Use the dropdown and buttons below to customize which solar panel datasets will be fetched and processed.\n",
    "- Select a dataset from the dropdown:\n",
    "    - Click \"Add Dataset\" to include it in processing\n",
    "    - Click \"Remove Dataset\" to exclude it\n",
    "- View metadata table for each selected dataset by clicking on it's row in the list"
   ]
  },
  {
   "cell_type": "code",
   "execution_count": 4,
   "id": "bb943c7b",
   "metadata": {},
   "outputs": [
    {
     "data": {
      "application/vnd.jupyter.widget-view+json": {
       "model_id": "a11ededb74aa435981e6860204ce7fd5",
       "version_major": 2,
       "version_minor": 0
      },
      "text/plain": [
       "HBox(children=(Dropdown(description='Dataset:', layout=Layout(margin='20 20 auto 20 20', width='70%'), options…"
      ]
     },
     "metadata": {},
     "output_type": "display_data"
    },
    {
     "data": {
      "application/vnd.jupyter.widget-view+json": {
       "model_id": "4e09bc31eb234faba2134d692955cb5d",
       "version_major": 2,
       "version_minor": 0
      },
      "text/plain": [
       "Accordion(children=(HTML(value='\\n    <style>\\n    .dataset-table {\\n        border-collapse: collapse;\\n     …"
      ]
     },
     "metadata": {},
     "output_type": "display_data"
    }
   ],
   "source": [
    "# Display the widgets\n",
    "display(widgets.HBox([dataset_dropdown, add_button, remove_button]))\n",
    "display(dataset_accordion)"
   ]
  },
  {
   "cell_type": "markdown",
   "id": "d8a78984",
   "metadata": {},
   "source": [
    "# Fetching and Organizing datasets for later-preprocessing\n",
    "\n",
    "Using:\n",
    "- [datahugger](https://j535d165.github.io/datahugger/) to fetch datasets hosted in Zenodo, figshare.\n",
    "- sciencebasepy for the dataset hosted in the USGS ScienceBase Catalog.\n",
    "- github datasets will be fetched using ad hoc functions.\n",
    "<!-- We will use osf-client to fetch datasets hosted in the Open Science Framework (OSF). -->"
   ]
  },
  {
   "cell_type": "code",
   "execution_count": 5,
   "id": "78eece7e",
   "metadata": {},
   "outputs": [
    {
     "data": {
      "application/vnd.jupyter.widget-view+json": {
       "model_id": "0be070beeb4443039a4d1fb4093da3b2",
       "version_major": 2,
       "version_minor": 0
      },
      "text/plain": [
       "HTML(value='\\n<style>\\n.jupyter-widgets-output-area pre {\\n    white-space: pre-wrap !important;       /* CSS3…"
      ]
     },
     "metadata": {},
     "output_type": "display_data"
    }
   ],
   "source": [
    "# iterate through the selected datasets and fetch files\n",
    "# iterate through the selected datasets and fetch files\n",
    "ds_trees = {}\n",
    "max_mb = int(os.getenv('MAX_LABEL_MB', 100))\n",
    "\n",
    "# Create widgets for controlling the fetching process\n",
    "fetch_output = widgets.Output(\n",
    "    layout=widgets.Layout(\n",
    "        width='80%', \n",
    "        border='1px solid #ddd', \n",
    "        padding='10px',\n",
    "        overflow='auto'\n",
    "    )\n",
    ")\n",
    "# Apply direct CSS styling for text wrapping (Note: unvalidated)\n",
    "display(widgets.HTML(\"\"\"\n",
    "<style>\n",
    ".jupyter-widgets-output-area pre {\n",
    "    white-space: pre-wrap !important;       /* CSS3 */\n",
    "    word-wrap: break-word !important;        /* Internet Explorer 5.5+ */\n",
    "    overflow-wrap: break-word !important;\n",
    "    max-width: 100%;\n",
    "}\n",
    "</style>\n",
    "\"\"\"))\n",
    "control_panel = widgets.VBox(layout=widgets.Layout(width='20%', padding='10px', overflow='auto', word_wrap='break-word'))\n",
    "fetch_button = widgets.Button(description=\"Fetch Next Dataset\", button_style=\"primary\")\n",
    "progress_label = widgets.HTML(\"Waiting to start...\")\n",
    "dataset_index = 0\n",
    "\n",
    "# Function to fetch the next dataset\n",
    "def fetch_next_dataset(button=None):\n",
    "    global dataset_index\n",
    "    global dataset_metadata\n",
    "    \n",
    "    if dataset_index >= len(selected_datasets):\n",
    "        with fetch_output:\n",
    "            print(\"All datasets have been fetched!\")\n",
    "            progress_label.value = f\"<b>Completed:</b> {dataset_index}/{len(selected_datasets)} datasets\"\n",
    "        fetch_button.disabled = True\n",
    "        return\n",
    "    \n",
    "    dataset = selected_datasets[dataset_index]\n",
    "    progress_label.value = f\"<b>Fetching:</b> {dataset_index+1}/{len(selected_datasets)}<br><b>Current:</b> {dataset}\"\n",
    "    \n",
    "    with fetch_output:\n",
    "        clear_output(wait=True)\n",
    "        print(f\"Fetching dataset files for {dataset} using DOI/URL:\\n {dataset_metadata[dataset]['doi']}\")\n",
    "        ds_tree = fetch_dataset_files(dataset, dataset_metadata[dataset], max_mb=max_mb, force=force_download_checkbox.value)\n",
    "        \n",
    "        \n",
    "        if ds_tree:\n",
    "            ds_trees[dataset] = ds_tree\n",
    "            # update metadata dict with local filesystem info\n",
    "            dataset_metadata[dataset]['output_folder'] = ds_tree['output_folder']\n",
    "            dataset_metadata[dataset]['files'] = ds_tree['files']\n",
    "            dataset_metadata[dataset]['fs_tree'] = ds_tree['fs_tree']\n",
    "            # print the dataset file tree\n",
    "        else:\n",
    "            print(f\"Failed to fetch dataset {dataset}\")\n",
    "    \n",
    "    dataset_index += 1\n",
    "    progress_label.value = f\"<b>Completed:</b> {dataset_index}/{len(selected_datasets)}<br><b>Next:</b> {selected_datasets[dataset_index] if dataset_index < len(selected_datasets) else 'Done'}\"\n",
    "\n",
    "# Add a checkbox for force download option\n",
    "force_download_checkbox = widgets.Checkbox(\n",
    "    value=False,\n",
    "    description='Force Download',\n",
    "    tooltip='If checked, download will be forced even if files exist locally',\n",
    "    layout=widgets.Layout(width='auto')\n",
    ")\n",
    "\n",
    "# Configure the button callback\n",
    "fetch_button.on_click(fetch_next_dataset)\n",
    "\n",
    "# Create the control panel\n",
    "dataset_progress = widgets.HTML(f\"Datasets selected: {len(selected_datasets)}\")\n",
    "fetch_status = widgets.HTML(\n",
    "    f\"Status: Ready to begin\",\n",
    "    layout=widgets.Layout(margin=\"10px 0\")\n",
    ")\n",
    "\n",
    "# Create the control panel with left alignment\n",
    "control_panel.children = [\n",
    "    widgets.HTML(\"<h3 style='align:left;'>Fetch Control</h3>\"), \n",
    "    dataset_progress,\n",
    "    force_download_checkbox,\n",
    "    widgets.HTML(\"<hr style='margin:10px 0'>\"),\n",
    "    progress_label,\n",
    "    fetch_button\n",
    "]"
   ]
  },
  {
   "cell_type": "markdown",
   "id": "e9f56a89",
   "metadata": {},
   "source": [
    "## Dataset Fetching UI widget \n",
    "\n",
    "- You can sequentially go through the selected datasets above \n",
    "- Initiate the download with the fetch button \n",
    "- Files that are already downloaded will be skipped unless the force redownload checkbox is checked \n",
    "- You can inspect each download's std out and stderr logs in the output area below"
   ]
  },
  {
   "cell_type": "code",
   "execution_count": 6,
   "id": "fa103f33",
   "metadata": {},
   "outputs": [
    {
     "data": {
      "application/vnd.jupyter.widget-view+json": {
       "model_id": "f38a24aed5e148f0a8eeb2b1f6fab5e5",
       "version_major": 2,
       "version_minor": 0
      },
      "text/plain": [
       "HTML(value='\\n<style>\\n.widget-html {\\n    text-align: left !important;\\n}\\n.widget-checkbox {\\n    align-item…"
      ]
     },
     "metadata": {},
     "output_type": "display_data"
    },
    {
     "data": {
      "application/vnd.jupyter.widget-view+json": {
       "model_id": "7d1f49a8151f49b6b09dbd036ebac48e",
       "version_major": 2,
       "version_minor": 0
      },
      "text/plain": [
       "HBox(children=(Output(layout=Layout(border_bottom='1px solid #ddd', border_left='1px solid #ddd', border_right…"
      ]
     },
     "metadata": {},
     "output_type": "display_data"
    }
   ],
   "source": [
    "# Add custom CSS to ensure alignment\n",
    "display(widgets.HTML(\"\"\"\n",
    "<style>\n",
    ".widget-html {\n",
    "    text-align: left !important;\n",
    "}\n",
    ".widget-checkbox {\n",
    "    align-items: left !important;\n",
    "}\n",
    ".widget-button {\n",
    "    width: 100% !important;\n",
    "}\n",
    "</style>\n",
    "\"\"\"))\n",
    "# Display the widget layout\n",
    "display(widgets.HBox([fetch_output, control_panel]))\n",
    "\n",
    "# Set up for first fetch\n",
    "if selected_datasets:\n",
    "    progress_label.value = f\"<b>Ready to start:</b><br>First dataset: {selected_datasets[0]}\"\n",
    "else:\n",
    "    progress_label.value = \"<b>No datasets selected</b>\"\n",
    "    fetch_button.disabled = True"
   ]
  },
  {
   "cell_type": "markdown",
   "id": "35ddc7a4",
   "metadata": {},
   "source": [
    "### Fetching selected datasets and visualizing metadata and file structure\n",
    "\n",
    "Use the simple UI rendered below to click the \"Next Dataset\" button to initiate the fetching of the selected datasets above. \n",
    "The datasets will avoid redownloading existing files, but the user can force a re-download by checking the \"Force Re-download\" checkbox. \n",
    "\n",
    "We will store the datasets in the `DATA_PATH` variable configured in the repo's `.env` file in the `raw/` subdirectory (to denote data fetched and saved as-is or with minimal processing).\n",
    "\n"
   ]
  },
  {
   "cell_type": "code",
   "execution_count": 7,
   "id": "b1e2f6de",
   "metadata": {},
   "outputs": [
    {
     "name": "stdout",
     "output_type": "stream",
     "text": [
      "Warning: The following datasets were not fetched or processed correctly:\n",
      "['global_harmonized_large_solar_farms_2020', 'global_pv_inventory_sent2_spot_2021', 'ind_pv_solar_farms_2022', 'usa_cali_usgs_pv_2016', 'uk_crowdsourced_pv_2020']\n",
      "We will attempt to fetch these in a loop in the next cell, but if you did not skip the fetch step, please check the stdout above for errors.\n",
      "Attempting to fetch global_harmonized_large_solar_farms_2020 again...\n",
      "File already exists: global_wind_solar_2020.zip\n",
      "Dataset contains zip files that need extraction.\n",
      "Fetched 9 dataset files for global_harmonized_large_solar_farms_2020 in datasets/raw/labels/global_harmonized_large_solar_farms_2020:\n",
      "global_harmonized_large_solar_farms_2020/\n",
      "├─global_wind_2020_EckertIV.gpkg\n",
      "├─global_solar_2020_EckertIV.gpkg\n",
      "├─global_wind_2020_EckertIV.csv\n",
      "├─global_wind_solar_2020.zip\n",
      "├─global_wind_2020_WGS84.csv\n",
      "├─global_solar_2020_WGS84.csv\n",
      "├─global_solar_2020_EckertIV.csv\n",
      "├─global_solar_2020_WGS84.gpkg\n",
      "└─global_wind_2020_WGS84.gpkg\n",
      "Attempting to fetch global_pv_inventory_sent2_spot_2021 again...\n",
      "File already exists: cv_polygons.geojson\n",
      "File already exists: predicted_set.geojson\n",
      "File already exists: trn_polygons.geojson\n",
      "File already exists: test_polygons.geojson\n",
      "File already exists: trn_tiles.geojson\n",
      "File already exists: global_pv_inventory_all.zip\n",
      "File already exists: cv_tiles.geojson\n",
      "File already exists: test_tiles.geojson\n",
      "Dataset contains zip files that need extraction.\n",
      "Fetched 8 dataset files for global_pv_inventory_sent2_spot_2021 in datasets/raw/labels/global_pv_inventory_sent2_spot_2021:\n",
      "global_pv_inventory_sent2_spot_2021/\n",
      "├─predicted_set.geojson\n",
      "├─cv_polygons.geojson\n",
      "├─cv_tiles.geojson\n",
      "├─test_tiles.geojson\n",
      "├─test_polygons.geojson\n",
      "├─trn_polygons.geojson\n",
      "├─trn_tiles.geojson\n",
      "└─global_pv_inventory_all.zip\n",
      "Attempting to fetch ind_pv_solar_farms_2022 again...\n",
      "Destination path already exists and contains expected files.\n",
      "\u001b[1mSkipping Download!\u001b[0m\n",
      "Fetched 1 dataset files for ind_pv_solar_farms_2022 in datasets/raw/labels/ind_pv_solar_farms_2022:\n",
      "ind_pv_solar_farms_2022/\n",
      "└─solar_farms_india_2021_merged_simplified.geojson\n",
      "Attempting to fetch usa_cali_usgs_pv_2016 again...\n",
      "File already exists: polygonDataExceptVertices.csv\n",
      "File already exists: polygonVertices_LatitudeLongitude.csv\n",
      "File already exists: polygonVertices_PixelCoordinates.csv\n",
      "File already exists: SolarArrayPolygons.geojson\n",
      "File already exists: SolarArrayPolygons.json\n",
      "Fetched 5 dataset files for usa_cali_usgs_pv_2016 in datasets/raw/labels/usa_cali_usgs_pv_2016:\n",
      "usa_cali_usgs_pv_2016/\n",
      "├─SolarArrayPolygons.geojson\n",
      "├─polygonVertices_LatitudeLongitude.csv\n",
      "├─polygonVertices_PixelCoordinates.csv\n",
      "├─polygonDataExceptVertices.csv\n",
      "└─SolarArrayPolygons.json\n",
      "Attempting to fetch uk_crowdsourced_pv_2020 again...\n",
      "File already exists: ukpvgeo_geometries.geojson\n",
      "File already exists: ukpvgeo_points.csv\n",
      "File already exists: README.txt\n",
      "Fetched 2 dataset files for uk_crowdsourced_pv_2020 in datasets/raw/labels/uk_crowdsourced_pv_2020:\n",
      "uk_crowdsourced_pv_2020/\n",
      "├─ukpvgeo_geometries.geojson\n",
      "└─ukpvgeo_points.csv\n"
     ]
    }
   ],
   "source": [
    "# check if files and fs_tree are empty for selected datasets (ie user did not use fetch UI above or there was an error with one of the fetches)\n",
    "processed_ds_keys = ['output_folder', 'files', 'fs_tree']\n",
    "missing_ds_fetches = [ds for ds in selected_datasets if any(key not in dataset_metadata[ds] for key in processed_ds_keys)]\n",
    "if missing_ds_fetches:\n",
    "    print(f\"Warning: The following datasets were not fetched or processed correctly:\\n{missing_ds_fetches}\")\n",
    "    print(f\"We will attempt to fetch these in a loop in the next cell, but if you did not skip the fetch step, please check the stdout above for errors.\")\n",
    "else:\n",
    "    print(f\"All {len(selected_datasets)} datasets have been fetched and processed correctly (🤞).\")\n",
    "\n",
    "if missing_ds_fetches:\n",
    "    # loop through the datasets that were not fetched and try to fetch them again\n",
    "    for dataset in missing_ds_fetches:\n",
    "        print(f\"Attempting to fetch {dataset} again...\")\n",
    "        ds_tree = fetch_dataset_files(dataset, dataset_metadata[dataset], max_mb=max_mb, force=False)\n",
    "        \n",
    "        if ds_tree:\n",
    "            ds_trees[dataset] = ds_tree\n",
    "            # update metadata dict with local filesystem info\n",
    "            dataset_metadata[dataset]['output_folder'] = ds_tree['output_folder']\n",
    "            dataset_metadata[dataset]['files'] = ds_tree['files']\n",
    "            dataset_metadata[dataset]['fs_tree'] = ds_tree['fs_tree']\n",
    "        else:\n",
    "            print(f\"Failed to fetch dataset {dataset} again; Error is likely in the fetch function above.\")"
   ]
  },
  {
   "cell_type": "markdown",
   "id": "218e707e",
   "metadata": {},
   "source": [
    "#### Global inventory of solar PV units (Kruitwagen et al, 2021)"
   ]
  },
  {
   "cell_type": "markdown",
   "id": "cee193e4",
   "metadata": {},
   "source": [
    "From Zenodo:\n",
    "```\n",
    "Repository contents:\n",
    "\n",
    "trn_tiles.geojson: 18,570 rectangular areas-of-interest used for sampling training patch data.\n",
    "\n",
    "trn_polygons.geojson: 36,882 polygons obtained from OSM in 2017 used to label training patches.\n",
    "\n",
    "cv_tiles.geojson: 560 rectangular areas-of-interest used for sampling cross-validation data seeded from WRI GPPDB\n",
    "\n",
    "cv_polygons.geojson: 6,281 polygons corresponding to all PV solar generating units present in cv_tiles.geojson at the end of 2018.\n",
    "\n",
    "test_tiles.geojson: 122 rectangular regions-of-interest used for building the test set.\n",
    "\n",
    "test_polygons.geojson: 7,263 polygons corresponding to all utility-scale (>10kW) solar generating units present in test_tiles.geojson at the end of 2018.\n",
    "\n",
    "predicted_polygons.geojson: 68,661 polygons corresponding to predicted polygons in global deployment, capturing the status of deployed photovoltaic solar energy generating capacity at the end of 2018.\n",
    "``` \n",
    "\n",
    "**Regarding predicted_polygons.geojson**: \"The final dataset includes 68,661 detections in 131 countries with a mean detection\n",
    "area of approximately 70,000m2. Country-level aggregates are shown in Supplementary\n",
    "Table 10. Any false positives remaining in the dataset are a product of human error. Final precision statistics in Supplementary Figure 6 and Supplementary Table ?? is reported\n",
    "again the test set. We find human error in hand labelling reduced final precision to approximately 98.6%.\" \n",
    "\n",
    "On the confidence column only in that file: \"Sentinel-2 and SPOT pipeline branches are combined into a final\n",
    "vector dataset using a rules-based filter. Where Sentinel-2 and SPOT polygons intersect\n",
    "with a Jaccard index (Intersection-over-union) in excess of 30%, the geometry of the SPOT\n",
    "polygon is retained, inheriting the installation date from the Sentinel-2 detection (confidence level “A”). Detections from only the SPOT and S2 branches are retained with confidence levels “B” and “C” respectively. Where the IoU does not exceed 30%, the union of both geometries are retained, inheriting the S2 installation date (confidence “D”).\" "
   ]
  },
  {
   "cell_type": "markdown",
   "id": "4f2873bb-a0c1-4969-add2-3da160ad0226",
   "metadata": {},
   "source": [
    "#### Harmonised, high-coverage PV dataset of UK (Stowell et al, 2020)"
   ]
  },
  {
   "cell_type": "markdown",
   "id": "505e2535",
   "metadata": {},
   "source": [
    "#### France Western Europe PV Installations 2023 (Kasmi et al, 2023)"
   ]
  },
  {
   "cell_type": "markdown",
   "id": "d566f477",
   "metadata": {},
   "source": [
    "From [research publication](https://doi.org/10.1038/s41597-023-01951-4): \n",
    "```\n",
    "The Git repository contains the raw crowdsourcing data and all the material necessary to re-generate our training dataset and technical validation.  \n",
    "It is structured as follows: the raw subfolder contains the raw annotation data from the two annotation campaigns and the raw PV installations’ metadata.  \n",
    "The replication subfolder contains the compiled data used to generate our segmentation masks.  \n",
    "The validation subfolder contains the compiled data necessary to replicate the analyses presented in the technical validation section.\n",
    "```\n",
    "\n",
    "We will be using the `replication` subfolder to generate our PV polygons geojson file."
   ]
  },
  {
   "cell_type": "markdown",
   "id": "503fc6be",
   "metadata": {},
   "source": [
    "### Manual dataset file curation"
   ]
  },
  {
   "cell_type": "code",
   "execution_count": 8,
   "id": "ea7659bb",
   "metadata": {},
   "outputs": [
    {
     "name": "stdout",
     "output_type": "stream",
     "text": [
      "Selected 1 files for global_harmonized_large_solar_farms_2020:\n",
      "['/Users/alejandovega/Documents/grad_studies/UPRRP_CCOM_MS/tesis/PV_segmentation_and_energy_forecasting/CCOM_MS_Spring_2025_EO_PV_research/datasets/raw/labels/global_pv_inventory_sent2_spot_2021/predicted_set.geojson']\n",
      "All selected datasets have been fetched with the following file tree:\n",
      "\n",
      "labels/\n",
      "├─global_pv_inventory_sent2_spot_2021/\n",
      "│ └─predicted_set.geojson\n",
      "├─uk_crowdsourced_pv_2020/\n",
      "│ └─ukpvgeo_geometries.geojson\n",
      "├─ind_pv_solar_farms_2022/\n",
      "│ └─solar_farms_india_2021_merged_simplified.geojson\n",
      "├─usa_cali_usgs_pv_2016/\n",
      "│ └─SolarArrayPolygons.geojson\n",
      "└─global_harmonized_large_solar_farms_2020/\n",
      "  └─global_solar_2020_WGS84.gpkg\n"
     ]
    }
   ],
   "source": [
    "# keep subset of metadata dict for selected datasets\n",
    "selected_metadata = {ds: dataset_metadata[ds] for ds in selected_datasets}\n",
    "get_ds_files = lambda ds: dataset_metadata[ds]['files']\n",
    "get_ds_dir = lambda ds: dataset_metadata[ds]['output_folder']\n",
    "is_ds_ftype = lambda ds, fname: fname.endswith(f\".{dataset_metadata[ds]['label_fmt']}\")\n",
    "get_full_ds_path = lambda ds: DATASET_DIR / 'raw' / 'labels' / ds\n",
    "fra_ds_folder = 'replication'\n",
    "\n",
    "# TODO: refactor this to a function as it'll quickly get out of hand with more datasets and pruning required\n",
    "# make a manual selection of the set of files we'll use from each dataset\n",
    "selected_ds_files = {ds : [f for f in get_ds_files(ds) if is_ds_ftype(ds, f)] for ds in selected_datasets}\n",
    "\n",
    "# ad hoc selection of files for testing (keep files that contain 'solar' and 'WGS84' in filename)\n",
    "selected_ds_files['global_harmonized_large_solar_farms_2020'] = [f for f in selected_ds_files['global_harmonized_large_solar_farms_2020'] if 'solar' in f.split('/')[-1] and 'WGS84' in f and not os.path.isdir(f)]\n",
    "# prediction dataset was human verified thoroughly and meant for downstream applications; only use this file for now\n",
    "selected_ds_files['global_pv_inventory_sent2_spot_2021'] = [f for f in selected_ds_files['global_pv_inventory_sent2_spot_2021'] if 'predicted' in os.path.basename(f)]\n",
    "print(f\"Selected {len(selected_ds_files['global_pv_inventory_sent2_spot_2021'])} files for {selected_datasets[0]}:\\n{selected_ds_files['global_pv_inventory_sent2_spot_2021']}\")\n",
    "\n",
    "# only include files that were not filtered out\n",
    "include_files = [os.path.basename(f) for ds in selected_datasets for f in selected_ds_files[ds]]\n",
    "# don't print out unused directories\n",
    "exclude_folders = [os.path.basename(dir) for dir in os.listdir(DATASET_DIR / 'raw' / 'labels') if dir not in selected_datasets]\n",
    "\n",
    "# build and output tree for selected datasets\n",
    "selected_ds_dirs = [get_ds_dir(ds) for ds in selected_datasets]\n",
    "print(\"All selected datasets have been fetched with the following file tree:\\n\")\n",
    "# TODO: fix unwanted dirs in the tree\n",
    "selected_ds_tree = seedir(DATASET_DIR / 'raw' / 'labels', depthlimit=10, printout=True, regex=False, include_files=include_files, exclude_folders=exclude_folders)"
   ]
  },
  {
   "cell_type": "markdown",
   "id": "db04ae2e",
   "metadata": {},
   "source": [
    "# Process into deduplicated and consolidated Database and GeoParquet\n",
    "1. We will use the `geopandas` library to read the raw dataset files and convert each dataset into a single geoparquet file\n",
    "2. We will use this list of geoparquet files to create a consolidated duckdb database file\n",
    "3. We will perform spatial deduplication (removing overlapping polygons from different datasets) and save the consolidated geoparquet file"
   ]
  },
  {
   "cell_type": "markdown",
   "id": "54f011a0",
   "metadata": {},
   "source": [
    "## Intro to GeoParquet\n",
    "\n",
    "<div style=\"max-width: 75%; margin: 0 auto; padding-left: 1em; padding-right: 1em; text-align: justify;\">\n",
    "    <p>GeoParquet is <a href=\"https://geoparquet.org/\">an incubating Open Geospatial Consortium (OGC) standard</a> that simply adds compatible geospatial <a href=\"https://docs.safe.com/fme/html/FME-Form-Documentation/FME-ReadersWriters/geoparquet/Geometry-Support.htm\">geometry types</a> (MultiPoint, Line, Polygon, etc) to the mature and widely adopted <a href=\"https://parquet.apache.org/\">Apache Parquet format</a>, a popular columnar storage format commonly used in big data processing and modern data engineering pipelines and analytics. Despite the geoparquet standard only just recently reaching a v1.X release, Parquet itself is a very mature file format and has a wide ecosystem that GeoParquet seamlessly integrates with. This is analogous to how the GeoTIFF raster format adds geospatial metadata to the longstanding TIFF standard. GeoParquet is designed to be a simple and efficient way to store geospatial <em>vector</em> data in a columnar format, and is designed to be compatible with existing Parquet tools and libraries to enable Cloud <em>Data Warehouse</em> Interoperability.</p>\n",
    "    <p>Parquet is a columnar storage format that is optimized for <strong>analytical workloads</strong> (i.e. not <strong>transactional</strong>) and is designed to work well with large-scale data processing frameworks like Apache Spark, Dask, and Apache Airflow. It is a <em>popular choice for storing large datasets using modern cloud-centric DBMS architectures</em> like data lakes and data warehouses, as it allows for multiple optimizations and efficient querying and analysis of data. Parquet files are <strong>designed to be highly compressed</strong>, which reduces storage costs and improves performance when reading and writing data. The columnar format allows for efficient compression algorithms to be <em>applied to each column independently</em>, resulting in better compression ratios compared to traditional row-based formats like CSV or JSON.</p>\n",
    "\n",
    "<figure style=\"text-align: center\">\n",
    "<img src=\"https://miro.medium.com/v2/resize:fit:1400/1*QEQJjtnDb3JQ2xqhzARZZw.png\" style=\"width:35%; height:auto;\">\n",
    "<figcaption align = \"center\"> Visualization of the layout of a Parquet file </figcaption>\n",
    "</figure>                                                                                                                                                                                                                                                                              \n",
    "    <p>These files are organized in a set of file chunks called \"row groups\". Row groups are logical groups of columns with the same number of rows. Each of these columns is actually a \"column chunk\" which is a contiguous block of data for that column. The schema across row groups must be consistent, i.e. the data types and number of columns must be the same for every row group. The new geospatial standard adds some relevant additional metadata such as the geometry's Coordinate Reference System (CRS), additional metadata for geometry columns, and recent releases have enabled <a href=\"https://medium.com/radiant-earth-insights/geoparquet-1-1-coming-soon-9b72c900fbf2\">initial support for spatial indexing in v1.1</a>. <a href=\"https://towardsdatascience.com/geospatial-data-engineering-spatial-indexing-18200ef9160b\">Spatial indexing</a> is a technique used to optimize spatial queries by indexing or partitioning the data based on its geometry features such that you can make spatial queries (e.g. intersection, within, within x distance, etc) more efficiently.</p>\n",
    "</div>\n",
    "\n",
    "<figure style=\"text-align: center\">\n",
    "<img src=\"https://guide.cloudnativegeo.org/images/geoparquet_layout.png\" style=\"width:40%; height:auto;\">\n",
    "<figcaption align = \"center\"> GeoParquet has the same laylout with additional metadata </figcaption>\n",
    "</figure>\n",
    "  \n",
    "Beyond the file data itself, Parquet also stores metadata at the end of the file that describes the internal \"chunking\" of the file, byte ranges of every column chunks, several column statistics, among other things. "
   ]
  },
  {
   "cell_type": "markdown",
   "id": "84a02d4b-d4e7-4a45-909b-6082a16d6e21",
   "metadata": {},
   "source": [
    "### Performance Improvements\n",
    "\n",
    "For a much more in-depth exploration of the lower-level details that enable GeoParquet's (and the related memory layout specification, [GeoArrow](https://geoarrow.org/#relationship-with-geoparquet)) performance and scalability improvements, I recommend this [in-depth blog exploring the Apache Arrow format](https://iomete.com/resources/blog/apache-arrow-format) (which GeoParquet can natively take advantage of by, for example, encoding geometry metadata as GeoArrow instead of traditional WKB/WKT). More briefly, we highlight some of the key geoparquet-specific performance improvements and limitations below:\n",
    "\n",
    "#### Features and Advantages\n",
    "\n",
    "- Efficient storage and compression: \n",
    "    - leverages the columnar data format which is more efficient for filtering on columns\n",
    "    - GeoParquet is internally compressed by default, and can be configured to optimize decompression time or storage size depending on the use case\n",
    "    - These make it ideal for applications dealing with _massive_ geospatial datasets and cloud data warehouses\n",
    "- Scalability and High-Performance:\n",
    "    - the nature of the file format is well-suited for parallel and/or distributed processing such as in Spark, Dask, or Hadoop\n",
    "    - Support for data partitioning: \n",
    "        - Parquet files can be partitioned by one or more columns\n",
    "        - In the geospatial context this enables efficient spatial queries and filtering (e.g. partitioning by ISO country code) \n",
    "        - Properly implemented spatial partitions can enable [spatial predicate pushdown](https://medium.com/radiant-earth-insights/geoparquet-1-1-coming-soon-9b72c900fbf2) which can significantly speed up spatial queries over the network by applying filters at the storage level and greatly reducing the amount of data that needs to be transferred. See this impressive example from the [geoparquet v1.1 blog](https://medium.com/radiant-earth-insights/geoparquet-1-1-coming-soon-9b72c900fbf2)\n",
    "- Optimized for *read-heavy workflows*: \n",
    "    - Parquet is an immutable file format, which means taking advantage of cheap reads, and efficient filtering and aggregation operations\n",
    "        - This is ideal for data warehousing and modern analytic workflows \n",
    "        - Best paired with Analytical Databases like Amazon Redshift, Google BigQuery, or DuckDB\n",
    "        - Ideal for OLAP (Online Analytical Processing) and BI (Business Intelligence) workloads that leverage historical and aggregated data that don't require transactions or high-frequency updates\n",
    " - Interoperability and wide ecosystem:\n",
    "    - GeoParquet is designed to be compatible with existing ecosystem of Parquet readers, tools, and libraries\n",
    "    - Facilitates integration into existing data pipelines and workflows\n",
    "    - Broad compatibility:\n",
    "        - support for multiple spatial reference systems \n",
    "        - support for multiple geometry types and multiple geometry columns\n",
    "        - works with both planar and spherical coordinates \n",
    "        - support for 2D and 3D geometries\n",
    "        \n",
    "#### Limitations and Disadvantages\n",
    "\n",
    "- Poorly suited for write-heavy workflows:\n",
    "    - Transactional, CRUD (Create, Read, Update, Delete), and real-time operations are not well-suited for Parquet files\n",
    "    - Not recommended for applications that require frequent updates or real-time data ingestion\n",
    "- Not a Silver Bullet for all geospatial data:\n",
    "    - deals only with vector data, not raster data (not always true, see next notebook for [Apache Sedona](https://sedona.apache.org/latest/tutorial/storing-blobs-in-parquet/) support)\n",
    "    - storage and compression benefits require a certain scale of data to be realized\n",
    "    - performance overhead for small datasets\n",
    "- Limited support for spatial indexing:\n",
    "    - GeoParquet did not implement spatial indexing in the 1.0.0 release\n",
    "    - This is planned to be built-in as a BBOX struct field (4 coords in a single column) for future release in version 1.1 of the standard"
   ]
  },
  {
   "cell_type": "markdown",
   "id": "dac0935a",
   "metadata": {},
   "source": [
    "### Convert individual datasets to GeoParquet with GeoPandas"
   ]
  },
  {
   "cell_type": "code",
   "execution_count": 9,
   "id": "11057816",
   "metadata": {
    "scrolled": true
   },
   "outputs": [
    {
     "name": "stderr",
     "output_type": "stream",
     "text": [
      "Processing datasets:   0%|          | 0/5 [00:00<?, ?it/s]"
     ]
    },
    {
     "name": "stdout",
     "output_type": "stream",
     "text": [
      "\n",
      " ################################################## \n",
      "\n",
      "Processing dataset global_harmonized_large_solar_farms_2020 with 1 files in datasets/raw/labels/global_harmonized_large_solar_farms_2020:\n",
      "['/Users/alejandovega/Documents/grad_studies/UPRRP_CCOM_MS/tesis/PV_segmentation_and_energy_forecasting/CCOM_MS_Spring_2025_EO_PV_research/datasets/raw/labels/global_harmonized_large_solar_farms_2020/global_solar_2020_WGS84.gpkg']\n",
      "Loaded geodataframe with raw counts of 35272 PV installations\n",
      "Coordinate reference system: EPSG:4326\n",
      "Available columns: ['sol_id', 'GID_0', 'panels', 'panel.area', 'landscape.area', 'water', 'urban', 'power', 'geometry']\n",
      "Warning: 1 invalid or empty geometries found and will be removed.\n",
      "Processing global_harmonized_large_solar_farms_2020 metadata\n",
      "Filtering from 8 columns to 8 columns:\n",
      "['sol_id', 'panels', 'panel.area', 'landscape.area', 'water', 'urban', 'power', 'geometry']\n",
      "After filtering and cleaning, we have 35271 PV installations\n",
      "Saved processed GeoDataFrame to datasets/raw/labels/geoparquet/global_harmonized_large_solar_farms_2020_processed.geoparquet\n",
      "\n",
      " ################################################## \n",
      "\n"
     ]
    },
    {
     "name": "stderr",
     "output_type": "stream",
     "text": [
      "Processing datasets:  20%|██        | 1/5 [00:01<00:06,  1.52s/it]"
     ]
    },
    {
     "name": "stdout",
     "output_type": "stream",
     "text": [
      "\n",
      " ################################################## \n",
      "\n",
      "Processing dataset global_pv_inventory_sent2_spot_2021 with 1 files in datasets/raw/labels/global_pv_inventory_sent2_spot_2021:\n",
      "['/Users/alejandovega/Documents/grad_studies/UPRRP_CCOM_MS/tesis/PV_segmentation_and_energy_forecasting/CCOM_MS_Spring_2025_EO_PV_research/datasets/raw/labels/global_pv_inventory_sent2_spot_2021/predicted_set.geojson']\n"
     ]
    },
    {
     "name": "stderr",
     "output_type": "stream",
     "text": [
      "WARNING:pyogrio._io:Skipping field ind_comm_10km: unsupported OGR type: 5\n"
     ]
    },
    {
     "name": "stdout",
     "output_type": "stream",
     "text": [
      "Loaded geodataframe with raw counts of 68661 PV installations\n",
      "Coordinate reference system: EPSG:4326\n",
      "Available columns: ['unique_id', 'area', 'confidence', 'install_date', 'iso-3166-1', 'iso-3166-2', 'gti', 'pvout', 'capacity_mw', 'match_id', 'wdpa_10km', 'LC_CLC300_1992', 'LC_CLC300_1993', 'LC_CLC300_1994', 'LC_CLC300_1995', 'LC_CLC300_1996', 'LC_CLC300_1997', 'LC_CLC300_1998', 'LC_CLC300_1999', 'LC_CLC300_2000', 'LC_CLC300_2001', 'LC_CLC300_2002', 'LC_CLC300_2003', 'LC_CLC300_2004', 'LC_CLC300_2005', 'LC_CLC300_2006', 'LC_CLC300_2007', 'LC_CLC300_2008', 'LC_CLC300_2009', 'LC_CLC300_2010', 'LC_CLC300_2011', 'LC_CLC300_2012', 'LC_CLC300_2013', 'LC_CLC300_2014', 'LC_CLC300_2015', 'LC_CLC300_2016', 'LC_CLC300_2017', 'LC_CLC300_2018', 'mean_ai', 'GCR', 'eff', 'ILR', 'area_error', 'lc_mode', 'lc_arid', 'lc_vis', 'geometry']\n",
      "Processing global_pv_inventory_sent2_spot_2021 metadata\n",
      "Filtering from 82 columns  to 8 columns:\n",
      "['unique_id', 'confidence', 'install_date', 'capacity_mw', 'iso-3166-2', 'pvout', 'geometry', 'area']\n",
      "After filtering and cleaning, we have 68661 PV installations\n",
      "Saved processed GeoDataFrame to datasets/raw/labels/geoparquet/global_pv_inventory_sent2_spot_2021_processed.geoparquet\n",
      "\n",
      " ################################################## \n",
      "\n"
     ]
    },
    {
     "name": "stderr",
     "output_type": "stream",
     "text": [
      "Processing datasets:  40%|████      | 2/5 [00:12<00:21,  7.20s/it]"
     ]
    },
    {
     "name": "stdout",
     "output_type": "stream",
     "text": [
      "\n",
      " ################################################## \n",
      "\n",
      "Processing dataset ind_pv_solar_farms_2022 with 1 files in datasets/raw/labels/ind_pv_solar_farms_2022:\n",
      "['/Users/alejandovega/Documents/grad_studies/UPRRP_CCOM_MS/tesis/PV_segmentation_and_energy_forecasting/CCOM_MS_Spring_2025_EO_PV_research/datasets/raw/labels/ind_pv_solar_farms_2022/solar_farms_india_2021_merged_simplified.geojson']\n",
      "Loaded geodataframe with raw counts of 1363 PV installations\n",
      "Coordinate reference system: EPSG:4326\n",
      "Available columns: ['State', 'Area', 'Latitude', 'Longitude', 'fid', 'geometry']\n",
      "Warning: 78 invalid or empty geometries found and will be removed.\n",
      "Processing ind_pv_solar_farms_2022 metadata\n",
      "After filtering and cleaning, we have 1285 PV installations\n",
      "Saved processed GeoDataFrame to datasets/raw/labels/geoparquet/ind_pv_solar_farms_2022_processed.geoparquet\n",
      "\n",
      " ################################################## \n",
      "\n"
     ]
    },
    {
     "name": "stderr",
     "output_type": "stream",
     "text": [
      "Processing datasets:  60%|██████    | 3/5 [00:12<00:07,  3.97s/it]"
     ]
    },
    {
     "name": "stdout",
     "output_type": "stream",
     "text": [
      "\n",
      " ################################################## \n",
      "\n",
      "Processing dataset usa_cali_usgs_pv_2016 with 1 files in datasets/raw/labels/usa_cali_usgs_pv_2016:\n",
      "['/Users/alejandovega/Documents/grad_studies/UPRRP_CCOM_MS/tesis/PV_segmentation_and_energy_forecasting/CCOM_MS_Spring_2025_EO_PV_research/datasets/raw/labels/usa_cali_usgs_pv_2016/SolarArrayPolygons.geojson']\n",
      "Loaded geodataframe with raw counts of 19433 PV installations\n",
      "Coordinate reference system: EPSG:4326\n",
      "Available columns: ['polygon_id', 'centroid_latitude', 'centroid_longitude', 'centroid_latitude_pixels', 'centroid_longitude_pixels', 'city', 'area_pixels', 'area_meters', 'image_name', 'nw_corner_of_image_latitude', 'nw_corner_of_image_longitude', 'se_corner_of_image_latitude', 'se_corner_of_image_longitude', 'datum', 'projection_zone', 'resolution', 'jaccard_index', 'polygon_vertices_pixels', 'geometry']\n",
      "Warning: 60 invalid or empty geometries found and will be removed.\n",
      "Processing usa_cali_usgs_pv_2016 metadata\n",
      "After filtering and cleaning, we have 19373 PV installations\n",
      "Saved processed GeoDataFrame to datasets/raw/labels/geoparquet/usa_cali_usgs_pv_2016_processed.geoparquet\n",
      "\n",
      " ################################################## \n",
      "\n"
     ]
    },
    {
     "name": "stderr",
     "output_type": "stream",
     "text": [
      "Processing datasets:  80%|████████  | 4/5 [00:14<00:03,  3.02s/it]"
     ]
    },
    {
     "name": "stdout",
     "output_type": "stream",
     "text": [
      "\n",
      " ################################################## \n",
      "\n",
      "Processing dataset uk_crowdsourced_pv_2020 with 1 files in datasets/raw/labels/uk_crowdsourced_pv_2020:\n",
      "['/Users/alejandovega/Documents/grad_studies/UPRRP_CCOM_MS/tesis/PV_segmentation_and_energy_forecasting/CCOM_MS_Spring_2025_EO_PV_research/datasets/raw/labels/uk_crowdsourced_pv_2020/ukpvgeo_geometries.geojson']\n",
      "Loaded geodataframe with raw counts of 265406 PV installations\n",
      "Coordinate reference system: EPSG:4326\n",
      "Available columns: ['osm_id', 'osm_name', 'osm_objtype', 'repd_id', 'repd_site_name', 'capacity_repd_MWp', 'capacity_osm_MWp', 'area_sqm', 'located', 'orientation', 'osm_power_type', 'osm_tag_start_date', 'num_modules', 'repd_status', 'repd_operational_date', 'old_repd_id', 'osm_cluster_id', 'repd_cluster_id', 'source_capacity', 'source_obj', 'match_rule', 'geometry']\n",
      "After filtering and cleaning, we have 265406 PV installations\n",
      "Saved processed GeoDataFrame to datasets/raw/labels/geoparquet/uk_crowdsourced_pv_2020_processed.geoparquet\n",
      "\n",
      " ################################################## \n",
      "\n"
     ]
    },
    {
     "name": "stderr",
     "output_type": "stream",
     "text": [
      "Processing datasets: 100%|██████████| 5/5 [00:23<00:00,  4.66s/it]"
     ]
    },
    {
     "name": "stdout",
     "output_type": "stream",
     "text": [
      "CPU times: user 22.4 s, sys: 551 ms, total: 22.9 s\n",
      "Wall time: 23.3 s\n"
     ]
    },
    {
     "name": "stderr",
     "output_type": "stream",
     "text": [
      "\n"
     ]
    }
   ],
   "source": [
    "%%time\n",
    "# These dataset processing functions are now imported from utils.fetch_and_preprocess\n",
    "OVERLAP_THRESH = float(os.getenv('GEOM_OVERLAP_THRESHOLD', 0.8))\n",
    "\n",
    "# random.shuffle(selected_datasets)\n",
    "# go through the selected datasets and process them\n",
    "gdfs = []\n",
    "out_widgets = []\n",
    "\n",
    "for ds in tqdm(selected_datasets, desc=\"Processing datasets\"):\n",
    "    ds_files = selected_ds_files[ds]\n",
    "    ds_dir = get_ds_dir(ds)\n",
    "    ds_tree = dataset_metadata[ds]['fs_tree']\n",
    "    out_dir = DATASET_DIR / 'raw' / 'labels' / 'geoparquet'\n",
    "    # add header and footer separators for each dataset\n",
    "    print(\"\\n\", \"#\" * 50, \"\\n\")\n",
    "    print(f\"Processing dataset {ds} with {len(ds_files)} files in {os.path.relpath(ds_dir)}:\\n{ds_files}\")\n",
    "    \n",
    "    ds_gdf = process_vector_geoms(\n",
    "                geom_files=ds_files,\n",
    "                dataset_name=ds,\n",
    "                output_dir=out_dir\n",
    "    )\n",
    "    print(\"\\n\", \"#\" * 50, \"\\n\")\n",
    "    if ds_gdf is not None:\n",
    "        out = widgets.Output()\n",
    "        with out:\n",
    "            print(f\"Dataset {ds} has {len(ds_gdf)} geometries and {len(ds_gdf.columns)} columns.\")\n",
    "            display(ds_gdf.describe())\n",
    "            # display unique geometry types in each dataset gdf\n",
    "            print(f\"Unique geometry types in the dataset: {ds_gdf['geometry'].apply(lambda x: x.geom_type).unique()}\")\n",
    "            print(f\"Count of Point geometries: {len(ds_gdf[ds_gdf['geometry'].geom_type == 'Point'])}\")\n",
    "            print(f\"Count of Polygon geometries: {len(ds_gdf[ds_gdf['geometry'].geom_type == 'Polygon'])}\")\n",
    "            print(f\"Count of MultiPoint geometries: {len(ds_gdf[ds_gdf['geometry'].geom_type == 'MultiPoint'])}\")\n",
    "            print(f\"Count of MultiPolygon geometries: {len(ds_gdf[ds_gdf['geometry'].geom_type == 'MultiPolygon'])}\")\n",
    "            print(\"See data samples below:\")\n",
    "            display(ds_gdf.sample(3))\n",
    "        out_widgets.append(out)\n",
    "        gdfs.append(ds_gdf)"
   ]
  },
  {
   "cell_type": "code",
   "execution_count": 10,
   "id": "c60c3cf3",
   "metadata": {},
   "outputs": [
    {
     "data": {
      "application/vnd.jupyter.widget-view+json": {
       "model_id": "dd217da4bc6c4fcba01e3f2fe00291e9",
       "version_major": 2,
       "version_minor": 0
      },
      "text/plain": [
       "Tab(children=(Output(), Output(), Output(), Output(), Output()), selected_index=0, titles=('global_harmonized_…"
      ]
     },
     "metadata": {},
     "output_type": "display_data"
    }
   ],
   "source": [
    "# Organize outputs in tabs with dataset DOIs as tab titles \n",
    "tabs = widgets.Tab(children=out_widgets)\n",
    "for i, ds in enumerate(selected_datasets):\n",
    "    title = '_'.join(ds.split('_')[:3])\n",
    "    tabs.set_title(i, title)\n",
    "display(tabs)"
   ]
  },
  {
   "cell_type": "markdown",
   "id": "8ba037d2",
   "metadata": {},
   "source": [
    "## Dataset Consolidation: single DB table and GPQ file"
   ]
  },
  {
   "cell_type": "markdown",
   "id": "b3bf5f1c",
   "metadata": {},
   "source": [
    "### DuckDB: an in-process SQL OLAP RDBMS \n",
    "\n",
    "From their [\"Why DuckDB?\" page](https://duckdb.org/why_duckdb.html):\n",
    "\n",
    "DuckDB is an **in-process analytical data management system (OLAP RDBMS)**. Unlike traditional client-server databases (like PostgreSQL or MySQL), DuckDB runs directly within the host process (e.g., our Python script or Jupyter kernel), similar to SQLite. However, unlike SQLite which is optimized for transactional workloads (OLTP), DuckDB is specifically designed for **analytical queries (OLAP)** involving complex, long-running queries over potentially huge datasets, typical in big data analytics and scientific computing workflows.\n",
    "\n",
    "Key benefits for our workflow include:\n",
    "-   **Simplicity & Portability:** Easy installation (`pip install duckdb`) and no external dependencies or database server management required. Databases are stored as single, portable files (`.duckdb`), making them easy to manage, share, and archive.\n",
    "-   **Direct Data Access:** Can directly query various file formats, including the **Parquet and GeoParquet files** we are generating and (geo)pandas DataFrames(!), without needing a separate, time-consuming ingestion/copy step. This is highly efficient for consolidating data from multiple files, and remote sources (e.g., S3, GCS).\n",
    "-   **Powerful SQL:** Offers a rich, modern SQL dialect, including window functions, complex joins, and support for common table expressions (CTEs), allowing sophisticated data manipulation and analysis directly in SQL.\n",
    "-   **Geospatial Capabilities:** Crucially, DuckDB has a **`spatial` extension** that provides functions for handling and querying geospatial data types (like points, lines, and polygons) using libraries like GEOS. This enables operations such as spatial joins (e.g., `ST_Intersects`, `ST_Contains`), area calculations (`ST_Area`), centroid computation (`ST_Centroid`), and reading/writing WKT/WKB formats directly within the database. This is essential for our tasks like deduplication and integrating PV labels with contextual layers like Overture Maps.\n",
    "-   **Performance:** Its **column-vectorized query execution engine** is optimized for analytical performance, often *significantly faster than row-based systems* and more optimized than *pure Python/Pandas operations* for large datasets that may not fit into memory. \n",
    "-   **Python Integration:** Seamlessly integrates with Python libraries like Pandas and GeoPandas through its client API and tools like `jupysql`, allowing easy data exchange between dataframes and the database directly from our notebooks! \n",
    "\n",
    "In this notebook, we use DuckDB to:\n",
    "1.  Efficiently consolidate multiple GeoParquet files (one per source dataset) into a single database table using its ability to read Parquet directly.\n",
    "2.  Leverage its `spatial` extension for geospatial indexing, filtering, and performing spatial joins with the [Overture Maps divisions](#Overture-Maps-Divisions) data based on [H3 indices](#H3-Geospatial-Indexing-System-and-Spatial-Clustering).\n",
    "3.  Provide a persistent, queryable, and portable database (`.duckdb` file) containing the cleaned, consolidated, and spatially enriched PV label data.\n"
   ]
  },
  {
   "cell_type": "code",
   "execution_count": 11,
   "id": "9eac4643",
   "metadata": {},
   "outputs": [
    {
     "name": "stdout",
     "output_type": "stream",
     "text": [
      "Consolidating these 5 files:\n",
      "-datasets/raw/labels/geoparquet/usa_cali_usgs_pv_2016_processed.geoparquet\n",
      "-datasets/raw/labels/geoparquet/global_harmonized_large_solar_farms_2020_processed.geoparquet\n",
      "-datasets/raw/labels/geoparquet/global_pv_inventory_sent2_spot_2021_processed.geoparquet\n",
      "-datasets/raw/labels/geoparquet/uk_crowdsourced_pv_2020_processed.geoparquet\n",
      "-datasets/raw/labels/geoparquet/ind_pv_solar_farms_2022_processed.geoparquet\n",
      "Creating output directories: datasets/prepared/labels/geoparquet\n",
      "Connecting to DuckDB database: datasets/db/global_consolidated_pv.duckdb\n",
      "Building temp UNION query from 5 parquet files...\n",
      "  Processing file: usa_cali_usgs_pv_2016_processed.geoparquet\n",
      "  Processing file: global_harmonized_large_solar_farms_2020_processed.geoparquet\n",
      "  Processing file: global_pv_inventory_sent2_spot_2021_processed.geoparquet\n",
      "  Processing file: uk_crowdsourced_pv_2020_processed.geoparquet\n",
      "  Processing file: ind_pv_solar_farms_2022_processed.geoparquet\n"
     ]
    },
    {
     "data": {
      "application/vnd.jupyter.widget-view+json": {
       "model_id": "547b42fd876541eab1fd585db2176d5f",
       "version_major": 2,
       "version_minor": 0
      },
      "text/plain": [
       "FloatProgress(value=0.0, layout=Layout(width='auto'), style=ProgressStyle(bar_color='black'))"
      ]
     },
     "metadata": {},
     "output_type": "display_data"
    },
    {
     "name": "stdout",
     "output_type": "stream",
     "text": [
      "Excluded 250924 geometries that are not of type POLYGON, MULTIPOLYGON\n",
      "Spatial index created on global_consolidated_pv (used for dedup) in 0.05 seconds.\n",
      "Table 'global_consolidated_pv' created with raw count (before dedup) of 139072 records.\n",
      "Area (m²): min = 0.6082653935524063, max = 223217987.27969462, avg = 102237.58040226031\n",
      "Centroid extent: lon [-19806764.27368491, 19721508.30052118], lat [-7020177.611974957, 10989453.180153754]\n",
      "Exported consolidated table to datasets/prepared/labels/geoparquet/global_consolidated_pv.geoparquet\n",
      "Consolidated 5 files into datasets/db/global_consolidated_pv.duckdb → table 'global_consolidated_pv'\n",
      "Exported to: datasets/prepared/labels/geoparquet/global_consolidated_pv.geoparquet\n",
      "CPU times: user 4.2 s, sys: 258 ms, total: 4.46 s\n",
      "Wall time: 3.09 s\n"
     ]
    }
   ],
   "source": [
    "%%time\n",
    "ZSTD_COMPRESSION = os.getenv(\"GPQ_ZSTD_COMPRESSION\", 5)\n",
    "TABLE_NAME = os.getenv(\"PV_DB_TABLE\", \"global_consolidated_pv\")\n",
    "\n",
    "# get list of geoparquet files to be consolidated\n",
    "get_full_gpq_path = lambda f: DATASET_DIR / 'raw' / 'labels' / 'geoparquet' / f\n",
    "parquet_files = [get_full_gpq_path(f) for f in os.listdir(DATASET_DIR / 'raw' / 'labels' / 'geoparquet') if any(os.path.splitext(f)[0].startswith(ds) for ds in selected_datasets)]\n",
    "flist = '\\n-'.join([os.path.relpath(f) for f in parquet_files])\n",
    "print(f\"Consolidating these {len(parquet_files)} files:\\n-{flist}\")\n",
    "\n",
    "DB_DIR = Path(os.getenv(\"DUCKDB_DIR\", DATASET_DIR / 'db'))\n",
    "out_consolidated_parquet = DATASET_DIR / 'prepared' / 'labels' / 'geoparquet' / 'global_consolidated_pv.geoparquet'\n",
    "out_consolidated_db = DB_DIR / 'global_consolidated_pv.duckdb'\n",
    "# create the output directories if they don't exist\n",
    "print(f\"Creating output directories: {out_consolidated_parquet.parent}\")\n",
    "os.makedirs(out_consolidated_parquet.parent, exist_ok=True)\n",
    "\n",
    "# consolidate the dataset into a single duckdb database that will also be saved as a geoparquet file\n",
    "# exclude POINT and MULTIPOINT geometries until we have implemented a heuristic to extract a PV polygon label from the points\n",
    "# TODO: look at usability of SAM2 models that perform segmentation from single point input \n",
    "db_file = geom_db_consolidate_dataset(\n",
    "    parquet_files=parquet_files,\n",
    "    table_name=TABLE_NAME,\n",
    "    geom_column=\"geometry\",\n",
    "    keep_geoms=[\"POLYGON\", \"MULTIPOLYGON\"], \n",
    "    spatial_index=True,\n",
    "    out_parquet=out_consolidated_parquet,\n",
    "    printout=True\n",
    ")"
   ]
  },
  {
   "cell_type": "code",
   "execution_count": 12,
   "id": "483b118e",
   "metadata": {},
   "outputs": [],
   "source": [
    "%load_ext sql\n",
    "%config SqlMagic.feedback = False\n",
    "%config SqlMagic.displaycon = False\n",
    "conn = get_duckdb_connection(db_file)\n",
    "%sql conn --alias duckdb "
   ]
  },
  {
   "cell_type": "code",
   "execution_count": 13,
   "id": "49b9a536",
   "metadata": {},
   "outputs": [
    {
     "data": {
      "text/html": [
       "<table>\n",
       "    <thead>\n",
       "        <tr>\n",
       "            <th>name</th>\n",
       "        </tr>\n",
       "    </thead>\n",
       "    <tbody>\n",
       "        <tr>\n",
       "            <td>country_geoms</td>\n",
       "        </tr>\n",
       "        <tr>\n",
       "            <td>global_consolidated_pv</td>\n",
       "        </tr>\n",
       "        <tr>\n",
       "            <td>overture_division_areas</td>\n",
       "        </tr>\n",
       "    </tbody>\n",
       "</table>"
      ],
      "text/plain": [
       "+-------------------------+\n",
       "|           name          |\n",
       "+-------------------------+\n",
       "|      country_geoms      |\n",
       "|  global_consolidated_pv |\n",
       "| overture_division_areas |\n",
       "+-------------------------+"
      ]
     },
     "execution_count": 13,
     "metadata": {},
     "output_type": "execute_result"
    }
   ],
   "source": [
    "# display db tables\n",
    "%sql SHOW TABLES;"
   ]
  },
  {
   "cell_type": "code",
   "execution_count": 14,
   "id": "f9814c4c",
   "metadata": {},
   "outputs": [
    {
     "data": {
      "text/html": [
       "<table>\n",
       "    <thead>\n",
       "        <tr>\n",
       "            <th>column_name</th>\n",
       "            <th>column_type</th>\n",
       "            <th>null</th>\n",
       "            <th>key</th>\n",
       "            <th>default</th>\n",
       "            <th>extra</th>\n",
       "        </tr>\n",
       "    </thead>\n",
       "    <tbody>\n",
       "        <tr>\n",
       "            <td>unified_id</td>\n",
       "            <td>VARCHAR</td>\n",
       "            <td>NO</td>\n",
       "            <td>PRI</td>\n",
       "            <td>None</td>\n",
       "            <td>None</td>\n",
       "        </tr>\n",
       "        <tr>\n",
       "            <td>area_m2</td>\n",
       "            <td>DOUBLE</td>\n",
       "            <td>YES</td>\n",
       "            <td>None</td>\n",
       "            <td>None</td>\n",
       "            <td>None</td>\n",
       "        </tr>\n",
       "        <tr>\n",
       "            <td>spheroid_area</td>\n",
       "            <td>DOUBLE</td>\n",
       "            <td>YES</td>\n",
       "            <td>None</td>\n",
       "            <td>None</td>\n",
       "            <td>None</td>\n",
       "        </tr>\n",
       "        <tr>\n",
       "            <td>centroid_lon</td>\n",
       "            <td>DOUBLE</td>\n",
       "            <td>YES</td>\n",
       "            <td>None</td>\n",
       "            <td>None</td>\n",
       "            <td>None</td>\n",
       "        </tr>\n",
       "        <tr>\n",
       "            <td>centroid_lat</td>\n",
       "            <td>DOUBLE</td>\n",
       "            <td>YES</td>\n",
       "            <td>None</td>\n",
       "            <td>None</td>\n",
       "            <td>None</td>\n",
       "        </tr>\n",
       "        <tr>\n",
       "            <td>dataset</td>\n",
       "            <td>VARCHAR</td>\n",
       "            <td>YES</td>\n",
       "            <td>None</td>\n",
       "            <td>None</td>\n",
       "            <td>None</td>\n",
       "        </tr>\n",
       "        <tr>\n",
       "            <td>bbox</td>\n",
       "            <td>STRUCT(xmin DOUBLE, ymin DOUBLE, xmax DOUBLE, ymax DOUBLE)</td>\n",
       "            <td>YES</td>\n",
       "            <td>None</td>\n",
       "            <td>None</td>\n",
       "            <td>None</td>\n",
       "        </tr>\n",
       "        <tr>\n",
       "            <td>geometry</td>\n",
       "            <td>GEOMETRY</td>\n",
       "            <td>YES</td>\n",
       "            <td>None</td>\n",
       "            <td>None</td>\n",
       "            <td>None</td>\n",
       "        </tr>\n",
       "    </tbody>\n",
       "</table>"
      ],
      "text/plain": [
       "+---------------+------------------------------------------------------------+------+------+---------+-------+\n",
       "|  column_name  |                        column_type                         | null | key  | default | extra |\n",
       "+---------------+------------------------------------------------------------+------+------+---------+-------+\n",
       "|   unified_id  |                          VARCHAR                           |  NO  | PRI  |   None  |  None |\n",
       "|    area_m2    |                           DOUBLE                           | YES  | None |   None  |  None |\n",
       "| spheroid_area |                           DOUBLE                           | YES  | None |   None  |  None |\n",
       "|  centroid_lon |                           DOUBLE                           | YES  | None |   None  |  None |\n",
       "|  centroid_lat |                           DOUBLE                           | YES  | None |   None  |  None |\n",
       "|    dataset    |                          VARCHAR                           | YES  | None |   None  |  None |\n",
       "|      bbox     | STRUCT(xmin DOUBLE, ymin DOUBLE, xmax DOUBLE, ymax DOUBLE) | YES  | None |   None  |  None |\n",
       "|    geometry   |                          GEOMETRY                          | YES  | None |   None  |  None |\n",
       "+---------------+------------------------------------------------------------+------+------+---------+-------+"
      ]
     },
     "execution_count": 14,
     "metadata": {},
     "output_type": "execute_result"
    }
   ],
   "source": [
    "%sql DESCRIBE {{TABLE_NAME}};"
   ]
  },
  {
   "cell_type": "code",
   "execution_count": 15,
   "id": "a98cc66b",
   "metadata": {},
   "outputs": [
    {
     "data": {
      "text/html": [
       "<table>\n",
       "    <thead>\n",
       "        <tr>\n",
       "            <th>column_name</th>\n",
       "            <th>column_type</th>\n",
       "            <th>min</th>\n",
       "            <th>max</th>\n",
       "            <th>approx_unique</th>\n",
       "            <th>avg</th>\n",
       "            <th>std</th>\n",
       "            <th>q25</th>\n",
       "            <th>q50</th>\n",
       "            <th>q75</th>\n",
       "            <th>count</th>\n",
       "            <th>null_percentage</th>\n",
       "        </tr>\n",
       "    </thead>\n",
       "    <tbody>\n",
       "        <tr>\n",
       "            <td>unified_id</td>\n",
       "            <td>VARCHAR</td>\n",
       "            <td>0000ad8e6afd8cad1f3a0523b1509ba6b66f8e81914c59e7aab10289e2ae1f71</td>\n",
       "            <td>ffffd0e50863c4c62779a043605cf1ff771d15ad8507d2109cb03698051ea5e9</td>\n",
       "            <td>119454</td>\n",
       "            <td>None</td>\n",
       "            <td>None</td>\n",
       "            <td>None</td>\n",
       "            <td>None</td>\n",
       "            <td>None</td>\n",
       "            <td>139072</td>\n",
       "            <td>0.00</td>\n",
       "        </tr>\n",
       "        <tr>\n",
       "            <td>area_m2</td>\n",
       "            <td>DOUBLE</td>\n",
       "            <td>0.6082653935524063</td>\n",
       "            <td>223217987.27969462</td>\n",
       "            <td>169855</td>\n",
       "            <td>102237.58040226031</td>\n",
       "            <td>808857.2138459994</td>\n",
       "            <td>313.9898594923755</td>\n",
       "            <td>8912.192493036078</td>\n",
       "            <td>49233.474466144966</td>\n",
       "            <td>139072</td>\n",
       "            <td>0.00</td>\n",
       "        </tr>\n",
       "        <tr>\n",
       "            <td>centroid_lon</td>\n",
       "            <td>DOUBLE</td>\n",
       "            <td>-19806764.27368491</td>\n",
       "            <td>19721508.30052118</td>\n",
       "            <td>134095</td>\n",
       "            <td>1321475.0116429967</td>\n",
       "            <td>9213618.440565351</td>\n",
       "            <td>-505483.1987222961</td>\n",
       "            <td>914323.0116694306</td>\n",
       "            <td>10391584.883459086</td>\n",
       "            <td>139072</td>\n",
       "            <td>0.00</td>\n",
       "        </tr>\n",
       "        <tr>\n",
       "            <td>centroid_lat</td>\n",
       "            <td>DOUBLE</td>\n",
       "            <td>-7020177.611974957</td>\n",
       "            <td>10989453.180153754</td>\n",
       "            <td>116753</td>\n",
       "            <td>5053782.286773338</td>\n",
       "            <td>1541325.7505112027</td>\n",
       "            <td>4313596.307973344</td>\n",
       "            <td>4761056.93287644</td>\n",
       "            <td>6551930.628286237</td>\n",
       "            <td>139072</td>\n",
       "            <td>0.00</td>\n",
       "        </tr>\n",
       "        <tr>\n",
       "            <td>dataset</td>\n",
       "            <td>VARCHAR</td>\n",
       "            <td>global_harmonized_large_solar_farms_2020_processed</td>\n",
       "            <td>usa_cali_usgs_pv_2016_processed</td>\n",
       "            <td>5</td>\n",
       "            <td>None</td>\n",
       "            <td>None</td>\n",
       "            <td>None</td>\n",
       "            <td>None</td>\n",
       "            <td>None</td>\n",
       "            <td>139072</td>\n",
       "            <td>0.00</td>\n",
       "        </tr>\n",
       "        <tr>\n",
       "            <td>bbox</td>\n",
       "            <td>STRUCT(xmin DOUBLE, ymin DOUBLE, xmax DOUBLE, ymax DOUBLE)</td>\n",
       "            <td>{'xmin': -177.9273756, 'ymin': -29.246623199999867, 'xmax': -177.92700560000003, 'ymax': -29.24640639999987}</td>\n",
       "            <td>{'xmin': 177.16123350000007, 'ymin': -17.758097499999945, 'xmax': 177.16141310000003, 'ymax': -17.75767009999994}</td>\n",
       "            <td>123746</td>\n",
       "            <td>None</td>\n",
       "            <td>None</td>\n",
       "            <td>None</td>\n",
       "            <td>None</td>\n",
       "            <td>None</td>\n",
       "            <td>139072</td>\n",
       "            <td>0.00</td>\n",
       "        </tr>\n",
       "    </tbody>\n",
       "</table>"
      ],
      "text/plain": [
       "+--------------+------------------------------------------------------------+--------------------------------------------------------------------------------------------------------------+-------------------------------------------------------------------------------------------------------------------+---------------+--------------------+--------------------+--------------------+-------------------+--------------------+--------+-----------------+\n",
       "| column_name  |                        column_type                         |                                                     min                                                      |                                                        max                                                        | approx_unique |        avg         |        std         |        q25         |        q50        |        q75         | count  | null_percentage |\n",
       "+--------------+------------------------------------------------------------+--------------------------------------------------------------------------------------------------------------+-------------------------------------------------------------------------------------------------------------------+---------------+--------------------+--------------------+--------------------+-------------------+--------------------+--------+-----------------+\n",
       "|  unified_id  |                          VARCHAR                           |                       0000ad8e6afd8cad1f3a0523b1509ba6b66f8e81914c59e7aab10289e2ae1f71                       |                          ffffd0e50863c4c62779a043605cf1ff771d15ad8507d2109cb03698051ea5e9                         |     119454    |        None        |        None        |        None        |        None       |        None        | 139072 |       0.00      |\n",
       "|   area_m2    |                           DOUBLE                           |                                              0.6082653935524063                                              |                                                 223217987.27969462                                                |     169855    | 102237.58040226031 | 808857.2138459994  | 313.9898594923755  | 8912.192493036078 | 49233.474466144966 | 139072 |       0.00      |\n",
       "| centroid_lon |                           DOUBLE                           |                                              -19806764.27368491                                              |                                                 19721508.30052118                                                 |     134095    | 1321475.0116429967 | 9213618.440565351  | -505483.1987222961 | 914323.0116694306 | 10391584.883459086 | 139072 |       0.00      |\n",
       "| centroid_lat |                           DOUBLE                           |                                              -7020177.611974957                                              |                                                 10989453.180153754                                                |     116753    | 5053782.286773338  | 1541325.7505112027 | 4313596.307973344  |  4761056.93287644 | 6551930.628286237  | 139072 |       0.00      |\n",
       "|   dataset    |                          VARCHAR                           |                              global_harmonized_large_solar_farms_2020_processed                              |                                          usa_cali_usgs_pv_2016_processed                                          |       5       |        None        |        None        |        None        |        None       |        None        | 139072 |       0.00      |\n",
       "|     bbox     | STRUCT(xmin DOUBLE, ymin DOUBLE, xmax DOUBLE, ymax DOUBLE) | {'xmin': -177.9273756, 'ymin': -29.246623199999867, 'xmax': -177.92700560000003, 'ymax': -29.24640639999987} | {'xmin': 177.16123350000007, 'ymin': -17.758097499999945, 'xmax': 177.16141310000003, 'ymax': -17.75767009999994} |     123746    |        None        |        None        |        None        |        None       |        None        | 139072 |       0.00      |\n",
       "+--------------+------------------------------------------------------------+--------------------------------------------------------------------------------------------------------------+-------------------------------------------------------------------------------------------------------------------+---------------+--------------------+--------------------+--------------------+-------------------+--------------------+--------+-----------------+"
      ]
     },
     "execution_count": 15,
     "metadata": {},
     "output_type": "execute_result"
    }
   ],
   "source": [
    "%sql SUMMARIZE SELECT unified_id, area_m2, centroid_lon, centroid_lat, dataset, bbox FROM {{TABLE_NAME}}"
   ]
  },
  {
   "cell_type": "code",
   "execution_count": 16,
   "id": "32b0860b",
   "metadata": {},
   "outputs": [
    {
     "name": "stdout",
     "output_type": "stream",
     "text": [
      "CPU times: user 338 ms, sys: 72.5 ms, total: 410 ms\n",
      "Wall time: 306 ms\n",
      "Loaded 139072 geometries from datasets/prepared/labels/geoparquet/global_consolidated_pv.geoparquet\n",
      "Combined 5 datasets into one gdf with 139072 rows and 8 columns.\n",
      "Combined gdf has the following columns:\n",
      "['unified_id', 'area_m2', 'spheroid_area', 'centroid_lon', 'centroid_lat', 'dataset', 'bbox', 'geometry']\n"
     ]
    },
    {
     "data": {
      "application/vnd.microsoft.datawrangler.viewer.v0+json": {
       "columns": [
        {
         "name": "index",
         "rawType": "object",
         "type": "string"
        },
        {
         "name": "area_m2",
         "rawType": "float64",
         "type": "float"
        },
        {
         "name": "spheroid_area",
         "rawType": "float64",
         "type": "float"
        },
        {
         "name": "centroid_lon",
         "rawType": "float64",
         "type": "float"
        },
        {
         "name": "centroid_lat",
         "rawType": "float64",
         "type": "float"
        }
       ],
       "ref": "b578866e-3e86-4cc3-9eaa-3a76eeebae36",
       "rows": [
        [
         "count",
         "139072.0",
         "139072.0",
         "139072.0",
         "139072.0"
        ],
        [
         "mean",
         "102237.58040226084",
         "27417.45491603494",
         "1321475.0116430002",
         "5053782.286773332"
        ],
        [
         "std",
         "808857.2138460065",
         "185524.10696570162",
         "9213618.440565387",
         "1541325.7505112053"
        ],
        [
         "min",
         "0.6082653935524063",
         "-1.0",
         "-19806764.27368491",
         "-7020177.611974957"
        ],
        [
         "25%",
         "305.4242222417334",
         "-1.0",
         "-500621.45998593484",
         "4315857.919481646"
        ],
        [
         "50%",
         "8863.07119070841",
         "65.5004716218973",
         "926440.1025473822",
         "4760052.440556958"
        ],
        [
         "75%",
         "48983.953376801",
         "12088.905692106695",
         "10911618.71705329",
         "6560012.027957464"
        ],
        [
         "max",
         "223217987.27969462",
         "34136543.349179275",
         "19721508.30052118",
         "10989453.180153754"
        ]
       ],
       "shape": {
        "columns": 4,
        "rows": 8
       }
      },
      "text/html": [
       "<div>\n",
       "<style scoped>\n",
       "    .dataframe tbody tr th:only-of-type {\n",
       "        vertical-align: middle;\n",
       "    }\n",
       "\n",
       "    .dataframe tbody tr th {\n",
       "        vertical-align: top;\n",
       "    }\n",
       "\n",
       "    .dataframe thead th {\n",
       "        text-align: right;\n",
       "    }\n",
       "</style>\n",
       "<table border=\"1\" class=\"dataframe\">\n",
       "  <thead>\n",
       "    <tr style=\"text-align: right;\">\n",
       "      <th></th>\n",
       "      <th>area_m2</th>\n",
       "      <th>spheroid_area</th>\n",
       "      <th>centroid_lon</th>\n",
       "      <th>centroid_lat</th>\n",
       "    </tr>\n",
       "  </thead>\n",
       "  <tbody>\n",
       "    <tr>\n",
       "      <th>count</th>\n",
       "      <td>1.390720e+05</td>\n",
       "      <td>1.390720e+05</td>\n",
       "      <td>1.390720e+05</td>\n",
       "      <td>1.390720e+05</td>\n",
       "    </tr>\n",
       "    <tr>\n",
       "      <th>mean</th>\n",
       "      <td>1.022376e+05</td>\n",
       "      <td>2.741745e+04</td>\n",
       "      <td>1.321475e+06</td>\n",
       "      <td>5.053782e+06</td>\n",
       "    </tr>\n",
       "    <tr>\n",
       "      <th>std</th>\n",
       "      <td>8.088572e+05</td>\n",
       "      <td>1.855241e+05</td>\n",
       "      <td>9.213618e+06</td>\n",
       "      <td>1.541326e+06</td>\n",
       "    </tr>\n",
       "    <tr>\n",
       "      <th>min</th>\n",
       "      <td>6.082654e-01</td>\n",
       "      <td>-1.000000e+00</td>\n",
       "      <td>-1.980676e+07</td>\n",
       "      <td>-7.020178e+06</td>\n",
       "    </tr>\n",
       "    <tr>\n",
       "      <th>25%</th>\n",
       "      <td>3.054242e+02</td>\n",
       "      <td>-1.000000e+00</td>\n",
       "      <td>-5.006215e+05</td>\n",
       "      <td>4.315858e+06</td>\n",
       "    </tr>\n",
       "    <tr>\n",
       "      <th>50%</th>\n",
       "      <td>8.863071e+03</td>\n",
       "      <td>6.550047e+01</td>\n",
       "      <td>9.264401e+05</td>\n",
       "      <td>4.760052e+06</td>\n",
       "    </tr>\n",
       "    <tr>\n",
       "      <th>75%</th>\n",
       "      <td>4.898395e+04</td>\n",
       "      <td>1.208891e+04</td>\n",
       "      <td>1.091162e+07</td>\n",
       "      <td>6.560012e+06</td>\n",
       "    </tr>\n",
       "    <tr>\n",
       "      <th>max</th>\n",
       "      <td>2.232180e+08</td>\n",
       "      <td>3.413654e+07</td>\n",
       "      <td>1.972151e+07</td>\n",
       "      <td>1.098945e+07</td>\n",
       "    </tr>\n",
       "  </tbody>\n",
       "</table>\n",
       "</div>"
      ],
      "text/plain": [
       "            area_m2  spheroid_area  centroid_lon  centroid_lat\n",
       "count  1.390720e+05   1.390720e+05  1.390720e+05  1.390720e+05\n",
       "mean   1.022376e+05   2.741745e+04  1.321475e+06  5.053782e+06\n",
       "std    8.088572e+05   1.855241e+05  9.213618e+06  1.541326e+06\n",
       "min    6.082654e-01  -1.000000e+00 -1.980676e+07 -7.020178e+06\n",
       "25%    3.054242e+02  -1.000000e+00 -5.006215e+05  4.315858e+06\n",
       "50%    8.863071e+03   6.550047e+01  9.264401e+05  4.760052e+06\n",
       "75%    4.898395e+04   1.208891e+04  1.091162e+07  6.560012e+06\n",
       "max    2.232180e+08   3.413654e+07  1.972151e+07  1.098945e+07"
      ]
     },
     "metadata": {},
     "output_type": "display_data"
    },
    {
     "data": {
      "text/html": [
       "<div>\n",
       "<style scoped>\n",
       "    .dataframe tbody tr th:only-of-type {\n",
       "        vertical-align: middle;\n",
       "    }\n",
       "\n",
       "    .dataframe tbody tr th {\n",
       "        vertical-align: top;\n",
       "    }\n",
       "\n",
       "    .dataframe thead th {\n",
       "        text-align: right;\n",
       "    }\n",
       "</style>\n",
       "<table border=\"1\" class=\"dataframe\">\n",
       "  <thead>\n",
       "    <tr style=\"text-align: right;\">\n",
       "      <th></th>\n",
       "      <th>unified_id</th>\n",
       "      <th>area_m2</th>\n",
       "      <th>spheroid_area</th>\n",
       "      <th>centroid_lon</th>\n",
       "      <th>centroid_lat</th>\n",
       "      <th>dataset</th>\n",
       "      <th>bbox</th>\n",
       "      <th>geometry</th>\n",
       "    </tr>\n",
       "  </thead>\n",
       "  <tbody>\n",
       "    <tr>\n",
       "      <th>118586</th>\n",
       "      <td>3d26cc8119e1e8b099c22c8f473bf4abe52058b4770f4f...</td>\n",
       "      <td>8974.443514</td>\n",
       "      <td>5665.522069</td>\n",
       "      <td>-5.514754e+05</td>\n",
       "      <td>6.510060e+06</td>\n",
       "      <td>uk_crowdsourced_pv_2020_processed</td>\n",
       "      <td>{'xmin': -4.9542466, 'ymin': 50.3662355, 'xmax...</td>\n",
       "      <td>POLYGON ((-4.95425 50.36754, -4.95408 50.36624...</td>\n",
       "    </tr>\n",
       "    <tr>\n",
       "      <th>19498</th>\n",
       "      <td>90b482a7a771a88b0c9ffdfe9aa7154421b618cfd83a6e...</td>\n",
       "      <td>63.379206</td>\n",
       "      <td>-1.000000</td>\n",
       "      <td>-1.343588e+07</td>\n",
       "      <td>4.229493e+06</td>\n",
       "      <td>global_harmonized_large_solar_farms_2020_proce...</td>\n",
       "      <td>{'xmin': -120.7003058, 'ymin': 35.480272399999...</td>\n",
       "      <td>MULTIPOLYGON (((-120.69345 35.48028, -120.6934...</td>\n",
       "    </tr>\n",
       "    <tr>\n",
       "      <th>54678</th>\n",
       "      <td>6bb5a563dabc4f770648ebe2c97b421bac932fb7c88a16...</td>\n",
       "      <td>34013.310554</td>\n",
       "      <td>21451.312239</td>\n",
       "      <td>7.389737e+05</td>\n",
       "      <td>6.494140e+06</td>\n",
       "      <td>global_pv_inventory_sent2_spot_2021_processed</td>\n",
       "      <td>{'xmin': 6.637388901369722, 'ymin': 50.2750153...</td>\n",
       "      <td>POLYGON ((6.63858 50.27503, 6.63872 50.27512, ...</td>\n",
       "    </tr>\n",
       "  </tbody>\n",
       "</table>\n",
       "</div>"
      ],
      "text/plain": [
       "                                               unified_id       area_m2  \\\n",
       "118586  3d26cc8119e1e8b099c22c8f473bf4abe52058b4770f4f...   8974.443514   \n",
       "19498   90b482a7a771a88b0c9ffdfe9aa7154421b618cfd83a6e...     63.379206   \n",
       "54678   6bb5a563dabc4f770648ebe2c97b421bac932fb7c88a16...  34013.310554   \n",
       "\n",
       "        spheroid_area  centroid_lon  centroid_lat  \\\n",
       "118586    5665.522069 -5.514754e+05  6.510060e+06   \n",
       "19498       -1.000000 -1.343588e+07  4.229493e+06   \n",
       "54678    21451.312239  7.389737e+05  6.494140e+06   \n",
       "\n",
       "                                                  dataset  \\\n",
       "118586                  uk_crowdsourced_pv_2020_processed   \n",
       "19498   global_harmonized_large_solar_farms_2020_proce...   \n",
       "54678       global_pv_inventory_sent2_spot_2021_processed   \n",
       "\n",
       "                                                     bbox  \\\n",
       "118586  {'xmin': -4.9542466, 'ymin': 50.3662355, 'xmax...   \n",
       "19498   {'xmin': -120.7003058, 'ymin': 35.480272399999...   \n",
       "54678   {'xmin': 6.637388901369722, 'ymin': 50.2750153...   \n",
       "\n",
       "                                                 geometry  \n",
       "118586  POLYGON ((-4.95425 50.36754, -4.95408 50.36624...  \n",
       "19498   MULTIPOLYGON (((-120.69345 35.48028, -120.6934...  \n",
       "54678   POLYGON ((6.63858 50.27503, 6.63872 50.27512, ...  "
      ]
     },
     "metadata": {},
     "output_type": "display_data"
    }
   ],
   "source": [
    "# load the consolidated geoparquet file into a geopandas for visualization\n",
    "%time ds_gdf = gpd.read_parquet(out_consolidated_parquet)\n",
    "print(f\"Loaded {len(ds_gdf)} geometries from {out_consolidated_parquet}\")\n",
    "# display some stats about our raw combined gdf\n",
    "print(f\"Combined {len(gdfs)} datasets into one gdf with {len(ds_gdf)} rows and {len(ds_gdf.columns)} columns.\")\n",
    "print(f\"Combined gdf has the following columns:\\n{list(ds_gdf.columns)}\")\n",
    "display(ds_gdf.describe())\n",
    "display(ds_gdf.sample(3))"
   ]
  },
  {
   "cell_type": "markdown",
   "id": "71dd6230",
   "metadata": {},
   "source": [
    "## Spatial Deduplication with GeoPandas and Spatial Indexing\n",
    "<!-- We will use the `h3` library to perform spatial clustering of neighboring PV panels with our H3 grid, and perform local deduplication of the PV panels in `duckdb` using [spatial functions](https://duckdb.org/docs/stable/extensions/spatial/functions.html). -->\n",
    "\n",
    "<!-- We will compare the performance of the former approach with our initial approach using `geopandas` and their [spatial index](https://geopandas.org/en/stable/docs/reference/sindex.html) methods and spatial predicates. -->"
   ]
  },
  {
   "cell_type": "code",
   "execution_count": 17,
   "id": "8e52b66e",
   "metadata": {},
   "outputs": [
    {
     "name": "stdout",
     "output_type": "stream",
     "text": [
      "Filtering 139072 geometries for duplicates and overlaps\n",
      "Removed 16648 geometries with >50.0% overlap\n",
      "After filtering and cleaning, we have 122424 PV installations\n"
     ]
    },
    {
     "data": {
      "application/vnd.microsoft.datawrangler.viewer.v0+json": {
       "columns": [
        {
         "name": "index",
         "rawType": "object",
         "type": "string"
        },
        {
         "name": "area_m2",
         "rawType": "float64",
         "type": "float"
        },
        {
         "name": "spheroid_area",
         "rawType": "float64",
         "type": "float"
        },
        {
         "name": "centroid_lon",
         "rawType": "float64",
         "type": "float"
        },
        {
         "name": "centroid_lat",
         "rawType": "float64",
         "type": "float"
        }
       ],
       "ref": "f28401b7-0677-4b21-89e8-40badc15818f",
       "rows": [
        [
         "count",
         "122424.0",
         "122424.0",
         "122424.0",
         "122424.0"
        ],
        [
         "mean",
         "68570.512796862",
         "14902.7306053127",
         "1304954.6042871946",
         "5009331.772106219"
        ],
        [
         "std",
         "354442.8381384981",
         "80642.32039343956",
         "9614465.1113747",
         "1509433.8154593746"
        ],
        [
         "min",
         "0.6082653935524063",
         "-1.0",
         "-19806764.27368491",
         "-7020177.611974957"
        ],
        [
         "25%",
         "171.73752541117932",
         "-1.0",
         "-909941.4427429263",
         "4285091.697699452"
        ],
        [
         "50%",
         "5697.629579227527",
         "18.45139390289114",
         "808590.0846279964",
         "4622549.498183781"
        ],
        [
         "75%",
         "33383.33737721958",
         "4137.70809951378",
         "12286840.616999794",
         "6511864.424687061"
        ],
        [
         "max",
         "22331584.412059385",
         "5516814.955519341",
         "19721508.30052118",
         "10989453.180153754"
        ]
       ],
       "shape": {
        "columns": 4,
        "rows": 8
       }
      },
      "text/html": [
       "<div>\n",
       "<style scoped>\n",
       "    .dataframe tbody tr th:only-of-type {\n",
       "        vertical-align: middle;\n",
       "    }\n",
       "\n",
       "    .dataframe tbody tr th {\n",
       "        vertical-align: top;\n",
       "    }\n",
       "\n",
       "    .dataframe thead th {\n",
       "        text-align: right;\n",
       "    }\n",
       "</style>\n",
       "<table border=\"1\" class=\"dataframe\">\n",
       "  <thead>\n",
       "    <tr style=\"text-align: right;\">\n",
       "      <th></th>\n",
       "      <th>area_m2</th>\n",
       "      <th>spheroid_area</th>\n",
       "      <th>centroid_lon</th>\n",
       "      <th>centroid_lat</th>\n",
       "    </tr>\n",
       "  </thead>\n",
       "  <tbody>\n",
       "    <tr>\n",
       "      <th>count</th>\n",
       "      <td>1.224240e+05</td>\n",
       "      <td>1.224240e+05</td>\n",
       "      <td>1.224240e+05</td>\n",
       "      <td>1.224240e+05</td>\n",
       "    </tr>\n",
       "    <tr>\n",
       "      <th>mean</th>\n",
       "      <td>6.857051e+04</td>\n",
       "      <td>1.490273e+04</td>\n",
       "      <td>1.304955e+06</td>\n",
       "      <td>5.009332e+06</td>\n",
       "    </tr>\n",
       "    <tr>\n",
       "      <th>std</th>\n",
       "      <td>3.544428e+05</td>\n",
       "      <td>8.064232e+04</td>\n",
       "      <td>9.614465e+06</td>\n",
       "      <td>1.509434e+06</td>\n",
       "    </tr>\n",
       "    <tr>\n",
       "      <th>min</th>\n",
       "      <td>6.082654e-01</td>\n",
       "      <td>-1.000000e+00</td>\n",
       "      <td>-1.980676e+07</td>\n",
       "      <td>-7.020178e+06</td>\n",
       "    </tr>\n",
       "    <tr>\n",
       "      <th>25%</th>\n",
       "      <td>1.717375e+02</td>\n",
       "      <td>-1.000000e+00</td>\n",
       "      <td>-9.099414e+05</td>\n",
       "      <td>4.285092e+06</td>\n",
       "    </tr>\n",
       "    <tr>\n",
       "      <th>50%</th>\n",
       "      <td>5.697630e+03</td>\n",
       "      <td>1.845139e+01</td>\n",
       "      <td>8.085901e+05</td>\n",
       "      <td>4.622549e+06</td>\n",
       "    </tr>\n",
       "    <tr>\n",
       "      <th>75%</th>\n",
       "      <td>3.338334e+04</td>\n",
       "      <td>4.137708e+03</td>\n",
       "      <td>1.228684e+07</td>\n",
       "      <td>6.511864e+06</td>\n",
       "    </tr>\n",
       "    <tr>\n",
       "      <th>max</th>\n",
       "      <td>2.233158e+07</td>\n",
       "      <td>5.516815e+06</td>\n",
       "      <td>1.972151e+07</td>\n",
       "      <td>1.098945e+07</td>\n",
       "    </tr>\n",
       "  </tbody>\n",
       "</table>\n",
       "</div>"
      ],
      "text/plain": [
       "            area_m2  spheroid_area  centroid_lon  centroid_lat\n",
       "count  1.224240e+05   1.224240e+05  1.224240e+05  1.224240e+05\n",
       "mean   6.857051e+04   1.490273e+04  1.304955e+06  5.009332e+06\n",
       "std    3.544428e+05   8.064232e+04  9.614465e+06  1.509434e+06\n",
       "min    6.082654e-01  -1.000000e+00 -1.980676e+07 -7.020178e+06\n",
       "25%    1.717375e+02  -1.000000e+00 -9.099414e+05  4.285092e+06\n",
       "50%    5.697630e+03   1.845139e+01  8.085901e+05  4.622549e+06\n",
       "75%    3.338334e+04   4.137708e+03  1.228684e+07  6.511864e+06\n",
       "max    2.233158e+07   5.516815e+06  1.972151e+07  1.098945e+07"
      ]
     },
     "metadata": {},
     "output_type": "display_data"
    },
    {
     "data": {
      "text/html": [
       "<div>\n",
       "<style scoped>\n",
       "    .dataframe tbody tr th:only-of-type {\n",
       "        vertical-align: middle;\n",
       "    }\n",
       "\n",
       "    .dataframe tbody tr th {\n",
       "        vertical-align: top;\n",
       "    }\n",
       "\n",
       "    .dataframe thead th {\n",
       "        text-align: right;\n",
       "    }\n",
       "</style>\n",
       "<table border=\"1\" class=\"dataframe\">\n",
       "  <thead>\n",
       "    <tr style=\"text-align: right;\">\n",
       "      <th></th>\n",
       "      <th>unified_id</th>\n",
       "      <th>area_m2</th>\n",
       "      <th>spheroid_area</th>\n",
       "      <th>centroid_lon</th>\n",
       "      <th>centroid_lat</th>\n",
       "      <th>dataset</th>\n",
       "      <th>bbox</th>\n",
       "      <th>geometry</th>\n",
       "    </tr>\n",
       "  </thead>\n",
       "  <tbody>\n",
       "    <tr>\n",
       "      <th>91878</th>\n",
       "      <td>f17cd0e17161750355f3a084d07f448bd295ed20941ee2...</td>\n",
       "      <td>15149.366033</td>\n",
       "      <td>-1.000000</td>\n",
       "      <td>1.592920e+07</td>\n",
       "      <td>5.289044e+06</td>\n",
       "      <td>global_pv_inventory_sent2_spot_2021_processed</td>\n",
       "      <td>{'xmin': 143.09374797907176, 'ymin': 42.848756...</td>\n",
       "      <td>POLYGON ((143.09474 42.84876, 143.09514 42.849...</td>\n",
       "    </tr>\n",
       "    <tr>\n",
       "      <th>87964</th>\n",
       "      <td>6b480997d5b749b0731019f7ad27816bb6751334be79d2...</td>\n",
       "      <td>3423.434354</td>\n",
       "      <td>-1.000000</td>\n",
       "      <td>1.521806e+07</td>\n",
       "      <td>4.199129e+06</td>\n",
       "      <td>global_pv_inventory_sent2_spot_2021_processed</td>\n",
       "      <td>{'xmin': 136.70588851487312, 'ymin': 35.258702...</td>\n",
       "      <td>POLYGON ((136.70589 35.25902, 136.7059 35.2589...</td>\n",
       "    </tr>\n",
       "    <tr>\n",
       "      <th>91327</th>\n",
       "      <td>a6d04c31b50860d209bc848efba51582f3e6a7da4ec0da...</td>\n",
       "      <td>49093.525807</td>\n",
       "      <td>30755.619936</td>\n",
       "      <td>4.321754e+05</td>\n",
       "      <td>6.585021e+06</td>\n",
       "      <td>global_pv_inventory_sent2_spot_2021_processed</td>\n",
       "      <td>{'xmin': 3.881227060165673, 'ymin': 50.7938122...</td>\n",
       "      <td>POLYGON ((3.88295 50.79381, 3.88341 50.7941, 3...</td>\n",
       "    </tr>\n",
       "  </tbody>\n",
       "</table>\n",
       "</div>"
      ],
      "text/plain": [
       "                                              unified_id       area_m2  \\\n",
       "91878  f17cd0e17161750355f3a084d07f448bd295ed20941ee2...  15149.366033   \n",
       "87964  6b480997d5b749b0731019f7ad27816bb6751334be79d2...   3423.434354   \n",
       "91327  a6d04c31b50860d209bc848efba51582f3e6a7da4ec0da...  49093.525807   \n",
       "\n",
       "       spheroid_area  centroid_lon  centroid_lat  \\\n",
       "91878      -1.000000  1.592920e+07  5.289044e+06   \n",
       "87964      -1.000000  1.521806e+07  4.199129e+06   \n",
       "91327   30755.619936  4.321754e+05  6.585021e+06   \n",
       "\n",
       "                                             dataset  \\\n",
       "91878  global_pv_inventory_sent2_spot_2021_processed   \n",
       "87964  global_pv_inventory_sent2_spot_2021_processed   \n",
       "91327  global_pv_inventory_sent2_spot_2021_processed   \n",
       "\n",
       "                                                    bbox  \\\n",
       "91878  {'xmin': 143.09374797907176, 'ymin': 42.848756...   \n",
       "87964  {'xmin': 136.70588851487312, 'ymin': 35.258702...   \n",
       "91327  {'xmin': 3.881227060165673, 'ymin': 50.7938122...   \n",
       "\n",
       "                                                geometry  \n",
       "91878  POLYGON ((143.09474 42.84876, 143.09514 42.849...  \n",
       "87964  POLYGON ((136.70589 35.25902, 136.7059 35.2589...  \n",
       "91327  POLYGON ((3.88295 50.79381, 3.88341 50.7941, 3...  "
      ]
     },
     "metadata": {},
     "output_type": "display_data"
    },
    {
     "name": "stdout",
     "output_type": "stream",
     "text": [
      "Removed datasets/prepared/labels/geoparquet/global_consolidated_pv.geoparquet to save space\n",
      "CPU times: user 14.1 s, sys: 151 ms, total: 14.2 s\n",
      "Wall time: 14.4 s\n"
     ]
    }
   ],
   "source": [
    "%%time\n",
    "# perform geopandas dedup and check size again\n",
    "pd.set_option('display.max_rows', 10)  # Number of rows per page\n",
    "ds_gdf = filter_gdf_duplicates(ds_gdf)\n",
    "print(f\"After filtering and cleaning, we have {len(ds_gdf)} PV installations\")\n",
    "display(ds_gdf.describe())\n",
    "display(ds_gdf.sample(3))\n",
    "# save the consolidated geoparquet file in our prepared directory\n",
    "consolidated_dedup_parquet = DATASET_DIR / 'prepared' / 'labels' / 'geoparquet' / 'global_consolidated_pv_dedup.geoparquet'\n",
    "# drop existing bbox column to recalculate with reduced geometries\n",
    "if 'bbox' in ds_gdf.columns:\n",
    "    ds_gdf = ds_gdf.drop(columns=['bbox'])\n",
    "# save the processed geoparquet file\n",
    "ds_gdf.to_parquet(consolidated_dedup_parquet, \n",
    "    index=None, \n",
    "    compression='zstd',\n",
    "    # geometry_encoding='geoarrow', \n",
    "    write_covering_bbox=True,\n",
    "    schema_version='1.1.0')\n",
    "# remove our non-deduped geoparquet file\n",
    "if os.path.exists(out_consolidated_parquet):\n",
    "    os.remove(out_consolidated_parquet)\n",
    "    print(f\"Removed {out_consolidated_parquet} to save space\")"
   ]
  },
  {
   "cell_type": "code",
   "execution_count": 18,
   "id": "de1b0373",
   "metadata": {},
   "outputs": [
    {
     "name": "stdout",
     "output_type": "stream",
     "text": [
      "Unique geometry types in the dataset: ['Polygon' 'MultiPolygon']\n",
      "Count of Point geometries: 0\n",
      "Count of Polygon geometries: 113094\n",
      "Count of MultiPoint geometries: 0\n",
      "Count of MultiPolygon geometries: 9330\n"
     ]
    }
   ],
   "source": [
    "# display unique geometry types in our gdf\n",
    "print(f\"Unique geometry types in the dataset: {ds_gdf['geometry'].apply(lambda x: x.geom_type).unique()}\")\n",
    "# print sample of geoms that are points\n",
    "print(f\"Count of Point geometries: {len(ds_gdf[ds_gdf['geometry'].geom_type == 'Point'])}\")\n",
    "print(f\"Count of Polygon geometries: {len(ds_gdf[ds_gdf['geometry'].geom_type == 'Polygon'])}\")\n",
    "print(f\"Count of MultiPoint geometries: {len(ds_gdf[ds_gdf['geometry'].geom_type == 'MultiPoint'])}\")\n",
    "print(f\"Count of MultiPolygon geometries: {len(ds_gdf[ds_gdf['geometry'].geom_type == 'MultiPolygon'])}\")"
   ]
  },
  {
   "cell_type": "markdown",
   "id": "a5f01ce6",
   "metadata": {},
   "source": [
    "# Visualization Functions for PV Data\n",
    "\n",
    "After processing the datasets into standardized geoparquet format, we'll use the following visualization libraries to explore and present the data:\n",
    "\n",
    "- **Folium**: For interactive web maps with various basemaps and markers\n",
    "- **Pydeck**: For high-performance 3D and large-scale visualizations\n",
    "- **Lonboard**: For GPU-accelerated geospatial visualization of large datasets\n",
    "\n",
    "Each library has specific strengths that we'll leverage for different visualization needs."
   ]
  },
  {
   "cell_type": "code",
   "execution_count": 19,
   "id": "d6a547fa-257b-4f35-aa9f-6434022a61ce",
   "metadata": {},
   "outputs": [],
   "source": [
    "# source gdf for visualization directly from db in cases where ds_gdf is deleted further below\n",
    "viz_gdf = conn.sql(f\"\"\"\n",
    "SELECT unified_id, dataset, area_m2, centroid_lon, centroid_lat, bbox, ST_AsText(geometry) AS geometry\n",
    "FROM {TABLE_NAME}\"\"\").df()\n",
    "viz_gdf = gpd.GeoDataFrame(viz_gdf, geometry=viz_gdf['geometry'].apply(wkt.loads), crs=\"EPSG:4326\")"
   ]
  },
  {
   "cell_type": "markdown",
   "id": "ddf64feb",
   "metadata": {},
   "source": [
    "## Folium Visualization Functions\n",
    "\n",
    "Folium is excellent for creating interactive web maps with various basemaps and markers. It's particularly useful for visualizing geographic distributions and creating choropleth maps."
   ]
  },
  {
   "cell_type": "code",
   "execution_count": 20,
   "id": "93f7991d",
   "metadata": {},
   "outputs": [],
   "source": [
    "# helper function for creating a \"Show Map\" and \"Clear Output\" button with dedicated output area\n",
    "def create_map_buttons(map_object):\n",
    "    # Create taller buttons with custom styling\n",
    "    button_layout = widgets.Layout(\n",
    "        height='40px',\n",
    "        width='150px',\n",
    "        margin_left='2em',\n",
    "        margin_right='2em',\n",
    "        display='flex',\n",
    "        align_items='center',\n",
    "        justify_content='center'\n",
    "    )\n",
    "    \n",
    "    # Create an output widget for the map\n",
    "    output_area = widgets.Output(\n",
    "        layout=widgets.Layout(\n",
    "            height='600px',\n",
    "            border='2px solid #ddd',\n",
    "            overflow='auto'\n",
    "        )\n",
    "    )\n",
    "    \n",
    "    show_map_button = widgets.Button(description=\"Show Map\", button_style='info', layout=button_layout)\n",
    "    clear_output_button = widgets.Button(description=\"Clear Output\", button_style='warning', layout=button_layout)\n",
    "\n",
    "    def on_show_map_clicked(b):\n",
    "        output_area.clear_output(wait=True)\n",
    "        with output_area:\n",
    "            display(map_object)\n",
    "    \n",
    "    def on_clear_output_clicked(b):\n",
    "        output_area.clear_output(wait=True)\n",
    "    \n",
    "    show_map_button.on_click(on_show_map_clicked)\n",
    "    clear_output_button.on_click(on_clear_output_clicked)\n",
    "    \n",
    "    # Return buttons and output area in a horizontal layout\n",
    "    controls = widgets.HBox([show_map_button, clear_output_button])\n",
    "    return widgets.VBox([controls, output_area])\n"
   ]
  },
  {
   "cell_type": "code",
   "execution_count": 21,
   "id": "1bafefdd",
   "metadata": {},
   "outputs": [
    {
     "data": {
      "application/vnd.jupyter.widget-view+json": {
       "model_id": "1e020100d30f48fd8cb297ee689ff228",
       "version_major": 2,
       "version_minor": 0
      },
      "text/plain": [
       "Output()"
      ]
     },
     "metadata": {},
     "output_type": "display_data"
    }
   ],
   "source": [
    "# filter to only rows without NaN for folium viz\n",
    "# ds_gdf = ds_gdf[ds_gdf['area_m2'].notna()]\n",
    "# Create Folium maps\n",
    "# re-project geometries to a projected CRS for visualization\n",
    "tmp_gdf = viz_gdf.to_crs(epsg=3857)\n",
    "\n",
    "render_button = widgets.Button(description=\"Render Map\", button_style='success', layout=Layout(width='auto'))\n",
    "render_out = widgets.Output()\n",
    "\n",
    "def cluster_map_on_click(b):\n",
    "    render_out.clear_output(wait=True)\n",
    "    with render_out:\n",
    "        # Create a Folium map with clustering\n",
    "        %time cluster_map = create_folium_cluster_map(tmp_gdf, title=f\"{TABLE_NAME} - Cluster Map\")\n",
    "        display(cluster_map)\n",
    "\n",
    "render_button.on_click(cluster_map_on_click)\n",
    "with render_out:\n",
    "    display(render_button)\n",
    "display(render_out)"
   ]
  },
  {
   "cell_type": "markdown",
   "id": "9d04e252",
   "metadata": {},
   "source": [
    "## PyDeck Visualization Functions\n",
    "\n",
    "PyDeck is excellent for high-performance 3D visualizations and handling large datasets. It's particularly useful for creating layered maps with multiple types of data."
   ]
  },
  {
   "cell_type": "code",
   "execution_count": 22,
   "id": "5195e2df",
   "metadata": {
    "scrolled": true
   },
   "outputs": [
    {
     "data": {
      "application/vnd.jupyter.widget-view+json": {
       "model_id": "2f65938f3d334eafb08c5b869cb8e887",
       "version_major": 2,
       "version_minor": 0
      },
      "text/plain": [
       "Output()"
      ]
     },
     "metadata": {},
     "output_type": "display_data"
    }
   ],
   "source": [
    "# hide pydeck warnings\n",
    "import warnings\n",
    "warnings.filterwarnings(\"ignore\", category=UserWarning, module=\"pydeck\")\n",
    "\n",
    "render_button = widgets.Button(description=\"Render Map\", button_style='success', layout=Layout(width='auto'))\n",
    "render_out = widgets.Output()\n",
    "\n",
    "def pdk_heatmap_on_click(b):\n",
    "    render_out.clear_output(wait=True)\n",
    "    with render_out:\n",
    "        pdk_heatmap = create_pydeck_heatmap(              \\\n",
    "        gdf=viz_gdf,\n",
    "        weight_column='area_m2',\n",
    "        radius_pixels=15,\n",
    "        intensity=1.55,\n",
    "        threshold=0.005,\n",
    "        aggregation='SUM', # SUM or MEAN\n",
    "        tooltip_cols=['dataset', 'area_m2'],\n",
    "        map_style='light',\n",
    "        initial_zoom=2\n",
    "        )\n",
    "        display(pdk_heatmap)\n",
    "\n",
    "render_button.on_click(pdk_heatmap_on_click)\n",
    "\n",
    "with render_out:\n",
    "    display(render_button)\n",
    "display(render_out)"
   ]
  },
  {
   "cell_type": "code",
   "execution_count": 23,
   "id": "f9b3ba0d",
   "metadata": {
    "scrolled": true
   },
   "outputs": [
    {
     "data": {
      "application/vnd.jupyter.widget-view+json": {
       "model_id": "951a340ed05d415aac56587685b80b29",
       "version_major": 2,
       "version_minor": 0
      },
      "text/plain": [
       "Output()"
      ]
     },
     "metadata": {},
     "output_type": "display_data"
    }
   ],
   "source": [
    "render_button = widgets.Button(description=\"Render Map\", button_style='success', layout=Layout(width='auto'))\n",
    "render_out = widgets.Output()\n",
    "\n",
    "def pdk_scatter_on_click(b):\n",
    "    render_out.clear_output(wait=True)\n",
    "    with render_out:\n",
    "        pdk_scatter = create_pydeck_scatterplot(\n",
    "            gdf=viz_gdf,\n",
    "            color_column='dataset',\n",
    "            size_column='area_m2',\n",
    "            size_scale=0.0001,\n",
    "            tooltip_cols=['dataset', 'area_m2'],\n",
    "            map_style='light',\n",
    "            initial_zoom=2\n",
    "        )\n",
    "        display(pdk_scatter)\n",
    "\n",
    "render_button.on_click(pdk_scatter_on_click)\n",
    "with render_out:\n",
    "    display(render_button)\n",
    "display(render_out)"
   ]
  },
  {
   "cell_type": "markdown",
   "id": "4343995f",
   "metadata": {},
   "source": [
    "# Fetching vector layers for Spatio-temporal context\n",
    "\n",
    "To better manage our *global* PV datasets for clustered STAC searches with grid traversal,.  \n",
    "We will also fetch some vector layers that enable us to organize the datasets by country, continent, and other relevant spatio-temporal context for our research.\n",
    "\n",
    "**NOTE**: Fetching Overture divisions locally (with no filters) will result in a **~6.4GB file**!;  \n",
    "There is a cell at the end of this notebook to optionally delete the saved duckdb table to save space."
   ]
  },
  {
   "cell_type": "markdown",
   "id": "45f92efd",
   "metadata": {},
   "source": [
    "## Overture Maps: Adding Geospatial Context to our data\n",
    "\n",
    "From their [Division theme guide](https://docs.overturemaps.org/guides/divisions/) and their [brief blog on the history of the project](https://overturemaps.org/blog/2025/overture-maps-foundation-making-open-data-the-winning-choice/):\n",
    "\n",
    "Overture Maps is a collaborative project that aims to create a high-quality, open map datasets for the entire world. The project is a collaboration between several organizations, including Meta, Amazon Web Services (AWS), and Microsoft. Overture distributes its open datasets as GeoParquet files (see above), and can be accessed through the Overture Maps CLI, API or downloaded directly from [their S3](https://docs.overturemaps.org/guides/divisions/#data-access-and-retrieval) buckets"
   ]
  },
  {
   "cell_type": "code",
   "execution_count": 24,
   "id": "765b666d",
   "metadata": {},
   "outputs": [],
   "source": [
    "with open(\"spatio-temporal_metadata.json\", \"r\") as file:\n",
    "    st_metadata = json.load(file)\n",
    "\n",
    "OVERTURE_DIVISION_AREA_S3 = st_metadata[\"overture_divisions_area\"][\"s3_path\"]\n",
    "OVERTURE_LAND_COVER_S3 = st_metadata[\"overture_base_land_cover\"][\"s3_path\"]\n",
    "\n",
    "# --- Step 1: Fetch Overture base and division maps into a DuckDB table for use with our labels ---"
   ]
  },
  {
   "cell_type": "markdown",
   "id": "6bba6403",
   "metadata": {},
   "source": [
    "### Overture Maps Divisions\n",
    "\n",
    "From their [Division Overview page](https://docs.overturemaps.org/guides/divisions/#overview):\n",
    "\n",
    "The Overture divisions theme has three feature types: division, **division_area**, and division_boundary.\n",
    "\n",
    "There are more than 5.45 million point, line, and polygon representations of human settlements, such as countries, regions, states, cities, and even neighborhoods. The theme is derived from a conflation of OpenStreetMap data and geoBoundaries data and is available under an ODbL license.\n",
    "\n",
    "Divisions data can be used for many purposes, which can include, but are not limited to:\n",
    "- reverse-geocoding\n",
    "- cartographic styling and map rendering\n",
    "- place labels\n",
    "- choropleth rendering\n",
    "- containment checks (e.g. point-in-polygon analysis)\n",
    "- choosing a geometry based on your use case\n",
    "\n",
    "Their `division_area` subset provides a hierarchical structure of administrative boundaries, including countries, states, and cities. There are more than 5.45 million point, line, and polygon representations of human settlements, such as countries, regions, states, cities, and even neighborhoods. The theme is derived from a conflation of OpenStreetMap data and geoBoundaries data.\n",
    "\n",
    "This dataset is useful for geospatial analysis and can be used to enrich other datasets with location-based information. \n",
    "Divisions data can be used for many purposes, and we include some examples below with those relevant to our work highlighted:\n",
    "\n",
    "- reverse-geocoding\n",
    "- **cartographic styling and map rendering**\n",
    "- place labels\n",
    "- choropleth rendering\n",
    "- **containment checks (e.g. point-in-polygon analysis)**\n",
    "- **choosing a geometry based on your use case**\n",
    "\n",
    "<figure style=\"text-align: center\">\n",
    "<img src=\"https://docs.overturemaps.org/assets/images/divisions-admin0-admin1-coverage-ff1a8d4c6d68c88047b34d1f9c9109be.png\" style=\"width:65%; height:auto;\">\n",
    "<figcaption align = \"center\"> Overture divisions data, styled by subtype: countries in purple, region boundaries as green lines. </figcaption>\n",
    "</figure>"
   ]
  },
  {
   "cell_type": "code",
   "execution_count": 25,
   "id": "f9512c44",
   "metadata": {},
   "outputs": [
    {
     "name": "stdout",
     "output_type": "stream",
     "text": [
      "Fetching Overture divisions from s3://overturemaps-us-west-2/release/2025-03-19.0/theme=divisions/type=division_area/*.parquet into DuckDB database datasets/db/global_consolidated_pv.duckdb …\n",
      "Fetching Overture division areas from S3:\n",
      " s3://overturemaps-us-west-2/release/2025-03-19.0/theme=divisions/type=division_area/*.parquet\n",
      "Using DuckDB database file:\n",
      " `datasets/db/global_consolidated_pv.duckdb` and saving to table:\n",
      " `overture_division_areas`\n",
      "  Loading DuckDB extensions...\n",
      "Applying parsed where statement: subtype IN ('dependency', 'country', 'region', 'county')\n",
      " Inserting data into DuckDB table 'overture_division_areas'...\n",
      "  Filtered 42729 records from s3://overturemaps-us-west-2/release/2025-03-19.0/theme=divisions/type=division_area/*.parquet using filters: subtype IN ('dependency', 'country', 'region', 'county')\n",
      "Saved 42729 division boundary records to database \n",
      "Error fetching Overture division areas: Catalog Error: Index with name \"overture_division_areas_idx\" already exists!\n",
      "Failed to fetch Overture divisions into DuckDB.\n",
      "CPU times: user 13.9 ms, sys: 5.44 ms, total: 19.4 ms\n",
      "Wall time: 1.56 s\n"
     ]
    }
   ],
   "source": [
    "%%time\n",
    "ov_divisions_table = os.getenv(\"DIVISIONS_DB_TABLE\", \"overture_division_areas\")\n",
    "# only fetch these division types as more granular divisions are not needed for our analysis\n",
    "division_types = [\n",
    "    'dependency',\n",
    "    'country',\n",
    "    'region',\n",
    "    'county'\n",
    "]\n",
    "div_filters = {\"subtype\": (\"IN\", division_types)}\n",
    "\n",
    "print(f\"Fetching Overture divisions from {OVERTURE_DIVISION_AREA_S3} into DuckDB database {out_consolidated_db} …\")\n",
    "fetch_success = fetch_overture_maps_theme(\n",
    "    s3_path=OVERTURE_DIVISION_AREA_S3,\n",
    "    db_file=str(out_consolidated_db),\n",
    "    table_name=ov_divisions_table,\n",
    "    filter_dict=div_filters,\n",
    "    out_gpq_path=None  # no need to export to geoparquet here\n",
    ")\n",
    "if fetch_success:\n",
    "    print(\"Overture divisions fetched and stored in DuckDB successfully.\")\n",
    "else:\n",
    "    print(\"Failed to fetch Overture divisions into DuckDB.\")"
   ]
  },
  {
   "cell_type": "code",
   "execution_count": 26,
   "id": "093e2c55",
   "metadata": {},
   "outputs": [],
   "source": [
    "%reload_ext sql\n",
    "conn = get_duckdb_connection(db_file)\n",
    "%sql conn --alias duckdb \n",
    "\n",
    "%config SqlMagic.autopandas = False\n",
    "%config SqlMagic.feedback = False\n",
    "%config SqlMagic.displaycon = False\n",
    "%config SqlMagic.displaylimit = 25"
   ]
  },
  {
   "cell_type": "code",
   "execution_count": 27,
   "id": "ea58d4a3",
   "metadata": {},
   "outputs": [
    {
     "data": {
      "text/html": [
       "<table>\n",
       "    <thead>\n",
       "        <tr>\n",
       "            <th>column_name</th>\n",
       "            <th>column_type</th>\n",
       "            <th>null</th>\n",
       "            <th>key</th>\n",
       "            <th>default</th>\n",
       "            <th>extra</th>\n",
       "        </tr>\n",
       "    </thead>\n",
       "    <tbody>\n",
       "        <tr>\n",
       "            <td>id</td>\n",
       "            <td>VARCHAR</td>\n",
       "            <td>YES</td>\n",
       "            <td>None</td>\n",
       "            <td>None</td>\n",
       "            <td>None</td>\n",
       "        </tr>\n",
       "        <tr>\n",
       "            <td>geometry</td>\n",
       "            <td>GEOMETRY</td>\n",
       "            <td>YES</td>\n",
       "            <td>None</td>\n",
       "            <td>None</td>\n",
       "            <td>None</td>\n",
       "        </tr>\n",
       "        <tr>\n",
       "            <td>bbox</td>\n",
       "            <td>STRUCT(xmin FLOAT, xmax FLOAT, ymin FLOAT, ymax FLOAT)</td>\n",
       "            <td>YES</td>\n",
       "            <td>None</td>\n",
       "            <td>None</td>\n",
       "            <td>None</td>\n",
       "        </tr>\n",
       "        <tr>\n",
       "            <td>country</td>\n",
       "            <td>VARCHAR</td>\n",
       "            <td>YES</td>\n",
       "            <td>None</td>\n",
       "            <td>None</td>\n",
       "            <td>None</td>\n",
       "        </tr>\n",
       "        <tr>\n",
       "            <td>version</td>\n",
       "            <td>INTEGER</td>\n",
       "            <td>YES</td>\n",
       "            <td>None</td>\n",
       "            <td>None</td>\n",
       "            <td>None</td>\n",
       "        </tr>\n",
       "        <tr>\n",
       "            <td>sources</td>\n",
       "            <td>STRUCT(property VARCHAR, dataset VARCHAR, record_id VARCHAR, update_time VARCHAR, confidence DOUBLE)[]</td>\n",
       "            <td>YES</td>\n",
       "            <td>None</td>\n",
       "            <td>None</td>\n",
       "            <td>None</td>\n",
       "        </tr>\n",
       "        <tr>\n",
       "            <td>subtype</td>\n",
       "            <td>VARCHAR</td>\n",
       "            <td>YES</td>\n",
       "            <td>None</td>\n",
       "            <td>None</td>\n",
       "            <td>None</td>\n",
       "        </tr>\n",
       "        <tr>\n",
       "            <td>class</td>\n",
       "            <td>VARCHAR</td>\n",
       "            <td>YES</td>\n",
       "            <td>None</td>\n",
       "            <td>None</td>\n",
       "            <td>None</td>\n",
       "        </tr>\n",
       "        <tr>\n",
       "            <td>names</td>\n",
       "            <td>STRUCT(\"primary\" VARCHAR, common MAP(VARCHAR, VARCHAR), rules STRUCT(variant VARCHAR, \"language\" VARCHAR, \"value\" VARCHAR, \"between\" DOUBLE[], side VARCHAR)[])</td>\n",
       "            <td>YES</td>\n",
       "            <td>None</td>\n",
       "            <td>None</td>\n",
       "            <td>None</td>\n",
       "        </tr>\n",
       "        <tr>\n",
       "            <td>is_land</td>\n",
       "            <td>BOOLEAN</td>\n",
       "            <td>YES</td>\n",
       "            <td>None</td>\n",
       "            <td>None</td>\n",
       "            <td>None</td>\n",
       "        </tr>\n",
       "        <tr>\n",
       "            <td>is_territorial</td>\n",
       "            <td>BOOLEAN</td>\n",
       "            <td>YES</td>\n",
       "            <td>None</td>\n",
       "            <td>None</td>\n",
       "            <td>None</td>\n",
       "        </tr>\n",
       "        <tr>\n",
       "            <td>region</td>\n",
       "            <td>VARCHAR</td>\n",
       "            <td>YES</td>\n",
       "            <td>None</td>\n",
       "            <td>None</td>\n",
       "            <td>None</td>\n",
       "        </tr>\n",
       "        <tr>\n",
       "            <td>division_id</td>\n",
       "            <td>VARCHAR</td>\n",
       "            <td>YES</td>\n",
       "            <td>None</td>\n",
       "            <td>None</td>\n",
       "            <td>None</td>\n",
       "        </tr>\n",
       "        <tr>\n",
       "            <td>theme</td>\n",
       "            <td>VARCHAR</td>\n",
       "            <td>YES</td>\n",
       "            <td>None</td>\n",
       "            <td>None</td>\n",
       "            <td>None</td>\n",
       "        </tr>\n",
       "        <tr>\n",
       "            <td>type</td>\n",
       "            <td>VARCHAR</td>\n",
       "            <td>YES</td>\n",
       "            <td>None</td>\n",
       "            <td>None</td>\n",
       "            <td>None</td>\n",
       "        </tr>\n",
       "        <tr>\n",
       "            <td>h3_res_4</td>\n",
       "            <td>UBIGINT</td>\n",
       "            <td>YES</td>\n",
       "            <td>None</td>\n",
       "            <td>None</td>\n",
       "            <td>None</td>\n",
       "        </tr>\n",
       "        <tr>\n",
       "            <td>h3_res_5</td>\n",
       "            <td>UBIGINT</td>\n",
       "            <td>YES</td>\n",
       "            <td>None</td>\n",
       "            <td>None</td>\n",
       "            <td>None</td>\n",
       "        </tr>\n",
       "    </tbody>\n",
       "</table>"
      ],
      "text/plain": [
       "+----------------+-----------------------------------------------------------------------------------------------------------------------------------------------------------------+------+------+---------+-------+\n",
       "|  column_name   |                                                                           column_type                                                                           | null | key  | default | extra |\n",
       "+----------------+-----------------------------------------------------------------------------------------------------------------------------------------------------------------+------+------+---------+-------+\n",
       "|       id       |                                                                             VARCHAR                                                                             | YES  | None |   None  |  None |\n",
       "|    geometry    |                                                                             GEOMETRY                                                                            | YES  | None |   None  |  None |\n",
       "|      bbox      |                                                      STRUCT(xmin FLOAT, xmax FLOAT, ymin FLOAT, ymax FLOAT)                                                     | YES  | None |   None  |  None |\n",
       "|    country     |                                                                             VARCHAR                                                                             | YES  | None |   None  |  None |\n",
       "|    version     |                                                                             INTEGER                                                                             | YES  | None |   None  |  None |\n",
       "|    sources     |                              STRUCT(property VARCHAR, dataset VARCHAR, record_id VARCHAR, update_time VARCHAR, confidence DOUBLE)[]                             | YES  | None |   None  |  None |\n",
       "|    subtype     |                                                                             VARCHAR                                                                             | YES  | None |   None  |  None |\n",
       "|     class      |                                                                             VARCHAR                                                                             | YES  | None |   None  |  None |\n",
       "|     names      | STRUCT(\"primary\" VARCHAR, common MAP(VARCHAR, VARCHAR), rules STRUCT(variant VARCHAR, \"language\" VARCHAR, \"value\" VARCHAR, \"between\" DOUBLE[], side VARCHAR)[]) | YES  | None |   None  |  None |\n",
       "|    is_land     |                                                                             BOOLEAN                                                                             | YES  | None |   None  |  None |\n",
       "| is_territorial |                                                                             BOOLEAN                                                                             | YES  | None |   None  |  None |\n",
       "|     region     |                                                                             VARCHAR                                                                             | YES  | None |   None  |  None |\n",
       "|  division_id   |                                                                             VARCHAR                                                                             | YES  | None |   None  |  None |\n",
       "|     theme      |                                                                             VARCHAR                                                                             | YES  | None |   None  |  None |\n",
       "|      type      |                                                                             VARCHAR                                                                             | YES  | None |   None  |  None |\n",
       "|    h3_res_4    |                                                                             UBIGINT                                                                             | YES  | None |   None  |  None |\n",
       "|    h3_res_5    |                                                                             UBIGINT                                                                             | YES  | None |   None  |  None |\n",
       "+----------------+-----------------------------------------------------------------------------------------------------------------------------------------------------------------+------+------+---------+-------+"
      ]
     },
     "execution_count": 27,
     "metadata": {},
     "output_type": "execute_result"
    }
   ],
   "source": [
    "%sql DESCRIBE {{ov_divisions_table}};"
   ]
  },
  {
   "cell_type": "code",
   "execution_count": 28,
   "id": "7f3276d1",
   "metadata": {},
   "outputs": [
    {
     "data": {
      "text/html": [
       "<table>\n",
       "    <thead>\n",
       "        <tr>\n",
       "            <th>subtype</th>\n",
       "        </tr>\n",
       "    </thead>\n",
       "    <tbody>\n",
       "        <tr>\n",
       "            <td>country</td>\n",
       "        </tr>\n",
       "        <tr>\n",
       "            <td>county</td>\n",
       "        </tr>\n",
       "        <tr>\n",
       "            <td>dependency</td>\n",
       "        </tr>\n",
       "        <tr>\n",
       "            <td>region</td>\n",
       "        </tr>\n",
       "    </tbody>\n",
       "</table>"
      ],
      "text/plain": [
       "+------------+\n",
       "|  subtype   |\n",
       "+------------+\n",
       "|  country   |\n",
       "|   county   |\n",
       "| dependency |\n",
       "|   region   |\n",
       "+------------+"
      ]
     },
     "execution_count": 28,
     "metadata": {},
     "output_type": "execute_result"
    }
   ],
   "source": [
    "%sql SELECT DISTINCT subtype FROM {{ov_divisions_table}} ORDER BY subtype;"
   ]
  },
  {
   "cell_type": "code",
   "execution_count": 29,
   "id": "60922c0d",
   "metadata": {},
   "outputs": [
    {
     "data": {
      "text/html": [
       "<table>\n",
       "    <thead>\n",
       "        <tr>\n",
       "            <th>division_country_count</th>\n",
       "        </tr>\n",
       "    </thead>\n",
       "    <tbody>\n",
       "        <tr>\n",
       "            <td>272</td>\n",
       "        </tr>\n",
       "    </tbody>\n",
       "</table>"
      ],
      "text/plain": [
       "+------------------------+\n",
       "| division_country_count |\n",
       "+------------------------+\n",
       "|          272           |\n",
       "+------------------------+"
      ]
     },
     "execution_count": 29,
     "metadata": {},
     "output_type": "execute_result"
    }
   ],
   "source": [
    "%sql SELECT COUNT(DISTINCT country) AS division_country_count FROM {{ov_divisions_table}};"
   ]
  },
  {
   "cell_type": "markdown",
   "id": "7c3d7236",
   "metadata": {},
   "source": [
    "### Overture Maps Land Cover theme \n",
    "\n",
    "Size is pretty large and should be approached as querying from S3 for required AOI and dates.\n",
    "https://docs.overturemaps.org/blog/2024/05/16/land-cover/\n",
    "\n",
    "Land Cover data could be useful to characterize the distribution of PV panels in different land cover types, and the diversity of land cover types in the vicinity of PV installations. This could be useful for understanding in what type of land cover types PV panels are being installed (i.e. is it an appretiate land use for the land cover type?).\n",
    "\n",
    "TBD in Summer and Fall 2025..."
   ]
  },
  {
   "cell_type": "code",
   "execution_count": 30,
   "id": "bf5e4a0b",
   "metadata": {},
   "outputs": [],
   "source": [
    "# ov_land_cover_table = \"overture_land_cover\"\n",
    "# # --- Step 1: Fetch Overture base and division maps into a DuckDB table for use with our labels ---\n",
    "# print(f\"Fetching Overture land cover from {OVERTURE_LAND_COVER_S3} into DuckDB database {out_consolidated_db} …\")\n",
    "# fetch_success = fetch_overture_maps_theme(\n",
    "#     s3_path=OVERTURE_LAND_COVER_S3,\n",
    "#     db_file=str(out_consolidated_db),\n",
    "#     table_name=ov_land_cover_table,\n",
    "#     out_gpq_path=None  # no need to export to geoparquet here\n",
    "# )\n",
    "# if fetch_success:\n",
    "#     print(\"Overture divisions fetched and stored in DuckDB successfully.\")\n",
    "# else:\n",
    "#     print(\"Failed to fetch Overture divisions into DuckDB.\")"
   ]
  },
  {
   "cell_type": "markdown",
   "id": "de11d8ca",
   "metadata": {},
   "source": [
    "## H3: Geospatial Indexing System and Spatial Clustering\n",
    "\n",
    "From their [home page](https://h3geo.org/), [announcement blog](https://www.uber.com/blog/h3/), and [overview page](https://h3geo.org/docs/core-library/overview/):\n",
    "\n",
    "The H3 geospatial indexing system is a discrete global grid system developed at Uber. It was designed for **indexing geographies via multi-precision hexagonal tiling into a hexagonal grid with hierarchical indexes**. Geospatial coordinates can be indexed to *cell IDs* that each represent a unique cell.  \n",
    "Indexed data can be **quickly joined across disparate datasets and aggregated at different levels of precision.**. \n",
    "\n",
    "H3 enables a *range of algorithms and optimizations* based on the grid, including *nearest neighbors, shortest path, gradient smoothing*, and more.\n",
    "\n",
    "The hexagonal grid system is created on the planar faces of [a sphere-circumscribed icosahedron](https://www.researchgate.net/figure/a-Icosahedron-faces-projected-onto-a-sphere-b-Triangular-tessellation-c-Diamond_fig1_339813234) and the grid cells are then projected to the surface of the sphere...\n",
    "It is common to use WGS84/EPSG:4326 CRS data with the H3 library.\n",
    "\n",
    "<figure style=\"text-align: center\">\n",
    "<img src=\"https://blog.uber-cdn.com/cdn-cgi/image/width=2160,quality=100,onerror=redirect,format=auto/wp-content/uploads/2018/06/Twitter-H3.png\" style=\"width:75%; height:auto;\">\n",
    "<figcaption align = \"center\"> H3 enables users to partition the globe into hexagons for more accurate analysis. </figcaption>\n",
    "</figure>\n",
    "\n",
    "[TODO: Add brief note on rise of Discrete Global Grid Systems (DGGS) in scientific data and computing]\n",
    "\n",
    "See formal citations here:\n",
    "- [XDGGS: A community-developed Xarray package to support planetary DGGS data cube computations](https://doi.org/10.5194/isprs-archives-XLVIII-4-W12-2024-75-2024)\n"
   ]
  },
  {
   "cell_type": "code",
   "execution_count": 31,
   "id": "1a82eaa2",
   "metadata": {},
   "outputs": [
    {
     "data": {
      "text/html": [
       "\n",
       "        <iframe\n",
       "            width=\"1080\"\n",
       "            height=\"540\"\n",
       "            src=\"https://h3.chotard.com\"\n",
       "            frameborder=\"0\"\n",
       "            allowfullscreen\n",
       "            \n",
       "        ></iframe>\n",
       "        "
      ],
      "text/plain": [
       "<IPython.lib.display.IFrame at 0x334697d10>"
      ]
     },
     "execution_count": 31,
     "metadata": {},
     "output_type": "execute_result"
    }
   ],
   "source": [
    "from IPython.display import IFrame\n",
    "# display h3 viewer \n",
    "IFrame(\"https://h3.chotard.com\", width=1080, height=540)"
   ]
  },
  {
   "cell_type": "code",
   "execution_count": 32,
   "id": "8a57ba61",
   "metadata": {},
   "outputs": [
    {
     "name": "stdout",
     "output_type": "stream",
     "text": [
      "CPU times: user 1.6 s, sys: 15.4 ms, total: 1.62 s\n",
      "Wall time: 1.64 s\n"
     ]
    },
    {
     "data": {
      "application/vnd.microsoft.datawrangler.viewer.v0+json": {
       "columns": [
        {
         "name": "index",
         "rawType": "int64",
         "type": "integer"
        },
        {
         "name": "unified_id",
         "rawType": "object",
         "type": "string"
        },
        {
         "name": "h3_index",
         "rawType": "object",
         "type": "string"
        },
        {
         "name": "h3_resolution",
         "rawType": "int64",
         "type": "integer"
        },
        {
         "name": "h3_cell_area_m2",
         "rawType": "float64",
         "type": "float"
        }
       ],
       "ref": "5ae6596c-6530-4bc3-9555-442ac60f36ed",
       "rows": [
        [
         "109289",
         "149fd4603eb9e1fb215992c0774c0888f597307582125c3cf853646b769c965b",
         "8a1959154377fff",
         "10",
         "13771.216886525932"
        ],
        [
         "53401",
         "67e7e07eab436274439d0ccfd0097b7390d6e7cf2e1ae6393911675ba534cd00",
         "8a30c5174057fff",
         "10",
         "10713.11419925515"
        ],
        [
         "77649",
         "5e43612db6c0658fdfd4aa0784d7dd21bb05e41174e906320e961d733ba75574",
         "8a419d59a2c7fff",
         "10",
         "12792.942543566354"
        ]
       ],
       "shape": {
        "columns": 4,
        "rows": 3
       }
      },
      "text/html": [
       "<div>\n",
       "<style scoped>\n",
       "    .dataframe tbody tr th:only-of-type {\n",
       "        vertical-align: middle;\n",
       "    }\n",
       "\n",
       "    .dataframe tbody tr th {\n",
       "        vertical-align: top;\n",
       "    }\n",
       "\n",
       "    .dataframe thead th {\n",
       "        text-align: right;\n",
       "    }\n",
       "</style>\n",
       "<table border=\"1\" class=\"dataframe\">\n",
       "  <thead>\n",
       "    <tr style=\"text-align: right;\">\n",
       "      <th></th>\n",
       "      <th>unified_id</th>\n",
       "      <th>h3_index</th>\n",
       "      <th>h3_resolution</th>\n",
       "      <th>h3_cell_area_m2</th>\n",
       "    </tr>\n",
       "  </thead>\n",
       "  <tbody>\n",
       "    <tr>\n",
       "      <th>109289</th>\n",
       "      <td>149fd4603eb9e1fb215992c0774c0888f597307582125c...</td>\n",
       "      <td>8a1959154377fff</td>\n",
       "      <td>10</td>\n",
       "      <td>13771.216887</td>\n",
       "    </tr>\n",
       "    <tr>\n",
       "      <th>53401</th>\n",
       "      <td>67e7e07eab436274439d0ccfd0097b7390d6e7cf2e1ae6...</td>\n",
       "      <td>8a30c5174057fff</td>\n",
       "      <td>10</td>\n",
       "      <td>10713.114199</td>\n",
       "    </tr>\n",
       "    <tr>\n",
       "      <th>77649</th>\n",
       "      <td>5e43612db6c0658fdfd4aa0784d7dd21bb05e41174e906...</td>\n",
       "      <td>8a419d59a2c7fff</td>\n",
       "      <td>10</td>\n",
       "      <td>12792.942544</td>\n",
       "    </tr>\n",
       "  </tbody>\n",
       "</table>\n",
       "</div>"
      ],
      "text/plain": [
       "                                               unified_id         h3_index  \\\n",
       "109289  149fd4603eb9e1fb215992c0774c0888f597307582125c...  8a1959154377fff   \n",
       "53401   67e7e07eab436274439d0ccfd0097b7390d6e7cf2e1ae6...  8a30c5174057fff   \n",
       "77649   5e43612db6c0658fdfd4aa0784d7dd21bb05e41174e906...  8a419d59a2c7fff   \n",
       "\n",
       "        h3_resolution  h3_cell_area_m2  \n",
       "109289             10     13771.216887  \n",
       "53401              10     10713.114199  \n",
       "77649              10     12792.942544  "
      ]
     },
     "metadata": {},
     "output_type": "display_data"
    },
    {
     "name": "stdout",
     "output_type": "stream",
     "text": [
      "Unique H3 resolutions in the dataset: [10]\n"
     ]
    }
   ],
   "source": [
    "# --- Step 2: Compute updated PV GeoDataFrame with H3 indices ---\n",
    "# h3_resolution = 10\n",
    "\n",
    "import h3\n",
    "# time performance of h3 indexing\n",
    "# t1 = time.time()\n",
    "%time ds_gdf_h3 = add_h3_index_to_pv_labels(ds_gdf)\n",
    "del ds_gdf\n",
    "# t2 = time.time()\n",
    "# print(f\"Time taken to add H3 indices: {t2 - t1:.2f} seconds\")\n",
    "\n",
    "# plot out the distribution of h3 resolutions\n",
    "temp_gdf = ds_gdf_h3[['unified_id', 'h3_index']].copy()\n",
    "# # add temp columns for h3 resolution used and h3 cell area in m2\n",
    "temp_gdf['h3_resolution'] = ds_gdf_h3['h3_index'].apply(lambda x: h3.get_resolution(x))\n",
    "temp_gdf['h3_cell_area_m2'] = ds_gdf_h3['h3_index'].apply(lambda x: h3.cell_area(x, unit='m^2'))\n",
    "display(temp_gdf.sample(3))\n",
    "\n",
    "# see unique h3 resolutions\n",
    "print(f\"Unique H3 resolutions in the dataset: {temp_gdf['h3_resolution'].unique()}\")"
   ]
  },
  {
   "cell_type": "code",
   "execution_count": 33,
   "id": "cebde780",
   "metadata": {},
   "outputs": [
    {
     "name": "stdout",
     "output_type": "stream",
     "text": [
      "Unique geometry types in the dataset: ['Polygon' 'MultiPolygon']\n",
      "Count of Point geometries: 0\n",
      "Count of Polygon geometries: 113094\n",
      "Count of MultiPoint geometries: 0\n",
      "Count of MultiPolygon geometries: 9330\n"
     ]
    }
   ],
   "source": [
    "# display unique geometry types in our gdf\n",
    "print(f\"Unique geometry types in the dataset: {ds_gdf_h3['geometry'].apply(lambda x: x.geom_type).unique()}\")\n",
    "# print sample of geoms that are points\n",
    "print(f\"Count of Point geometries: {len(ds_gdf_h3[ds_gdf_h3['geometry'].geom_type == 'Point'])}\")\n",
    "print(f\"Count of Polygon geometries: {len(ds_gdf_h3[ds_gdf_h3['geometry'].geom_type == 'Polygon'])}\")\n",
    "print(f\"Count of MultiPoint geometries: {len(ds_gdf_h3[ds_gdf_h3['geometry'].geom_type == 'MultiPoint'])}\")\n",
    "print(f\"Count of MultiPolygon geometries: {len(ds_gdf_h3[ds_gdf_h3['geometry'].geom_type == 'MultiPolygon'])}\")"
   ]
  },
  {
   "cell_type": "code",
   "execution_count": 34,
   "id": "1341eda4",
   "metadata": {},
   "outputs": [
    {
     "name": "stdout",
     "output_type": "stream",
     "text": [
      "Exported updated PV labels with H3 indices to datasets/prepared/labels/geoparquet/global_consolidated_pv_dedup_h3.geoparquet\n",
      "Removed datasets/prepared/labels/geoparquet/global_consolidated_pv_dedup.geoparquet to save space\n"
     ]
    }
   ],
   "source": [
    "# --- Step 3: Export updated PV labels with H3 indices to a geoparquet file for spatial join ---\n",
    "consolidated_dedup_h3_parquet = DATASET_DIR / 'prepared' / 'labels' / 'geoparquet' / 'global_consolidated_pv_dedup_h3.geoparquet'\n",
    "os.makedirs(consolidated_dedup_h3_parquet.parent, exist_ok=True)\n",
    "ds_gdf_h3.to_parquet(\n",
    "    consolidated_dedup_h3_parquet, \n",
    "    index=False, \n",
    "    # encoding='wkt',\n",
    "    compression='zstd',\n",
    "    # write_covering_bbox=True,\n",
    "    schema_version='1.1.0'\n",
    ")\n",
    "print(f\"Exported updated PV labels with H3 indices to {consolidated_dedup_h3_parquet}\")\n",
    "# remove the previous geoparquet file\n",
    "if os.path.exists(consolidated_dedup_parquet):\n",
    "    os.remove(consolidated_dedup_parquet)\n",
    "    print(f\"Removed {consolidated_dedup_parquet} to save space\")"
   ]
  },
  {
   "cell_type": "code",
   "execution_count": 35,
   "id": "da7696ea",
   "metadata": {},
   "outputs": [
    {
     "name": "stdout",
     "output_type": "stream",
     "text": [
      "Updated global_consolidated_pv table with 122424 rows from datasets/prepared/labels/geoparquet/global_consolidated_pv_dedup_h3.geoparquet\n",
      "and removed 16648 rows.\n"
     ]
    },
    {
     "name": "stderr",
     "output_type": "stream",
     "text": [
      "/var/folders/81/h1xdmxqn6l3_p3v3sw_s9cbw0000gp/T/ipykernel_68630/3824730693.py:4: UserWarning: Geometry column does not contain geometry.\n",
      "  ds_gdf_h3['geometry'] = ds_gdf_h3['geometry'].to_wkt()\n"
     ]
    }
   ],
   "source": [
    "# update duckdb table with our deduplicated + h3 indexed geoparquet file by dropping the rows not in the new file\n",
    "prev_pv_count = conn.execute(f\"SELECT COUNT(*) FROM {TABLE_NAME};\").fetchone()[0]\n",
    "# change geometry encoding so we can directly query gdf with duckdb\n",
    "ds_gdf_h3['geometry'] = ds_gdf_h3['geometry'].to_wkt()\n",
    "conn.execute(f\"DELETE FROM {TABLE_NAME} WHERE unified_id NOT IN (SELECT unified_id FROM ds_gdf_h3);\")\n",
    "new_pv_count = conn.execute(f\"SELECT COUNT(*) FROM {TABLE_NAME};\").fetchone()[0]\n",
    "print(f\"Updated {TABLE_NAME} table with {new_pv_count} rows from {consolidated_dedup_h3_parquet}\\nand removed {prev_pv_count - new_pv_count} rows.\")"
   ]
  },
  {
   "cell_type": "code",
   "execution_count": 36,
   "id": "a1542e5b",
   "metadata": {},
   "outputs": [
    {
     "name": "stdout",
     "output_type": "stream",
     "text": [
      "Added and populated h3_res_5 column in global_consolidated_pv table\n",
      "Added and populated h3_res_5 column in overture_division_areas table\n",
      "CPU times: user 1.49 s, sys: 453 ms, total: 1.95 s\n",
      "Wall time: 2 s\n"
     ]
    }
   ],
   "source": [
    "%%time\n",
    "# add a common h3 index at the same resolution to both our pv labels and overture divisions for easier spatial joins\n",
    "common_h3_res = 5 # ~250km^2; roughly corresponds to many sensors swath widths, and San Juan, PR is ~200km^2\n",
    "# common_h3_res = 4 # ~1770km^2; children cells can be used for sampling stac items of area ~250km^2; results in ~\n",
    "# apply the common h3 index to both of our tables\n",
    "ddb_alter_table_add_h3(\n",
    "    db_file=out_consolidated_db,\n",
    "    table_name=TABLE_NAME,\n",
    "    h3_resolution=common_h3_res\n",
    ")\n",
    "\n",
    "ddb_alter_table_add_h3(\n",
    "    db_file=out_consolidated_db,\n",
    "    table_name=ov_divisions_table,\n",
    "    h3_resolution=common_h3_res\n",
    ")\n",
    "\n",
    "# close the db connection since we are about to add some new tables that don't automatically reflect in the db object\n",
    "conn.close()"
   ]
  },
  {
   "cell_type": "code",
   "execution_count": 37,
   "id": "747c08dc",
   "metadata": {},
   "outputs": [
    {
     "data": {
      "application/vnd.jupyter.widget-view+json": {
       "model_id": "59c7d06c5d344b94ab18552861dd07d4",
       "version_major": 2,
       "version_minor": 0
      },
      "text/plain": [
       "FloatProgress(value=0.0, layout=Layout(width='auto'), style=ProgressStyle(bar_color='black'))"
      ]
     },
     "metadata": {},
     "output_type": "display_data"
    },
    {
     "name": "stdout",
     "output_type": "stream",
     "text": [
      "Added and populated metadata fields for 31299 Overture division areas\n",
      "Joined Overture divisions with PV labels successfully.\n"
     ]
    }
   ],
   "source": [
    "# use our util to add the matching overture divisions to our pv labels\n",
    "h3_col = f\"h3_res_{common_h3_res}\"\n",
    "joined_divs = ddb_save_div_matches(\n",
    "    db_file=out_consolidated_db,\n",
    "    labels_table=TABLE_NAME,\n",
    "    divisions_table=ov_divisions_table,\n",
    "    division_subtypes=division_types,\n",
    "    h3_col_name=h3_col\n",
    ")\n",
    "if joined_divs:\n",
    "    print(\"Joined Overture divisions with PV labels successfully.\")\n",
    "else:\n",
    "    print(\"Failed to join Overture divisions with PV labels. See errors above.\")"
   ]
  },
  {
   "cell_type": "code",
   "execution_count": 38,
   "id": "bb418c14",
   "metadata": {},
   "outputs": [
    {
     "data": {
      "application/vnd.jupyter.widget-view+json": {
       "model_id": "f1422750889048e9a860c3356010a7be",
       "version_major": 2,
       "version_minor": 0
      },
      "text/plain": [
       "FloatProgress(value=0.0, layout=Layout(width='auto'), style=ProgressStyle(bar_color='black'))"
      ]
     },
     "metadata": {},
     "output_type": "display_data"
    },
    {
     "name": "stdout",
     "output_type": "stream",
     "text": [
      "Created table ov_divisions_country_geoms with country geometries\n",
      "Saved all country geometries in separate table `ov_divisions_country_geoms`\n"
     ]
    }
   ],
   "source": [
    "# save the geometries for countries in a separate table with some pv labels aggregate stats\n",
    "saved_country_geoms = ddb_save_subtype_geoms(db_file=db_file, \n",
    "                                             div_table=ov_divisions_table,\n",
    "                                             pv_table=TABLE_NAME,\n",
    "                                             division_type='country')\n",
    "if saved_country_geoms:\n",
    "    print(f\"Saved all country geometries in separate table `ov_divisions_country_geoms`\")\n",
    "else:\n",
    "    print(\"Failed to save country geometries with PV labels. See errors above.\")"
   ]
  },
  {
   "cell_type": "code",
   "execution_count": 39,
   "id": "0680bb52",
   "metadata": {},
   "outputs": [
    {
     "name": "stdout",
     "output_type": "stream",
     "text": [
      "Updated columns for DuckDB table `global_consolidated_pv` with matching overture divisions fields:\n",
      "\n"
     ]
    },
    {
     "data": {
      "text/html": [
       "<table>\n",
       "    <thead>\n",
       "        <tr>\n",
       "            <th>name</th>\n",
       "        </tr>\n",
       "    </thead>\n",
       "    <tbody>\n",
       "        <tr>\n",
       "            <td>country_geoms</td>\n",
       "        </tr>\n",
       "        <tr>\n",
       "            <td>global_consolidated_pv</td>\n",
       "        </tr>\n",
       "        <tr>\n",
       "            <td>overture_division_areas</td>\n",
       "        </tr>\n",
       "    </tbody>\n",
       "</table>"
      ],
      "text/plain": [
       "+-------------------------+\n",
       "|           name          |\n",
       "+-------------------------+\n",
       "|      country_geoms      |\n",
       "|  global_consolidated_pv |\n",
       "| overture_division_areas |\n",
       "+-------------------------+"
      ]
     },
     "execution_count": 39,
     "metadata": {},
     "output_type": "execute_result"
    }
   ],
   "source": [
    "# reload the db connection we closed earlier\n",
    "conn = get_duckdb_connection(db_file)\n",
    "%sql conn --alias duckdb\n",
    "\n",
    "print(f\"Updated columns for DuckDB table `{TABLE_NAME}` with matching overture divisions fields:\\n\")\n",
    "%config SqlMagic.autopandas = False\n",
    "%sql SHOW TABLES;"
   ]
  },
  {
   "cell_type": "code",
   "execution_count": 40,
   "id": "04233c7f",
   "metadata": {},
   "outputs": [
    {
     "name": "stdout",
     "output_type": "stream",
     "text": [
      "\n",
      "\n",
      "Updated columns for DuckDB table `global_consolidated_pv` with matching overture divisions fields:\n",
      "\n"
     ]
    },
    {
     "data": {
      "text/html": [
       "<table>\n",
       "    <thead>\n",
       "        <tr>\n",
       "            <th>column_name</th>\n",
       "            <th>column_type</th>\n",
       "            <th>null</th>\n",
       "            <th>key</th>\n",
       "            <th>default</th>\n",
       "            <th>extra</th>\n",
       "        </tr>\n",
       "    </thead>\n",
       "    <tbody>\n",
       "        <tr>\n",
       "            <td>unified_id</td>\n",
       "            <td>VARCHAR</td>\n",
       "            <td>YES</td>\n",
       "            <td>None</td>\n",
       "            <td>None</td>\n",
       "            <td>None</td>\n",
       "        </tr>\n",
       "        <tr>\n",
       "            <td>area_m2</td>\n",
       "            <td>DOUBLE</td>\n",
       "            <td>YES</td>\n",
       "            <td>None</td>\n",
       "            <td>None</td>\n",
       "            <td>None</td>\n",
       "        </tr>\n",
       "        <tr>\n",
       "            <td>spheroid_area</td>\n",
       "            <td>DOUBLE</td>\n",
       "            <td>YES</td>\n",
       "            <td>None</td>\n",
       "            <td>None</td>\n",
       "            <td>None</td>\n",
       "        </tr>\n",
       "        <tr>\n",
       "            <td>centroid_lon</td>\n",
       "            <td>DOUBLE</td>\n",
       "            <td>YES</td>\n",
       "            <td>None</td>\n",
       "            <td>None</td>\n",
       "            <td>None</td>\n",
       "        </tr>\n",
       "        <tr>\n",
       "            <td>centroid_lat</td>\n",
       "            <td>DOUBLE</td>\n",
       "            <td>YES</td>\n",
       "            <td>None</td>\n",
       "            <td>None</td>\n",
       "            <td>None</td>\n",
       "        </tr>\n",
       "        <tr>\n",
       "            <td>dataset</td>\n",
       "            <td>VARCHAR</td>\n",
       "            <td>YES</td>\n",
       "            <td>None</td>\n",
       "            <td>None</td>\n",
       "            <td>None</td>\n",
       "        </tr>\n",
       "        <tr>\n",
       "            <td>bbox</td>\n",
       "            <td>STRUCT(xmin DOUBLE, ymin DOUBLE, xmax DOUBLE, ymax DOUBLE)</td>\n",
       "            <td>YES</td>\n",
       "            <td>None</td>\n",
       "            <td>None</td>\n",
       "            <td>None</td>\n",
       "        </tr>\n",
       "        <tr>\n",
       "            <td>geometry</td>\n",
       "            <td>GEOMETRY</td>\n",
       "            <td>YES</td>\n",
       "            <td>None</td>\n",
       "            <td>None</td>\n",
       "            <td>None</td>\n",
       "        </tr>\n",
       "        <tr>\n",
       "            <td>h3_res_5</td>\n",
       "            <td>UBIGINT</td>\n",
       "            <td>YES</td>\n",
       "            <td>None</td>\n",
       "            <td>None</td>\n",
       "            <td>None</td>\n",
       "        </tr>\n",
       "        <tr>\n",
       "            <td>division_id</td>\n",
       "            <td>VARCHAR</td>\n",
       "            <td>YES</td>\n",
       "            <td>None</td>\n",
       "            <td>None</td>\n",
       "            <td>None</td>\n",
       "        </tr>\n",
       "        <tr>\n",
       "            <td>division_country</td>\n",
       "            <td>VARCHAR</td>\n",
       "            <td>YES</td>\n",
       "            <td>None</td>\n",
       "            <td>None</td>\n",
       "            <td>None</td>\n",
       "        </tr>\n",
       "        <tr>\n",
       "            <td>division_region</td>\n",
       "            <td>VARCHAR</td>\n",
       "            <td>YES</td>\n",
       "            <td>None</td>\n",
       "            <td>None</td>\n",
       "            <td>None</td>\n",
       "        </tr>\n",
       "        <tr>\n",
       "            <td>division_name</td>\n",
       "            <td>VARCHAR</td>\n",
       "            <td>YES</td>\n",
       "            <td>None</td>\n",
       "            <td>None</td>\n",
       "            <td>None</td>\n",
       "        </tr>\n",
       "        <tr>\n",
       "            <td>div_bbox</td>\n",
       "            <td>STRUCT(xmin FLOAT, xmax FLOAT, ymin FLOAT, ymax FLOAT)</td>\n",
       "            <td>YES</td>\n",
       "            <td>None</td>\n",
       "            <td>None</td>\n",
       "            <td>None</td>\n",
       "        </tr>\n",
       "        <tr>\n",
       "            <td>division_subtype</td>\n",
       "            <td>VARCHAR</td>\n",
       "            <td>YES</td>\n",
       "            <td>None</td>\n",
       "            <td>None</td>\n",
       "            <td>None</td>\n",
       "        </tr>\n",
       "    </tbody>\n",
       "</table>"
      ],
      "text/plain": [
       "+------------------+------------------------------------------------------------+------+------+---------+-------+\n",
       "|   column_name    |                        column_type                         | null | key  | default | extra |\n",
       "+------------------+------------------------------------------------------------+------+------+---------+-------+\n",
       "|    unified_id    |                          VARCHAR                           | YES  | None |   None  |  None |\n",
       "|     area_m2      |                           DOUBLE                           | YES  | None |   None  |  None |\n",
       "|  spheroid_area   |                           DOUBLE                           | YES  | None |   None  |  None |\n",
       "|   centroid_lon   |                           DOUBLE                           | YES  | None |   None  |  None |\n",
       "|   centroid_lat   |                           DOUBLE                           | YES  | None |   None  |  None |\n",
       "|     dataset      |                          VARCHAR                           | YES  | None |   None  |  None |\n",
       "|       bbox       | STRUCT(xmin DOUBLE, ymin DOUBLE, xmax DOUBLE, ymax DOUBLE) | YES  | None |   None  |  None |\n",
       "|     geometry     |                          GEOMETRY                          | YES  | None |   None  |  None |\n",
       "|     h3_res_5     |                          UBIGINT                           | YES  | None |   None  |  None |\n",
       "|   division_id    |                          VARCHAR                           | YES  | None |   None  |  None |\n",
       "| division_country |                          VARCHAR                           | YES  | None |   None  |  None |\n",
       "| division_region  |                          VARCHAR                           | YES  | None |   None  |  None |\n",
       "|  division_name   |                          VARCHAR                           | YES  | None |   None  |  None |\n",
       "|     div_bbox     |   STRUCT(xmin FLOAT, xmax FLOAT, ymin FLOAT, ymax FLOAT)   | YES  | None |   None  |  None |\n",
       "| division_subtype |                          VARCHAR                           | YES  | None |   None  |  None |\n",
       "+------------------+------------------------------------------------------------+------+------+---------+-------+"
      ]
     },
     "execution_count": 40,
     "metadata": {},
     "output_type": "execute_result"
    }
   ],
   "source": [
    "print(f\"\\n\\nUpdated columns for DuckDB table `{TABLE_NAME}` with matching overture divisions fields:\\n\")\n",
    "%sql DESCRIBE {{TABLE_NAME}};"
   ]
  },
  {
   "cell_type": "code",
   "execution_count": 41,
   "id": "74e6519d",
   "metadata": {},
   "outputs": [
    {
     "name": "stdout",
     "output_type": "stream",
     "text": [
      "\n",
      "\n",
      "Saved separate table with top level country geometries `overture_division_areas`\n",
      "\n"
     ]
    },
    {
     "data": {
      "text/html": [
       "<table>\n",
       "    <thead>\n",
       "        <tr>\n",
       "            <th>column_name</th>\n",
       "            <th>column_type</th>\n",
       "            <th>null</th>\n",
       "            <th>key</th>\n",
       "            <th>default</th>\n",
       "            <th>extra</th>\n",
       "        </tr>\n",
       "    </thead>\n",
       "    <tbody>\n",
       "        <tr>\n",
       "            <td>division_id</td>\n",
       "            <td>VARCHAR</td>\n",
       "            <td>YES</td>\n",
       "            <td>None</td>\n",
       "            <td>None</td>\n",
       "            <td>None</td>\n",
       "        </tr>\n",
       "        <tr>\n",
       "            <td>country_iso</td>\n",
       "            <td>VARCHAR</td>\n",
       "            <td>YES</td>\n",
       "            <td>None</td>\n",
       "            <td>None</td>\n",
       "            <td>None</td>\n",
       "        </tr>\n",
       "        <tr>\n",
       "            <td>division_name</td>\n",
       "            <td>VARCHAR</td>\n",
       "            <td>YES</td>\n",
       "            <td>None</td>\n",
       "            <td>None</td>\n",
       "            <td>None</td>\n",
       "        </tr>\n",
       "        <tr>\n",
       "            <td>bbox</td>\n",
       "            <td>STRUCT(xmin FLOAT, xmax FLOAT, ymin FLOAT, ymax FLOAT)</td>\n",
       "            <td>YES</td>\n",
       "            <td>None</td>\n",
       "            <td>None</td>\n",
       "            <td>None</td>\n",
       "        </tr>\n",
       "        <tr>\n",
       "            <td>geometry</td>\n",
       "            <td>GEOMETRY</td>\n",
       "            <td>YES</td>\n",
       "            <td>None</td>\n",
       "            <td>None</td>\n",
       "            <td>None</td>\n",
       "        </tr>\n",
       "        <tr>\n",
       "            <td>country_pv_count</td>\n",
       "            <td>HUGEINT</td>\n",
       "            <td>YES</td>\n",
       "            <td>None</td>\n",
       "            <td>None</td>\n",
       "            <td>None</td>\n",
       "        </tr>\n",
       "        <tr>\n",
       "            <td>country_pv_area_m2</td>\n",
       "            <td>DOUBLE</td>\n",
       "            <td>YES</td>\n",
       "            <td>None</td>\n",
       "            <td>None</td>\n",
       "            <td>None</td>\n",
       "        </tr>\n",
       "    </tbody>\n",
       "</table>"
      ],
      "text/plain": [
       "+--------------------+--------------------------------------------------------+------+------+---------+-------+\n",
       "|    column_name     |                      column_type                       | null | key  | default | extra |\n",
       "+--------------------+--------------------------------------------------------+------+------+---------+-------+\n",
       "|    division_id     |                        VARCHAR                         | YES  | None |   None  |  None |\n",
       "|    country_iso     |                        VARCHAR                         | YES  | None |   None  |  None |\n",
       "|   division_name    |                        VARCHAR                         | YES  | None |   None  |  None |\n",
       "|        bbox        | STRUCT(xmin FLOAT, xmax FLOAT, ymin FLOAT, ymax FLOAT) | YES  | None |   None  |  None |\n",
       "|      geometry      |                        GEOMETRY                        | YES  | None |   None  |  None |\n",
       "|  country_pv_count  |                        HUGEINT                         | YES  | None |   None  |  None |\n",
       "| country_pv_area_m2 |                         DOUBLE                         | YES  | None |   None  |  None |\n",
       "+--------------------+--------------------------------------------------------+------+------+---------+-------+"
      ]
     },
     "execution_count": 41,
     "metadata": {},
     "output_type": "execute_result"
    }
   ],
   "source": [
    "print(f\"\\n\\nSaved separate table with top level country geometries `{ov_divisions_table}`\\n\")\n",
    "%sql DESCRIBE country_geoms; "
   ]
  },
  {
   "cell_type": "markdown",
   "id": "f917a060",
   "metadata": {},
   "source": [
    "## Spatial Context Visualization"
   ]
  },
  {
   "cell_type": "markdown",
   "id": "31e9330c",
   "metadata": {},
   "source": [
    "### Enabling Regional, and National Analysis"
   ]
  },
  {
   "cell_type": "code",
   "execution_count": 42,
   "id": "a23b1eff",
   "metadata": {},
   "outputs": [],
   "source": [
    "# Get the list of countries from the Overture divisions table within given bbox\n",
    "def get_countries_in_bbox(bbox):\n",
    "    \n",
    "    available_countries = conn.execute(f\"\"\"\n",
    "    SELECT DISTINCT country\n",
    "    FROM {ov_divisions_table}\n",
    "    WHERE bbox.xmin >= {bbox['xmin']}\n",
    "        AND bbox.xmax <= {bbox['xmax']}\n",
    "        AND bbox.ymin >= {bbox['ymin']}\n",
    "        AND bbox.ymax <= {bbox['ymax']};\"\"\").fetchall()\n",
    "    available_countries = [row[0] for row in available_countries]\n",
    "    available_countries.sort() # sort alphabetically\n",
    "    # Create a dictionary mapping ISO codes to country names\n",
    "    country_name_to_iso = {}\n",
    "    for iso in available_countries:\n",
    "        try:\n",
    "            country = pycountry.countries.get(alpha_2=iso)\n",
    "            if country:\n",
    "                country_name_to_iso[country.name] = iso\n",
    "            else:\n",
    "                country_name_to_iso[iso] = iso\n",
    "        except:\n",
    "            country_name_to_iso[iso] = iso\n",
    "    return country_name_to_iso"
   ]
  },
  {
   "cell_type": "code",
   "execution_count": 43,
   "id": "6e17a11a",
   "metadata": {},
   "outputs": [
    {
     "data": {
      "application/vnd.jupyter.widget-view+json": {
       "model_id": "b784e4d9369f49298262faee4c40d473",
       "version_major": 2,
       "version_minor": 0
      },
      "text/plain": [
       "interactive(children=(Dropdown(description='Region:', layout=Layout(margin='20 20 auto 20 20', width='70%'), o…"
      ]
     },
     "metadata": {},
     "output_type": "display_data"
    }
   ],
   "source": [
    "# note this causes duckdb commands to not display correctly\n",
    "%config SqlMagic.autopandas = True\n",
    "from shapely import wkt\n",
    "# obtained by hand from this web tool: https://boundingbox.klokantech.com/\n",
    "region_bboxes = {\n",
    "    'Europe': {'xmin': -10.3537422571, 'ymin': 37.6758453719, 'xmax': 38.9601092499, 'ymax': 69.4103480224},\n",
    "    'North America': {'xmin': -168.9608207601, 'ymin': 14.1919805753, 'xmax': -11.8182066364, 'ymax': 82.358239202},\n",
    "    'South America': {'xmin': -78.832, 'ymin': -53.5, 'xmax': -34.5, 'ymax': 9.5},\n",
    "    'Caribbean and Central America': {'xmin': -92.4356240886, 'ymin': 6.0669772529, 'xmax': -58.9479149275, 'ymax': 22.7606175843},\n",
    "    'Africa': {'xmin': -24.6846926317, 'ymin': -34.1570435723, 'xmax': 59.3700034902, 'ymax': 38.9354816694},\n",
    "    'Asia': {'xmin': 36.4650442099, 'ymin': 5.9216789926, 'xmax': -170.1791801277, 'ymax': 75.65461693326},\n",
    "    'Oceania': {'xmin': 110.7980110873, 'ymin': -47.8675155043, 'xmax': -133.990553329, 'ymax': 5.2797365739}\n",
    "}\n",
    "\n",
    "def get_countries_gdf(country_isos):\n",
    "    # Get the countries in the selected region\n",
    "    cond = f\"country_iso IN ({', '.join([f'\\'{iso}\\'' for iso in country_isos])})\"\n",
    "    countries_gdf = conn.execute(f\"\"\"\n",
    "        SELECT division_id, country_iso, division_name, \n",
    "        CAST(country_pv_count AS INT) as country_pv_count,\n",
    "        CAST(country_pv_area_m2 AS FLOAT) as country_pv_area_m2, ST_AsText(geometry) AS geometry\n",
    "        FROM country_geoms as countries\n",
    "        WHERE {cond}\"\"\").df()\n",
    "    \n",
    "    countries_gdf = gpd.GeoDataFrame(\n",
    "        countries_gdf,\n",
    "        geometry=countries_gdf['geometry'].apply(wkt.loads),\n",
    "        crs=\"EPSG:4326\"\n",
    "    )\n",
    "\n",
    "    return countries_gdf\n",
    "\n",
    "def get_folium_region_map(region_gdf, region_bbox):\n",
    "\n",
    "    # total_bounds returns a  (minx, miny, maxx, maxy) tuple of the bounds of the series as a whole\n",
    "    # bounds = region_gdf.total_bounds\n",
    "    bbox = region_bbox\n",
    "    # print(f\"Region bbox: {bbox}\")\n",
    "    # get rough bbox center for init map view\n",
    "    bbox_center = {\n",
    "        'lat': (bbox['ymin'] + bbox['ymax']) / 2,\n",
    "        'lon': (bbox['xmin'] + bbox['xmax']) / 2\n",
    "    }\n",
    "    # get full region name from the gdf ISO 3166-2 region field\n",
    "    # region_gdf['region'] = region_gdf['region'].apply(lambda x: pycountry.subdivisions.get(code=x).name)\n",
    "    # print(f\"Region name: {region_gdf['region'].unique()}\")\n",
    "\n",
    "    # prepare map object\n",
    "    init_map_view = [bbox_center['lat'], bbox_center['lon']]\n",
    "    # Define a style function for the GeoJson layer\n",
    "    style_function = lambda x: {\n",
    "        'fillColor': 'lightblue',\n",
    "        'color': 'black',  # Border color\n",
    "        'weight': 1,       # Border weight\n",
    "        'fillOpacity': 0.5\n",
    "    }\n",
    "\n",
    "    # Define a highlight function for hover effect (optional)\n",
    "    highlight_function = lambda x: {\n",
    "        'fillColor': '#0000FF', # Change color on hover\n",
    "        'color': 'black',\n",
    "        'weight': 2,\n",
    "        'fillOpacity': 0.7\n",
    "    }\n",
    "\n",
    "    # Create a map of the globe and plot the bounding box over it\n",
    "    m = folium.Map(location=init_map_view, zoom_start=2, tiles='cartodb positron')\n",
    "    # from Folium docs: \"[(lat1, lon1), (lat2, lon2)] – Two lat lon pairs marking the two corners of the rectangle.\"\n",
    "    total_envelope_coords = [\n",
    "        (bbox['ymin'], bbox['xmin']),\n",
    "        (bbox['ymax'], bbox['xmax'])\n",
    "    ]\n",
    "    folium.Rectangle(\n",
    "        bounds=total_envelope_coords,\n",
    "        color='red',\n",
    "        fill=False,\n",
    "        weight=2\n",
    "    ).add_to(m)\n",
    "\n",
    "    # Add the GeoDataFrame to the map as a GeoJson layer\n",
    "    # Add the countries to the map\n",
    "    folium.GeoJson(\n",
    "        region_gdf,\n",
    "        name='Countries',\n",
    "        style_function=style_function,\n",
    "        highlight_function=highlight_function,\n",
    "        tooltip=folium.features.GeoJsonTooltip(\n",
    "            fields=['country_iso', 'division_name', 'country_pv_count' ],\n",
    "            aliases=['Country:', 'Name:', 'PV Count:'],\n",
    "            sticky=False,\n",
    "            style=\"background-color: white; color: black; font-family: arial; font-size: 14px; padding: 10px;\"\n",
    "        )\n",
    "    ).add_to(m)\n",
    "    return m\n",
    "\n",
    "# dropdown to choose region bbox\n",
    "region_dropdown = widgets.Dropdown(\n",
    "    options=list(region_bboxes.keys()),\n",
    "    description='Region:',\n",
    "    value='Europe',\n",
    "    disabled=False,\n",
    "    layout=Layout(width='70%', margin='20 20 auto 20 20')\n",
    ")\n",
    "render_out = widgets.Output()\n",
    "\n",
    "bbox = region_bboxes[region_dropdown.value]\n",
    "countries_in_region = conn.execute(f\"\"\"\n",
    "    SELECT DISTINCT country_iso\n",
    "    FROM country_geoms\n",
    "    WHERE ST_Intersects(geometry, ST_MakeEnvelope({bbox['xmin']}, {bbox['ymin']}, {bbox['xmax']}, {bbox['ymax']}));\"\"\").fetchall()\n",
    "countries_in_region = [row[0] for row in countries_in_region]\n",
    "countries_gdf = get_countries_gdf(countries_in_region)\n",
    "\n",
    "@interact(region=region_dropdown)\n",
    "def plot_region_bbox_global(region):\n",
    "    # display(region_dropdown)\n",
    "    bbox = region_bboxes[region]\n",
    "    print(f\"Selected region [{region}] with bbox: {bbox}\")\n",
    "    \n",
    "    # Get the countries in the selected region\n",
    "    countries_in_region = conn.execute(f\"\"\"\n",
    "    SELECT DISTINCT country_iso\n",
    "    FROM country_geoms\n",
    "    WHERE ST_Intersects(geometry, ST_MakeEnvelope({bbox['xmin']}, {bbox['ymin']}, {bbox['xmax']}, {bbox['ymax']}));\"\"\").fetchall()\n",
    "    countries_in_region = [row[0] for row in countries_in_region]\n",
    "    countries_with_pv = conn.execute(f\"\"\"SELECT COUNT(DISTINCT division_country) FROM {TABLE_NAME} WHERE division_country IN ({', '.join([f'\\'{iso}\\'' for iso in countries_in_region])});\"\"\").fetchall()[0][0]\n",
    "    countries_gdf = get_countries_gdf(countries_in_region)\n",
    "    print(f\"Region bbox contains {countries_with_pv} / {len(countries_gdf)} countries with PV labels.\")\n",
    "    # countries_gdf.plot(column=\"country_pv_area_m2\", cmap='OrRd', legend=True)\n",
    "    with render_out:\n",
    "        # Clear previous output\n",
    "        render_out.clear_output(wait=True)\n",
    "        # Create the map\n",
    "        # m = None\n",
    "        m = get_folium_region_map(countries_gdf, bbox)\n",
    "        # display the map\n",
    "        display(m)\n",
    "    display(render_out)\n",
    "# plot_region_bbox_global(region_dropdown.value)"
   ]
  },
  {
   "cell_type": "code",
   "execution_count": 50,
   "id": "3867a8c2",
   "metadata": {},
   "outputs": [
    {
     "name": "stdout",
     "output_type": "stream",
     "text": [
      "Caribbean and Central America\n",
      "['CU', 'JM', 'VE', 'DM', 'GY', 'VC', 'LC', 'NI', 'KN', 'BS', 'TT', 'BB', 'HT', 'AG', 'GT', 'MF', 'GD', 'SV', 'CR', 'MX', 'BZ', 'CO', 'HN', 'PA', 'SX', 'DO']\n"
     ]
    },
    {
     "data": {
      "image/png": "[encoded data removed]",
      "text/plain": [
       "<Figure size 1000x600 with 2 Axes>"
      ]
     },
     "metadata": {},
     "output_type": "display_data"
    }
   ],
   "source": [
    "# generate a simple chloropleth map of the countries in the selected region\n",
    "# generate a simple chloropleth map of the countries in the selected region\n",
    "# Common cmap options include: 'viridis', 'plasma', 'inferno', 'magma', 'cividis', \n",
    "# 'Greys', 'Purples', 'Blues', 'Greens', 'Oranges', 'Reds', \n",
    "# 'YlOrBr', 'YlOrRd', 'PuRd', 'RdPu', 'BuPu', 'GnBu', 'PuBu', 'YlGnBu', 'PuBuGn', 'BuGn', 'YlGn'\n",
    "# Diverging: 'coolwarm', 'bwr', 'seismic'\n",
    "# Qualitative: 'tab10', 'tab20', 'Paired', 'Set1', 'Set2', 'Set3'\n",
    "print(region_dropdown.value)\n",
    "# TODO: fix region update\n",
    "bbox = region_bboxes[region_dropdown.value]\n",
    "countries_in_region = conn.execute(f\"\"\"\n",
    "    SELECT DISTINCT country_iso\n",
    "    FROM country_geoms\n",
    "    WHERE ST_Intersects(geometry, ST_MakeEnvelope({bbox['xmin']}, {bbox['ymin']}, {bbox['xmax']}, {bbox['ymax']}));\"\"\").fetchall()\n",
    "countries_in_region = [row[0] for row in countries_in_region]\n",
    "print(countries_in_region)\n",
    "countries_gdf = get_countries_gdf(countries_in_region)\n",
    "countries_gdf.plot(column=\"country_pv_area_m2\", cmap='viridis', legend=True, legend_kwds={'label': \"Total PV Area (m^2)\", 'orientation': \"horizontal\"}, figsize=(10, 6))\n",
    "plt.title(\"Countries colored by total PV area (m^2)\")\n",
    "# remove axes\n",
    "plt.axis('off')\n",
    "plt.show()"
   ]
  },
  {
   "cell_type": "code",
   "execution_count": 45,
   "id": "2c31b377",
   "metadata": {},
   "outputs": [
    {
     "data": {
      "application/vnd.jupyter.widget-view+json": {
       "model_id": "c8915623d94948afbbe5054425824a31",
       "version_major": 2,
       "version_minor": 0
      },
      "text/plain": [
       "interactive(children=(Dropdown(description='Country:', index=26, layout=Layout(margin='20 20 auto 20 20', widt…"
      ]
     },
     "metadata": {},
     "output_type": "display_data"
    }
   ],
   "source": [
    "# interactive plot to use geopandas' plot function\n",
    "country_name_to_iso = get_countries_in_bbox(region_bboxes[region_dropdown.value])\n",
    "random_default = random.choice(list(country_name_to_iso.keys()))\n",
    "country_select = widgets.Dropdown(\n",
    "    options=list(country_name_to_iso.keys()),\n",
    "    description='Country:',\n",
    "    value=random_default,\n",
    "    disabled=False,\n",
    "    layout=Layout(width='70%', margin='20 20 auto 20 20')\n",
    ")\n",
    "\n",
    "# temporarily \n",
    "\n",
    "# TODO: add region geoms so plot is meaningful\n",
    "@interact(country_name=country_select)\n",
    "def plot_country(country_name):\n",
    "    # Get the ISO code for the selected country\n",
    "    iso_code = country_name_to_iso[country_name]\n",
    "    \n",
    "    # Filter the GeoDataFrame for the selected country\n",
    "    filtered_gdf = get_countries_gdf([iso_code])\n",
    "    \n",
    "    # Plot the filtered GeoDataFrame\n",
    "    fig, ax = plt.subplots(figsize=(8, 12))\n",
    "    ax.set_title(f\"Countries colored by count of PV labels\")\n",
    "    ax.set_axis_off()\n",
    "    filtered_gdf.plot(column=\"country_pv_count\", ax=ax, legend=True, cmap='OrRd')\n",
    "    plt.show()"
   ]
  },
  {
   "cell_type": "markdown",
   "id": "1f905467",
   "metadata": {},
   "source": [
    "## Lonboard Visualization Functions\n",
    "\n",
    "Lonboard is a GPU-accelerated geospatial visualization library that's excellent for handling very large datasets. It's particularly useful for creating high-performance interactive visualizations of millions of data points."
   ]
  },
  {
   "cell_type": "code",
   "execution_count": 46,
   "id": "3cd4b2ba",
   "metadata": {},
   "outputs": [],
   "source": [
    "# %config SqlMagic.autopandas = True\n",
    "\n",
    "# 1. Get ISO codes\n",
    "# Countries for filtering\n",
    "country_isos = get_countries_in_bbox(region_bboxes[region_dropdown.value])\n",
    "div_countries = list(country_isos.keys())\n",
    "\n",
    "# valid data for H3ClusterLayer\n",
    "\n",
    "# --- Database Connection and Query ---\n",
    "# db_path = str(out_consolidated_db) # Use db path from CELL 24/49\n",
    "pv_table_name = TABLE_NAME\n",
    "h3_col = f\"h3_res_{common_h3_res}\"\n",
    " \n",
    "\n",
    "# h3_agg_df = pd.DataFrame(columns=[h3_col, 'region' 'pv_count', 'total_area_m2', 'hex_ids'])\n",
    "\n",
    "view_lat, view_lon = 48.0, 9.0  # Default center (Central Europe)\n",
    "    \n",
    "# Create country selection dropdown\n",
    "country_dropdown = widgets.Dropdown(\n",
    "    options=div_countries,\n",
    "    value=div_countries[0] if div_countries else None,\n",
    "    description='Country:',\n",
    "    disabled=False\n",
    ")\n",
    "\n",
    "def get_country_hex_cells(gdf, country_iso, h3_col):\n",
    "    # aggregate our pv labels by h3_col and filter to country selected in dropdown\n",
    "    h3_agg_query = f\"\"\"\n",
    "    SELECT \n",
    "        h3_h3_to_string({h3_col}) as hex, division_region as region,\n",
    "        COUNT(*) AS pv_count, SUM(area_m2) AS total_area_m2\n",
    "    FROM {TABLE_NAME}\n",
    "    -- only aggregate one type of division to avoid double counting pv labels that match with multiple divisions (almost all)\n",
    "    WHERE division_country = '{country_isos[country_dropdown.value]}' and division_subtype = 'region'\n",
    "    GROUP BY {h3_col}, division_region\n",
    "    -- HAVING COUNT(*) > 0\n",
    "    \"\"\"\n",
    "    # conn.install_extension(\"h3\", \"community\")\n",
    "    # conn.load_extension(\"h3\")\n",
    "    results = conn.execute(h3_agg_query).fetchall()\n",
    "    # convert to DataFrame\n",
    "    gdf = pd.DataFrame(results, columns=gdf.columns)\n",
    "    # make sure hex is a string\n",
    "    gdf['hex'] = gdf['hex'].astype(str)\n",
    "    print(gdf['hex'].head())\n",
    "    # gdf = gpd.GeoDataFrame(\n",
    "    #     gdf,\n",
    "    #     geometry=gpd.GeoSeries.from_wkt(gdf['hex'].apply(h3.cell_to_boundary)),\n",
    "    #     crs=\"EPSG:4326\"\n",
    "    # )\n",
    "\n",
    "    return gdf"
   ]
  },
  {
   "cell_type": "code",
   "execution_count": 47,
   "id": "e7386f20",
   "metadata": {},
   "outputs": [],
   "source": [
    "# %% Helper Functions\n",
    "\n",
    "def get_country_iso_codes() -> dict:\n",
    "    \"\"\"Gets ISO 3166-1 alpha-2 codes for a list of country names.\"\"\"\n",
    "    # (Function remains the same as before)\n",
    "    # Countries for filtering; only include countries that are in our PV labels\n",
    "    div_countries = conn.execute(f\"\"\"SELECT DISTINCT division_country FROM country_geoms;\"\"\").fetchall()\n",
    "    div_country_isos = [row[0] for row in div_countries]\n",
    "    div_countries = []\n",
    "    for iso in div_country_isos:\n",
    "        try:\n",
    "            country = pycountry.countries.get(alpha_2=iso)\n",
    "            if country:\n",
    "                div_countries.append(country.name)\n",
    "            else:\n",
    "                div_countries.append(iso)\n",
    "        except:\n",
    "            div_countries.append(iso)\n",
    "\n",
    "    div_countries = [pycountry.countries.get(alpha_2=iso).name for iso in div_countries]\n",
    "    country_name_to_iso = dict(zip(div_countries, div_country_isos))\n",
    "\n",
    "    return country_name_to_iso\n",
    "\n",
    "def get_country_centroid(country_iso: str, db_conn: duckdb.DuckDBPyConnection) -> tuple | None:\n",
    "    \"\"\"Fetches the centroid coordinates for a given country ISO code.\"\"\"\n",
    "    # (Function remains the same as before)\n",
    "    if not db_conn: return None\n",
    "    try:\n",
    "        centroid_query = f\"\"\"\n",
    "        SELECT ST_Y(country_centroid) AS country_lat, ST_X(country_centroid) AS country_lon\n",
    "        FROM (\n",
    "            SELECT ST_Centroid(ST_MakeEnvelope(div_bbox.xmin, div_bbox.ymin, div_bbox.xmax, div_bbox.ymax)) AS country_centroid\n",
    "            FROM {pv_table_name} WHERE division_country = ? AND division_subtype = 'country' LIMIT 1\n",
    "        ) AS subquery;\n",
    "        \"\"\"\n",
    "        result = db_conn.execute(centroid_query, [country_iso]).fetchone()\n",
    "        return (result[0], result[1]) if result else (48.0, 9.0)\n",
    "    except Exception as e:\n",
    "        print(f\"Error fetching centroid for {country_iso}: {e}\")\n",
    "        return (48.0, 9.0)\n",
    "\n",
    "def get_country_geometry(country_iso: str, db_conn: duckdb.DuckDBPyConnection) -> Polygon | None:\n",
    "    \"\"\"Fetches the primary administrative boundary geometry for a country.\"\"\"\n",
    "    if not db_conn:\n",
    "        print(\"Database connection is not available for geometry fetch.\")\n",
    "        return None\n",
    "    try:\n",
    "        # Fetch all divisions for the country\n",
    "        geom_query = f\"\"\"\n",
    "        SELECT ST_AsWKB(geometry)\n",
    "        FROM {ov_divisions_table}\n",
    "        where country = '{country_iso}' and subtype = 'country';\n",
    "        \"\"\"\n",
    "        result = db_conn.execute(geom_query).fetchone()\n",
    "        if result and result[0]:\n",
    "            # Convert WKB back to Shapely geometry\n",
    "            from shapely import wkb\n",
    "            country_geom = wkb.loads(result[0])\n",
    "            print(f\"Fetched geometry for {country_iso} (Type: {country_geom.geom_type})\")\n",
    "            return country_geom\n",
    "        else:\n",
    "            print(f\"Warning: Could not find geometry for country ISO: {country_iso}\")\n",
    "            return None\n",
    "    except Exception as e:\n",
    "        print(f\"Error fetching geometry for {country_iso}: {e}\")\n",
    "        return None\n",
    "\n",
    "def safe_h3_to_polygon(h3_index: str) -> Polygon | None:\n",
    "    \"\"\"Safely converts an H3 index string to a Shapely Polygon.\"\"\"\n",
    "    # (Function remains the same as before)\n",
    "    try:\n",
    "        boundary_lon_lat = h3.cell_to_boundary(h3_index, geo_json=True)\n",
    "        return Polygon(boundary_lon_lat)\n",
    "    except ValueError: return None\n",
    "    except Exception: return None"
   ]
  },
  {
   "cell_type": "code",
   "execution_count": 57,
   "id": "412d764a",
   "metadata": {},
   "outputs": [],
   "source": [
    "def get_country_hex_data_as_gdf(country_iso: str, target_h3_res: int, db_conn: duckdb.DuckDBPyConnection) -> gpd.GeoDataFrame:\n",
    "    \"\"\"\n",
    "    Gets all H3 cells within a country's boundary using h3.polyfill and __geo_interface__,\n",
    "    joins PV aggregation data, adds geometry using h3pandas,\n",
    "    and returns a GeoDataFrame.\n",
    "    \"\"\"\n",
    "    if not db_conn:\n",
    "        print(\"Database connection is not available.\")\n",
    "        return gpd.GeoDataFrame()\n",
    "\n",
    "    # 1. Get Country Geometry\n",
    "    country_geom = get_country_geometry(country_iso, db_conn)\n",
    "    print(f\"Country geometry for {country_iso}: {country_geom}\")\n",
    "    if not country_geom:\n",
    "        return gpd.GeoDataFrame()\n",
    "\n",
    "    # 2. Get all H3 cells covering the geometry using h3.polyfill and __geo_interface__\n",
    "    try:\n",
    "        # Get the GeoJSON-like dictionary from the Shapely object\n",
    "        country_geojson_interface = country_geom.__geo_interface__\n",
    "        print(country_geojson_interface)\n",
    "        h3shape = h3.geo_to_h3shape(country_geojson_interface)\n",
    "        # h3shape = h3.geo_to_h3shape(country_geom)\n",
    "        print(f\"Filling geometry with H3 cells using h3.polyfill at resolution {target_h3_res}...\")\n",
    "        # Use geo_json_conformant=True because __geo_interface__ uses [lon, lat] order\n",
    "        all_cells_set = h3.h3shape_to_cells(h3shape, target_h3_res)\n",
    "        print(f\"Found {len(all_cells_set)} H3 cells covering {country_iso}.\")\n",
    "        print(all_cells_set)\n",
    "        if not all_cells_set:\n",
    "             print(f\"Warning: h3.polyfill returned no cells for {country_iso}.\")\n",
    "             return gpd.GeoDataFrame()\n",
    "        all_cells_list = list(all_cells_set) # Convert set to list\n",
    "        print(f\"Found {len(all_cells_list)} H3 cells covering {country_iso}.\")\n",
    "    except Exception as e:\n",
    "        print(f\"Error during h3.polyfill for {country_iso}: {e}\")\n",
    "        return gpd.GeoDataFrame()\n",
    "\n",
    "    # 3. Create DataFrame of all H3 cells and set H3 index for h3pandas\n",
    "    all_country_cells_df = pd.DataFrame({'hex_id': all_cells_list}).set_index('hex_id')\n",
    "\n",
    "    # 4. Aggregate PV data for these cells from DuckDB\n",
    "    h3_col_in_pv_table = f\"h3_res_{h3_resolution}\" # Use the global resolution variable\n",
    "    # Create a list of values string for the SQL query (e.g., \"('id1'), ('id2'), ...\")\n",
    "    values_list_str = ', '.join([f'(\\'{cell}\\')' for cell in all_cells_list])\n",
    "    if not values_list_str: # Handle case where polyfill returns empty list\n",
    "        print(\"No relevant cells found to query PV data.\")\n",
    "        pv_agg_df = pd.DataFrame(columns=['hex', 'pv_count', 'total_area_m2'])\n",
    "    else:\n",
    "        h3_agg_query = f\"\"\"\n",
    "        WITH RelevantCells AS (\n",
    "            SELECT column0 AS hex_id FROM (VALUES {values_list_str})\n",
    "        )\n",
    "        SELECT\n",
    "            h3_h3_to_string({h3_col_in_pv_table}) as hex,\n",
    "            COUNT(*) AS pv_count,\n",
    "            SUM(area_m2) AS total_area_m2\n",
    "        FROM {pv_table_name}\n",
    "        INNER JOIN RelevantCells ON h3_h3_to_string({h3_col_in_pv_table}) = RelevantCells.hex_id\n",
    "        WHERE division_country = ?\n",
    "        GROUP BY hex;\n",
    "        \"\"\"\n",
    "        try:\n",
    "            print(f\"Aggregating PV data for relevant cells in {country_iso}...\")\n",
    "            pv_agg_df = db_conn.execute(h3_agg_query, [country_iso]).fetchdf()\n",
    "            print(f\"Found PV data for {len(pv_agg_df)} cells.\")\n",
    "        except Exception as e:\n",
    "            print(f\"Error aggregating PV data: {e}\")\n",
    "            pv_agg_df = pd.DataFrame(columns=['hex', 'pv_count', 'total_area_m2'])\n",
    "\n",
    "    # 5. Use h3pandas to add geometry boundary to the DataFrame of all cells\n",
    "    print(\"Generating hexagon geometries using h3pandas...\")\n",
    "    try:\n",
    "        gdf_all_cells = all_country_cells_df.h3.h3_to_geo_boundary()\n",
    "        gdf_all_cells = gdf_all_cells.reset_index().rename(columns={'hex_id': 'hex'})\n",
    "        print(f\"Generated geometries for {len(gdf_all_cells)} cells.\")\n",
    "    except Exception as e:\n",
    "        print(f\"Error using h3pandas to generate geometries: {e}\")\n",
    "        return gpd.GeoDataFrame()\n",
    "\n",
    "    # 6. Left join the GeoDataFrame with aggregated PV data\n",
    "    print(\"Joining all country cells (with geometry) with PV aggregates...\")\n",
    "    if not pv_agg_df.empty:\n",
    "        pv_agg_df['hex'] = pv_agg_df['hex'].astype(str)\n",
    "    merged_gdf = pd.merge(gdf_all_cells, pv_agg_df, on='hex', how='left')\n",
    "\n",
    "    # 7. Fill NaNs and set CRS\n",
    "    merged_gdf['pv_count'] = merged_gdf['pv_count'].fillna(0).astype(int)\n",
    "    merged_gdf['total_area_m2'] = merged_gdf['total_area_m2'].fillna(0).astype(float)\n",
    "    merged_gdf.crs = 'EPSG:4326'\n",
    "    print(f\"Created final GeoDataFrame with {len(merged_gdf)} polygons for {country_iso}.\")\n",
    "    return merged_gdf"
   ]
  },
  {
   "cell_type": "code",
   "execution_count": 58,
   "id": "13c04ec3",
   "metadata": {},
   "outputs": [
    {
     "name": "stdout",
     "output_type": "stream",
     "text": [
      "Countries with PV labels: {'RO', 'EE', 'FI', 'CY', 'PH', 'SV', 'EC', 'OM', 'NA', 'RS', 'BF', 'GG', 'VU', 'AL', 'UA', 'PT', 'UY', 'QA', 'VI', 'KN', 'BH', 'BB', 'ML', 'IN', 'AR', 'LC', 'IL', 'CN', 'NI', 'TO', 'NC', 'CV', 'PL', 'UZ', 'BG', 'GF', 'PR', 'BI', 'SI', 'BY', 'AF', 'TN', 'XK', 'SS', 'AU', 'MM', 'MQ', 'NG', 'JM', 'LI', 'BD', 'SH', 'CM', 'ER', 'KZ', 'MU', 'AT', 'AE', 'RW', 'GR', 'LT', 'PE', 'BE', 'AS', 'SK', 'GN', 'TR', 'US', 'DK', 'RU', 'DZ', 'HN', 'GT', 'JP', 'TD', 'AW', 'NL', 'GU', 'IR', 'LR', 'HR', 'ES', 'CR', 'TH', 'SY', 'UG', 'KP', 'PF', 'DE', 'JO', 'MY', 'DO', 'CZ', 'AM', 'ID', 'UM', 'GM', 'YT', 'RE', 'LS', 'MN', 'IE', 'BO', 'ZA', 'HK', 'LK', 'CA', 'ZW', 'GE', 'MK', 'BN', 'AG', 'AZ', 'SM', 'BA', 'HU', 'SN', 'LU', 'IT', 'SE', 'NZ', 'EG', 'CH', 'FR', 'TG', 'MR', 'BJ', 'CU', 'CO', 'PA', 'GB', 'GP', 'GH', 'LA', 'NO', 'MX', 'CL', 'TW', 'HT', 'WS', 'NP', 'KH', 'KR'}\n",
      "{'Antigua and Barbuda': 'AG', 'Anguilla': 'AI', 'Aruba': 'AW', 'Barbados': 'BB', 'Saint Barthélemy': 'BL', 'Bonaire, Sint Eustatius and Saba': 'BQ', 'Bahamas': 'BS', 'Belize': 'BZ', 'Colombia': 'CO', 'Costa Rica': 'CR', 'Cuba': 'CU', 'Curaçao': 'CW', 'Dominica': 'DM', 'Dominican Republic': 'DO', 'Grenada': 'GD', 'Guadeloupe': 'GP', 'Guatemala': 'GT', 'Guyana': 'GY', 'Honduras': 'HN', 'Haiti': 'HT', 'Jamaica': 'JM', 'Saint Kitts and Nevis': 'KN', 'Cayman Islands': 'KY', 'Saint Lucia': 'LC', 'Saint Martin (French part)': 'MF', 'Martinique': 'MQ', 'Montserrat': 'MS', 'Mexico': 'MX', 'Nicaragua': 'NI', 'Panama': 'PA', 'Puerto Rico': 'PR', 'El Salvador': 'SV', 'Sint Maarten (Dutch part)': 'SX', 'Turks and Caicos Islands': 'TC', 'Trinidad and Tobago': 'TT', 'United States Minor Outlying Islands': 'UM', 'Saint Vincent and the Grenadines': 'VC', 'Venezuela, Bolivarian Republic of': 'VE', 'Virgin Islands, British': 'VG', 'Virgin Islands, U.S.': 'VI', 'XE': 'XE', 'XS': 'XS'}\n",
      "Valid countries with PV labels: {'Antigua and Barbuda': 'AG', 'Aruba': 'AW', 'Barbados': 'BB', 'Colombia': 'CO', 'Costa Rica': 'CR', 'Cuba': 'CU', 'Dominican Republic': 'DO', 'Guadeloupe': 'GP', 'Guatemala': 'GT', 'Honduras': 'HN', 'Haiti': 'HT', 'Jamaica': 'JM', 'Saint Kitts and Nevis': 'KN', 'Saint Lucia': 'LC', 'Martinique': 'MQ', 'Mexico': 'MX', 'Nicaragua': 'NI', 'Panama': 'PA', 'Puerto Rico': 'PR', 'El Salvador': 'SV', 'United States Minor Outlying Islands': 'UM', 'Virgin Islands, U.S.': 'VI'}\n",
      "Select a country from the dropdown to visualize its H3 grid using Lonboard.\n"
     ]
    },
    {
     "data": {
      "application/vnd.jupyter.widget-view+json": {
       "model_id": "22d56e01097a42cb8b0b3cece28bc2ee",
       "version_major": 2,
       "version_minor": 0
      },
      "text/plain": [
       "Dropdown(description='Country:', layout=Layout(width='300px'), options=('Antigua and Barbuda', 'Aruba', 'Barba…"
      ]
     },
     "metadata": {},
     "output_type": "display_data"
    },
    {
     "data": {
      "application/vnd.jupyter.widget-view+json": {
       "model_id": "e69707d93df7442098cd3b96d54a2127",
       "version_major": 2,
       "version_minor": 0
      },
      "text/plain": [
       "Output()"
      ]
     },
     "metadata": {},
     "output_type": "display_data"
    }
   ],
   "source": [
    "# %% Visualization Function (Lonboard)\n",
    "\n",
    "def create_lonboard_viz(gdf: gpd.GeoDataFrame, view_lat: float, view_lon: float) -> lonboard.Map | None:\n",
    "    \"\"\"Creates the Lonboard PolygonLayer visualization.\"\"\"\n",
    "    # (Function remains the same as the last working version)\n",
    "    if gdf.empty:\n",
    "        print(\"No data to visualize.\")\n",
    "        return None\n",
    "    try:\n",
    "        pv_counts_numeric = pd.to_numeric(gdf['pv_count'], errors='coerce').fillna(0)\n",
    "        values_array = pv_counts_numeric.to_numpy(dtype=float)\n",
    "        fill_colors_rgba = lonboard.colormap.apply_continuous_cmap(\n",
    "            values_array, cmap=cm.viridis, alpha=0.75\n",
    "        )\n",
    "        polygon_layer = lonboard.PolygonLayer.from_geopandas(\n",
    "            gdf,\n",
    "            get_fill_color=fill_colors_rgba,\n",
    "            get_line_color=[255, 255, 255, 80],\n",
    "            line_width_min_pixels=0.5,\n",
    "            pickable=True,\n",
    "            auto_highlight=True,\n",
    "        )\n",
    "        view_state_params = {\"latitude\": view_lat, \"longitude\": view_lon, \"zoom\": 6, \"pitch\": 30, \"bearing\": 0}\n",
    "        m = lonboard.Map(layers=[polygon_layer], view_state=view_state_params)\n",
    "        return m\n",
    "    except ImportError:\n",
    "        print(\"Error: Required libraries not found.\")\n",
    "        return None\n",
    "    except Exception as e:\n",
    "        print(f\"Error creating lonboard visualization: {e}\")\n",
    "        raise e # Re-raise to see full traceback\n",
    "\n",
    "# %% Main Execution Logic (with Widgets)\n",
    "\n",
    "# 1. Get map from Country Name -> ISO code\n",
    "bbox = country_select.value\n",
    "country_name_iso_map = get_countries_in_bbox(region_bboxes[region_dropdown.value])\n",
    "#  filter to countries that have pv_count > 0\n",
    "countries_with_pv = conn.execute(f\"\"\"SELECT DISTINCT division_country FROM {TABLE_NAME} WHERE unified_id is not null;\"\"\").fetchall()\n",
    "countries_with_pv = set([row[0] for row in countries_with_pv if row[0] is not None])\n",
    "print(f\"Countries with PV labels: {countries_with_pv}\")\n",
    "print(country_name_iso_map)\n",
    "valid_countries = {k: v for k, v in country_name_iso_map.items() if v in countries_with_pv}\n",
    "print(f\"Valid countries with PV labels: {valid_countries}\")\n",
    "# region_countries = sorted(list(country_name_iso_map.keys()))\n",
    "valid_countries = sorted(list(valid_countries.keys())) # Sort for usability\n",
    "\n",
    "# 2. Create Widgets\n",
    "country_dropdown = widgets.Dropdown(\n",
    "    options=valid_countries,\n",
    "    value=valid_countries[0] if valid_countries else None,\n",
    "    description='Country:',\n",
    "    disabled=False if valid_countries else True,\n",
    "    layout=widgets.Layout(width='300px')\n",
    ")\n",
    "\n",
    "# Output widget to display the map\n",
    "map_output = widgets.Output()\n",
    "\n",
    "# 3. Define Update Function for Visualization\n",
    "def update_visualization(selected_country):\n",
    "    \"\"\"Fetches data and updates the map in the output widget.\"\"\"\n",
    "    with map_output:\n",
    "        clear_output(wait=True)\n",
    "        print(f\"--- Updating map for: {selected_country} ---\")\n",
    "        conn = get_duckdb_connection(db_file)\n",
    "        if 'conn' not in locals() or conn is None:\n",
    "             print(\"Database connection error. Cannot update map.\")\n",
    "             return\n",
    "\n",
    "        country_iso = country_name_iso_map.get(selected_country) # Use the map\n",
    "        print(f\"Selected country ISO: {country_iso}\")\n",
    "        if not country_iso:\n",
    "            print(f\"ISO code not found for {selected_country}.\")\n",
    "            return\n",
    "\n",
    "        # Fetch aggregated hex data AS GeoDataFrame using the new logic\n",
    "        country_hex_gdf = get_country_hex_data_as_gdf(country_iso, h3_col, conn)\n",
    "        print(f\"Fetched {len(country_hex_gdf)} hex cells for {selected_country}.\")\n",
    "\n",
    "        # Fetch centroid\n",
    "        center_lat, center_lon = get_country_centroid(country_iso, conn)\n",
    "\n",
    "        if center_lat is None or center_lon is None:\n",
    "            print(\"Could not determine map center.\")\n",
    "            return\n",
    "\n",
    "        print(f\"Map centered on {selected_country}: Lat={center_lat:.4f}, Lon={center_lon:.4f}\")\n",
    "\n",
    "        # Create and display the Lonboard visualization\n",
    "        lonboard_map = create_lonboard_viz(country_hex_gdf, center_lat, center_lon)\n",
    "\n",
    "        if lonboard_map:\n",
    "            print(f\"Displaying Lonboard map for {selected_country}...\")\n",
    "            display(lonboard_map)\n",
    "        else:\n",
    "            print(f\"No visualization generated for {selected_country}.\")\n",
    "        print(f\"--- Finished update for: {selected_country} ---\")\n",
    "\n",
    "# 4. Link Dropdown to Update Function using interactive_output\n",
    "widgets.interactive_output(update_visualization, {'selected_country': country_dropdown})\n",
    "\n",
    "# 5. Display Widgets\n",
    "print(\"Select a country from the dropdown to visualize its H3 grid using Lonboard.\")\n",
    "display(country_dropdown, map_output)\n",
    "# Trigger initial display for the default country if available\n",
    "if country_dropdown.value:\n",
    "    update_visualization(country_dropdown.value)"
   ]
  },
  {
   "cell_type": "code",
   "execution_count": null,
   "id": "4bd36833",
   "metadata": {},
   "outputs": [
    {
     "name": "stdout",
     "output_type": "stream",
     "text": [
      "Result: None\n"
     ]
    }
   ],
   "source": [
    "geom_query = f\"\"\"\n",
    "    SELECT ST_AsWKB(geometry)\n",
    "    FROM {ov_divisions_table}\n",
    "    where country = '{country_dropdown.value}' and subtype = 'country';\n",
    "    \"\"\"\n",
    "result = conn.execute(geom_query).fetchone()\n",
    "print(f\"Result: {result}\")"
   ]
  },
  {
   "cell_type": "markdown",
   "id": "6e4d47a9",
   "metadata": {},
   "source": [
    "### [Optional] Drop Overture Maps Divisions \n",
    "\n",
    "Now that we have the metadata for the Overture Maps Divisions that matches our PV labels, we can drop the \n",
    "large (~6.4GB without filtering by country or subtype) Divisions table from our DuckDB database and simply query the Overture Maps S3 bucket for the relevant division geometries when needed."
   ]
  },
  {
   "cell_type": "code",
   "execution_count": null,
   "id": "afd56a79",
   "metadata": {},
   "outputs": [
    {
     "data": {
      "application/vnd.jupyter.widget-view+json": {
       "model_id": "163a709b82b8428fae2e166fd7a08703",
       "version_major": 2,
       "version_minor": 0
      },
      "text/plain": [
       "VBox(children=(HTML(value='\\n    <div style=\"color: #d9534f; font-size: 1.5em; font-weight: bold; text-align: …"
      ]
     },
     "execution_count": 51,
     "metadata": {},
     "output_type": "execute_result"
    }
   ],
   "source": [
    "from IPython.display import display, clear_output\n",
    "\n",
    "# display large widget text and large warning button in a layout \n",
    "# Create a warning message with HTML widget\n",
    "warning_text = widgets.HTML(\n",
    "    value=\"\"\"\n",
    "    <div style=\"color: #d9534f; font-size: 1.5em; font-weight: bold; text-align: center; \n",
    "               padding: 20px; border: 2px solid #d9534f; border-radius: 10px; background-color: #f9f2f4;\">\n",
    "    ⚠️ WARNING: This will permanently delete the Overture Maps Divisions table (~6.4GB) from the database and will need to be re-downloaded.<br>\n",
    "    Only do this if you're SURE you no longer need direct access to the division geometries.\n",
    "    </div>\n",
    "    \"\"\",\n",
    "    layout=widgets.Layout(margin=\"10px 0px 20px 0px\")\n",
    ")\n",
    "\n",
    "# Create a drop table button with warning styling\n",
    "drop_button = widgets.Button(\n",
    "    description=\"DROP Overture Divisions Table\",\n",
    "    button_style=\"danger\",\n",
    "    icon=\"trash\",\n",
    "    layout=widgets.Layout(width=\"80%\", height=\"60px\", margin=\"0 auto\", \n",
    "                          font_weight=\"bold\", font_size=\"1.2em\")\n",
    ")\n",
    "\n",
    "# Function to drop the table\n",
    "def drop_divisions_table(b):\n",
    "    \n",
    "    # Create output area to show results\n",
    "    output = widgets.Output()\n",
    "    display(output)\n",
    "    \n",
    "    with output:\n",
    "        clear_output(wait=True)\n",
    "        print(f\"Dropping table {ov_divisions_table}...\")\n",
    "        try:\n",
    "            # Use SQL magic to drop the table\n",
    "            %sql DROP TABLE IF EXISTS {{ov_divisions_table}};\n",
    "            print(f\"✅ Table {ov_divisions_table} successfully dropped!\")\n",
    "        except Exception as e:\n",
    "            print(f\"❌ Error dropping table: {e}\")\n",
    "\n",
    "# Connect the function to the button click event\n",
    "drop_button.on_click(drop_divisions_table)\n",
    "\n",
    "# Create the final layout\n",
    "widgets.VBox([warning_text, drop_button], \n",
    "            layout=widgets.Layout(width=\"70%\", margin=\"0 auto\", padding=\"20px\", \n",
    "                                 border=\"1px solid #d9534f\", border_radius=\"10px\"))"
   ]
  },
  {
   "cell_type": "code",
   "execution_count": null,
   "id": "443f7f6b",
   "metadata": {},
   "outputs": [
    {
     "ename": "NameError",
     "evalue": "name 'fetch_cubo_stac_rasters_samples' is not defined",
     "output_type": "error",
     "traceback": [
      "\u001b[31m---------------------------------------------------------------------------\u001b[39m",
      "\u001b[31mNameError\u001b[39m                                 Traceback (most recent call last)",
      "\u001b[36mCell\u001b[39m\u001b[36m \u001b[39m\u001b[32mIn[52]\u001b[39m\u001b[32m, line 1\u001b[39m\n\u001b[32m----> \u001b[39m\u001b[32m1\u001b[39m stac_items = fetch_cubo_stac_rasters_samples(ds_gdf_h3, visualize_set=\u001b[38;5;28;01mTrue\u001b[39;00m, sample_size=\u001b[32m5\u001b[39m)\n\u001b[32m      2\u001b[39m stac_items\n",
      "\u001b[31mNameError\u001b[39m: name 'fetch_cubo_stac_rasters_samples' is not defined"
     ]
    }
   ],
   "source": [
    "stac_items = fetch_cubo_stac_rasters_samples(ds_gdf_h3, visualize_set=True, sample_size=5)\n",
    "stac_items"
   ]
  },
  {
   "cell_type": "code",
   "execution_count": null,
   "id": "3260f202",
   "metadata": {},
   "outputs": [],
   "source": [
    "# visualize one of the samples\n",
    "np.random.seed(42)\n",
    "# print(pv_da)\n",
    "# pv_da = samples.isel(time=0)\n",
    "pv_uniq = stac_items.groupby('time').first()\n",
    "(pv_uniq.sel(band=[\"B04\",\"B03\",\"B02\"])/5000).clip(0,1).plot.imshow(col=\"time\",col_wrap = 3)"
   ]
  },
  {
   "cell_type": "code",
   "execution_count": null,
   "id": "263c5aff",
   "metadata": {},
   "outputs": [],
   "source": [
    "# def create_temporal_animation(stacked_data, output_path=\"pv_animation.gif\"):\n",
    "#     \"\"\"Create an animated GIF showing temporal changes\"\"\"\n",
    "#     import matplotlib.pyplot as plt\n",
    "#     import matplotlib.animation as animation\n",
    "    \n",
    "#     # Prepare RGB data\n",
    "#     rgb_data = []\n",
    "#     for t in stacked_data.time.values:\n",
    "#         # rgb = visualize_enhanced_rgb(stacked_data.sel(time=t))\n",
    "#         rgb_data.append(rgb.transpose(\"y\", \"x\", \"band\").values)\n",
    "    \n",
    "#     # Create animation\n",
    "#     fig, ax = plt.figure(figsize=(10, 10)), plt.gca()\n",
    "    \n",
    "#     # Create initial image\n",
    "#     im = ax.imshow(rgb_data[0])\n",
    "#     ax.set_axis_off()\n",
    "    \n",
    "#     # Define update function for animation\n",
    "#     def update(frame):\n",
    "#         im.set_array(rgb_data[frame])\n",
    "#         ax.set_title(f\"Date: {stacked_data.time.values[frame]}\")\n",
    "#         return [im]\n",
    "    \n",
    "#     # Create and save animation\n",
    "#     ani = animation.FuncAnimation(fig, update, frames=len(rgb_data), interval=500)\n",
    "#     ani.save(output_path, writer='pillow')\n",
    "    \n",
    "#     return ani"
   ]
  },
  {
   "cell_type": "code",
   "execution_count": null,
   "id": "2c1a5ae1",
   "metadata": {},
   "outputs": [],
   "source": [
    "# create_temporal_animation(stac_items[0], output_path=\"pv_animation.gif\")"
   ]
  },
  {
   "cell_type": "code",
   "execution_count": null,
   "id": "b0271880",
   "metadata": {},
   "outputs": [],
   "source": [
    "# import pystac_client\n",
    "# import pystac\n",
    "# import geopandas as gpd\n",
    "# from shapely.geometry import box\n",
    "# import matplotlib.pyplot as plt\n",
    "# import warnings\n",
    "\n",
    "# # Suppress specific UserWarning from pystac_client about ItemSearch link\n",
    "# warnings.filterwarnings(\"ignore\", message=\"Server does not conform to ITEM_SEARCH.*\", category=UserWarning)\n",
    "\n",
    "# # --- Configuration ---\n",
    "# MAXAR_OPEN_DATA_CATALOG_URL = \"https://maxar-opendata.s3.amazonaws.com/events/catalog.json\"\n",
    "\n",
    "# # --- STAC Traversal ---\n",
    "# print(f\"Connecting to catalog: {MAXAR_OPEN_DATA_CATALOG_URL}...\")\n",
    "# all_items = []\n",
    "# try:\n",
    "#     # Open the root STAC Catalog\n",
    "#     root_catalog = pystac_client.Client.open(MAXAR_OPEN_DATA_CATALOG_URL)\n",
    "#     print(\"Successfully connected to root catalog.\")\n",
    "\n",
    "#     # Get top-level children (likely Collections or Catalogs representing events)\n",
    "#     print(\"Fetching top-level children (Events)...\")\n",
    "#     top_children = list(root_catalog.get_children())\n",
    "#     print(f\"Found {len(top_children)} top-level children (Events).\")\n",
    "\n",
    "#     # Iterate through the top-level children (Events)\n",
    "#     for event_child in top_children:\n",
    "#         print(f\"\\nProcessing Event Child: {event_child.id} ({type(event_child)})...\")\n",
    "#         try:\n",
    "#             # Attempt to get items directly from this event child\n",
    "#             # get_items() should work for both Catalog and Collection objects if they contain items\n",
    "#             print(f\"  Fetching items from {event_child.id}...\")\n",
    "#             # Resolve the child first if it's just a link (get_children often returns resolved)\n",
    "#             # event_child.resolve_stac_object() # Might be needed if get_children returns unresolved links\n",
    "\n",
    "#             items_in_event = list(event_child.get_items(recursive=False)) # Use recursive=True just in case\n",
    "#             if items_in_event:\n",
    "#                  print(f\"    Found {len(items_in_event)} items directly in {event_child.id}.\")\n",
    "#                  all_items.extend(items_in_event)\n",
    "#           #   else:\n",
    "#           #        # If no items directly, check if it has children itself (deeper nesting)\n",
    "#           #        print(f\"    No items found directly in {event_child.id}. Checking for sub-children...\")\n",
    "#           #        try:\n",
    "#           #             sub_children = list(event_child.get_children())\n",
    "#           #             if sub_children:\n",
    "#           #                  print(f\"    Found {len(sub_children)} sub-children in {event_child.id}.\")\n",
    "#           #                  for sub_child in sub_children:\n",
    "#           #                       print(f\"      Fetching items from sub-child: {sub_child.id}...\")\n",
    "#           #                       try:\n",
    "#           #                            items_in_sub = list(sub_child.get_items(recursive=True))\n",
    "#           #                            print(f\"        Found {len(items_in_sub)} items in {sub_child.id}.\")\n",
    "#           #                            all_items.extend(items_in_sub)\n",
    "#           #                       except Exception as sub_item_err:\n",
    "#           #                            print(f\"        Error fetching items from {sub_child.id}: {sub_item_err}\")\n",
    "#           #             else:\n",
    "#           #                  print(f\"    No sub-children found in {event_child.id}.\")\n",
    "#           #        except Exception as sub_child_err:\n",
    "#           #             print(f\"    Error fetching sub-children for {event_child.id}: {sub_child_err}\")\n",
    "\n",
    "#         except AttributeError as ae:\n",
    "#              # Handle cases where an object might not have get_items or get_children\n",
    "#              print(f\"  Skipping {event_child.id}, does not appear to be a Catalog/Collection or error occurred: {ae}\")\n",
    "#         except Exception as event_err:\n",
    "#             print(f\"  Error processing {event_child.id}: {event_err}\")\n",
    "\n",
    "\n",
    "#     print(f\"\\nTotal items fetched from all events: {len(all_items)}\")\n",
    "\n",
    "#     # --- Data Extraction and Preparation --- (Same as before)\n",
    "#     if not all_items:\n",
    "#         print(\"No items found after traversing. Exiting.\")\n",
    "#     else:\n",
    "#         print(\"Extracting bounding boxes...\")\n",
    "#         bboxes = []\n",
    "#         item_ids = []\n",
    "#         for item in all_items:\n",
    "#             if item.bbox:\n",
    "#                 bboxes.append(item.bbox)\n",
    "#                 item_ids.append(item.id)\n",
    "#             else:\n",
    "#                 # It's also possible geometry exists but not bbox\n",
    "#                 if item.geometry:\n",
    "#                      try:\n",
    "#                           # Calculate bbox from geometry (more expensive)\n",
    "#                           min_lon, min_lat, max_lon, max_lat = gpd.GeoSeries([item.geometry], crs=\"EPSG:4326\").total_bounds\n",
    "#                           bboxes.append([min_lon, min_lat, max_lon, max_lat])\n",
    "#                           item_ids.append(item.id)\n",
    "#                           print(f\"Info: Item {item.id} using geometry bounds.\")\n",
    "#                      except Exception as geom_err:\n",
    "#                           print(f\"Warning: Item {item.id} has no bbox and failed to get bounds from geometry: {geom_err}\")\n",
    "#                 else:\n",
    "#                      print(f\"Warning: Item {item.id} has no bbox or geometry.\")\n",
    "\n",
    "\n",
    "#         if not bboxes:\n",
    "#              print(\"No items with bounding boxes found. Cannot plot.\")\n",
    "#         else:\n",
    "#             # Convert bounding boxes (min_lon, min_lat, max_lon, max_lat) to Shapely polygons\n",
    "#             geometries = [box(min_lon, min_lat, max_lon, max_lat) for min_lon, min_lat, max_lon, max_lat in bboxes]\n",
    "\n",
    "#             # Create a GeoDataFrame\n",
    "#             gdf_items = gpd.GeoDataFrame({'id': item_ids, 'geometry': geometries}, crs=\"EPSG:4326\")\n",
    "#             print(f\"Created GeoDataFrame with {len(gdf_items)} item extents.\")\n",
    "#             print(gdf_items.head()) # Display first few rows\n",
    "\n",
    "#             # --- Plotting --- (Same as before)\n",
    "#             print(\"Plotting item extents...\")\n",
    "#             world = gpd.read_file(gpd.datasets.get_path('naturalearth_lowres'))\n",
    "#             fig, ax = plt.subplots(1, 1, figsize=(15, 10))\n",
    "#             world.plot(ax=ax, color='lightgray', edgecolor='black')\n",
    "#             gdf_items.plot(ax=ax, color='red', alpha=0.5, edgecolor='red', linewidth=0.5) # Adjusted linewidth\n",
    "#             ax.set_title(f'Maxar Open Data Catalog Item Extents ({len(gdf_items)} items)')\n",
    "#             ax.set_xlabel('Longitude')\n",
    "#             ax.set_ylabel('Latitude')\n",
    "#             # Consider setting limits based on data extent if it's geographically concentrated\n",
    "#             minx, miny, maxx, maxy = gdf_items.total_bounds\n",
    "#             ax.set_xlim(minx - 2, maxx + 2) # Add padding\n",
    "#             ax.set_ylim(miny - 2, maxy + 2)\n",
    "#             plt.tight_layout() # Adjust layout\n",
    "#             plt.show()\n",
    "#             print(\"Plotting complete.\")\n",
    "\n",
    "# except Exception as e:\n",
    "#     print(f\"An error occurred during catalog processing: {e}\")"
   ]
  },
  {
   "cell_type": "code",
   "execution_count": null,
   "id": "c6099559",
   "metadata": {},
   "outputs": [],
   "source": [
    "# from maxar_platform.session import session\n",
    "# session.login()"
   ]
  },
  {
   "cell_type": "code",
   "execution_count": null,
   "id": "a26e7244",
   "metadata": {
    "scrolled": true
   },
   "outputs": [],
   "source": [
    "# # --- Pydeck Visualization ---\n",
    "# country_gdf = pd.DataFrame(columns=['hex', 'region', 'pv_count', 'total_area_m2'])\n",
    "# selected_country = country_dropdown.value\n",
    "# country_iso = country_isos[selected_country]\n",
    "# country_gdf = get_country_hex_cells(country_gdf, country_iso, h3_col)\n",
    "# print(f\"Aggregated {len(country_gdf)} H3 cells for {selected_country}.\")\n",
    "# # check df column data types\n",
    "# print(country_gdf.dtypes)\n",
    "# country_center = conn.execute(f\"\"\"SELECT ST_X(country_centroid) AS country_lon, ST_Y(country_centroid) AS country_lat\n",
    "#     FROM (SELECT ST_Centroid(ST_MakeEnvelope(div_bbox.xmin, div_bbox.ymin, div_bbox.xmax, div_bbox.ymax)) AS country_centroid \n",
    "#     FROM {TABLE_NAME}\n",
    "#     WHERE division_country = '{country_iso}' and division_subtype = 'country'\n",
    "#     LIMIT 1) AS subquery\n",
    "#     \"\"\").fetchone()\n",
    "# # Calculate the center point from our data\n",
    "# view_lat = country_center[1]\n",
    "# view_lon = country_center[0]\n",
    "# print(f\"Map centered on {selected_country}: Lat={view_lat:.4f}, Lon={view_lon:.4f}\")\n",
    "\n",
    "# # print(country_gdf)\n",
    "\n",
    "# if not country_gdf.empty:\n",
    "    \n",
    "#     # Function to update map based on country selection\n",
    "#     # def update_map(change):\n",
    "#     #     if change['type'] == 'change' and change['name'] == 'value':\n",
    "#     #         selected_country = change['new']\n",
    "\n",
    "#     #         try:\n",
    "#     #             global country_gdf\n",
    "#     #             # Get ISO code for selected country\n",
    "#     #             country_iso = country_isos[selected_country]\n",
    "#     #             country_gdf = get_country_hex_cells(country_gdf, country_iso, h3_col)\n",
    "\n",
    "#     #             if not country_gdf.empty:\n",
    "#     #                 country_center = conn.execute(f\"\"\"SELECT ST_X(country_centroid) AS country_lon, ST_Y(country_centroid) AS country_lat\n",
    "#     #                 FROM (SELECT ST_Centroid(CAST(division_bbox AS Box_2D)) AS country_centroid FROM {TABLE_NAME})\n",
    "#     #                 WHERE division_country = '{country_isos[country_dropdown.value]}' and division_subtype = 'country'\n",
    "#     #                 \"\"\").fetchone()[0]\n",
    "#     #                 # Calculate the center point from our data\n",
    "#     #                 view_lat = country_center[1]\n",
    "#     #                 view_lon = country_center[0]\n",
    "#     #                 print(f\"Map centered on {selected_country}: Lat={view_lat:.4f}, Lon={view_lon:.4f}\")\n",
    "                \n",
    "#     #             print(f\"Map centered on {selected_country}: Lat={view_lat:.4f}, Lon={view_lon:.4f}\")\n",
    "#     #             # print(f\"Aggregated {len(country_gdf)} H3 cells for {selected_country}.\")\n",
    "#     #             # conn.close()\n",
    "                \n",
    "#     #             # The map will be updated when the cell is re-run\n",
    "#     #             # For automatic updates, we would need to integrate with a framework like ipywidgets interactions\n",
    "                \n",
    "#     #         except Exception as e:\n",
    "#     #             print(f\"Error updating map for {selected_country}: {e}\")\n",
    "    \n",
    "#     # Register callback\n",
    "#     # country_dropdown.observe(update_map)\n",
    "\n",
    "#     # 4. Create Pydeck Layer\n",
    "#     # Simple color scale: more PV installations -> more red\n",
    "#     # Adjust divisor (pv_count + 10) based on typical counts for better color spread\n",
    "#     color_expression = \"[255, (1 - pv_count / (pv_count + 50)) * 255, 200]\" # RGBA (Added alpha)\n",
    "#     # data format for H3HexagonLayer is [{h3_index_col: <cell_hex>, \"attr1\": <value1>, \"attr2\": <value2>, ...}, ...]\n",
    "#     # Convert Dataframe to list of dictionaries\n",
    "\n",
    "#     h3_cells = country_gdf.to_dict(orient='records')\n",
    "#     # print(h3_cells)\n",
    "#     # display(country_gdf.sample(5))\n",
    "\n",
    "\n",
    "#     h3_layer = pdk.Layer(\n",
    "#         \"H3HexagonLayer\",\n",
    "#         # data=country_gdf,\n",
    "#         data=h3_cells,\n",
    "#         pickable=True,\n",
    "#         stroked=True, # Show hexagon outlines\n",
    "#         filled=True,\n",
    "#         extruded=True, # Start flat, can be toggled\n",
    "#         get_hexagon=\"hex\", # H3 index column\n",
    "#         get_fill_color=color_expression,\n",
    "#         get_line_color=[255, 255, 255, 100], # White outline with some transparency\n",
    "#         line_width_min_pixels=2,\n",
    "#         # Elevation can be based on count or area if extruded=True\n",
    "#         get_elevation=\"total_area_m2\",\n",
    "#         elevation_scale=1.8, # Needs tuning if extruded\n",
    "#         get_weight=\"pv_count\", # Used by the layer for internal calculations\n",
    "#         auto_highlight=True,\n",
    "#     )\n",
    "#     # print(f\"Created H3HexagonLayer: {h3_layer}\")\n",
    "\n",
    "#     # 5. Define Initial View State\n",
    "#     view_state = pdk.ViewState(\n",
    "#         latitude=view_lat,\n",
    "#         longitude=view_lon,\n",
    "#         zoom=5, # Adjust zoom level for selected countries\n",
    "#         pitch=40.5,\n",
    "#         bearing=-27.36\n",
    "#     )\n",
    "\n",
    "#     # pv_points = gpd.GeoDataFrame(columns=['lng', 'lat'])\n",
    "#     # pv_points['lng'] = ds_gdf_h3['geometry'].apply(lambda x: x.centroid.x)\n",
    "#     # pv_points['lat'] = ds_gdf_h3['geometry'].apply(lambda x: x.centroid.y)\n",
    "#     # print(pv_points.sample(5))\n",
    "\n",
    "#     # layer = pdk.Layer(\n",
    "#     #     \"HexagonLayer\",\n",
    "#     #     ,\n",
    "#     #     get_position=[\"lng\", \"lat\"],\n",
    "#     #     auto_highlight=True,\n",
    "#     #     elevation_scale=50,\n",
    "#     #     pickable=True,\n",
    "#     #     elevation_range=[0, 3000],\n",
    "#     #     extruded=True,\n",
    "#     #     coverage=1,\n",
    "#     # )\n",
    "\n",
    "#     # 6. Define Tooltip\n",
    "#     tooltip = {\n",
    "#         \"text\": \"Region: {region}\\nPV Count: {pv_count}\\nTotal Area (m²): {total_area_m2}\"\n",
    "#     }\n",
    "\n",
    "#     # --- Interactivity (Optional: Toggle Extrusion) ---\n",
    "#     extruded_checkbox = widgets.Checkbox(value=False, description='Extrude by Total Area')\n",
    "\n",
    "#     # Function to update the layer's extruded property\n",
    "#     def update_extrusion(change):\n",
    "#         h3_layer.extruded = change['new']\n",
    "#         # Note: This requires re-rendering the deck or using a mechanism\n",
    "#         # that updates the layer state if pydeck supports it directly via traitlets.\n",
    "#         # For simplicity here, we'll just show how to set it initially or via a button.\n",
    "#         # A full interactive update might need deck.update() or similar if available,\n",
    "#         # or embedding in a framework like Voila/Streamlit.\n",
    "#         print(f\"Extrusion set to: {h3_layer.extruded}\") # Shows change, but won't auto-update displayed map\n",
    "\n",
    "#     # extruded_checkbox.observe(update_extrusion, names='value')\n",
    "#     # Display the checkbox (won't dynamically update the map below in standard Jupyter)\n",
    "#     # display(extruded_checkbox)\n",
    "\n",
    "\n",
    "#     # 7. Create and Display Pydeck Deck\n",
    "#     print(\"Rendering Pydeck map...\")\n",
    "#     deck = pdk.Deck(\n",
    "#         layers=[h3_layer],\n",
    "#         initial_view_state=view_state,\n",
    "#         map_style='dark', # Options: 'light', 'dark', 'satellite', 'road'\n",
    "#         tooltip=tooltip,\n",
    "#     )\n",
    "#     # deck = pdk.Deck([h3_layer])\n",
    "#     display(deck) # Display the map in Jupyter\n",
    "\n",
    "# else:\n",
    "#     print(\"No aggregated H3 data available to visualize for the selected countries.\")"
   ]
  }
 ],
 "metadata": {
  "kernelspec": {
   "display_name": "eo-pv-cv",
   "language": "python",
   "name": "python3"
  },
  "language_info": {
   "codemirror_mode": {
    "name": "ipython",
    "version": 3
   },
   "file_extension": ".py",
   "mimetype": "text/x-python",
   "name": "python",
   "nbconvert_exporter": "python",
   "pygments_lexer": "ipython3",
   "version": "3.12.10"
  },
  "widgets": {
   "application/vnd.jupyter.widget-state+json": {
    "state": {
     "011e3b7640a04364ac4a155982e5fb9e": {
      "model_module": "@jupyter-widgets/controls",
      "model_module_version": "2.0.0",
      "model_name": "ButtonStyleModel",
      "state": {
       "font_family": null,
       "font_size": null,
       "font_style": null,
       "font_variant": null,
       "font_weight": null,
       "text_color": null,
       "text_decoration": null
      }
     },
     "02449deb265a4768b9ac505bdf8a9aba": {
      "model_module": "@jupyter-widgets/controls",
      "model_module_version": "2.0.0",
      "model_name": "DropdownModel",
      "state": {
       "_options_labels": [
        "Argentina",
        "Bolivia, Plurinational State of",
        "Brazil",
        "Chile",
        "Colombia",
        "Ecuador",
        "Falkland Islands (Malvinas)",
        "French Guiana",
        "Guyana",
        "Panama",
        "Peru",
        "Paraguay",
        "Suriname",
        "Uruguay",
        "Venezuela, Bolivarian Republic of"
       ],
       "description": "Country:",
       "index": 0,
       "layout": "IPY_MODEL_1e0b856450964130aefe55c7f0999060",
       "style": "IPY_MODEL_bb36606fbff447a9b7c964282282130d"
      }
     },
     "043b21b3ce3a45819d7bd7e4be739136": {
      "model_module": "@jupyter-widgets/controls",
      "model_module_version": "2.0.0",
      "model_name": "HTMLStyleModel",
      "state": {
       "description_width": "",
       "font_size": null,
       "text_color": null
      }
     },
     "054b2157bb7f48a4afaf66c583a533b7": {
      "model_module": "@jupyter-widgets/output",
      "model_module_version": "1.0.0",
      "model_name": "OutputModel",
      "state": {
       "layout": "IPY_MODEL_0fe3fc28e4da4c4994bb8a691851972f",
       "outputs": [
        {
         "data": {
          "application/vnd.jupyter.widget-view+json": {
           "model_id": "20ebb3cd379545398ba8c82dffb51137",
           "version_major": 2,
           "version_minor": 0
          },
          "text/plain": "Button(button_style='success', description='Render Map', layout=Layout(width='auto'), style=ButtonStyle())"
         },
         "metadata": {},
         "output_type": "display_data"
        }
       ]
      }
     },
     "06bdd3b9372b42cabb7f64dd5faa2216": {
      "model_module": "@jupyter-widgets/base",
      "model_module_version": "2.0.0",
      "model_name": "LayoutModel",
      "state": {}
     },
     "0743e8feb6f844dbb0bbf9b4129fa7fc": {
      "model_module": "@jupyter-widgets/base",
      "model_module_version": "2.0.0",
      "model_name": "LayoutModel",
      "state": {}
     },
     "07dd330cb9604f05b2e374186b7e1d79": {
      "model_module": "@jupyter-widgets/controls",
      "model_module_version": "2.0.0",
      "model_name": "FloatProgressModel",
      "state": {
       "layout": "IPY_MODEL_ca5167ca93454e7b96dca2dd90da5181",
       "style": "IPY_MODEL_a1e14747899045019cf6d0ee7593e772",
       "value": 100
      }
     },
     "084ff4bfa589485da5cc020564e58673": {
      "model_module": "@jupyter-widgets/controls",
      "model_module_version": "2.0.0",
      "model_name": "DropdownModel",
      "state": {
       "_options_labels": [
        "Europe",
        "North America",
        "South America",
        "Caribbean and Central America",
        "Africa",
        "Asia",
        "Oceania"
       ],
       "description": "Region:",
       "index": 2,
       "layout": "IPY_MODEL_201aa50a9ec64ca4a297d986d7604945",
       "style": "IPY_MODEL_12a8ba5cf6b4471a91efbd8a4e002b16"
      }
     },
     "08e46e20a9874634b8e4e81351d12588": {
      "model_module": "@deck.gl/jupyter-widget",
      "model_module_version": "2.0.0",
      "model_name": "JupyterTransportModel",
      "state": {
       "_model_module": "@deck.gl/jupyter-widget",
       "_model_name": "JupyterTransportModel",
       "_view_name": "ErrorWidgetView",
       "carto_key": "",
       "configuration": null,
       "custom_libraries": null,
       "data_buffer": null,
       "error": {},
       "google_maps_key": "",
       "height": 500,
       "json_input": "",
       "layout": "IPY_MODEL_7d0b376a09a74c5dbb181ceac62ec5c6",
       "mapbox_key": "",
       "msg": "Failed to load model class 'JupyterTransportModel' from module '@deck.gl/jupyter-widget'",
       "tooltip": true,
       "width": "100%"
      }
     },
     "0a94ad45f2954df69fade4ae90bd4ec1": {
      "model_module": "@jupyter-widgets/controls",
      "model_module_version": "2.0.0",
      "model_name": "HTMLStyleModel",
      "state": {
       "description_width": "",
       "font_size": null,
       "text_color": null
      }
     },
     "0c3e701f4409422892ab7227bc75909f": {
      "model_module": "@jupyter-widgets/base",
      "model_module_version": "2.0.0",
      "model_name": "LayoutModel",
      "state": {}
     },
     "0d2622cca8a34e7c9b1757c00650e053": {
      "model_module": "@jupyter-widgets/controls",
      "model_module_version": "2.0.0",
      "model_name": "ButtonModel",
      "state": {
       "button_style": "success",
       "description": "Render Map",
       "layout": "IPY_MODEL_c8a271a71d5647ed9ff2c9af6f0a6572",
       "style": "IPY_MODEL_65fce5b627ef4649b741d054a2723c89",
       "tooltip": null
      }
     },
     "0f345e530c53492e99ad581562ce0847": {
      "model_module": "@deck.gl/jupyter-widget",
      "model_module_version": "2.0.0",
      "model_name": "JupyterTransportModel",
      "state": {
       "_model_module": "@deck.gl/jupyter-widget",
       "_model_name": "JupyterTransportModel",
       "_view_name": "ErrorWidgetView",
       "carto_key": "",
       "configuration": null,
       "custom_libraries": null,
       "data_buffer": null,
       "error": {},
       "google_maps_key": "",
       "height": 500,
       "json_input": "",
       "layout": "IPY_MODEL_5716404eeb484244bcba42e37d595b35",
       "mapbox_key": "",
       "msg": "Failed to load model class 'JupyterTransportModel' from module '@deck.gl/jupyter-widget'",
       "tooltip": true,
       "width": "100%"
      }
     },
     "0f9a43930fa044819df38b178c66db24": {
      "model_module": "@jupyter-widgets/controls",
      "model_module_version": "2.0.0",
      "model_name": "HTMLStyleModel",
      "state": {
       "description_width": "",
       "font_size": null,
       "text_color": null
      }
     },
     "0fc018de631243b589cba99f08545591": {
      "model_module": "@jupyter-widgets/controls",
      "model_module_version": "2.0.0",
      "model_name": "ButtonStyleModel",
      "state": {
       "font_family": null,
       "font_size": null,
       "font_style": null,
       "font_variant": null,
       "font_weight": null,
       "text_color": null,
       "text_decoration": null
      }
     },
     "0fe3fc28e4da4c4994bb8a691851972f": {
      "model_module": "@jupyter-widgets/base",
      "model_module_version": "2.0.0",
      "model_name": "LayoutModel",
      "state": {}
     },
     "119db10b02334d18a97d4b8504d61af2": {
      "model_module": "@jupyter-widgets/output",
      "model_module_version": "1.0.0",
      "model_name": "OutputModel",
      "state": {
       "layout": "IPY_MODEL_6aff87e27e4c40cd9bebf6e5e9ffdf44",
       "outputs": [
        {
         "name": "stdout",
         "output_type": "stream",
         "text": "Creating Pydeck heatmap for 139072 features...\nUsing column 'area_m2' for heatmap weights (Aggregation: SUM).\nPydeck heatmap created successfully.\n"
        }
       ]
      }
     },
     "12a8ba5cf6b4471a91efbd8a4e002b16": {
      "model_module": "@jupyter-widgets/controls",
      "model_module_version": "2.0.0",
      "model_name": "DescriptionStyleModel",
      "state": {
       "description_width": ""
      }
     },
     "12d09a2122c5469e98debcbab69bc85d": {
      "model_module": "@jupyter-widgets/output",
      "model_module_version": "1.0.0",
      "model_name": "OutputModel",
      "state": {
       "layout": "IPY_MODEL_cd01a0c7328744c383df1c45b37dd5aa",
       "outputs": [
        {
         "name": "stdout",
         "output_type": "stream",
         "text": "Creating Pydeck scatterplot for 139072 features...\nUsing column 'area_m2' for point size (sqrt scaled).\n"
        }
       ]
      }
     },
     "12d7af8f9e37439d8c93354e11afef26": {
      "model_module": "@jupyter-widgets/base",
      "model_module_version": "2.0.0",
      "model_name": "LayoutModel",
      "state": {}
     },
     "13e977d00f6e4f9b8249ba80abe4a91a": {
      "model_module": "@jupyter-widgets/base",
      "model_module_version": "2.0.0",
      "model_name": "LayoutModel",
      "state": {}
     },
     "1443853fa2774a579a1bd81887ab5e43": {
      "model_module": "@jupyter-widgets/base",
      "model_module_version": "2.0.0",
      "model_name": "LayoutModel",
      "state": {}
     },
     "1610bc1b843f43238abf23aa3c346624": {
      "model_module": "@jupyter-widgets/controls",
      "model_module_version": "2.0.0",
      "model_name": "ButtonModel",
      "state": {
       "button_style": "success",
       "description": "Render Map",
       "layout": "IPY_MODEL_f797792b05c7415b85fbae16230fb401",
       "style": "IPY_MODEL_3de97753022a4aa7a4e15c3639b2533d",
       "tooltip": null
      }
     },
     "163a709b82b8428fae2e166fd7a08703": {
      "model_module": "@jupyter-widgets/controls",
      "model_module_version": "2.0.0",
      "model_name": "VBoxModel",
      "state": {
       "children": [
        "IPY_MODEL_327378248c8c49efb80bbf452268e57b",
        "IPY_MODEL_e1cf1dcb084b4e949f941cb276bbc94e"
       ],
       "layout": "IPY_MODEL_8d42c401acc34d52964e18c7b02ab647"
      }
     },
     "180a32888cdd4cc8a2bca5b8c935b096": {
      "model_module": "@jupyter-widgets/controls",
      "model_module_version": "2.0.0",
      "model_name": "HTMLModel",
      "state": {
       "layout": "IPY_MODEL_304d03d4c0014878b373f8e0890d4345",
       "style": "IPY_MODEL_ba153ec576fa458d9b906b3d1a4b3758",
       "value": "Datasets selected: 5"
      }
     },
     "1aa61e3a458640d58b1085cac614ef79": {
      "model_module": "@jupyter-widgets/base",
      "model_module_version": "2.0.0",
      "model_name": "LayoutModel",
      "state": {
       "width": "auto"
      }
     },
     "1b3c1930472d4a9ead2b033ee457a957": {
      "model_module": "@deck.gl/jupyter-widget",
      "model_module_version": "2.0.0",
      "model_name": "JupyterTransportModel",
      "state": {
       "_model_module": "@deck.gl/jupyter-widget",
       "_model_name": "JupyterTransportModel",
       "_view_name": "ErrorWidgetView",
       "carto_key": "",
       "configuration": null,
       "custom_libraries": null,
       "data_buffer": null,
       "error": {},
       "google_maps_key": "",
       "height": 500,
       "json_input": "",
       "layout": "IPY_MODEL_f65591a6f915426285d2f3701f7fd9d0",
       "mapbox_key": "",
       "msg": "Failed to load model class 'JupyterTransportModel' from module '@deck.gl/jupyter-widget'",
       "tooltip": true,
       "width": "100%"
      }
     },
     "1ba7a041a8bb405bb27f05190db3fc95": {
      "model_module": "@jupyter-widgets/controls",
      "model_module_version": "2.0.0",
      "model_name": "HTMLModel",
      "state": {
       "layout": "IPY_MODEL_db01080a42b34df8b09805cd25168241",
       "style": "IPY_MODEL_b3234e6ce0b74da3b707900adacd4c52",
       "value": "\n<style>\n.widget-html {\n    text-align: left !important;\n}\n.widget-checkbox {\n    align-items: left !important;\n}\n.widget-button {\n    width: 100% !important;\n}\n</style>\n"
      }
     },
     "1df33aacfc34499e8dda2e3abf805750": {
      "model_module": "@jupyter-widgets/controls",
      "model_module_version": "2.0.0",
      "model_name": "ButtonModel",
      "state": {
       "button_style": "success",
       "description": "Render Map",
       "layout": "IPY_MODEL_91283d0261854a8aaf7dd1c800f8dbc9",
       "style": "IPY_MODEL_43cc1c763e6b47d191d897f87fb4395b",
       "tooltip": null
      }
     },
     "1e07622013d945df9fb3b18adfb5385c": {
      "model_module": "@jupyter-widgets/output",
      "model_module_version": "1.0.0",
      "model_name": "OutputModel",
      "state": {
       "layout": "IPY_MODEL_f6bbd79a2dae4191aec9af13aab12757",
       "outputs": [
        {
         "name": "stderr",
         "output_type": "stream",
         "text": "IOPub data rate exceeded.\nThe Jupyter server will temporarily stop sending output\nto the client in order to avoid crashing it.\nTo change this limit, set the config variable\n`--ServerApp.iopub_data_rate_limit`.\n\nCurrent values:\nServerApp.iopub_data_rate_limit=1000000.0 (bytes/sec)\nServerApp.rate_limit_window=3.0 (secs)\n\n"
        },
        {
         "name": "stdout",
         "output_type": "stream",
         "text": "Filling geometry with H3 cells using h3.polyfill at resolution h3_res_5...\nError during h3.polyfill for AR: module 'h3' has no attribute 'polyfill'\nFetched 0 hex cells for Argentina.\nMap centered on Argentina: Lat=48.0000, Lon=9.0000\nNo data to visualize.\nNo visualization generated for Argentina.\n--- Finished update for: Argentina ---\n"
        }
       ]
      }
     },
     "1e0b856450964130aefe55c7f0999060": {
      "model_module": "@jupyter-widgets/base",
      "model_module_version": "2.0.0",
      "model_name": "LayoutModel",
      "state": {}
     },
     "1e886e8acd87456f9b6876326bcf102c": {
      "model_module": "@jupyter-widgets/output",
      "model_module_version": "1.0.0",
      "model_name": "OutputModel",
      "state": {
       "layout": "IPY_MODEL_06bdd3b9372b42cabb7f64dd5faa2216",
       "outputs": [
        {
         "name": "stdout",
         "output_type": "stream",
         "text": "--- Updating map for: Albania ---\nSelected country ISO: AL\nFetched geometry for AL (Type: Polygon)\nCountry geometry for AL: POLYGON ((19.372955 41.8443657, 19.2509044 41.7226608, 19.2103411 41.6849866, 19.2090169 41.6831653, 19.207651 41.6812368, 19.2063128 41.6792967, 19.205003 41.6773457, 19.2037217 41.6753841, 19.2024692 41.6734122, 19.2012455 41.6714301, 19.2000507 41.6694381, 19.1988851 41.6674364, 19.1977501 41.6654278, 19.1966647 41.663448, 19.1957355 41.6617037, 19.1950375 41.6603558, 19.1940466 41.6583901, 19.193384 41.6570389, 19.1919339 41.6539802, 19.1911946 41.6523663, 19.1901284 41.6499554, 19.1894435 41.6483502, 19.18866 41.6464478, 19.1881772 41.6452401, 19.1874756 41.6434333, 19.1870204 41.642226, 19.1863567 41.6404112, 19.1859268 41.6391987, 19.1853007 41.6373749, 19.1848913 41.6361421, 19.1842558 41.6341604, 19.1837877 41.6326506, 19.178914 41.6163597, 19.1741822 41.6005352, 19.1694507 41.584712, 19.1647194 41.5688896, 19.1599879 41.5530669, 19.1552565 41.5372442, 19.1513041 41.5238501, 19.1505079 41.5213641, 19.1500077 41.5195783, 19.1466617 41.5083234, 19.1459847 41.506216, 19.1456574 41.5051311, 19.1452051 41.5035293, 19.1410713 41.489808, 19.1363273 41.4739443, 19.1313414 41.4572495, 19.1307335 41.4551172, 19.1304147 41.4539525, 19.1299023 41.4519967, 19.1293599 41.4498117, 19.1290014 41.4482934, 19.1287532 41.4471915, 19.1283171 41.445159, 19.1278881 41.4430231, 19.1275395 41.4411612, 19.127296 41.4397656, 19.1271755 41.4390335, 19.1269274 41.4376808, 19.1266281 41.4359247, 19.1263251 41.4339729, 19.1260237 41.431838, 19.1257485 41.4296663, 19.1255044 41.4274898, 19.1252918 41.4253114, 19.1251109 41.4231314, 19.1249616 41.42095, 19.1248439 41.4187676, 19.1247579 41.4165852, 19.1247037 41.4144222, 19.1246806 41.4124246, 19.1246792 41.4110877, 19.1246868 41.4101311, 19.1247134 41.4084953, 19.1247569 41.4068678, 19.1248459 41.4046343, 19.1249876 41.4020064, 19.125095 41.4004199, 19.1252839 41.3980832, 19.1254298 41.396528, 19.1256772 41.3942101, 19.1258376 41.3928559, 19.12591 41.3922571, 19.1259547 41.3918361, 19.1261508 41.3901067, 19.1263031 41.3888721, 19.12655 41.3870267, 19.1267271 41.3857975, 19.1270117 41.3839552, 19.1272141 41.3827282, 19.1275364 41.3808895, 19.1277638 41.3796649, 19.1281243 41.3778273, 19.1283843 41.3765708, 19.1288509 41.3744347, 19.1292589 41.3726646, 19.1295417 41.3714986, 19.1300605 41.3694544, 19.1306399 41.3672929, 19.1312425 41.3651646, 19.1314303 41.3645282, 19.1315443 41.3638993, 19.1357001 41.3397495, 19.1398907 41.3153969, 19.1440812 41.2910443, 19.1482716 41.2666917, 19.1524618 41.2423391, 19.1566519 41.2179865, 19.1608419 41.1936339, 19.1650318 41.1692813, 19.1686067 41.1485023, 19.1682805 41.1468708, 19.1623898 41.1174129, 19.1564993 41.0879571, 19.1506087 41.0585011, 19.1447178 41.0290453, 19.1388269 40.9995897, 19.1329357 40.9701338, 19.1270444 40.9406781, 19.1211529 40.9112222, 19.115261 40.8817652, 19.1120622 40.8657732, 19.1114605 40.8642234, 19.1057873 40.8496116, 19.1001152 40.8350027, 19.0944002 40.820283, 19.0898998 40.8085694, 19.0892314 40.806939, 19.0890066 40.8063761, 19.0885679 40.8052479, 19.088354 40.8046825, 19.0877858 40.8031377, 19.0831359 40.7912718, 19.0774256 40.7765654, 19.0717532 40.7619564, 19.0660807 40.7473471, 19.0604075 40.7327362, 19.0545853 40.7177345, 19.0540159 40.7162126, 19.053191 40.7139216, 19.0526609 40.7123901, 19.0513859 40.7085525, 19.0508958 40.7070133, 19.0501908 40.7046993, 19.0497412 40.7031544, 19.0458701 40.6892068, 19.0421112 40.6756537, 19.0383522 40.662101, 19.0345935 40.6485489, 19.0308346 40.6349965, 19.0270759 40.6214449, 19.0233169 40.6078924, 19.019558 40.5943405, 19.015799 40.5807882, 19.012039 40.5672326, 19.0081305 40.5531292, 19.0076486 40.5513078, 19.006977 40.5486366, 19.0065602 40.5468877, 19.006396 40.5462501, 19.005901 40.5443134, 19.0054142 40.5423081, 19.0051692 40.541252, 19.0047045 40.5391316, 19.0042193 40.5367719, 19.0039514 40.5353847, 19.0035828 40.5333524, 19.00335 40.531982, 19.0030019 40.5297817, 19.0027569 40.5281188, 19.0025478 40.5265899, 19.0023787 40.5252626, 19.0021738 40.5235381, 19.0020558 40.5224631, 19.001895 40.5208685, 19.0017971 40.5198058, 19.0016641 40.518211, 19.0015848 40.5171474, 19.0014797 40.5155514, 19.0014192 40.5144944, 19.001349 40.5131064, 19.0013178 40.5126468, 19.0012444 40.5114408, 19.0011238 40.5090076, 19.0010646 40.5073772, 19.0010101 40.5050612, 19.0009947 40.5039634, 19.0009866 40.5021742, 19.0009956 40.5009177, 19.001035 40.4988052, 19.0011063 40.4965989, 19.0012087 40.4944082, 19.001342 40.4922254, 19.0015065 40.4900444, 19.0017021 40.4878649, 19.0019288 40.4856872, 19.0021866 40.4835115, 19.0024755 40.481338, 19.0027953 40.4791671, 19.0031462 40.476999, 19.003528 40.4748335, 19.0039418 40.4726661, 19.0043868 40.4705011, 19.0048186 40.4685293, 19.00503 40.4676042, 19.0054006 40.4660519, 19.0059029 40.464047, 19.0064651 40.4619213, 19.0070616 40.4597854, 19.0076888 40.4576539, 19.0083454 40.4555304, 19.0090139 40.4534667, 19.0095442 40.4518919, 19.0098272 40.4510775, 19.0102685 40.4498418, 19.0105039 40.4491976, 19.0106778 40.4487187, 19.0108135 40.4483264, 19.0116306 40.4460125, 19.0121863 40.4444962, 19.012476 40.4437288, 19.0131891 40.4418887, 19.0139183 40.4400647, 19.0145919 40.4384354, 19.0152882 40.436797, 19.0157069 40.4358339, 19.0163356 40.434418, 19.0167758 40.433447, 19.017553 40.4317701, 19.0180193 40.4307861, 19.0185274 40.4296319, 19.0189396 40.428712, 19.0202048 40.4237938, 19.0223239 40.4154694, 19.0244528 40.4071063, 19.0265818 40.3987432, 19.0287124 40.3903735, 19.0309936 40.3814278, 19.0315114 40.3794955, 19.0322257 40.3769552, 19.0326921 40.3753752, 19.0334144 40.3730384, 19.0339158 40.3714855, 19.0346983 40.3691621, 19.0352401 40.3676172, 19.0360829 40.3653062, 19.0366649 40.3637698, 19.0375678 40.3614721, 19.0381897 40.3599449, 19.0391523 40.3576615, 19.0398114 40.3561496, 19.0407748 40.3540076, 19.0412435 40.3529892, 19.0420214 40.3513366, 19.042585 40.3501716, 19.0435635 40.3482011, 19.0446158 40.3461469, 19.0456905 40.3441148, 19.0467905 40.3420982, 19.047919 40.3400915, 19.0490759 40.3380942, 19.0502611 40.3361067, 19.0514745 40.3341292, 19.052716 40.332162, 19.0539854 40.3302052, 19.0552825 40.3282591, 19.0566056 40.3263262, 19.057926 40.3244462, 19.059038 40.3228982, 19.0596777 40.3220229, 19.0606699 40.3206846, 19.0612533 40.3199079, 19.0622846 40.318558, 19.0636499 40.3168056, 19.0651259 40.3149545, 19.0666386 40.3131028, 19.068178 40.3112632, 19.0697434 40.3094366, 19.0713346 40.3076231, 19.0729515 40.3058229, 19.0745939 40.3040364, 19.0762616 40.3022637, 19.0779543 40.3005049, 19.0796719 40.2987604, 19.081412 40.2970324, 19.0831376 40.295356, 19.0845829 40.2939789, 19.0854115 40.293201, 19.0866931 40.292013, 19.0874494 40.29132, 19.0887621 40.2901347, 19.0905022 40.2885906, 19.0923743 40.2869634, 19.0942826 40.2853404, 19.0962144 40.2837329, 19.0981689 40.2821417, 19.1001435 40.2805686, 19.1020953 40.2790465, 19.1037083 40.2778119, 19.1045685 40.2771625, 19.1057978 40.276245, 19.1066193 40.2756385, 19.107858 40.274734, 19.108688 40.2741345, 19.1099394 40.2732404, 19.1107779 40.2726477, 19.1120419 40.2717641, 19.1128888 40.2711785, 19.1141653 40.2703055, 19.114708 40.2699379, 19.1149559 40.2690362, 19.1152855 40.267877, 19.1156383 40.2666748, 19.1158058 40.2660788, 19.1160653 40.2651719, 19.1165761 40.2634436, 19.1172175 40.2613657, 19.1179024 40.2592476, 19.1186183 40.2571329, 19.1193641 40.2550243, 19.1201399 40.252922, 19.1209455 40.2508263, 19.1217809 40.2487375, 19.1226461 40.2466554, 19.123543 40.2445755, 19.1244706 40.2425009, 19.1253528 40.240591, 19.125806 40.2396332, 19.1266599 40.2378752, 19.1276145 40.2359618, 19.1281868 40.2348418, 19.1290833 40.2331252, 19.1292799 40.2327542, 19.129466 40.2323901, 19.1299821 40.2313952, 19.1308602 40.2297396, 19.1319341 40.227769, 19.1330593 40.2257646, 19.1342142 40.2237673, 19.1353974 40.2217797, 19.1366088 40.2198022, 19.1378481 40.2178349, 19.1391153 40.2158781, 19.1404102 40.2139319, 19.141731 40.211999, 19.1430492 40.2101189, 19.1441594 40.2085709, 19.144798 40.2076955, 19.1457885 40.2063572, 19.1463711 40.2055802, 19.1474005 40.2042306, 19.1487634 40.2024782, 19.1502369 40.200627, 19.151747 40.1987753, 19.1532838 40.1969356, 19.1548465 40.1951089, 19.1564351 40.1932954, 19.1580493 40.1914952, 19.1596756 40.1897228, 19.1601311 40.1892268, 19.1604787 40.1888151, 19.1618863 40.1871718, 19.1634747 40.1853582, 19.1650887 40.183558, 19.1667281 40.1817714, 19.1683927 40.1799986, 19.1700824 40.1782399, 19.1717968 40.1764953, 19.1735338 40.1747672, 19.1752562 40.1730908, 19.176699 40.1717136, 19.1775267 40.1709352, 19.1788202 40.1697341, 19.1795414 40.1690719, 19.1818331 40.1671187, 19.1825101 40.1664863, 19.1832098 40.1658376, 19.183947 40.165173, 19.1842638 40.1648884, 19.1846637 40.1645265, 19.1862038 40.1629775, 19.1869128 40.1623114, 19.1881919 40.1611233, 19.1889469 40.16043, 19.1902569 40.159245, 19.1918148 40.1578582, 19.1921865 40.1575311, 19.193436 40.1560761, 19.1950237 40.1542626, 19.1966369 40.1524624, 19.1982756 40.1506758, 19.1999394 40.148903, 19.2016283 40.1471442, 19.203342 40.1453996, 19.2050782 40.1436715, 19.2067998 40.1419951, 19.2082419 40.1406179, 19.2090705 40.1398382, 19.2103894 40.1386132, 19.2112422 40.1378317, 19.2127057 40.1365117, 19.2135681 40.1357447, 19.2153124 40.1342139, 19.2165451 40.1331504, 19.2178712 40.132257, 19.2183219 40.1317468, 19.2186426 40.1314537, 19.2196503 40.1304595, 19.2207155 40.1291714, 19.2215404 40.1282575, 19.2227935 40.1268896, 19.2236738 40.1259433, 19.2246695 40.1248905, 19.2259373 40.1235525, 19.2263804 40.1230385, 19.2278098 40.121407, 19.2294223 40.1196068, 19.2310602 40.1178202, 19.2327232 40.1160474, 19.2344113 40.1142885, 19.2361241 40.112544, 19.2378594 40.1108158, 19.2395803 40.1091394, 19.2410217 40.1077622, 19.241848 40.1069843, 19.2431261 40.1057962, 19.2438806 40.1051028, 19.2451894 40.1039178, 19.2469247 40.1023737, 19.2487916 40.1007464, 19.2506946 40.0991234, 19.2526072 40.0975272, 19.2541504 40.0962638, 19.2555985 40.0951258, 19.2577074 40.0935317, 19.2580929 40.0932172, 19.2588126 40.0926413, 19.2602668 40.0915006, 19.2610034 40.0909342, 19.2617972 40.0903359, 19.2623837 40.0898957, 19.2634524 40.0890986, 19.264359 40.0884325, 19.2650695 40.0879187, 19.2659451 40.0872951, 19.2670349 40.0865302, 19.2676615 40.0860932, 19.2685968 40.0854441, 19.2693665 40.0849205, 19.2709093 40.0838916, 19.271674 40.0833915, 19.2723978 40.0829291, 19.2730949 40.0824286, 19.2753996 40.0808459, 19.2760914 40.0803989, 19.2776811 40.0793851, 19.2789957 40.0785589, 19.2799136 40.0778271, 19.2818596 40.0763048, 19.2834678 40.0750703, 19.2843255 40.0744208, 19.2855511 40.0735032, 19.2863702 40.0728968, 19.2876051 40.0719922, 19.2884327 40.0713926, 19.2896804 40.0704984, 19.2905164 40.0699058, 19.2917766 40.0690221, 19.2926209 40.0684365, 19.2938936 40.0675634, 19.2947472 40.0669842, 19.2960523 40.0661084, 19.2969924 40.0654849, 19.2985296 40.0644776, 19.2994755 40.0638653, 19.3011474 40.0627995, 19.3029865 40.061646, 19.3040544 40.0609858, 19.3043091 40.0608304, 19.3057153 40.0606217, 19.3058002 40.0606091, 19.3200737 40.0583825, 19.3522999 40.0532021, 19.3576644 40.0520254, 19.3848188 40.0458225, 19.390436 40.0445042, 19.3946026 40.0435568, 19.4082138 40.0404496, 19.4181548 40.0388626, 19.4244432 40.0375693, 19.447434 40.0330733, 19.4475878 40.0330373, 19.4674891 40.034085, 19.5135645 40.0323891, 19.5148945 40.0322463, 19.5216316 40.031512, 19.5221754 40.0314484, 19.5431283 40.0273837, 19.5798292 40.0202353, 19.5843593 40.0192668, 19.5886019 40.0183551, 19.5916142 40.0177013, 19.5976387 40.0163868, 19.6044949 40.0149066, 19.6101528 40.0137033, 19.6102106 40.0136912, 19.61368 40.0129643, 19.6222452 40.0113169, 19.6289513 40.0092056, 19.6480301 39.9990243, 19.6510682 39.9969636, 19.6785746 39.9782283, 19.6814918 39.9764157, 19.6864643 39.9732977, 19.6910688 39.9704238, 19.7024383 39.9631652, 19.7217704 39.948481, 19.7317189 39.9409744, 19.7332047 39.9398474, 19.7393287 39.9351628, 19.7490202 39.9277253, 19.7490747 39.9272148, 19.7491242 39.9267272, 19.7496608 39.9216652, 19.749662 39.9216539, 19.7553088 39.9168091, 19.8029773 39.8968304, 19.8093976 39.8941113, 19.8303034 39.8852883, 19.8363298 39.8827449, 19.8450108 39.8791042, 19.8530821 39.8754489, 19.8548153 39.8745765, 19.8561542 39.8738972, 19.8598785 39.8720268, 19.8665337 39.8687319, 19.8734123 39.8653724, 19.8760718 39.864091, 19.8772188 39.8635327, 19.8773824 39.8634571, 19.8813454 39.8618609, 19.8837978 39.8608853, 19.8927299 39.8583581, 19.8943517 39.8578915, 19.9008751 39.8560768, 19.9031724 39.8554265, 19.9067511 39.8544324, 19.9113151 39.8523611, 19.9145168 39.850919, 19.9240052 39.8441865, 19.9265269 39.8423778, 19.9297457 39.8415232, 19.9320886 39.8407615, 19.9348859 39.8398625, 19.9434541 39.8367343, 19.9435661 39.8366828, 19.9458858 39.8356846, 19.9474721 39.834943, 19.9509582 39.8332989, 19.9511221 39.8332497, 19.9559894 39.8291017, 19.9570108 39.8274579, 19.97634 39.7930774, 19.9737897 39.7806083, 19.9717678 39.7754817, 19.9715643 39.7749852, 19.9701389 39.7718928, 19.9697758 39.7710712, 19.969673 39.7708061, 19.9693593 39.7703994, 19.9689662 39.7692557, 19.9686112 39.7682873, 19.9683176 39.7675362, 19.9680082 39.7668031, 19.967571 39.7658627, 19.9673933 39.7655863, 19.9672429 39.7653538, 19.9672407 39.7653506, 19.9665526 39.7637856, 19.9659368 39.7624818, 19.9659081 39.7624334, 19.9653138 39.7615266, 19.9651225 39.7612684, 19.9642018 39.760407, 19.9639634 39.7601782, 19.9609881 39.7572078, 19.9599383 39.7562154, 19.9596293 39.7549431, 19.9596192 39.754892, 19.9595387 39.7527788, 19.9593308 39.7499698, 19.9589371 39.748495, 19.9584472 39.7464758, 19.958044 39.744971, 19.9585876 39.7431934, 19.9589546 39.7418976, 19.9589555 39.7418896, 19.9590853 39.7401698, 19.9591361 39.7391771, 19.959182 39.7384953, 19.9592347 39.7375177, 19.9594062 39.7350536, 19.9596004 39.7318261, 19.9597894 39.7291541, 19.9600014 39.7270906, 19.9581522 39.7248356, 19.9566359 39.7223613, 19.9563205 39.7220173, 19.9556098 39.7212577, 19.9540078 39.7190645, 19.953611 39.7185379, 19.9523229 39.7167974, 19.9512454 39.7153414, 19.9489767 39.7127925, 19.9477989 39.7115186, 19.9456969 39.7092124, 19.9456264 39.709134, 19.9441283 39.7075376, 19.9440506 39.7074578, 19.942872 39.7062141, 19.9424348 39.7057439, 19.9416345 39.7048619, 19.9415658 39.7047817, 19.9413301 39.7045241, 19.9406857 39.7037438, 19.9376377 39.6993966, 19.9360662 39.6971132, 19.9316431 39.6918166, 19.9285587 39.6867079, 19.9285585 39.6867075, 19.9325429 39.6837395, 19.9455823 39.6741517, 19.9543936 39.6677366, 19.9563267 39.6662386, 19.9636541 39.6604095, 19.9661143 39.6584361, 19.9678598 39.6571712, 19.9798621 39.6483961, 19.9832575 39.6459602, 19.9875737 39.6419446, 19.9892239 39.640394, 20.006477 39.6810889, 20.0077229 39.6842766, 20.0084182 39.6863209, 20.0089117 39.6885881, 20.0089331 39.6901517, 20.0085205 39.6918519, 20.0112041 39.6932952, 20.012277 39.6944493, 20.0131353 39.6943519, 20.014294 39.6942859, 20.0151952 39.6943503, 20.0159677 39.6947465, 20.0165256 39.6951775, 20.0171264 39.6958693, 20.0177272 39.6965297, 20.0184139 39.6969589, 20.0195726 39.696992, 20.0200876 39.6967278, 20.0208171 39.6963332, 20.021375 39.696069, 20.0220188 39.6959683, 20.0233062 39.6958362, 20.0245465 39.695965, 20.0263103 39.6963002, 20.0266965 39.6965627, 20.0269111 39.6969259, 20.0270398 39.6972248, 20.0270828 39.6975863, 20.0272115 39.6982484, 20.0273832 39.6988741, 20.0278402 39.6995593, 20.029014 39.7002296, 20.0302585 39.7008883, 20.0308164 39.701055, 20.0312885 39.7012531, 20.0321897 39.7012531, 20.0336059 39.7009213, 20.0340408 39.7004708, 20.0347217 39.6997656, 20.0342496 39.69861, 20.0341209 39.6978175, 20.0342925 39.6971901, 20.0346788 39.6964306, 20.0346359 39.6946145, 20.0348075 39.6937889, 20.0351508 39.6932952, 20.03558 39.692965, 20.0394424 39.6915104, 20.0400003 39.6913783, 20.0408858 39.6914955, 20.041357 39.691629, 20.0425692 39.6920875, 20.0439226 39.6924519, 20.0441648 39.6925952, 20.0443739 39.6929266, 20.0448816 39.6937434, 20.045198 39.6940404, 20.0456204 39.6943971, 20.0459546 39.6945176, 20.0462143 39.6944962, 20.0464752 39.6943924, 20.0467228 39.6941471, 20.0469463 39.6934306, 20.04737 39.6925862, 20.0477733 39.6921185, 20.0481741 39.6918274, 20.0487396 39.6917731, 20.0496565 39.6916864, 20.050606 39.6914469, 20.0518411 39.6911969, 20.0532303 39.6911729, 20.0541915 39.6911926, 20.0548627 39.6912216, 20.0559129 39.6914303, 20.0570543 39.6916751, 20.0575701 39.691903, 20.0579516 39.6919061, 20.0580448 39.6917891, 20.0581252 39.6914836, 20.0583192 39.6906844, 20.0586475 39.69011, 20.0591617 39.6898486, 20.0600664 39.689538, 20.0612131 39.6893824, 20.0620979 39.6894131, 20.0631491 39.6895511, 20.0639259 39.6896634, 20.0646484 39.6897427, 20.0651374 39.6896996, 20.0655992 39.6894089, 20.0667397 39.688582, 20.0675028 39.6879787, 20.0681864 39.6870774, 20.0689259 39.68663, 20.0694115 39.6863546, 20.0701554 39.685744, 20.0707403 39.68507, 20.0709699 39.6846993, 20.0724634 39.6837103, 20.0731594 39.6827207, 20.0752068 39.6816832, 20.0755757 39.6814859, 20.0759579 39.6810496, 20.076548 39.6807034, 20.0772164 39.6803241, 20.0777676 39.6801872, 20.0784389 39.6801925, 20.0793373 39.6803409, 20.079944 39.6806166, 20.0805162 39.6811982, 20.0809713 39.6814019, 20.0815947 39.6815717, 20.0825996 39.6817446, 20.0831184 39.6817486, 20.0839224 39.6818185, 20.0852016 39.682017, 20.0862973 39.6822494, 20.0875452 39.6825065, 20.0878805 39.6825445, 20.0882476 39.6824767, 20.0886772 39.6823034, 20.0895378 39.6818391, 20.0903381 39.6813273, 20.0910317 39.6808028, 20.0915426 39.6802415, 20.0918638 39.6797066, 20.0921617 39.6790966, 20.0925917 39.678888, 20.0934523 39.6784237, 20.0942688 39.6778295, 20.0944427 39.6773716, 20.0944921 39.6770893, 20.0947441 39.6766679, 20.0956655 39.6750499, 20.0968063 39.6729862, 20.0982127 39.6708321, 20.0989119 39.6698601, 20.0992052 39.6696033, 20.099818 39.6694079, 20.100979 39.6692991, 20.1020342 39.6691071, 20.1028533 39.6689637, 20.1034194 39.6688386, 20.1035581 39.6687337, 20.1038067 39.6683823, 20.1044029 39.6671151, 20.1048509 39.6666828, 20.1055571 39.6663468, 20.1063813 39.6663178, 20.1075254 39.6663266, 20.1086072 39.6664409, 20.1092006 39.6665632, 20.1097486 39.6666616, 20.1101148 39.6666644, 20.1104215 39.6665372, 20.1112157 39.6661621, 20.1119953 39.6658239, 20.1124704 39.665359, 20.112757 39.6646963, 20.1129764 39.6641971, 20.1131823 39.6639482, 20.1136021 39.6636305, 20.1142663 39.6632208, 20.1148189 39.6628259, 20.1158679 39.6621618, 20.1167459 39.6616911, 20.1176247 39.6611499, 20.1182588 39.6607164, 20.118719 39.6604069, 20.1188531 39.6602279, 20.1192555 39.6597085, 20.1198099 39.6591571, 20.1207193 39.6586005, 20.121352 39.6582766, 20.1220752 39.6580081, 20.1227725 39.6578068, 20.1232404 39.6577275, 20.1235753 39.6576585, 20.1242762 39.65728, 20.1249553 39.6568786, 20.1259298 39.6564565, 20.1273883 39.6560657, 20.1290993 39.6555798, 20.1311695 39.6550688, 20.1326268 39.654775, 20.134463 39.6543176, 20.1352812 39.654276, 20.1367873 39.6543842, 20.1386347 39.6544672, 20.1403741 39.654577, 20.1419345 39.654644, 20.1448713 39.6547639, 20.1465748 39.6548734, 20.1479379 39.6549389, 20.148852 39.6550287, 20.1492991 39.6551566, 20.1498518 39.6554516, 20.1501027 39.6554812, 20.15048 39.6554424, 20.1511998 39.6552814, 20.1519926 39.6550239, 20.1528152 39.6547935, 20.1542382 39.6543606, 20.1555703 39.6540239, 20.1565072 39.6537121, 20.157302 39.6532884, 20.1579666 39.6529194, 20.1581331 39.6528234, 20.1596806 39.6517615, 20.1602808 39.6513799, 20.1605028 39.6512641, 20.1608717 39.6511313, 20.1612348 39.6510352, 20.1626878 39.650839, 20.165225 39.6502615, 20.1672029 39.6499294, 20.1689053 39.6496032, 20.1707404 39.6492007, 20.172539 39.6488534, 20.1741553 39.6487402, 20.1748913 39.6487177, 20.1754475 39.6487216, 20.1760931 39.6487539, 20.1775426 39.6488006, 20.1781521 39.6488464, 20.1787421 39.6490307, 20.1792793 39.6491315, 20.1800862 39.6491788, 20.1809657 39.6491572, 20.1822407 39.6490831, 20.1834635 39.6488562, 20.1843838 39.6484193, 20.1852508 39.6479405, 20.1859551 39.6475575, 20.1867667 39.647203, 20.1876254 39.6469722, 20.1886535 39.6465222, 20.1897008 39.6459615, 20.1905678 39.6454688, 20.1913972 39.6451282, 20.1922429 39.6449263, 20.1930331 39.6448625, 20.1935534 39.6448661, 20.1962045 39.6452585, 20.1971859 39.6452477, 20.1979955 39.6450594, 20.1985705 39.6449941, 20.1991798 39.6450537, 20.2003951 39.6454777, 20.2013978 39.6456647, 20.2025445 39.6458111, 20.2046769 39.6460613, 20.2060003 39.646124, 20.208352 39.6460293, 20.20986 39.6459703, 20.2108104 39.6460183, 20.2117587 39.6462602, 20.2131019 39.646491, 20.2152644 39.6472538, 20.2159557 39.6473208, 20.2170522 39.6471481, 20.2186366 39.6466739, 20.2198609 39.646308, 20.2204182 39.6462148, 20.2207412 39.646217, 20.2210276 39.6462743, 20.2217407 39.6466947, 20.2226704 39.6469919, 20.2237923 39.647249, 20.2248131 39.647422, 20.2259751 39.6478177, 20.2267774 39.6482802, 20.227613 39.6489785, 20.2282522 39.6495923, 20.2287308 39.6501219, 20.228996 39.6509249, 20.228919 39.6513954, 20.2286797 39.6519341, 20.228011 39.6523591, 20.2273087 39.6525761, 20.2267161 39.6526138, 20.2263389 39.652639, 20.2260865 39.6527481, 20.2259941 39.652983, 20.2257651 39.6542145, 20.2255278 39.6545731, 20.22508 39.6553699, 20.2247293 39.6562404, 20.2243786 39.6571109, 20.2240135 39.6576626, 20.2232701 39.6583365, 20.2224157 39.6588279, 20.2221609 39.6591449, 20.2218866 39.6596002, 20.2215533 39.6605124, 20.2213093 39.6614666, 20.2211258 39.6618256, 20.2207268 39.662197, 20.2202558 39.6625818, 20.2200916 39.6628162, 20.220071 39.6630516, 20.2197247 39.663518, 20.2187814 39.6644122, 20.2186152 39.6648267, 20.2186301 39.66509, 20.2190205 39.6654944, 20.2194249 39.6657526, 20.2199134 39.6661693, 20.2205253 39.6677264, 20.2219635 39.6693332, 20.2228263 39.6698517, 20.2242003 39.6703538, 20.2261371 39.6707809, 20.2270788 39.6711026, 20.228258 39.6720487, 20.2288126 39.6727228, 20.2289075 39.6733741, 20.2289902 39.6751296, 20.2294607 39.6764736, 20.229888 39.6771074, 20.2307479 39.6779018, 20.2315912 39.6786319, 20.2313325 39.6789259, 20.2294573 39.6798205, 20.2291987 39.6800949, 20.2296485 39.6810049, 20.229818 39.6818539, 20.2296317 39.6825231, 20.2302414 39.6828427, 20.2308251 39.6832014, 20.231394 39.685131, 20.2368188 39.6844569, 20.2412428 39.6841507, 20.245576 39.6827986, 20.2468225 39.6826268, 20.2485739 39.681638, 20.2491099 39.6806993, 20.2498956 39.6785848, 20.250639 39.6775534, 20.2522181 39.6761532, 20.2535108 39.6751018, 20.2544565 39.6751078, 20.2560429 39.675118, 20.257296 39.6749141, 20.2582506 39.6740959, 20.2592426 39.6726185, 20.2611673 39.6723717, 20.2634025 39.6716087, 20.2646853 39.6714755, 20.2644568 39.6728871, 20.2646059 39.6741758, 20.263826 39.6757959, 20.263909 39.6765971, 20.264629 39.6777557, 20.264591 39.678462, 20.2645217 39.6792387, 20.2648759 39.6803714, 20.264409 39.6812399, 20.2640763 39.6826708, 20.2634156 39.6845506, 20.2640386 39.6862267, 20.2641391 39.6882527, 20.2643444 39.6900374, 20.2644767 39.6919459, 20.2650668 39.6938573, 20.2660569 39.695465, 20.2669069 39.6958943, 20.2703539 39.6970885, 20.273759 39.6983345, 20.2761856 39.6997627, 20.2787005 39.7015211, 20.2781446 39.7021535, 20.2774956 39.7029267, 20.2779216 39.7042424, 20.2788826 39.7057557, 20.2796371 39.7065846, 20.2802694 39.7074128, 20.2811162 39.7081717, 20.2829347 39.7094312, 20.2836301 39.7100713, 20.2836252 39.7105423, 20.2836785 39.7112963, 20.2842826 39.7119123, 20.285226 39.7122007, 20.2871672 39.7125019, 20.2873099 39.712768, 20.2874967 39.7131162, 20.2892323 39.7135508, 20.2899661 39.7134375, 20.2915427 39.7144834, 20.2928496 39.7150566, 20.2936435 39.7150378, 20.2951128 39.7146464, 20.2952089 39.7141995, 20.296463 39.7139481, 20.2979905 39.7138396, 20.3000309 39.7143229, 20.3013806 39.7149633, 20.3016445 39.7154707, 20.3017291 39.7156335, 20.3023389 39.716806, 20.3024836 39.716949, 20.3030341 39.7174932, 20.3048584 39.7182342, 20.3054074 39.7182846, 20.3058589 39.7189232, 20.3078123 39.72202, 20.3089114 39.7225362, 20.3115579 39.7265792, 20.3122298 39.7265596, 20.3162077 39.7271157, 20.3193746 39.7279822, 20.3217755 39.7291266, 20.321956 39.732519, 20.3220232 39.7337472, 20.3220298 39.733868, 20.3220704 39.7346089, 20.3220807 39.7347973, 20.3218302 39.7354317, 20.3206585 39.7365788, 20.3182298 39.7382367, 20.3142086 39.7403326, 20.3106393 39.7419545, 20.3069519 39.744217, 20.3057219 39.7452774, 20.3051343 39.745784, 20.3050514 39.7495085, 20.3049997 39.7506134, 20.3045673 39.7513138, 20.3036869 39.7522302, 20.3030116 39.7528978, 20.3016475 39.7535613, 20.3004863 39.7541948, 20.2986758 39.7549181, 20.2970246 39.7550572, 20.2959671 39.7554414, 20.2951973 39.7554367, 20.2951557 39.7557498, 20.2950437 39.7565917, 20.2950257 39.7583568, 20.2946766 39.7600346, 20.2946441 39.7612373, 20.2938116 39.7638986, 20.2928417 39.765611, 20.2924849 39.7664768, 20.2929465 39.766917, 20.2947057 39.767287, 20.2957333 39.7678556, 20.2966326 39.7690951, 20.2971328 39.769723, 20.299174 39.7711669, 20.3005791 39.7725031, 20.3025536 39.7736397, 20.3041462 39.7753307, 20.3057903 39.7770901, 20.3063515 39.7777183, 20.3072874 39.7795291, 20.3075013 39.7804364, 20.3073715 39.7812479, 20.306566 39.782674, 20.3054982 39.7840579, 20.3052666 39.7849157, 20.3051011 39.7852427, 20.304838 39.786923, 20.3046466 39.7878123, 20.303669 39.788275, 20.3026702 39.7888314, 20.3020759 39.7894683, 20.3008496 39.7902519, 20.3003166 39.7908423, 20.2997617 39.7915888, 20.2994304 39.7922741, 20.2987911 39.7933481, 20.2964971 39.7951107, 20.2947136 39.7970525, 20.2934055 39.7980912, 20.2918596 39.7997144, 20.2911005 39.8005845, 20.2906876 39.8013162, 20.2905304 39.8024329, 20.2903175 39.8034157, 20.2898435 39.8041626, 20.289655 39.8047551, 20.2897097 39.8051086, 20.290717 39.8057396, 20.2929804 39.8064564, 20.2930815 39.8065043, 20.2941508 39.8070103, 20.296099 39.8082262, 20.2970429 39.8088152, 20.2974856 39.8090382, 20.2995847 39.8100959, 20.3003829 39.8106485, 20.3011553 39.8111832, 20.3027143 39.8125459, 20.3029105 39.8128728, 20.3032129 39.8133769, 20.3032554 39.8151891, 20.3032268 39.8155356, 20.3031643 39.8162941, 20.3039104 39.8167047, 20.3041458 39.8167061, 20.3047013 39.8167094, 20.3062268 39.8162499, 20.3075105 39.8156328, 20.3085911 39.8150456, 20.3093852 39.8147223, 20.3101738 39.8137326, 20.3112774 39.8128643, 20.3125796 39.8124191, 20.3135374 39.8119405, 20.3142087 39.8117257, 20.3146794 39.8112911, 20.3148074 39.8106514, 20.3150349 39.8101998, 20.3159409 39.8096949, 20.3169389 39.8092477, 20.3183377 39.8092716, 20.320364 39.8094084, 20.3228116 39.8100007, 20.3234601 39.8100358, 20.3246465 39.8100911, 20.3251951 39.8099693, 20.3259068 39.8097704, 20.3270285 39.8091052, 20.328309 39.8087846, 20.3293473 39.8083532, 20.3300632 39.8077012, 20.3313577 39.8070926, 20.3330841 39.8067901, 20.3349941 39.8063637, 20.3365983 39.8061073, 20.3382216 39.805976, 20.3384188 39.8058572, 20.3399033 39.8055339, 20.3414229 39.8051444, 20.3429341 39.8049511, 20.344037 39.804891, 20.3450398 39.8044985, 20.3465059 39.8042944, 20.3481121 39.8038389, 20.349382 39.8029471, 20.3507135 39.8023972, 20.3518402 39.8016337, 20.3531033 39.8010303, 20.3544742 39.8004349, 20.3557359 39.7999775, 20.3567399 39.7994389, 20.3569685 39.7989359, 20.3569616 39.797821, 20.3571761 39.7969861, 20.3574593 39.796673, 20.3584478 39.7959485, 20.3597461 39.795239, 20.3610092 39.794609, 20.3616039 39.7936169, 20.3617743 39.7928914, 20.3625844 39.7928295, 20.3637783 39.7922256, 20.3643353 39.7915784, 20.3649621 39.7908386, 20.3659414 39.7902135, 20.3668781 39.7894754, 20.3683854 39.7884883, 20.3702862 39.7877819, 20.3720828 39.7871679, 20.3735709 39.786393, 20.375381 39.785661, 20.3768001 39.7853814, 20.3787157 39.7851618, 20.3805341 39.7846927, 20.3815297 39.7845256, 20.3823739 39.7846068, 20.3825249 39.7847419, 20.3837299 39.7858206, 20.3842215 39.7864361, 20.3844238 39.7866006, 20.3845968 39.7867414, 20.3850793 39.7871337, 20.3869396 39.7875457, 20.3897706 39.7877905, 20.3910565 39.7885251, 20.3916954 39.789352, 20.3922525 39.791002, 20.3925133 39.7924399, 20.3927644 39.7931069, 20.393381 39.7936464, 20.3957272 39.7953632, 20.3966619 39.7963568, 20.3974018 39.7971531, 20.3988828 39.7983483, 20.4000493 39.7996902, 20.4006085 39.8011296, 20.4010501 39.8018022, 20.4021102 39.8028227, 20.4025273 39.8034569, 20.4028244 39.8035925, 20.4033711 39.8036145, 20.4048616 39.8037371, 20.4054058 39.8040463, 20.4057024 39.8042394, 20.4073718 39.8052415, 20.407864 39.8058186, 20.4089905 39.8078163, 20.4103407 39.809815, 20.4110752 39.8111403, 20.4118382 39.8120417, 20.4136627 39.8138321, 20.4142774 39.8146397, 20.4144459 39.8152917, 20.4144243 39.8178389, 20.4142667 39.8192542, 20.4134381 39.8202077, 20.4134841 39.8206484, 20.4143433 39.8219552, 20.4147382 39.8223019, 20.41481 39.8226279, 20.4146988 39.8240063, 20.4143181 39.8249237, 20.414086 39.8252636, 20.4142083 39.8254941, 20.4152472 39.8261505, 20.4161318 39.8273999, 20.4163498 39.8280905, 20.4160704 39.8287786, 20.4150876 39.8303058, 20.4141573 39.8315078, 20.413078 39.832841, 20.4128548 39.8338019, 20.4130216 39.8349234, 20.413809 39.8356746, 20.415804 39.8379018, 20.4171553 39.8397764, 20.416954 39.840115, 20.4159283 39.8414513, 20.4144979 39.8425439, 20.4125492 39.8435019, 20.4115078 39.8440909, 20.4106447 39.8444431, 20.408846 39.8458943, 20.407663 39.8475523, 20.4064084 39.8487669, 20.4054312 39.84956, 20.4051335 39.850832, 20.4048383 39.8518153, 20.4041025 39.8527455, 20.4031245 39.8536234, 20.4020914 39.8545496, 20.4007804 39.8556636, 20.3991773 39.8573873, 20.3977055 39.8592305, 20.3970395 39.8597195, 20.3964523 39.8607822, 20.3955161 39.8618981, 20.3939155 39.863316, 20.3921149 39.8648858, 20.3914804 39.8658806, 20.3902334 39.8671985, 20.3887862 39.8687021, 20.3880232 39.8701584, 20.387747 39.8711715, 20.3876217 39.8728519, 20.3871024 39.8741906, 20.3862663 39.876372, 20.3855701 39.8777437, 20.384054 39.8795186, 20.3829314 39.8807304, 20.3819893 39.8824404, 20.3823708 39.8841914, 20.3826581 39.8852906, 20.3831879 39.8877216, 20.3836364 39.8893881, 20.3834799 39.889608, 20.381539 39.8901981, 20.3777098 39.8914851, 20.3752311 39.8922699, 20.3743274 39.8921631, 20.3735687 39.8919212, 20.3719998 39.894638, 20.3713817 39.8959783, 20.371135 39.8963123, 20.3695848 39.898246, 20.3670286 39.9012676, 20.3665226 39.9016957, 20.3663485 39.9019192, 20.3647092 39.9038115, 20.3645899 39.9040031, 20.364602 39.9042664, 20.3644102 39.9083054, 20.3642743 39.909077, 20.3641627 39.9100078, 20.3639805 39.9102247, 20.3625903 39.910217, 20.3609884 39.9108222, 20.359046 39.9120393, 20.3585471 39.9123371, 20.3584986 39.9123585, 20.358385 39.9124418, 20.3581554 39.9126134, 20.3576152 39.913051, 20.357318 39.9132995, 20.3570569 39.9136125, 20.356104 39.9134063, 20.3546925 39.9139777, 20.3543937 39.9141316, 20.3541841 39.9140767, 20.3532305 39.9137203, 20.3530985 39.9136313, 20.3529937 39.9135067, 20.3527382 39.9137094, 20.3509518 39.914749, 20.3488731 39.9158852, 20.3486252 39.9161916, 20.3480423 39.9166558, 20.3464737 39.9173002, 20.3457227 39.917688, 20.3444489 39.918377, 20.3431248 39.919398, 20.3423728 39.9198902, 20.3410295 39.9205803, 20.3403164 39.9211879, 20.3395175 39.9218094, 20.3391738 39.9224083, 20.3386669 39.9229817, 20.3381671 39.9235802, 20.337852 39.9237319, 20.3374098 39.9240296, 20.3372906 39.9245243, 20.3386486 39.9290442, 20.3392089 39.9310009, 20.3399926 39.9336758, 20.3406552 39.9356754, 20.3412474 39.9376909, 20.3417519 39.9393992, 20.3425853 39.9405973, 20.3430984 39.9413626, 20.3440661 39.9424825, 20.3448368 39.9436105, 20.3450642 39.9447093, 20.3450538 39.9458068, 20.3446373 39.946719, 20.3440157 39.9477607, 20.3430478 39.9492364, 20.3427012 39.94994, 20.3424516 39.9511667, 20.3420318 39.9524186, 20.3417857 39.9532796, 20.3408568 39.9544502, 20.3394666 39.9562136, 20.3379936 39.9574072, 20.3364514 39.9587311, 20.3357278 39.9597461, 20.3353084 39.9609457, 20.3340415 39.9619053, 20.3297513 39.9647471, 20.3286897 39.965551, 20.3275571 39.9666681, 20.327383 39.9670852, 20.3272386 39.9679466, 20.3272314 39.9686783, 20.3268468 39.9697735, 20.3259788 39.9716238, 20.3257354 39.9721711, 20.3255614 39.9725882, 20.3249641 39.9729442, 20.3245206 39.9730985, 20.3237728 39.9730941, 20.3225843 39.9729565, 20.3217337 39.9730299, 20.3208481 39.9732076, 20.319655 39.9735404, 20.3187649 39.9741623, 20.3182465 39.9750215, 20.3178004 39.975437, 20.3177627 39.9758026, 20.3182317 39.9765109, 20.3188044 39.9770369, 20.3184592 39.9775575, 20.3177734 39.9781545, 20.317089 39.9785947, 20.3169489 39.979012, 20.3169432 39.9795868, 20.3165256 39.9805512, 20.316211 39.9814117, 20.3159176 39.98279, 20.3154984 39.9839111, 20.3151171 39.9846406, 20.3143951 39.9854464, 20.3139083 39.9865148, 20.3135576 39.9875841, 20.3129401 39.9881292, 20.3124929 39.9886492, 20.3122818 39.9893535, 20.3117877 39.9911536, 20.3124763 39.991249, 20.3177563 39.9919804, 20.3224432 39.9925567, 20.3304926 39.9935441, 20.3373624 39.992827, 20.3406982 39.9924802, 20.3437274 39.9921838, 20.3484242 39.9917399, 20.3546092 39.9910755, 20.3568553 39.990879, 20.3600887 39.9905571, 20.3628455 39.9902849, 20.3673038 39.9898651, 20.3735734 39.9891998, 20.3749074 39.9891527, 20.375416 39.9891238, 20.3761793 39.9891392, 20.3767412 39.9895087, 20.3770906 39.9899313, 20.3774023 39.9906183, 20.3777685 39.9915611, 20.3779844 39.9921051, 20.3782292 39.9923711, 20.3789224 39.9931125, 20.3793888 39.993305, 20.3801125 39.9933631, 20.3808003 39.9934889, 20.3815143 39.9936353, 20.3821754 39.9937813, 20.3827978 39.99391, 20.3837686 39.9939898, 20.3847393 39.9940832, 20.3856477 39.9942373, 20.3870035 39.9944034, 20.3879108 39.9946796, 20.3885773 39.9952056, 20.388954 39.9955605, 20.3891867 39.995632, 20.3894032 39.9956986, 20.3897456 39.9959311, 20.390119 39.9960723, 20.3908136 39.9961141, 20.39151 39.9959461, 20.3918588 39.9957954, 20.392703 39.9957617, 20.3937164 39.9962246, 20.39411 39.9966271, 20.3948691 39.9977943, 20.3957396 39.9995018, 20.3965216 40.0012412, 20.3972944 40.0036599, 20.3973986 40.0068632, 20.3975446 40.0090753, 20.3973999 40.0106992, 20.3972217 40.0121471, 20.3971515 40.0139383, 20.3972355 40.0146919, 20.3976093 40.0152824, 20.3977054 40.0155866, 20.3979417 40.015879, 20.3992354 40.0172322, 20.4009467 40.018334, 20.402133 40.0189247, 20.4033786 40.0203038, 20.4049585 40.0213032, 20.4072867 40.0238061, 20.4082037 40.0249292, 20.4093646 40.0261758, 20.4100121 40.0278567, 20.4110193 40.0300478, 20.4120297 40.031883, 20.4134726 40.0334663, 20.4151567 40.0348204, 20.4153799 40.0358129, 20.4151361 40.0372351, 20.4147302 40.0382497, 20.4146609 40.0385068, 20.4144706 40.038862, 20.4137523 40.0403291, 20.411778 40.0427846, 20.4106332 40.0440711, 20.4100557 40.0457712, 20.4097773 40.0473457, 20.4094993 40.0488694, 20.4099161 40.0504474, 20.4108659 40.0516469, 20.4121854 40.0527182, 20.4154769 40.0550225, 20.4185036 40.0573254, 20.4188948 40.057622, 20.4188296 40.057937, 20.4190194 40.0589801, 20.4193768 40.0597953, 20.4193363 40.0606593, 20.4201622 40.0608922, 20.4217571 40.0615809, 20.4230464 40.0618415, 20.4252982 40.0618527, 20.4267854 40.0622159, 20.4287952 40.0634459, 20.4302088 40.0646984, 20.4303756 40.0648272, 20.4306039 40.0649799, 20.4315579 40.0657471, 20.4329392 40.066535, 20.4330412 40.0665932, 20.4332392 40.0666988, 20.4333068 40.0667426, 20.4355689 40.0679415, 20.4372545 40.0683564, 20.4374612 40.0683631, 20.4376505 40.0685362, 20.4388037 40.0692535, 20.4408982 40.0698867, 20.4412816 40.0700026, 20.4432964 40.0706732, 20.4451097 40.0716986, 20.4472193 40.0729542, 20.4496732 40.0739566, 20.4509879 40.0738455, 20.4519118 40.0738792, 20.4521861 40.0739626, 20.4524748 40.0741516, 20.4535865 40.0742722, 20.4545801 40.0742769, 20.4556378 40.0745615, 20.4574588 40.0746463, 20.4584224 40.0742695, 20.4597791 40.0744284, 20.4618983 40.0745145, 20.4624966 40.0746012, 20.46273 40.0745554, 20.4630261 40.0745395, 20.4633585 40.074173, 20.4640519 40.0740884, 20.4652052 40.0741461, 20.465309 40.073945, 20.4655149 40.0730309, 20.4660208 40.071864, 20.4665555 40.0710328, 20.4673959 40.0705084, 20.4680307 40.0704508, 20.4684705 40.0702416, 20.4678253 40.0695898, 20.4678285 40.0691832, 20.4688875 40.0692897, 20.4698811 40.0692943, 20.47048 40.0689411, 20.4711463 40.0684358, 20.4720105 40.0680331, 20.4730071 40.0676309, 20.4730763 40.0674166, 20.47314 40.0671868, 20.4734798 40.0664638, 20.4742777 40.0660608, 20.4757074 40.0653301, 20.4775335 40.0647283, 20.4787156 40.0646865, 20.4800842 40.0646381, 20.4808817 40.0642859, 20.4838257 40.0638776, 20.4861088 40.064142, 20.4889564 40.0642054, 20.4913701 40.0647244, 20.4920616 40.0652612, 20.4921564 40.0653648, 20.4923588 40.0653642, 20.4938164 40.0653197, 20.4954338 40.0660385, 20.4971456 40.0674439, 20.4980716 40.0690413, 20.498564 40.0698564, 20.4990409 40.0709549, 20.49913 40.0713799, 20.499186 40.0714896, 20.4993435 40.0715931, 20.5001104 40.0718087, 20.5025318 40.0727391, 20.5046447 40.0738332, 20.505685 40.0744981, 20.5074896 40.0757324, 20.5080078 40.0762241, 20.5080961 40.076767, 20.5080868 40.0768992, 20.5080119 40.0770556, 20.507597 40.0777792, 20.5073181 40.0780847, 20.5075005 40.0783685, 20.5081126 40.0787485, 20.5088444 40.0795772, 20.5091457 40.0804276, 20.5094196 40.0808062, 20.5099697 40.0812567, 20.5107939 40.0820622, 20.5117107 40.0828209, 20.5122362 40.0824221, 20.5134399 40.0817431, 20.5142756 40.0809446, 20.5155396 40.080431, 20.5168644 40.0800119, 20.5179742 40.0795684, 20.519129 40.0792412, 20.520331 40.078798, 20.5225835 40.0775808, 20.5238465 40.077185, 20.525018 40.0766944, 20.526128 40.0762036, 20.5272072 40.0757127, 20.5294714 40.0745752, 20.5318454 40.0735233, 20.5340654 40.072518, 20.5353299 40.0718862, 20.5372444 40.0705729, 20.5383087 40.069837, 20.5393286 40.0690155, 20.5403166 40.0683353, 20.5414589 40.067585, 20.5425019 40.0668539, 20.5438651 40.06625, 20.5451246 40.0663257, 20.5459137 40.0664406, 20.5465596 40.0663724, 20.5474869 40.065574, 20.5485064 40.064776, 20.5495257 40.0640015, 20.5498648 40.0638377, 20.5514279 40.0644807, 20.5521491 40.0647781, 20.5544322 40.0656481, 20.5557208 40.0659833, 20.5567945 40.066294, 20.557994 40.0661571, 20.559133 40.0658784, 20.5598406 40.0651173, 20.5599492 40.0650197, 20.5601676 40.0650827, 20.5621172 40.0653943, 20.5634381 40.0654937, 20.5650863 40.0651194, 20.566529 40.0654079, 20.5680951 40.0656024, 20.5699368 40.0659867, 20.5720867 40.066207, 20.5730056 40.0667057, 20.5747864 40.0669953, 20.5776619 40.0672439, 20.5793048 40.0678433, 20.5824146 40.0690774, 20.5847151 40.0698405, 20.5869357 40.0706952, 20.5881323 40.0711219, 20.5882816 40.0711554, 20.5885772 40.0710402, 20.5886837 40.0709678, 20.5892113 40.0704788, 20.589583 40.0700593, 20.5899532 40.0699438, 20.5898885 40.0703161, 20.5900688 40.0710008, 20.5900476 40.0711263, 20.5900369 40.0711893, 20.5908041 40.0714043, 20.5919424 40.0712197, 20.5931425 40.070988, 20.5937878 40.0710139, 20.5955969 40.0717514, 20.5959714 40.0718576, 20.5966742 40.0720172, 20.5969948 40.07209, 20.5985952 40.0724389, 20.5998056 40.0725575, 20.6006165 40.0728129, 20.601262 40.0731701, 20.6042625 40.0748304, 20.6049386 40.0751784, 20.6051052 40.0752022, 20.6053701 40.0753574, 20.6060575 40.0755207, 20.606556 40.0755823, 20.6082098 40.0761675, 20.6088258 40.07641, 20.6098411 40.0771738, 20.6105881 40.077766, 20.6119289 40.0789832, 20.6139561 40.0801098, 20.6147512 40.0808437, 20.6137106 40.081632, 20.6145357 40.0825075, 20.6174132 40.0827943, 20.6176602 40.0829944, 20.6177774 40.0828435, 20.6182798 40.0828562, 20.6204856 40.0834696, 20.6202756 40.0843717, 20.6202679 40.0845333, 20.6200879 40.0856896, 20.6206705 40.0876029, 20.6216912 40.0885925, 20.6228603 40.0890758, 20.6244855 40.0892283, 20.6255335 40.0895517, 20.6260877 40.0897992, 20.627429 40.0903815, 20.6293052 40.0905021, 20.6309314 40.0912314, 20.6311989 40.0912987, 20.6374892 40.0930216, 20.6387481 40.0932097, 20.639648 40.0932125, 20.6413898 40.0928496, 20.6444178 40.0929933, 20.6458586 40.0928136, 20.6492821 40.0920876, 20.6527618 40.0920981, 20.6565705 40.0918687, 20.6577608 40.0916619, 20.6590813 40.0915027, 20.6599013 40.0920732, 20.6601969 40.0929486, 20.6627101 40.0942908, 20.6636662 40.0950761, 20.6660018 40.0959574, 20.668398 40.0967467, 20.6702555 40.0972583, 20.6719959 40.0971712, 20.6734035 40.0964085, 20.6752663 40.0958154, 20.6781484 40.0953631, 20.6781472 40.0956095, 20.6781467 40.0957137, 20.6781463 40.0958126, 20.6781458 40.0959155, 20.677961 40.0969276, 20.6780145 40.0983086, 20.6775852 40.1002866, 20.6768558 40.1022638, 20.6767589 40.1025099, 20.6768045 40.1027064, 20.677289 40.1035736, 20.6779267 40.1042, 20.6785214 40.1053524, 20.679529 40.1082965, 20.6798793 40.1103688, 20.6801148 40.111336, 20.679627 40.1129917, 20.6788921 40.1161196, 20.6781602 40.1186031, 20.6779127 40.1201674, 20.6779684 40.1214433, 20.6776659 40.1219487, 20.6764579 40.1235563, 20.6758531 40.1245213, 20.6751273 40.1256699, 20.6754822 40.1267756, 20.676079 40.1275137, 20.6767949 40.1284363, 20.6772703 40.1294502, 20.678763 40.1311574, 20.6803749 40.133049, 20.6809059 40.1350297, 20.6821593 40.1365981, 20.6830061 40.1387114, 20.6830003 40.1399541, 20.6833586 40.1403694, 20.6853945 40.1415256, 20.6866503 40.1426337, 20.689161 40.1450339, 20.6915508 40.1476639, 20.6920274 40.1484937, 20.6926683 40.1495052, 20.6934589 40.1506148, 20.6936339 40.151766, 20.6938082 40.1530552, 20.6935049 40.1537448, 20.6932032 40.1540662, 20.6921803 40.1545238, 20.6913969 40.1551201, 20.6899233 40.1559855, 20.6897966 40.1560542, 20.6894425 40.1560763, 20.6892306 40.1560554, 20.6884821 40.1559817, 20.6876414 40.1559794, 20.6869798 40.1562078, 20.6861974 40.1565739, 20.6857747 40.157079, 20.6857084 40.1574257, 20.6856516 40.1577231, 20.6854104 40.1579526, 20.68475 40.1579048, 20.6838503 40.1576722, 20.6835414 40.157855, 20.6833083 40.1579929, 20.6829454 40.1585442, 20.6822216 40.1592327, 20.6807146 40.1604252, 20.6797497 40.1612971, 20.6784861 40.1617999, 20.6772989 40.1625067, 20.6771009 40.1626246, 20.676135 40.1636805, 20.6748683 40.1648277, 20.674806 40.1652878, 20.6752951 40.1661794, 20.6759361 40.1674222, 20.676289 40.1682185, 20.6771905 40.1696376, 20.6771542 40.1704328, 20.6769234 40.1712275, 20.6769192 40.1721221, 20.6762342 40.1729404, 20.675887 40.1736053, 20.6758843 40.174177, 20.6766897 40.1753224, 20.6776266 40.1761203, 20.6780443 40.1769665, 20.6779435 40.1777118, 20.6777952 40.1783785, 20.6777115 40.1787549, 20.6780302 40.1799488, 20.6785795 40.1803976, 20.6792244 40.1812196, 20.6800045 40.1823635, 20.6812881 40.183761, 20.6810539 40.1843179, 20.6804882 40.1850259, 20.6799864 40.1862157, 20.6784235 40.1879093, 20.6780883 40.1888461, 20.6786465 40.1897346, 20.6804603 40.1909815, 20.6823339 40.1916176, 20.6843517 40.1916991, 20.6854101 40.1917527, 20.6862032 40.1919576, 20.6870938 40.1925429, 20.6878668 40.1933756, 20.688213 40.1937877, 20.689928 40.1949835, 20.6919089 40.1959264, 20.6938931 40.1961598, 20.6971998 40.1965993, 20.700341 40.1970637, 20.7019275 40.1974479, 20.7042386 40.1986196, 20.7052626 40.1990024, 20.7070375 40.1992861, 20.7074656 40.1997687, 20.7082635 40.2002745, 20.7085928 40.2006555, 20.7090196 40.2014446, 20.7091796 40.2027121, 20.7095401 40.2035494, 20.7100335 40.2042349, 20.7114495 40.2058604, 20.7131296 40.2076639, 20.7137564 40.2081216, 20.7137549 40.2084764, 20.7135769 40.2087199, 20.7134221 40.2089318, 20.7125911 40.2097914, 20.7126224 40.2102223, 20.7134186 40.2106281, 20.7144425 40.2111121, 20.7156634 40.2119768, 20.7174113 40.213451, 20.7201202 40.2146233, 20.7209452 40.2152082, 20.7212728 40.2160453, 20.7214652 40.217541, 20.7216436 40.218847, 20.7218785 40.2197346, 20.7223518 40.2206488, 20.7236084 40.2216432, 20.7251395 40.2221947, 20.7259211 40.2226923, 20.7260901 40.2230318, 20.7259852 40.2237098, 20.7254714 40.2243608, 20.7251267 40.2253514, 20.7245792 40.225924, 20.723106 40.2271155, 20.7220467 40.2278435, 20.7205426 40.2289877, 20.7199584 40.2301864, 20.7197123 40.232012, 20.719707 40.2332903, 20.7200426 40.2345694, 20.720209 40.2355351, 20.7200973 40.236158, 20.7196161 40.2371482, 20.7195445 40.2379828, 20.7199171 40.2385577, 20.7206585 40.2394025, 20.7213035 40.2400302, 20.7221855 40.2410237, 20.7221487 40.2417019, 20.7215988 40.2428224, 20.721493 40.243683, 20.7218643 40.2445709, 20.7217933 40.245249, 20.7214148 40.2461351, 20.7212404 40.2471, 20.7212037 40.247726, 20.7211995 40.2495085, 20.7215847 40.2500236, 20.7217811 40.2508143, 20.7219367 40.2514407, 20.7222177 40.2521118, 20.7227944 40.2531691, 20.7227193 40.2534428, 20.7221251 40.2539229, 20.7204563 40.2546837, 20.7186147 40.2554724, 20.7170007 40.2563458, 20.7138855 40.2577639, 20.7127861 40.2588626, 20.7109741 40.2613225, 20.7098538 40.2624414, 20.7082915 40.2642031, 20.7067709 40.2671437, 20.706671 40.2673984, 20.7066529 40.2681153, 20.7076286 40.2708088, 20.708682 40.2726939, 20.7093715 40.2739277, 20.7107597 40.2761588, 20.7115811 40.2774544, 20.7120497 40.2781249, 20.712207 40.2788712, 20.712378 40.2800277, 20.7124067 40.2802217, 20.7124474 40.2804965, 20.712471 40.2806564, 20.712496 40.2809758, 20.7125172 40.2812454, 20.7125467 40.2816216, 20.712565 40.2818553, 20.7126692 40.2823876, 20.7127462 40.2827811, 20.7129474 40.283086, 20.7144186 40.2842677, 20.7155277 40.2853362, 20.7167328 40.2864439, 20.7167702 40.2864634, 20.7174595 40.2868233, 20.7191874 40.2876588, 20.7197842 40.2879474, 20.7206293 40.2885774, 20.7213471 40.2891125, 20.7228639 40.2902766, 20.7236622 40.2907563, 20.7241518 40.2910505, 20.7243785 40.2911867, 20.7255248 40.2916332, 20.7255465 40.2916596, 20.7258726 40.2920549, 20.7259867 40.2921933, 20.7261021 40.2923333, 20.7265622 40.2926242, 20.7268491 40.2928056, 20.7275005 40.2933487, 20.7275873 40.2934211, 20.7279676 40.2940262, 20.7284699 40.2949811, 20.729073 40.2954546, 20.7295288 40.2956823, 20.730566 40.296251, 20.7310339 40.2965543, 20.7311683 40.2969228, 20.7311777 40.2976593, 20.731233 40.2992835, 20.731256 40.2998875, 20.7318196 40.3009841, 20.7322116 40.3017687, 20.7323189 40.302732, 20.7322414 40.3037978, 20.7322866 40.3048554, 20.732345 40.3056959, 20.7324061 40.305866, 20.7327379 40.3062633, 20.7334667 40.3073403, 20.7340188 40.3082291, 20.7347078 40.3088728, 20.7355573 40.3095073, 20.7362728 40.3100844, 20.7385867 40.3120347, 20.7389807 40.3123283, 20.7393102 40.3123031, 20.7402012 40.3117953, 20.7412781 40.3111084, 20.7417848 40.3110057, 20.7421177 40.3111386, 20.7433105 40.3124632, 20.7439389 40.3128045, 20.7447038 40.312995, 20.7460704 40.3133503, 20.7475501 40.313939, 20.7480068 40.3139872, 20.7483035 40.3138934, 20.7485569 40.3137523, 20.7488557 40.3134055, 20.74928 40.3132468, 20.7499509 40.3131693, 20.7503636 40.3131702, 20.7511196 40.3133165, 20.7525796 40.3137799, 20.7536961 40.3140979, 20.7548469 40.3144686, 20.7554816 40.3148908, 20.755944 40.3154046, 20.7563372 40.316063, 20.7564378 40.3167865, 20.7567421 40.3174427, 20.7572736 40.3179041, 20.7586984 40.3186041, 20.7599004 40.3191194, 20.7608961 40.3195949, 20.7615488 40.3198067, 20.762339 40.3200714, 20.7629227 40.3203487, 20.7634377 40.3206259, 20.7638492 40.3209819, 20.7642865 40.3214804, 20.7643026 40.321796, 20.7638182 40.3226235, 20.7631254 40.324003, 20.7624507 40.3251457, 20.7619734 40.3258802, 20.7615928 40.3265238, 20.7612117 40.3272858, 20.7604523 40.3280338, 20.7597444 40.3288082, 20.7589324 40.3298323, 20.7584609 40.3304481, 20.7581328 40.3308025, 20.7580115 40.3310784, 20.7579754 40.3315386, 20.7580598 40.3319859, 20.7583675 40.3325126, 20.7586163 40.3328357, 20.7588498 40.3334511, 20.7589742 40.333779, 20.7595727 40.3348392, 20.7600917 40.3356997, 20.7613379 40.3369284, 20.7619381 40.3375128, 20.7620365 40.3380809, 20.7620141 40.3387254, 20.7619522 40.339201, 20.7623107 40.3400458, 20.7633718 40.3408921, 20.7640187 40.3420119, 20.7644588 40.3424732, 20.7657404 40.3434426, 20.766703 40.3437975, 20.7677456 40.3442294, 20.7689878 40.3449992, 20.77031 40.3458919, 20.7714316 40.3467382, 20.772161 40.3474134, 20.7739456 40.3481381, 20.7746279 40.3482776, 20.7757314 40.3485406, 20.7763937 40.3486493, 20.7769156 40.3487117, 20.7778603 40.348422, 20.7791864 40.3481483, 20.7796485 40.3480878, 20.7795676 40.3482564, 20.7790849 40.3484857, 20.7784613 40.3488528, 20.7770927 40.3497864, 20.7763663 40.3508746, 20.7757409 40.3517328, 20.7754588 40.3520392, 20.7753959 40.3526506, 20.7753739 40.3532337, 20.775413 40.353556, 20.7755314 40.3541855, 20.7757312 40.3544928, 20.7758507 40.3548, 20.7764303 40.3556298, 20.776689 40.3563516, 20.7770686 40.3569509, 20.7778252 40.3572908, 20.7791704 40.3573854, 20.7806168 40.3572501, 20.7811998 40.3570824, 20.781983 40.3570838, 20.7832275 40.3572703, 20.7838694 40.3574864, 20.7845378 40.3580959, 20.7851787 40.3586496, 20.7867805 40.3601719, 20.7877429 40.3606801, 20.7884244 40.3611111, 20.7896475 40.3617579, 20.7901096 40.3623087, 20.7901892 40.362539, 20.7903083 40.363015, 20.7903474 40.3633527, 20.7902913 40.3637885, 20.7901616 40.3640712, 20.7900711 40.3643492, 20.7899212 40.3645299, 20.7898726 40.3649135, 20.7898594 40.3652701, 20.7899565 40.3663446, 20.7899546 40.3669431, 20.7900712 40.3674395, 20.7903531 40.3680323, 20.7907923 40.3688925, 20.7910298 40.3700439, 20.7910461 40.3712717, 20.7909841 40.3718394, 20.7910803 40.3732054, 20.7908159 40.3739718, 20.7905923 40.3748155, 20.7905716 40.3749735, 20.79051 40.3754446, 20.7905075 40.3762579, 20.790403 40.3775469, 20.7905811 40.3784373, 20.7906991 40.3792355, 20.7910782 40.3802953, 20.7915565 40.3815392, 20.7916351 40.3821072, 20.7916331 40.3827671, 20.7916297 40.3838567, 20.7914078 40.3841632, 20.7907621 40.3850675, 20.7905188 40.3857884, 20.7904964 40.3863246, 20.7904952 40.3867236, 20.7904125 40.3874601, 20.7902089 40.3883192, 20.7900868 40.3888407, 20.7898433 40.3895923, 20.7894989 40.3905124, 20.7891517 40.3914285, 20.7888676 40.3923488, 20.7886038 40.3931617, 20.7883996 40.3942049, 20.7882976 40.3946958, 20.7884158 40.3954634, 20.7882927 40.3962611, 20.7874013 40.398427, 20.7871383 40.398979, 20.7869156 40.3995003, 20.7869549 40.3997767, 20.7870343 40.4000837, 20.7871537 40.4004676, 20.7874134 40.4009438, 20.7876332 40.4013433, 20.7877723 40.4018499, 20.7880917 40.4025411, 20.788392 40.40291, 20.7885919 40.4035812, 20.7889103 40.4045946, 20.7893889 40.4057925, 20.7896678 40.4065604, 20.7900472 40.4073437, 20.7910569 40.4081714, 20.7913374 40.4084482, 20.791557 40.408955, 20.7917163 40.4094311, 20.791774 40.4102752, 20.7917918 40.4109965, 20.7918096 40.4117639, 20.7919669 40.4126952, 20.7921469 40.4130025, 20.7922261 40.4134016, 20.7923052 40.4138008, 20.7921631 40.4142609, 20.7917793 40.4148741, 20.7912147 40.4154716, 20.7906096 40.4161795, 20.7881217 40.4184886, 20.7869479 40.4219107, 20.7859954 40.4253753, 20.7862668 40.4271091, 20.7872029 40.428844, 20.7893658 40.4301868, 20.7895248 40.4302855, 20.792569 40.4318942, 20.7946157 40.4328279, 20.7968269 40.4343114, 20.7975455 40.4348199, 20.8003148 40.4349516, 20.8027522 40.4349557, 20.8049644 40.4361854, 20.8096088 40.4393214, 20.811434 40.4403812, 20.8120978 40.4407205, 20.8127079 40.4404679, 20.8154824 40.4387814, 20.8188033 40.4383686, 20.8214592 40.4395564, 20.8238385 40.4406591, 20.8241694 40.4412092, 20.8241125 40.4418009, 20.8218341 40.4444607, 20.8213879 40.4455591, 20.8217185 40.4462782, 20.8240435 40.4470005, 20.8261396 40.4479263, 20.828901 40.4514391, 20.8306672 40.4541472, 20.8311266 40.4557387, 20.8312166 40.4560503, 20.8314824 40.4605317, 20.831696 40.4649228, 20.833021 40.4669538, 20.8344581 40.46852, 20.8348423 40.4700424, 20.8351157 40.4715646, 20.8355026 40.4720302, 20.837386 40.4724556, 20.8379382 40.4733018, 20.8385609 40.4755763, 20.8396125 40.4762119, 20.8412171 40.47744, 20.8418782 40.4791318, 20.8426519 40.4801474, 20.8435384 40.4803177, 20.8442591 40.4802764, 20.8462008 40.4796027, 20.8483091 40.4787177, 20.8510257 40.4785099, 20.8540737 40.4788097, 20.8554042 40.4787268, 20.8577896 40.477842, 20.8611763 40.4751829, 20.8640615 40.4737068, 20.8681579 40.4723825, 20.8691012 40.471834, 20.8709318 40.4710329, 20.8720957 40.4710342, 20.8735526 40.4712468, 20.8742289 40.4715444, 20.8747416 40.4725656, 20.8748941 40.4735863, 20.8771588 40.4735495, 20.8788052 40.4738653, 20.8808641 40.4737104, 20.8827172 40.4735553, 20.8850333 40.4735184, 20.8859078 40.473794, 20.8865241 40.4745797, 20.8871407 40.4752084, 20.8883239 40.4755628, 20.8888386 40.475524, 20.8905896 40.4748584, 20.8916191 40.4747808, 20.8923396 40.47486, 20.8930606 40.4745859, 20.894279 40.4745446, 20.8955654 40.474742, 20.897315 40.4749399, 20.8996313 40.4748241, 20.9014327 40.4747864, 20.9028735 40.4749839, 20.9049311 40.47581, 20.9062688 40.4761643, 20.9071953 40.4761651, 20.9075125 40.4760976, 20.9084824 40.4758913, 20.9100793 40.474872, 20.9119857 40.4733033, 20.9131707 40.4723228, 20.9141487 40.4722058, 20.9153838 40.472246, 20.9161048 40.4719325, 20.9166204 40.4711085, 20.9174225 40.4692391, 20.9178877 40.4675516, 20.9186087 40.4671595, 20.9200497 40.4671213, 20.9210791 40.466965, 20.9222644 40.4655526, 20.9231914 40.4648859, 20.9249412 40.4648086, 20.9275671 40.4635149, 20.9301403 40.4632809, 20.9318907 40.4625754, 20.9399679 40.4646211, 20.948786 40.4668901, 20.9554747 40.4689733, 20.9565036 40.4695233, 20.9566578 40.4698766, 20.9559371 40.4700726, 20.9549077 40.4702685, 20.9547529 40.470975, 20.9544947 40.4722703, 20.9538252 40.4728981, 20.9535159 40.4735653, 20.9538753 40.4748215, 20.9537201 40.4759206, 20.9551609 40.4764707, 20.9560583 40.4772455, 20.9573952 40.4792479, 20.9588352 40.4812112, 20.9600692 40.4834883, 20.9606866 40.4840381, 20.9626425 40.4843135, 20.9644438 40.4849421, 20.9670682 40.4868664, 20.9687719 40.4883503, 20.9691833 40.489214, 20.9690798 40.4903524, 20.9683066 40.4925896, 20.9684091 40.4934532, 20.9693345 40.4963975, 20.9693341 40.4971826, 20.969231 40.4976536, 20.9678723 40.4995125, 20.9673954 40.4998728, 20.9671019 40.5000964, 20.9669734 40.5005017, 20.9670088 40.5011294, 20.9670085 40.5016745, 20.9672282 40.5023874, 20.9672096 40.5029325, 20.966916 40.5034496, 20.96554 40.5051126, 20.9648977 40.5059362, 20.9646959 40.5062018, 20.9643838 40.5068167, 20.964347 40.5071801, 20.9644383 40.5078231, 20.9647311 40.5088435, 20.9647855 40.5101435, 20.9645842 40.5109378, 20.964584 40.5112174, 20.964804 40.5114271, 20.965244 40.511567, 20.9658491 40.511693, 20.9663073 40.5120566, 20.9668753 40.5128954, 20.9673881 40.5143212, 20.9677914 40.5149898, 20.9681211 40.5158146, 20.9682126 40.5162619, 20.9681573 40.5167511, 20.9679001 40.5177714, 20.9678449 40.5181627, 20.9679181 40.5185122, 20.9682427 40.5188218, 20.9693976 40.5199124, 20.9699109 40.5204297, 20.970406 40.5204857, 20.9710846 40.5203461, 20.972552 40.5197734, 20.9732307 40.5193682, 20.9740561 40.519033, 20.974753 40.5190331, 20.9754682 40.5191311, 20.9763665 40.5199699, 20.9769567 40.5208083, 20.9772618 40.5214472, 20.9779646 40.5229191, 20.9784962 40.5239116, 20.9796514 40.5246666, 20.9813135 40.5255034, 20.9837893 40.5267058, 20.9859533 40.5278383, 20.988851 40.5293761, 20.9902583 40.53017, 20.9919456 40.5310926, 20.993523 40.5318894, 20.9948253 40.5325185, 20.9959258 40.5331475, 20.9973199 40.5334411, 20.9985503 40.5337067, 20.9994071 40.5347465, 20.9999916 40.5354375, 21.0001729 40.5361439, 20.9999286 40.5371691, 20.9991023 40.5389658, 20.9987395 40.5402403, 20.9991035 40.5415717, 20.9993453 40.5431073, 21.0000306 40.5435679, 21.0008166 40.5437369, 21.0014616 40.5439058, 21.0018443 40.5445022, 21.0019451 40.5457307, 21.0016226 40.5467595, 21.0023281 40.5471127, 21.0030336 40.5478037, 21.0045955 40.5496251, 21.0058253 40.5515906, 21.0074177 40.5511299, 21.00899 40.5512987, 21.0101995 40.5515596, 21.0119228 40.5532585, 21.01285 40.5530742, 21.0130315 40.5533352, 21.0129308 40.5537191, 21.0127293 40.5543026, 21.0130721 40.5546558, 21.0139188 40.5547785, 21.0168155 40.5553657, 21.0182668 40.5551505, 21.0184886 40.5553194, 21.0188718 40.5557493, 21.0189527 40.5567628, 21.0194769 40.5570391, 21.0204244 40.5571157, 21.022904 40.5571306, 21.0239925 40.5570076, 21.024315 40.5567004, 21.0248796 40.5570995, 21.0253231 40.557253, 21.0258069 40.5571914, 21.0260481 40.5552105, 21.0268543 40.5549646, 21.0297168 40.5546537, 21.0307367 40.5543389, 21.0319267 40.5541906, 21.0329955 40.5544493, 21.033643 40.5550711, 21.0343717 40.5552374, 21.0348092 40.5557923, 21.0348825 40.5566619, 21.0354413 40.5568652, 21.0360484 40.5568096, 21.036558 40.5558288, 21.037724 40.556254, 21.0406151 40.5575296, 21.0420241 40.5578621, 21.0427772 40.5581024, 21.0433604 40.5586387, 21.0423891 40.5589166, 21.0417093 40.5595089, 21.0414182 40.5600085, 21.0412971 40.5605636, 21.0416329 40.5609288, 21.042556 40.561169, 21.0428963 40.5614649, 21.0431399 40.5625009, 21.0433591 40.5634999, 21.0432866 40.5640919, 21.0426557 40.5651098, 21.0426395 40.5663085, 21.0440981 40.5680841, 21.046701 40.5717254, 21.0471387 40.5723913, 21.047139 40.5728168, 21.0464109 40.5737792, 21.0461936 40.5757775, 21.0462949 40.5782516, 21.0439412 40.5828499, 21.0401646 40.5917308, 21.0402445 40.5920948, 21.0414688 40.5928559, 21.0421995 40.5939338, 21.0426485 40.5943029, 21.043363 40.5943851, 21.0450389 40.5942657, 21.0453146 40.594246, 21.0454368 40.5948821, 21.0461099 40.5973153, 21.0483037 40.6023279, 21.0481467 40.6029102, 21.0469901 40.6038831, 21.0461884 40.60477, 21.0470204 40.6078382, 21.0471186 40.6089674, 21.0467018 40.6101215, 21.0450827 40.6127964, 21.0447405 40.6135855, 21.045266 40.6139581, 21.0478705 40.6151943, 21.0501939 40.6162397, 21.0524516 40.6162691, 21.0551675 40.6166685, 21.0558483 40.6167352, 21.0566276 40.6169775, 21.0566242 40.6172236, 21.0566386 40.617395, 21.0565724 40.6177384, 21.0565055 40.6183658, 21.0564422 40.6196365, 21.0562598 40.6209413, 21.0560124 40.6226908, 21.0559868 40.6232042, 21.0559704 40.6235495, 21.0557468 40.627565, 21.0552714 40.6287552, 21.0519843 40.634648, 21.0520248 40.6354671, 21.0525449 40.6377117, 21.0535405 40.6442004, 21.0541418 40.6479921, 21.0555102 40.6565711, 21.0565929 40.6628146, 21.0574335 40.6661847, 21.0573064 40.6677684, 21.055602 40.6697782, 21.0540623 40.671453, 21.0525129 40.6732516, 21.048113 40.6778782, 21.0462629 40.6799044, 21.04299 40.6834422, 21.0412797 40.6857405, 21.0383722 40.690054, 21.038012 40.6905883, 21.0369939 40.6921045, 21.0356793 40.6940035, 21.034824 40.6952293, 21.0338884 40.6965785, 21.0321375 40.6992244, 21.03161 40.6999681, 21.0307506 40.7011448, 21.0281954 40.7045966, 21.0273451 40.70584, 21.026641 40.7068163, 21.0250972 40.7089491, 21.0212946 40.7120114, 21.0179946 40.7149444, 21.0147404 40.7177825, 21.0137243 40.7186235, 21.0101998 40.7215954, 21.0080808 40.7234373, 21.0065828 40.724756, 21.0039503 40.725698, 21.0027565 40.7263281, 20.9998683 40.7275155, 20.9984033 40.7280897, 20.9977464 40.7282768, 20.9971125 40.7284824, 20.9963238 40.7292226, 20.9957658 40.7298537, 20.9945925 40.7304015, 20.9912621 40.731274, 20.9895847 40.7316498, 20.9885039 40.7321242, 20.9865951 40.7352824, 20.985936 40.7358722, 20.9842183 40.7366389, 20.9837511 40.73705, 20.9835473 40.7376438, 20.9833668 40.7382529, 20.9833872 40.7393921, 20.9833267 40.7407016, 20.9832262 40.7419199, 20.9833663 40.7428793, 20.9843104 40.7445233, 20.9846104 40.7469141, 20.9849912 40.749503, 20.9848866 40.7524613, 20.9849362 40.753881, 20.984762 40.7567344, 20.9844627 40.757889, 20.9836399 40.7593842, 20.9827425 40.7615388, 20.9827173 40.7625988, 20.9803747 40.7620306, 20.9784306 40.7621438, 20.9774586 40.7622383, 20.975276 40.7619008, 20.9728335 40.7618624, 20.9715373 40.7624299, 20.9692682 40.7647765, 20.9674974 40.7670285, 20.9643929 40.7694863, 20.9620492 40.7706781, 20.9604288 40.7708479, 20.9588585 40.7707527, 20.9580111 40.7705253, 20.9565241 40.7705625, 20.9602372 40.772116, 20.9625048 40.7736122, 20.9639901 40.7754418, 20.9654357 40.7759723, 20.9683328 40.7770953, 20.9697226 40.7778096, 20.97362 40.7794893, 20.9741681 40.7806441, 20.9758382 40.7812123, 20.9775083 40.7817616, 20.9790038 40.7830869, 20.9797868 40.7845583, 20.9800108 40.7857319, 20.9812821 40.7866785, 20.9826032 40.7879091, 20.9831265 40.7889124, 20.9842324 40.7911425, 20.9849551 40.7932437, 20.9851044 40.7943416, 20.9850793 40.7950798, 20.9844801 40.7979742, 20.9843081 40.8010457, 20.9842856 40.8014466, 20.9797154 40.852478, 20.9776312 40.8895008, 20.977634 40.8897117, 20.9776596 40.8916602, 20.9776951 40.8925157, 20.9777468 40.8940194, 20.9781814 40.8948768, 20.9788249 40.8964741, 20.9788748 40.897118, 20.9786137 40.8977906, 20.9780678 40.8985213, 20.9772844 40.8992856, 20.9762816 40.9000852, 20.9756654 40.900688, 20.9752825 40.9009781, 20.9749346 40.9012903, 20.9749343 40.9017298, 20.9749342 40.9018749, 20.9748794 40.9020058, 20.9744295 40.9021781, 20.9730722 40.9027977, 20.9725173 40.9031386, 20.9721324 40.9035493, 20.97208 40.903945, 20.9719407 40.9040901, 20.9714832 40.9043769, 20.9709605 40.904765, 20.9705113 40.9057741, 20.9699795 40.9074445, 20.9697584 40.9085682, 20.969497 40.9093463, 20.9691406 40.9101741, 20.9683046 40.910975, 20.9675123 40.9114825, 20.9665479 40.9116137, 20.9656904 40.9115064, 20.9650292 40.911348, 20.9632891 40.9113342, 20.9622103 40.9113207, 20.9613559 40.9115153, 20.9605552 40.911792, 20.9599634 40.9120688, 20.9596326 40.9124116, 20.9593016 40.9130709, 20.9587964 40.9139149, 20.9580999 40.9146928, 20.9570523 40.9158774, 20.9571164 40.9161816, 20.9570375 40.9164422, 20.9570197 40.9166886, 20.9570009 40.9169848, 20.9568146 40.9171822, 20.9562372 40.9174641, 20.9553248 40.9176753, 20.954524 40.9178584, 20.9538907 40.9182249, 20.9531456 40.9186901, 20.9524193 40.9190001, 20.9518605 40.9192396, 20.9512459 40.9194792, 20.9506813 40.9198844, 20.9496939 40.920688, 20.9492465 40.9212944, 20.9489109 40.9218443, 20.9486685 40.9222956, 20.9484821 40.9225635, 20.9482586 40.9226198, 20.9472345 40.9226617, 20.9462104 40.9226189, 20.9450187 40.9226183, 20.9445763 40.922465, 20.9439435 40.9221121, 20.9431806 40.9215193, 20.9429573 40.921364, 20.9428084 40.9212934, 20.9425663 40.921264, 20.9423242 40.9213637, 20.9418768 40.9219559, 20.9412989 40.9227737, 20.9410564 40.9232391, 20.9410562 40.9234507, 20.9412232 40.924156, 20.9413161 40.9243818, 20.9411638 40.9247167, 20.9409217 40.924773, 20.9403073 40.924674, 20.9395812 40.9244902, 20.9385757 40.9245038, 20.9379241 40.9243765, 20.9372911 40.9242492, 20.9368256 40.9242349, 20.9358681 40.9244628, 20.9353357 40.9244879, 20.9345909 40.9244452, 20.9335296 40.9243741, 20.9319704 40.9239236, 20.9304838 40.9232915, 20.9300371 40.9230514, 20.9299442 40.9228821, 20.9299444 40.9227411, 20.9301311 40.9222757, 20.9301126 40.9220782, 20.9299268 40.9217254, 20.9297036 40.9214855, 20.9294608 40.9213709, 20.9290681 40.9213737, 20.9280276 40.921682, 20.9262581 40.9221886, 20.9235761 40.9228499, 20.9214765 40.9234449, 20.9200052 40.9237119, 20.9193534 40.9237819, 20.9183106 40.9237671, 20.9175659 40.9236678, 20.9171749 40.9236535, 20.9166162 40.9237518, 20.9160389 40.9237937, 20.915592 40.9237934, 20.915243 40.92365, 20.9148854 40.9230029, 20.9143473 40.9215497, 20.9136496 40.9205089, 20.9133891 40.9203535, 20.9128864 40.9203108, 20.9114901 40.920211, 20.9111552 40.9200274, 20.9110438 40.9197593, 20.9112124 40.9189977, 20.9117171 40.917517, 20.911651 40.9173076, 20.9114831 40.91738, 20.9113603 40.9173962, 20.9112589 40.917292, 20.9109236 40.91729, 20.9107206 40.9173302, 20.9105291 40.917305, 20.9103105 40.9172296, 20.91019 40.9173358, 20.9099033 40.9173982, 20.9097641 40.917457, 20.9096292 40.9174189, 20.9094181 40.9172924, 20.9092481 40.9173368, 20.9083039 40.9173593, 20.9082194 40.9173197, 20.9075801 40.9173255, 20.9074932 40.9173381, 20.9072699 40.9173005, 20.9056402 40.9172561, 20.9051279 40.9173923, 20.9045542 40.9173364, 20.9038571 40.9174011, 20.9032294 40.9176829, 20.9028005 40.9176133, 20.9025819 40.9176378, 20.9021394 40.9176078, 20.9018913 40.9176297, 20.9020031 40.9179191, 20.9020605 40.9182077, 20.9019278 40.9183577, 20.9013589 40.9184473, 20.9007173 40.9184734, 20.9006357 40.9183907, 20.9002648 40.9184509, 20.9001733 40.9186739, 20.9000105 40.9186512, 20.9000326 40.9186082, 20.8997295 40.9186367, 20.8995904 40.9186515, 20.8993167 40.9186103, 20.8989704 40.9184107, 20.8985326 40.9178873, 20.8980499 40.9182083, 20.8974402 40.9185077, 20.8973828 40.9189036, 20.8968922 40.9190883, 20.8965408 40.9193459, 20.8961903 40.9196012, 20.8957507 40.9197794, 20.8953961 40.9200163, 20.8949819 40.9202847, 20.8944482 40.9206644, 20.8938265 40.9210786, 20.8931244 40.9218198, 20.8920056 40.922792, 20.8914275 40.9232993, 20.8907272 40.9238312, 20.8898511 40.9244228, 20.8895529 40.9245353, 20.8890998 40.9246475, 20.8885497 40.9247856, 20.8879342 40.9248328, 20.8872779 40.9249277, 20.8866838 40.9250384, 20.8860268 40.9250979, 20.8854762 40.9251528, 20.8849959 40.9252061, 20.8846012 40.9253813, 20.8840289 40.925561, 20.8833831 40.9257299, 20.8821915 40.9262108, 20.8808992 40.9266868, 20.8794766 40.92706, 20.8785811 40.9273864, 20.8776205 40.9277124, 20.8765026 40.9280603, 20.8756805 40.9283895, 20.8748108 40.9286663, 20.8740393 40.9289631, 20.8734285 40.929141, 20.8726106 40.9295236, 20.8720718 40.9296841, 20.8710914 40.9300163, 20.8706865 40.9301631, 20.8702982 40.9302817, 20.8697529 40.9304819, 20.8693617 40.9306101, 20.8686576 40.930877, 20.8681063 40.9310674, 20.8671983 40.9313174, 20.8621199 40.9327876, 20.8614109 40.9330254, 20.8591386 40.9337705, 20.8578125 40.9342007, 20.8567272 40.9345841, 20.8561109 40.9348157, 20.8553757 40.9350565, 20.8548372 40.9352618, 20.8542071 40.9355153, 20.8538355 40.9356594, 20.8534209 40.935822, 20.8530485 40.9359617, 20.85265 40.9361268, 20.8520986 40.9362769, 20.851744 40.9363897, 20.8514191 40.9364859, 20.8511715 40.9365634, 20.8508845 40.9366525, 20.8505777 40.9367899, 20.8502694 40.9369042, 20.85002 40.9369763, 20.8497243 40.9371194, 20.8494507 40.9372406, 20.8491957 40.9373242, 20.8490172 40.9373726, 20.8488087 40.9374206, 20.8486345 40.937446, 20.8485245 40.937493, 20.8483854 40.9375562, 20.8482206 40.9376209, 20.8480981 40.9376802, 20.8479599 40.9376928, 20.84783 40.9376126, 20.8476725 40.9375032, 20.847511 40.9373695, 20.8472931 40.9371417, 20.847173 40.9370148, 20.846989 40.9369023, 20.8468506 40.936775, 20.8466746 40.9366546, 20.8465367 40.9365188, 20.8464099 40.9363871, 20.8462595 40.9362996, 20.8461381 40.9361686, 20.8460382 40.9360619, 20.8458889 40.9358981, 20.8457119 40.9357749, 20.8456223 40.9356561, 20.8454995 40.9355465, 20.8453496 40.9354451, 20.8452359 40.9352876, 20.8447739 40.9349226, 20.8443047 40.9345739, 20.8439857 40.9342647, 20.8435192 40.9338566, 20.8430917 40.9334407, 20.8423522 40.9328456, 20.8420537 40.9326471, 20.8414385 40.9319514, 20.8407113 40.9313937, 20.8403418 40.9310283, 20.8399048 40.93041, 20.8396161 40.9299726, 20.8393932 40.9296692, 20.8391259 40.929322, 20.8388338 40.928945, 20.8385389 40.9283889, 20.8381738 40.9278992, 20.837804 40.9275171, 20.8375864 40.9269913, 20.8370914 40.9262493, 20.8369048 40.9259757, 20.8367335 40.9256667, 20.8365445 40.9253577, 20.8363407 40.9251002, 20.8359847 40.9245099, 20.8348158 40.9228528, 20.83409 40.921793, 20.8314348 40.9181517, 20.8300975 40.9162435, 20.829324 40.9152404, 20.8288352 40.9143917, 20.8285629 40.9137769, 20.8283203 40.9132625, 20.8281145 40.9131226, 20.8277775 40.9129262, 20.8274452 40.9125812, 20.8273253 40.9121219, 20.8274797 40.9109741, 20.8277795 40.9101771, 20.8281146 40.9094428, 20.8281462 40.9089607, 20.8273178 40.9071926, 20.8267299 40.9061574, 20.8255188 40.9045644, 20.8247058 40.9040215, 20.824155 40.9036939, 20.8237052 40.9035306, 20.8233165 40.9033426, 20.8229297 40.9031729, 20.8225957 40.9030671, 20.8223952 40.9028886, 20.8221268 40.9027512, 20.8218933 40.9026859, 20.821568 40.9025363, 20.8212388 40.9023362, 20.8208373 40.9021529, 20.8204319 40.9019438, 20.8202089 40.9018038, 20.8199208 40.9016102, 20.8195887 40.9014451, 20.8192804 40.9012793, 20.8188894 40.9011402, 20.8186093 40.9010122, 20.8185557 40.9009599, 20.8184941 40.9009348, 20.8184487 40.9008975, 20.8184142 40.9008793, 20.8183841 40.9008588, 20.818337 40.9008456, 20.8182779 40.9008263, 20.8182404 40.9008064, 20.8182143 40.9007882, 20.8181895 40.9007764, 20.8181744 40.9007675, 20.8181523 40.9007571, 20.8181387 40.9007469, 20.8181229 40.9007418, 20.8181095 40.9007347, 20.8180877 40.9007278, 20.8180705 40.9007223, 20.8180533 40.9007187, 20.8180341 40.9007087, 20.8180164 40.9006977, 20.817993 40.9006891, 20.8179721 40.9006818, 20.8179471 40.9006641, 20.8179206 40.9006522, 20.8178994 40.9006343, 20.8178409 40.9006163, 20.8177955 40.9005849, 20.8177458 40.9005703, 20.8177187 40.9005513, 20.8176686 40.9005371, 20.8176328 40.9005207, 20.8175888 40.9004999, 20.8175472 40.9004825, 20.8175061 40.9004535, 20.8174673 40.900416, 20.8174273 40.9003918, 20.8173895 40.9003696, 20.8173616 40.9003616, 20.8173053 40.9003454, 20.8172523 40.9003266, 20.8171818 40.900305, 20.8171385 40.9002695, 20.8170574 40.9002199, 20.8169426 40.9001603, 20.8168478 40.900122, 20.816669 40.900054, 20.8164093 40.8999164, 20.8161336 40.8997864, 20.8158377 40.8997071, 20.8156765 40.8996186, 20.8155244 40.899564, 20.8153195 40.8995253, 20.8150647 40.8994628, 20.8147659 40.8993683, 20.8144155 40.8992662, 20.8141245 40.899271, 20.8137723 40.899269, 20.8134318 40.8993471, 20.8130748 40.899301, 20.812755 40.8993305, 20.8123389 40.8993212, 20.8119667 40.8993733, 20.8117051 40.8993732, 20.8115395 40.8994328, 20.8112396 40.8994076, 20.8109425 40.8995042, 20.8107015 40.8994975, 20.8104977 40.8994807, 20.8101194 40.8994519, 20.8097329 40.8994266, 20.8093246 40.8993979, 20.8089376 40.8993828, 20.8087082 40.8994155, 20.8079442 40.8993319, 20.8069089 40.8992187, 20.8063031 40.8991354, 20.8055592 40.8990232, 20.8050764 40.8988954, 20.8041924 40.898747, 20.8037792 40.8986969, 20.8035062 40.8986445, 20.8031839 40.8985996, 20.8029059 40.8985541, 20.8025503 40.8984536, 20.8017938 40.8982916, 20.8012792 40.8982219, 20.8004309 40.8983352, 20.7995487 40.89865, 20.7989382 40.8988455, 20.7984528 40.8990533, 20.7978986 40.8992823, 20.7974375 40.899481, 20.7972469 40.8996257, 20.7969785 40.8997522, 20.796712 40.9000156, 20.7965112 40.9002071, 20.7963287 40.900363, 20.7959994 40.9006123, 20.7957088 40.9008347, 20.7954253 40.9009347, 20.7950091 40.9010464, 20.7946782 40.9011743, 20.7944662 40.901247, 20.7942386 40.9013048, 20.794005 40.9013853, 20.7937233 40.9014847, 20.7934107 40.9015843, 20.793195 40.9016222, 20.7928431 40.9016855, 20.7926049 40.9018134, 20.7923271 40.9018902, 20.79195 40.9018957, 20.7917931 40.9019472, 20.7908452 40.9022449, 20.7902421 40.9024745, 20.7892165 40.902665, 20.7887169 40.9027113, 20.7881524 40.9027311, 20.7878119 40.9027552, 20.7874251 40.9027473, 20.786875 40.9027747, 20.7862768 40.9026951, 20.7857258 40.9026369, 20.7848402 40.9026992, 20.7837125 40.9029627, 20.7827941 40.9031536, 20.7820892 40.9032089, 20.781541 40.9033749, 20.7811755 40.9034687, 20.7808763 40.9033659, 20.7805072 40.9029102, 20.7801395 40.9028037, 20.7797754 40.9025291, 20.779439 40.9024454, 20.7790535 40.9022744, 20.7786988 40.9022252, 20.7785223 40.9022435, 20.7782971 40.9023276, 20.778102 40.9023244, 20.7777812 40.9024585, 20.7775722 40.9024612, 20.7773146 40.9025799, 20.7769931 40.9026899, 20.7766574 40.9028738, 20.7765068 40.9029892, 20.7761208 40.9032028, 20.7760341 40.9032212, 20.7760137 40.9032709, 20.7759052 40.9034618, 20.7756117 40.9040673, 20.7755159 40.9042894, 20.7753708 40.9046581, 20.7752968 40.9047965, 20.7746361 40.9047811, 20.7741305 40.9046751, 20.7739156 40.9046433, 20.7736519 40.9046081, 20.7734917 40.9045887, 20.7733535 40.9045407, 20.7731748 40.9045035, 20.7729673 40.904462, 20.7727819 40.9044252, 20.772547 40.9043409, 20.7717286 40.9041903, 20.7700452 40.9041506, 20.7689418 40.9039616, 20.7687119 40.9039237, 20.7685835 40.9039081, 20.7684827 40.9038904, 20.768386 40.9038587, 20.7683018 40.9038602, 20.7682374 40.9038586, 20.7680768 40.9038174, 20.7679314 40.9037727, 20.7676719 40.9037369, 20.7674222 40.9036654, 20.7664381 40.9035156, 20.7661704 40.9034818, 20.7657414 40.9034208, 20.7652775 40.9033767, 20.7647632 40.9033491, 20.7640341 40.9032169, 20.7630829 40.9028484, 20.7619902 40.902776, 20.7610286 40.9027342, 20.75992 40.9023421, 20.7593036 40.9026167, 20.7585312 40.9028773, 20.7581194 40.9030585, 20.7575739 40.903232, 20.7568594 40.9034387, 20.7563361 40.9036467, 20.7559073 40.9037897, 20.7554277 40.9039544, 20.75495 40.9041412, 20.7545062 40.9043386, 20.7538307 40.9045605, 20.753407 40.9047286, 20.7527639 40.9049649, 20.7519444 40.905174, 20.7513622 40.9053106, 20.7510278 40.9054474, 20.7506195 40.9055733, 20.750356 40.9056354, 20.750176 40.9057161, 20.7500547 40.9057265, 20.7499259 40.9057504, 20.749636 40.9058408, 20.7490099 40.9060025, 20.7485441 40.9061486, 20.7480727 40.9063412, 20.7475757 40.9064617, 20.7472364 40.9065354, 20.7469745 40.9066443, 20.7467821 40.9066956, 20.7466394 40.9067159, 20.7465514 40.9068095, 20.7463459 40.9068459, 20.7459765 40.9069659, 20.7457702 40.907055, 20.7452962 40.9071807, 20.7449132 40.9073137, 20.7446138 40.9073945, 20.7444033 40.9074824, 20.7440319 40.9076347, 20.7437244 40.9076776, 20.7432089 40.9078452, 20.7427473 40.9080036, 20.7423771 40.9081225, 20.7419078 40.9082797, 20.7415766 40.9083763, 20.7413173 40.908478, 20.7411169 40.9085457, 20.740929 40.9086013, 20.7408152 40.9086542, 20.7407133 40.9086975, 20.7405497 40.9086562, 20.740588 40.9087214, 20.7406631 40.9087379, 20.7407749 40.9088316, 20.7407262 40.9088828, 20.7406999 40.9088663, 20.7406034 40.9089203, 20.7405738 40.9088328, 20.7404835 40.908874, 20.740485 40.9090017, 20.7406071 40.9090196, 20.740646 40.9089867, 20.7407237 40.9090405, 20.7406728 40.90908, 20.7405244 40.9091193, 20.7403625 40.9090667, 20.7401064 40.9089002, 20.7399762 40.9089381, 20.7398113 40.9089986, 20.7395961 40.9090524, 20.7392985 40.9091763, 20.7390731 40.9092698, 20.7388624 40.9093452, 20.7387197 40.9093839, 20.7386382 40.9094238, 20.738474 40.9094823, 20.7382369 40.9095547, 20.7380816 40.9095959, 20.7379378 40.9096487, 20.7378343 40.9096831, 20.7377131 40.9097393, 20.7376165 40.9097862, 20.7375457 40.9097913, 20.7374101 40.909828, 20.7373247 40.909872, 20.7372621 40.909892, 20.7371726 40.909907, 20.7370782 40.9099437, 20.7370228 40.9099779, 20.7369415 40.9099973, 20.7368506 40.9100219, 20.7367578 40.9100611, 20.7366304 40.9100882, 20.7364651 40.9101377, 20.7362946 40.9101969, 20.7361913 40.9102298, 20.7360834 40.9102599, 20.7359827 40.9102908, 20.7357807 40.9103532, 20.7356567 40.9103898, 20.7354631 40.910444, 20.7353181 40.9104966, 20.7351798 40.910534, 20.7350557 40.9105795, 20.7348863 40.9106324, 20.7347435 40.910676, 20.7346419 40.9106962, 20.7345302 40.9107348, 20.7344356 40.9107668, 20.7343462 40.9107995, 20.7342319 40.9108266, 20.7340922 40.9108694, 20.7339882 40.9108957, 20.733899 40.9109171, 20.7338357 40.9109413, 20.7337385 40.9109699, 20.7336131 40.9110388, 20.7335339 40.911083, 20.7333573 40.9111594, 20.7332242 40.9112449, 20.7331281 40.9112873, 20.7330332 40.911358, 20.7329473 40.9113889, 20.7328705 40.9114267, 20.7327756 40.9114814, 20.7326897 40.9115509, 20.7326482 40.9115895, 20.7326099 40.9116339, 20.7325778 40.9116095, 20.7325295 40.9115767, 20.732493 40.9115495, 20.732095 40.9112663, 20.7317924 40.9108794, 20.731654 40.911183, 20.7316119 40.9113162, 20.7311832 40.9126525, 20.6748028 41.0800567, 20.6332077 41.0865347, 20.6329015 41.0865104, 20.6325193 41.0866092, 20.6321307 41.0865548, 20.6304322 41.0868301, 20.6278348 41.0872062, 20.6259828 41.0872861, 20.6204424 41.0883791, 20.6201342 41.0881299, 20.6192201 41.0883365, 20.6187733 41.0887851, 20.6181228 41.0888158, 20.6164803 41.0888328, 20.6163574 41.0886636, 20.616252 41.0885803, 20.6157598 41.0886187, 20.6155283 41.0885886, 20.6152379 41.0884521, 20.6150726 41.0884626, 20.6145115 41.0890737, 20.613698 41.0893887, 20.6126446 41.0895979, 20.6105901 41.0897692, 20.6105786 41.089675, 20.6104649 41.089679, 20.6103385 41.0897524, 20.610161 41.0897694, 20.6099539 41.0897031, 20.6098539 41.0895512, 20.608377 41.0899661, 20.6077754 41.0902068, 20.6076467 41.0902711, 20.6073455 41.0903481, 20.6069884 41.090414, 20.6066415 41.0904541, 20.6064701 41.0904739, 20.6062129 41.0904586, 20.6060443 41.0903362, 20.6057195 41.0903138, 20.6054566 41.090276, 20.6053342 41.0901434, 20.6052461 41.0900082, 20.6052407 41.0899389, 20.6050416 41.0898533, 20.6046411 41.0898802, 20.6044098 41.0899711, 20.6028739 41.0900055, 20.6018826 41.0903932, 20.6007132 41.0905638, 20.5996902 41.090975, 20.5982246 41.0912875, 20.5979604 41.0913197, 20.5963127 41.0915204, 20.5958701 41.0918623, 20.5956132 41.092033, 20.5955628 41.0923738, 20.5955199 41.0928271, 20.595176 41.0932277, 20.5949786 41.0937322, 20.5947039 41.0937646, 20.5944298 41.0939461, 20.5942067 41.0943666, 20.5938462 41.0945149, 20.5939148 41.0948448, 20.5938462 41.095427, 20.5937378 41.0960562, 20.5936359 41.096737, 20.5937003 41.097691, 20.5932926 41.0981761, 20.5930994 41.0994535, 20.5928419 41.0997931, 20.5926059 41.1007471, 20.5919836 41.1014747, 20.5914043 41.101976, 20.5913185 41.1024934, 20.5907391 41.1032372, 20.5906103 41.1038031, 20.5901383 41.1042073, 20.5892156 41.1043205, 20.5883916 41.1054426, 20.5877565 41.1062122, 20.5862759 41.1070853, 20.5851386 41.1080715, 20.5845593 41.1092356, 20.5842589 41.1104158, 20.5844735 41.1107553, 20.5844735 41.111402, 20.5846237 41.1118223, 20.5840014 41.1131642, 20.5835293 41.113536, 20.583186 41.1141826, 20.5826721 41.1143928, 20.5831431 41.1147969, 20.5838211 41.1153207, 20.5843018 41.1158962, 20.5852245 41.116639, 20.5857395 41.1166875, 20.5861686 41.1172048, 20.5865978 41.1179969, 20.5871945 41.118059, 20.5874346 41.1186274, 20.5870913 41.118983, 20.5876492 41.1192093, 20.5871127 41.1196458, 20.5879067 41.1205995, 20.5885628 41.1208277, 20.5883573 41.1214562, 20.5876063 41.1221836, 20.5878638 41.1224584, 20.5879067 41.122911, 20.5869625 41.1233798, 20.5866836 41.124091, 20.5859111 41.1240748, 20.5854176 41.1243011, 20.5854176 41.1245759, 20.5847739 41.1246244, 20.5852459 41.125077, 20.5857094 41.1248903, 20.5860313 41.1252459, 20.5870183 41.1250034, 20.5878852 41.1254164, 20.5889066 41.126151, 20.5896877 41.1257558, 20.5906876 41.1260055, 20.5921467 41.1262803, 20.5923699 41.1267095, 20.5926703 41.1274368, 20.5937861 41.1277924, 20.5955027 41.1281318, 20.5963395 41.1285843, 20.5968359 41.1298474, 20.5965798 41.1304444, 20.5966726 41.1315519, 20.5962851 41.1324294, 20.5960476 41.1329593, 20.5948422 41.1337511, 20.5936361 41.1346535, 20.5936024 41.135361, 20.5939505 41.1358929, 20.5925823 41.1364944, 20.5919221 41.1372904, 20.5918582 41.1380305, 20.5912639 41.1383082, 20.5907331 41.1389033, 20.5908748 41.1396557, 20.5910724 41.1408505, 20.5907127 41.142176, 20.5899734 41.1433232, 20.5883115 41.144479, 20.587728 41.1451019, 20.5874298 41.1459633, 20.5863674 41.147242, 20.5848745 41.1471261, 20.5843762 41.1471906, 20.5840805 41.1476318, 20.5834275 41.1490004, 20.5824177 41.1510684, 20.5821783 41.1518636, 20.5821061 41.1540083, 20.5829502 41.1548516, 20.582975 41.1555593, 20.5828521 41.1564655, 20.5820837 41.1575462, 20.5809562 41.1585555, 20.5798059 41.1597897, 20.5790984 41.1604947, 20.5782765 41.160757, 20.5772791 41.1609745, 20.5767198 41.1613926, 20.5763348 41.1620546, 20.5756918 41.1633687, 20.5748938 41.1644493, 20.5734154 41.166178, 20.5722158 41.1676038, 20.5719047 41.1681636, 20.5710837 41.1683153, 20.5707719 41.1689718, 20.5703318 41.1696472, 20.5695835 41.1704348, 20.5692436 41.1714587, 20.56857 41.1725781, 20.5678745 41.1731171, 20.5675717 41.173339, 20.5673337 41.1735213, 20.5671255 41.1740041, 20.5661728 41.1746775, 20.5652647 41.176357, 20.5638333 41.1786117, 20.5634451 41.1791712, 20.5614127 41.1803241, 20.5602806 41.1809774, 20.5595832 41.1817678, 20.5590012 41.1823981, 20.5593191 41.1829274, 20.5600433 41.1843195, 20.5599589 41.186695, 20.5598863 41.1873144, 20.5602251 41.1878322, 20.5601494 41.1889165, 20.5602144 41.1894332, 20.5600033 41.1903545, 20.5593835 41.1909203, 20.5590378 41.1914354, 20.5588943 41.1924162, 20.5588891 41.1931908, 20.55827 41.1936533, 20.5575171 41.1936504, 20.5564897 41.1937497, 20.5560794 41.1936965, 20.5558094 41.1931274, 20.5553363 41.1922475, 20.5553405 41.1916278, 20.5558224 41.1912165, 20.5558262 41.1906484, 20.5554169 41.1904402, 20.5530857 41.1910509, 20.5504768 41.1922287, 20.549787 41.1930007, 20.5491001 41.1933595, 20.5483483 41.1932016, 20.5474563 41.193508, 20.5467623 41.1948997, 20.5457295 41.1957737, 20.5449028 41.1965451, 20.543942 41.1969028, 20.542916 41.1967955, 20.5419588 41.1966367, 20.5420312 41.1960689, 20.542105 41.1952945, 20.5417664 41.1947767, 20.5410138 41.194722, 20.5405329 41.1949784, 20.5399359 41.1951855, 20.5386357 41.1951286, 20.5380157 41.1956943, 20.5374572 41.1972414, 20.536906 41.1977557, 20.5361505 41.1981142, 20.5352588 41.1983688, 20.5351179 41.1989363, 20.5347738 41.1991932, 20.5342947 41.1991913, 20.5334736 41.1991363, 20.5331918 41.2002714, 20.5322239 41.2016103, 20.531801 41.2033129, 20.5315816 41.2052746, 20.5322566 41.2066201, 20.5320364 41.2075904, 20.5320295 41.2082949, 20.5321077 41.2096625, 20.5321011 41.2105921, 20.5314083 41.2117255, 20.5307899 41.2120328, 20.52983 41.2122355, 20.5294151 41.2128019, 20.5291372 41.2133689, 20.5291132 41.2137232, 20.5291242 41.2140028, 20.5291671 41.2143607, 20.5290792 41.2144819, 20.5290022 41.2146364, 20.5289262 41.214783, 20.5287896 41.2149327, 20.5287597 41.215014, 20.528679 41.2152583, 20.5286368 41.215406, 20.5285945 41.2155495, 20.5285235 41.2157171, 20.5284883 41.2158512, 20.5284177 41.2159897, 20.5282399 41.216121, 20.5281052 41.216197, 20.5280032 41.2162498, 20.5279029 41.2163213, 20.5277852 41.2163928, 20.5276529 41.2164738, 20.5275304 41.2165358, 20.5272735 41.2167116, 20.5271232 41.2168003, 20.5268973 41.2169084, 20.5266448 41.2170901, 20.5264928 41.2171857, 20.5262549 41.217348, 20.5260745 41.2174287, 20.5258802 41.2175751, 20.5257598 41.2176696, 20.5256382 41.2177331, 20.5254044 41.2178598, 20.5252487 41.21795, 20.525152 41.218017, 20.5250707 41.2180753, 20.5249671 41.2181386, 20.5248423 41.2182075, 20.5247562 41.2182546, 20.524649 41.2183216, 20.5245793 41.2183665, 20.5245107 41.2184016, 20.5244342 41.2184381, 20.5243727 41.2184803, 20.5242778 41.2185371, 20.5241694 41.2186055, 20.5240515 41.2186727, 20.5238878 41.2187709, 20.5237364 41.2188675, 20.5234717 41.2190141, 20.5232615 41.2194749, 20.523263 41.2196079, 20.5232757 41.2197676, 20.5232773 41.2199071, 20.523295 41.2200546, 20.5233052 41.2202125, 20.5233195 41.2203364, 20.5233259 41.2204741, 20.5232935 41.2207914, 20.5232543 41.221117, 20.5232293 41.2213943, 20.5231859 41.2216659, 20.5231707 41.2218568, 20.5231668 41.2220079, 20.523142 41.2222099, 20.523149 41.2223552, 20.5231314 41.2225407, 20.5230915 41.222947, 20.5226946 41.223503, 20.5222622 41.2240702, 20.5221874 41.2242878, 20.5220798 41.2245163, 20.5219688 41.2247713, 20.5219039 41.2249625, 20.5218467 41.2250971, 20.5218178 41.2251993, 20.5217786 41.225264, 20.5217569 41.2259032, 20.5217207 41.226153, 20.5217505 41.2264149, 20.5214667 41.226605, 20.5211559 41.226981, 20.5207664 41.2272715, 20.5204871 41.2274889, 20.5202776 41.2277392, 20.5201058 41.2279004, 20.5198405 41.227965, 20.5194348 41.2280701, 20.5192565 41.228049, 20.5189635 41.2280498, 20.5182497 41.2280129, 20.5180885 41.2282517, 20.5178775 41.2285791, 20.5177661 41.2287377, 20.517655 41.2288584, 20.5176155 41.2290035, 20.5174978 41.2292495, 20.5173402 41.2295268, 20.5171914 41.2298276, 20.5171209 41.2299205, 20.5168376 41.2300466, 20.5166225 41.2301233, 20.5163349 41.2302334, 20.5161762 41.2303557, 20.5160193 41.2304095, 20.5158774 41.2305158, 20.5157738 41.2306662, 20.5155916 41.2310032, 20.5152446 41.2312782, 20.5154057 41.2313882, 20.5152975 41.2316276, 20.5152807 41.2317519, 20.5152494 41.2318297, 20.5152295 41.2318996, 20.5151866 41.2319838, 20.5151902 41.2320607, 20.5152406 41.2321746, 20.515257 41.232231, 20.5152585 41.2322939, 20.5153264 41.2324348, 20.5153537 41.2325611, 20.5153785 41.2326733, 20.515399 41.232772, 20.515509 41.2329036, 20.5156879 41.2331087, 20.5158425 41.2332794, 20.5159524 41.233407, 20.5160439 41.2335049, 20.5161231 41.2336117, 20.5162467 41.2337409, 20.5163337 41.2338292, 20.5164034 41.2339121, 20.5164867 41.2340225, 20.5167681 41.23421, 20.5169359 41.234312, 20.5170358 41.2343791, 20.5170215 41.2349, 20.5170215 41.2351523, 20.5168787 41.2359819, 20.5168029 41.2361423, 20.5167782 41.2362283, 20.5167284 41.2363036, 20.5167108 41.2364488, 20.5165825 41.2365536, 20.5165758 41.2366797, 20.5165013 41.236787, 20.5163766 41.2369775, 20.5162591 41.2371572, 20.5161201 41.2373344, 20.5161313 41.2374713, 20.5162064 41.2375359, 20.5163137 41.2376408, 20.5164961 41.2377053, 20.5166784 41.237794, 20.5168072 41.2378909, 20.5169252 41.2380361, 20.5169574 41.2381652, 20.5169574 41.2382943, 20.5169252 41.2384395, 20.516775 41.2385686, 20.5166355 41.2386654, 20.5164424 41.2387703, 20.5163244 41.2388187, 20.5162493 41.2388993, 20.51626 41.2390446, 20.51626 41.2392059, 20.5163566 41.2393511, 20.5164317 41.2394641, 20.5164424 41.2396174, 20.5163458 41.2397949, 20.5163475 41.240239, 20.5156699 41.2406339, 20.5155948 41.240763, 20.5155626 41.2409082, 20.5155841 41.2410292, 20.5157665 41.2411583, 20.5158309 41.2412309, 20.5159703 41.2412631, 20.5161742 41.241247, 20.5164746 41.241247, 20.5166892 41.2412793, 20.5170325 41.2412873, 20.5172256 41.2412873, 20.5175046 41.2412873, 20.5177942 41.2413196, 20.5180303 41.241368, 20.5181268 41.241481, 20.5182663 41.2416746, 20.5183307 41.2417795, 20.518438 41.2419973, 20.5186525 41.2422796, 20.5187706 41.2424168, 20.5190602 41.2425701, 20.519189 41.2426911, 20.5192963 41.2428927, 20.5192963 41.2429976, 20.5192963 41.2431267, 20.5192319 41.2432558, 20.5192212 41.2433606, 20.5192426 41.2435543, 20.5193607 41.2436833, 20.5195538 41.2438043, 20.5197683 41.2438205, 20.5199507 41.2438285, 20.5201868 41.2439737, 20.5203155 41.2441512, 20.5203262 41.2443045, 20.5203262 41.2443932, 20.5204013 41.2445384, 20.5205194 41.2446352, 20.5207876 41.2446756, 20.5210129 41.2447643, 20.5211631 41.2449418, 20.5211631 41.2450386, 20.521206 41.2451838, 20.521324 41.2452403, 20.5214099 41.2452403, 20.5214635 41.2452806, 20.5215493 41.2454661, 20.5215493 41.245571, 20.5214957 41.2457001, 20.5215391 41.2458215, 20.521823 41.2462013, 20.5216263 41.2464563, 20.5203183 41.2473288, 20.5192825 41.2484607, 20.5190888 41.2495037, 20.5186713 41.2500425, 20.5178972 41.2508087, 20.5167721 41.2523434, 20.5158826 41.2533892, 20.515179 41.2544008, 20.5144741 41.2555874, 20.5143186 41.257025, 20.5154773 41.2601063, 20.5149302 41.2606141, 20.5139109 41.2612593, 20.513632 41.2622674, 20.5123016 41.26309, 20.5120709 41.2647888, 20.5122802 41.2658723, 20.5128273 41.2670489, 20.5125484 41.2679605, 20.5129239 41.2685488, 20.5121836 41.2692665, 20.5119261 41.2705406, 20.5121407 41.2716457, 20.5117974 41.2721372, 20.5110463 41.2734032, 20.5108747 41.2740563, 20.5109176 41.2746046, 20.5109391 41.2767898, 20.5114862 41.2795795, 20.5128166 41.2809905, 20.5140925 41.2824364, 20.5140737 41.282515, 20.5140711 41.2825694, 20.5141328 41.2826601, 20.514173 41.2827448, 20.5141837 41.2828073, 20.5142489 41.2828872, 20.5143178 41.2829141, 20.5143151 41.2829443, 20.5144519 41.2830068, 20.5144063 41.283033, 20.5144895 41.2831277, 20.5146727 41.2832258, 20.514696 41.2833333, 20.5146692 41.2835208, 20.5145592 41.2835893, 20.5145056 41.283676, 20.5144922 41.283811, 20.5145565 41.2838815, 20.5145351 41.2839944, 20.5145539 41.2840367, 20.5145565 41.2841214, 20.5145056 41.2841617, 20.5144144 41.2843935, 20.5143715 41.2845688, 20.5143455 41.284681, 20.5142481 41.2848288, 20.5142588 41.2848954, 20.5143535 41.2849854, 20.5143286 41.2850264, 20.5143339 41.2850929, 20.5143447 41.2851413, 20.5143017 41.2852118, 20.5142838 41.2852595, 20.5143822 41.2852279, 20.5143929 41.2852763, 20.5144412 41.2853327, 20.5144627 41.285371, 20.5144367 41.2854509, 20.5143259 41.2854899, 20.51446 41.2855806, 20.5144876 41.2855981, 20.5145029 41.2856572, 20.5144841 41.2856875, 20.514519 41.2857197, 20.5145431 41.2857459, 20.514527 41.2858003, 20.514434 41.2857875, 20.5143768 41.2858185, 20.5143929 41.2858991, 20.5143911 41.2859387, 20.5143286 41.2859757, 20.5143366 41.286018, 20.5143857 41.2861584, 20.5143151 41.2863324, 20.5143044 41.2865077, 20.5143259 41.2867677, 20.5143795 41.2869209, 20.5143964 41.2871419, 20.514527 41.2873119, 20.5145297 41.2873704, 20.5144662 41.2873979, 20.5144198 41.2873885, 20.5143929 41.2874147, 20.5143481 41.2874321, 20.5142883 41.2874087, 20.5142516 41.2874362, 20.5142266 41.2874752, 20.5141623 41.2874651, 20.5141515 41.2874973, 20.5141202 41.2874926, 20.5140764 41.2875074, 20.5140308 41.2875094, 20.5140067 41.2875699, 20.5139697 41.2875873, 20.5138967 41.2875457, 20.51386 41.2875611, 20.5137438 41.2875316, 20.5137519 41.28758, 20.5136929 41.2876465, 20.5136365 41.2876263, 20.513683 41.2876055, 20.5136374 41.2875793, 20.5135668 41.2876102, 20.51354 41.2876304, 20.5135676 41.28767, 20.5135373 41.2877069, 20.51343 41.2876566, 20.5133423 41.2876659, 20.5132932 41.2876082, 20.5132699 41.2876317, 20.5131591 41.2876162, 20.513117 41.2876901, 20.5131001 41.2877231, 20.5130894 41.2877996, 20.5130553 41.2878997, 20.5130357 41.2879407, 20.5130062 41.287971, 20.5129526 41.287979, 20.5129553 41.2879165, 20.512915 41.2879065, 20.5128909 41.2879831, 20.5128488 41.2879884, 20.512856 41.2880153, 20.5128104 41.2880294, 20.5127434 41.2880113, 20.5127326 41.2880677, 20.5126897 41.2880858, 20.512679 41.2881261, 20.5126449 41.2881476, 20.5125771 41.2881564, 20.5125449 41.2881947, 20.5125859 41.2882222, 20.5124671 41.2882692, 20.5124001 41.2882692, 20.5122498 41.2882511, 20.5121828 41.2882854, 20.5121023 41.2882671, 20.5117536 41.2884324, 20.511615 41.2884338, 20.5115122 41.2886017, 20.5114318 41.2886259, 20.511421 41.2886904, 20.5112985 41.2887321, 20.5111268 41.2889417, 20.51089 41.2891781, 20.5107505 41.2891902, 20.5106378 41.2892305, 20.5105582 41.2893407, 20.5104608 41.2893837, 20.5103267 41.2894562, 20.5102462 41.2895247, 20.5101129 41.2895342, 20.509919 41.2894844, 20.5098876 41.2895745, 20.5097374 41.2896148, 20.5096132 41.2897706, 20.5095443 41.2897317, 20.5094156 41.289776, 20.5093512 41.2899212, 20.5093879 41.2899883, 20.5093136 41.2900663, 20.5092163 41.2902986, 20.5091205 41.2903081, 20.5090553 41.2904357, 20.5090661 41.2905485, 20.5089649 41.2906709, 20.5090025 41.2907837, 20.5092325 41.2908471, 20.5087666 41.2918167, 20.5090185 41.2921102, 20.5089963 41.2923132, 20.5089392 41.2926088, 20.5085173 41.2931318, 20.5080949 41.2937247, 20.5075794 41.2947832, 20.5073816 41.2959607, 20.5073634 41.2961977, 20.5073781 41.2964155, 20.5075589 41.297081, 20.5076466 41.2979035, 20.5081068 41.2984652, 20.5088459 41.2989932, 20.5092568 41.2999395, 20.5095498 41.3019497, 20.5095066 41.3021295, 20.5093038 41.3022497, 20.5087724 41.3025963, 20.5074198 41.3033602, 20.5065764 41.3043362, 20.5066646 41.3049663, 20.5072111 41.3058948, 20.5073086 41.3064213, 20.5073031 41.3071559, 20.5072941 41.3083454, 20.5070046 41.3097786, 20.506627 41.3105816, 20.506295 41.3114898, 20.5058263 41.3120475, 20.5050311 41.3127788, 20.5043259 41.3138953, 20.5036217 41.3148719, 20.5026857 41.3157774, 20.5021618 41.3165376, 20.501692 41.3172353, 20.5007563 41.3181058, 20.5000963 41.3190736, 20.4998696 41.3196277, 20.4995783 41.3202698, 20.4992022 41.3208629, 20.4985369 41.3210698, 20.4982219 41.3216215, 20.4980712 41.3221725, 20.4980933 41.3224668, 20.4982136 41.3227063, 20.4985369 41.3227842, 20.4989073 41.3229607, 20.4993225 41.3233474, 20.4997371 41.323804, 20.4999187 41.3243645, 20.4999142 41.3249593, 20.4999109 41.3253791, 20.4998607 41.3258687, 20.4996609 41.3264372, 20.4995676 41.3267413, 20.4994691 41.3268477, 20.4993411 41.3269859, 20.4985367 41.3275434, 20.4979954 41.3280216, 20.4977747 41.3281493, 20.4969433 41.3282928, 20.4960372 41.3286382, 20.495081 41.3291304, 20.4940739 41.3298983, 20.492795 41.3310694, 20.4918838 41.3320583, 20.4910963 41.3328311, 20.4913909 41.3331606, 20.4932836 41.3333116, 20.4938077 41.3341125, 20.4938026 41.3347684, 20.4955385 41.3356031, 20.4968986 41.3360654, 20.4977251 41.3369532, 20.4980973 41.3378104, 20.4980942 41.3382097, 20.4968337 41.3395732, 20.4967811 41.3414838, 20.4969188 41.3432812, 20.4971767 41.3442235, 20.4976919 41.3467333, 20.498144 41.347049, 20.4985364 41.3471099, 20.4992851 41.3470963, 20.4999229 41.3470511, 20.501471 41.3467579, 20.5024612 41.3464622, 20.5031083 41.3461591, 20.5044033 41.3456008, 20.5049644 41.3451592, 20.505399 41.3445852, 20.505784 41.3442509, 20.5065519 41.3438583, 20.5069574 41.3436133, 20.5084292 41.3428518, 20.5098372 41.3420899, 20.5107816 41.341518, 20.5114152 41.3408174, 20.5124917 41.3396221, 20.513905 41.3381284, 20.5148318 41.3373873, 20.5153922 41.3370178, 20.5159352 41.3368521, 20.5170032 41.3367846, 20.5182609 41.3369338, 20.5188651 41.3371043, 20.5195329 41.3372991, 20.5198179 41.3375402, 20.5202271 41.3382378, 20.520857 41.3392483, 20.5213345 41.3401119, 20.5217289 41.3406534, 20.5221237 41.341135, 20.5229005 41.3416781, 20.5243747 41.3427521, 20.5251226 41.3432678, 20.5259156 41.343775, 20.5263745 41.3442208, 20.5265161 41.3444733, 20.526506 41.3458651, 20.5264785 41.347616, 20.5265155 41.349104, 20.526614 41.3509161, 20.5266762 41.3516588, 20.5267766 41.3532069, 20.5268756 41.3535557, 20.5269164 41.3536994, 20.5271208 41.3540962, 20.5275329 41.3544099, 20.5281452 41.3546833, 20.528908 41.3549864, 20.5297015 41.3554576, 20.5308923 41.3560983, 20.5319719 41.3566906, 20.532528 41.3569329, 20.5331407 41.3571229, 20.53381 41.3571376, 20.5346061 41.3572488, 20.5354812 41.3574683, 20.5361481 41.3578189, 20.536798 41.3583255, 20.5374787 41.3589881, 20.5376843 41.3592049, 20.5377619 41.3595051, 20.537728 41.359793, 20.5374205 41.3604516, 20.536888 41.3613236, 20.5364531 41.3619698, 20.5364831 41.3622338, 20.5369408 41.3628716, 20.5380005 41.3640397, 20.5386689 41.3648921, 20.5395387 41.3658675, 20.5402505 41.3666502, 20.5408481 41.3678164, 20.541298 41.3683435, 20.5415517 41.3685365, 20.5425052 41.3689722, 20.5438578 41.3693135, 20.5442546 41.369555, 20.5444419 41.3701317, 20.5448172 41.371189, 20.5450354 41.3718978, 20.5453193 41.3723428, 20.5462655 41.3727175, 20.5470135 41.3729004, 20.5482232 41.3731811, 20.5487161 41.373363, 20.5495075 41.374194, 20.5503292 41.375253, 20.5509526 41.375888, 20.5512369 41.376273, 20.5516636 41.3768266, 20.5519935 41.3775477, 20.5522284 41.3781606, 20.5522259 41.3785325, 20.5521429 41.3790001, 20.5517006 41.3798101, 20.5512568 41.3799311, 20.5507503 41.3802218, 20.549774 41.3807579, 20.5489131 41.3817189, 20.5479313 41.3823002, 20.5469222 41.3829681, 20.5463127 41.3834816, 20.5461517 41.383709, 20.5461494 41.3840329, 20.5462112 41.3843211, 20.5463841 41.3846817, 20.5468593 41.3851395, 20.5473517 41.3854054, 20.5480088 41.3858731, 20.5485812 41.3861034, 20.5490567 41.3865252, 20.5494198 41.3870545, 20.5498304 41.387632, 20.5499222 41.3881963, 20.5500135 41.3888325, 20.5499127 41.3896215, 20.5499098 41.3900295, 20.5499551 41.3904016, 20.5501432 41.3908822, 20.550918 41.3918331, 20.5518244 41.392613, 20.5522687 41.3929387, 20.552457 41.3933833, 20.5524374 41.3939112, 20.5523652 41.3951467, 20.5522932 41.3963342, 20.5523114 41.3968129, 20.553129 41.3985198, 20.5536326 41.3995175, 20.5540741 41.4002511, 20.5544847 41.4008526, 20.5552573 41.4012221, 20.5559581 41.4013568, 20.556963 41.4013487, 20.557776 41.4013998, 20.5585887 41.4015109, 20.5597989 41.4018035, 20.5601167 41.4019847, 20.5605283 41.4024302, 20.5609679 41.4035585, 20.5610394 41.4047946, 20.5609878 41.4053463, 20.5606623 41.4063049, 20.5602387 41.4075614, 20.5599475 41.4084921, 20.5596353 41.4095148, 20.5592571 41.4111931, 20.5590257 41.4120919, 20.5580548 41.4141279, 20.5574087 41.4153012, 20.5572142 41.4157564, 20.5574144 41.4161784, 20.5573409 41.4165399, 20.5569115 41.4169392, 20.5505588 41.4203629, 20.547381 41.4220595, 20.5452035 41.4234427, 20.5434901 41.4243715, 20.5411525 41.4255044, 20.5387246 41.4268847, 20.5383304 41.4273108, 20.5392126 41.4282767, 20.5399129 41.4298299, 20.5401882 41.4310788, 20.5405319 41.4327643, 20.540562 41.4335396, 20.5405871 41.434836, 20.539949 41.4350134, 20.5395695 41.4353643, 20.5385509 41.4362849, 20.5379086 41.4365764, 20.5370558 41.436466, 20.5347833 41.4359222, 20.5335383 41.4359439, 20.532185 41.436179, 20.5306559 41.4361461, 20.5289137 41.4360587, 20.5270269 41.4362916, 20.5257083 41.4366604, 20.5250056 41.4376032, 20.5243261 41.4381083, 20.5235757 41.4385863, 20.5225428 41.4387692, 20.5213353 41.4385236, 20.5203436 41.4381128, 20.5193141 41.4376864, 20.5181079 41.4372537, 20.5173962 41.4373042, 20.5160425 41.4375925, 20.5146915 41.4375067, 20.5136962 41.4374223, 20.5132317 41.4377143, 20.5120835 41.439046, 20.5113993 41.4401659, 20.5096964 41.4414502, 20.5086196 41.4427287, 20.5078298 41.4436876, 20.5075756 41.4443816, 20.5076756 41.4452641, 20.5078098 41.446334, 20.5079509 41.4468099, 20.5087299 41.4472944, 20.5102179 41.4481027, 20.511386 41.4488829, 20.5118099 41.4492856, 20.5125203 41.4494223, 20.5126246 41.4497435, 20.5124084 41.4501168, 20.5120481 41.4507301, 20.5118268 41.4517717, 20.5110011 41.4527573, 20.5101389 41.4538763, 20.5088824 41.4547212, 20.5080923 41.4557068, 20.5077288 41.4567211, 20.5074412 41.4574695, 20.5071849 41.4584066, 20.5069095 41.4584594, 20.5061027 41.4594096, 20.5053972 41.4603888, 20.5053126 41.4609877, 20.5050945 41.4616016, 20.5046607 41.4620257, 20.504529 41.4623524, 20.504375 41.4626004, 20.5042762 41.462884, 20.5040528 41.463055, 20.5040093 41.4635001, 20.5040352 41.4641714, 20.5037582 41.4643063, 20.5036176 41.4647655, 20.5033696 41.465373, 20.5029008 41.4657722, 20.5023923 41.4659326, 20.5020278 41.467417, 20.5021312 41.4681143, 20.5026356 41.4687508, 20.5024737 41.4691899, 20.5021599 41.4699813, 20.5019627 41.4707876, 20.5020644 41.4711941, 20.5022006 41.4719966, 20.5024067 41.4725179, 20.5027243 41.4730928, 20.5030211 41.4739544, 20.5032507 41.4744594, 20.5030611 41.4749792, 20.5028313 41.4755348, 20.502533 41.4759324, 20.5019973 41.4762171, 20.5022962 41.476581, 20.5019695 41.4775828, 20.5015559 41.4775986, 20.5013248 41.4790359, 20.5008012 41.4797993, 20.4997373 41.4811319, 20.4987813 41.4824208, 20.4987746 41.4840799, 20.4983778 41.4850481, 20.4972352 41.485587, 20.4967821 41.4858465, 20.4963969 41.4865079, 20.4969062 41.486734, 20.4970034 41.4873476, 20.4961791 41.4879374, 20.4958418 41.4889125, 20.4949468 41.4903936, 20.4946734 41.4904774, 20.4944266 41.4902564, 20.4940296 41.4902203, 20.494035 41.4904372, 20.4939331 41.4905658, 20.4940136 41.4907667, 20.4942013 41.4907667, 20.4944105 41.491048, 20.4943676 41.4911686, 20.4945511 41.4913986, 20.4946626 41.4915865, 20.494632 41.4917085, 20.4945359 41.4917427, 20.4942676 41.4917146, 20.493876 41.4917346, 20.4932752 41.4916382, 20.4930553 41.4916945, 20.4930513 41.4917759, 20.492597 41.4918808, 20.4923847 41.4920521, 20.4920039 41.4921887, 20.4918751 41.4922008, 20.4914674 41.4923735, 20.4913586 41.4923277, 20.4911585 41.4924345, 20.4909855 41.4924085, 20.4908638 41.4924682, 20.4907613 41.4925184, 20.4905373 41.4925716, 20.4902696 41.4926878, 20.4901353 41.4927002, 20.4899564 41.4928802, 20.4897807 41.4928766, 20.4895309 41.4930446, 20.488795 41.4931907, 20.4883015 41.4933997, 20.4878016 41.4934989, 20.487293 41.4935765, 20.4869604 41.4935041, 20.4865141 41.4934708, 20.4860002 41.4934077, 20.4854573 41.4933261, 20.4849872 41.4935388, 20.4844583 41.4936582, 20.48394 41.4937281, 20.4838225 41.493712, 20.4831881 41.493917, 20.482595 41.4941164, 20.4824409 41.4942948, 20.4821046 41.4943962, 20.4819786 41.4945012, 20.4819926 41.4945676, 20.4818244 41.4946201, 20.4817918 41.494725, 20.4816937 41.4948335, 20.4816096 41.4950014, 20.4814789 41.4951063, 20.4814789 41.4951938, 20.4813528 41.4954246, 20.4813901 41.4954911, 20.4813108 41.4956275, 20.4812127 41.4959563, 20.4810866 41.4966733, 20.4810259 41.4969637, 20.4809231 41.497191, 20.4808578 41.4973449, 20.4803441 41.4977017, 20.4800732 41.498027, 20.4798304 41.4982473, 20.4795128 41.4984257, 20.4790318 41.4985551, 20.4786068 41.4986076, 20.4779997 41.4986111, 20.4777429 41.4985481, 20.4775047 41.4983942, 20.4774206 41.4982194, 20.4773599 41.4978661, 20.4770937 41.4976807, 20.4767061 41.4975513, 20.4764913 41.4974499, 20.4762998 41.4972435, 20.4762205 41.4970301, 20.4758515 41.4967293, 20.475632 41.496481, 20.4754452 41.4962676, 20.475151 41.4961032, 20.4748895 41.4960542, 20.474614 41.4961557, 20.4744132 41.4961697, 20.4740676 41.4962396, 20.4734652 41.4963795, 20.4730869 41.4963306, 20.4727964 41.496379, 20.4724065 41.4963056, 20.4720081 41.4961906, 20.4717653 41.4960927, 20.471189 41.4960275, 20.4707892 41.4960752, 20.470397 41.4961941, 20.4701541 41.4963306, 20.4698039 41.4965264, 20.4696983 41.496694, 20.4695739 41.4967613, 20.4691501 41.497212, 20.4690473 41.4973624, 20.4688045 41.4976772, 20.4678994 41.49759, 20.4678778 41.4977249, 20.467875 41.4977421, 20.4679289 41.4978689, 20.4679272 41.4979912, 20.4679061 41.498177, 20.4682628 41.4984887, 20.4683001 41.4986636, 20.4683562 41.4989189, 20.468543 41.4992792, 20.4686773 41.4995061, 20.4688278 41.4996009, 20.4690567 41.4999297, 20.4693882 41.5002865, 20.4698085 41.5007621, 20.4700561 41.5012623, 20.4703082 41.501619, 20.4705324 41.5019653, 20.4707379 41.5021472, 20.4711068 41.5023465, 20.471373 41.5025424, 20.4715505 41.5025984, 20.4716625 41.5027278, 20.4719708 41.5029376, 20.4722121 41.5032088, 20.4725739 41.5033705, 20.4731009 41.5036546, 20.4734138 41.5039204, 20.4736053 41.5039798, 20.4738668 41.5042561, 20.4742591 41.5045324, 20.4743291 41.5048087, 20.4746467 41.505141, 20.475053 41.5055362, 20.4757768 41.5061937, 20.4758936 41.5062111, 20.4763095 41.5067756, 20.4769443 41.5074037, 20.477047 41.5075366, 20.4769817 41.5077534, 20.4767575 41.5080787, 20.4763325 41.5081871, 20.4760337 41.5081731, 20.4758465 41.5080432, 20.4757348 41.5079178, 20.4753845 41.5079108, 20.4753799 41.5079738, 20.4751931 41.5079668, 20.4751931 41.5080157, 20.4749689 41.5080262, 20.4749596 41.5080997, 20.4748521 41.5081032, 20.4748428 41.5081696, 20.4745019 41.5081801, 20.4740022 41.508292, 20.4739835 41.5083549, 20.4738061 41.5083549, 20.4738061 41.5084214, 20.4735445 41.5084179, 20.4735445 41.5084669, 20.4734605 41.5084634, 20.4734647 41.5085507, 20.4731497 41.5087165, 20.472816 41.5089188, 20.4723957 41.5089739, 20.4719334 41.5092222, 20.4712758 41.5095111, 20.470687 41.5095289, 20.470495 41.5094496, 20.4701039 41.5094144, 20.4694833 41.5091989, 20.4684755 41.5089526, 20.4675876 41.5086887, 20.4667917 41.508292, 20.4665115 41.5081171, 20.4664181 41.5079388, 20.4660445 41.5078304, 20.4658484 41.5078793, 20.4656989 41.5080332, 20.4655635 41.5080542, 20.4655682 41.5081206, 20.4651292 41.5081521, 20.4647792 41.5082503, 20.4644773 41.5082918, 20.4640891 41.5084072, 20.4636208 41.5085594, 20.4636084 41.5086148, 20.4633373 41.5087025, 20.4633003 41.5086563, 20.4628998 41.5088455, 20.4627211 41.5088594, 20.4622713 41.5090301, 20.4616242 41.5092239, 20.4615195 41.5092009, 20.4613408 41.5092239, 20.4610573 41.509367, 20.4610573 41.5094454, 20.4612052 41.5094962, 20.4613408 41.5096715, 20.4613593 41.5098653, 20.4611929 41.50987, 20.461199 41.5099392, 20.4611005 41.5099438, 20.4610881 41.5100545, 20.4610142 41.5100499, 20.4609526 41.5102991, 20.4605644 41.5105852, 20.4602501 41.5107467, 20.4598988 41.5107467, 20.4592826 41.5109636, 20.4586541 41.5111158, 20.4584692 41.5112312, 20.458346 41.5113466, 20.4581488 41.5114573, 20.4579886 41.5116003, 20.4576661 41.5116883, 20.4569299 41.5120911, 20.4566255 41.5121759, 20.4557195 41.5127484, 20.4552948 41.51313, 20.454863 41.5133579, 20.4543959 41.5138455, 20.4541127 41.5142378, 20.4538367 41.5147466, 20.4537022 41.5151971, 20.4535748 41.5155257, 20.4533766 41.5162465, 20.4532279 41.51675, 20.4531147 41.5174125, 20.453058 41.5176298, 20.4530156 41.5177835, 20.4529023 41.5180962, 20.4529023 41.518552, 20.4530297 41.5194265, 20.4529873 41.5197604, 20.453143 41.5201843, 20.4534049 41.5211542, 20.4536243 41.5218696, 20.4542436 41.5229077, 20.4550117 41.5238411, 20.4556912 41.5245618, 20.4561513 41.5250917, 20.4568886 41.5256167, 20.4569817 41.5255594, 20.4570786 41.5254998, 20.4573192 41.5254627, 20.4577439 41.5258018, 20.4577793 41.5260191, 20.4576873 41.5260721, 20.4577298 41.5261251, 20.4579421 41.5260721, 20.4582677 41.5262841, 20.4583445 41.5263122, 20.4581757 41.5265119, 20.4581674 41.5267212, 20.4588411 41.5271955, 20.4593932 41.5275718, 20.4597312 41.5276462, 20.4598745 41.5276778, 20.4599453 41.5277307, 20.460462 41.5278632, 20.4607239 41.5278791, 20.4607394 41.5279663, 20.4607588 41.5280751, 20.4601223 41.5280328, 20.4599524 41.5280911, 20.4598886 41.5282015, 20.4603134 41.5284673, 20.4609434 41.5288595, 20.4611274 41.5291297, 20.4609646 41.5291827, 20.4619343 41.5292728, 20.4625785 41.5293205, 20.4632368 41.5292993, 20.4642136 41.5291244, 20.4644613 41.5291933, 20.4652187 41.5292357, 20.4660752 41.5292834, 20.4663371 41.5292622, 20.466599 41.529135, 20.4670166 41.5291986, 20.4675121 41.529241, 20.4681704 41.5292304, 20.4688075 41.5294635, 20.4691826 41.5295324, 20.4696002 41.5295748, 20.4698338 41.5296861, 20.4700462 41.5300411, 20.4711079 41.5304121, 20.4713185 41.5304524, 20.4716182 41.5305097, 20.4717544 41.5304757, 20.472116 41.5308205, 20.4723523 41.5312789, 20.4724568 41.5314818, 20.472322 41.5322582, 20.4720001 41.5326678, 20.4718928 41.5325313, 20.4717748 41.5328847, 20.471807 41.5333906, 20.4719465 41.533736, 20.4722362 41.5341215, 20.4726347 41.5341732, 20.472547 41.5343086, 20.4724375 41.5344991, 20.4722551 41.5345553, 20.4720888 41.5347441, 20.471767 41.5351416, 20.4714236 41.5353303, 20.4698111 41.5359469, 20.4698572 41.5357801, 20.4697607 41.535756, 20.4695322 41.5360553, 20.4690955 41.5364065, 20.4689506 41.5366916, 20.4689292 41.5371895, 20.4690097 41.5372256, 20.4689828 41.5378841, 20.4689292 41.5383459, 20.4690955 41.5385708, 20.4692511 41.538884, 20.4693262 41.5392132, 20.4692564 41.5395264, 20.4690172 41.5399823, 20.4685987 41.5403999, 20.467969 41.5406828, 20.4670463 41.5409317, 20.4662309 41.5416946, 20.4659305 41.5418552, 20.4654799 41.5421001, 20.4649434 41.5423651, 20.4642946 41.5426861, 20.4638229 41.5428758, 20.4634548 41.5430645, 20.4631593 41.5433136, 20.4628017 41.5436924, 20.46243 41.5444568, 20.4620759 41.5451474, 20.4615395 41.5456693, 20.4613989 41.5459425, 20.4619532 41.5458213, 20.4620223 41.5461591, 20.4622154 41.5462153, 20.4624622 41.5464883, 20.4624826 41.5467274, 20.4615278 41.5471627, 20.4608314 41.5473957, 20.4601984 41.5475161, 20.4601472 41.5472788, 20.4606036 41.5465651, 20.4610729 41.5461977, 20.4608575 41.5458152, 20.4602595 41.5460143, 20.4599011 41.5464347, 20.4597603 41.5468813, 20.4593896 41.547502, 20.4589968 41.5481745, 20.458632 41.5488651, 20.4583745 41.5493709, 20.4580297 41.5497384, 20.4580204 41.5497483, 20.45772 41.5501176, 20.4570978 41.5508242, 20.4568651 41.5511874, 20.456733 41.5516351, 20.4565721 41.5520125, 20.4563146 41.5521971, 20.4564004 41.5525103, 20.456748 41.5524391, 20.4562974 41.5529971, 20.4562763 41.553443, 20.4564798 41.5537518, 20.4566808 41.5542472, 20.4564693 41.5546454, 20.4564449 41.5549746, 20.4563105 41.5555113, 20.4571063 41.5556575, 20.4577393 41.555525, 20.4580021 41.5554166, 20.458265 41.5553645, 20.4585225 41.555232, 20.4590267 41.555248, 20.4590482 41.5554528, 20.4592038 41.5554809, 20.459252 41.5555531, 20.4597635 41.5557723, 20.4601157 41.5558181, 20.4602874 41.5558943, 20.4606092 41.5559465, 20.4610116 41.5561392, 20.4613192 41.5563223, 20.4617143 41.5559706, 20.4619718 41.5559746, 20.462004 41.5560951, 20.4624922 41.5564764, 20.4626174 41.5566715, 20.4627837 41.5567197, 20.46295 41.5568, 20.4631091 41.5567213, 20.4633451 41.5567694, 20.4633899 41.5568441, 20.4635275 41.5568377, 20.4640693 41.5570665, 20.4641068 41.5571749, 20.4646057 41.5573194, 20.4646379 41.5572471, 20.4651795 41.5573635, 20.4656215 41.5575988, 20.4657695 41.5575763, 20.4662845 41.5580299, 20.4664723 41.5581021, 20.4665742 41.5582426, 20.4668317 41.558335, 20.4668102 41.5581704, 20.466998 41.5580901, 20.4671804 41.5580901, 20.4671128 41.558225, 20.4684432 41.5586143, 20.4684196 41.5584634, 20.4688326 41.5584393, 20.4689721 41.5585798, 20.4688455 41.5586946, 20.4691599 41.5587845, 20.4692081 41.5587123, 20.4691277 41.5584674, 20.4694603 41.5584594, 20.4694656 41.5583992, 20.4696373 41.5584032, 20.4696427 41.5584795, 20.4697446 41.5584875, 20.4697607 41.5586481, 20.4696748 41.5586561, 20.4696963 41.5588488, 20.4698519 41.5588769, 20.4700879 41.5588367, 20.4701791 41.5587725, 20.4705492 41.5589571, 20.4707391 41.559096, 20.4707123 41.5591964, 20.4713539 41.5591739, 20.4713968 41.5590053, 20.4711983 41.558913, 20.4712144 41.5588287, 20.47137 41.5587524, 20.4716135 41.5588632, 20.4718635 41.5588849, 20.4718796 41.5587605, 20.4720245 41.5587203, 20.4722176 41.5588327, 20.4727004 41.5588488, 20.4730008 41.5586561, 20.4732154 41.558644, 20.4734192 41.5587163, 20.4736123 41.5585316, 20.4737733 41.5585718, 20.4741166 41.5585156, 20.4742292 41.5583952, 20.474712 41.558343, 20.475197 41.558241, 20.4753504 41.5584152, 20.4754845 41.5583912, 20.4756133 41.5584433, 20.4760424 41.5583831, 20.4761443 41.5584313, 20.4764608 41.5584674, 20.4768202 41.5584674, 20.4769544 41.5583871, 20.4769544 41.5583149, 20.4771904 41.5582788, 20.477346 41.558347, 20.4776893 41.5583189, 20.4777966 41.5583189, 20.4778609 41.5582386, 20.4779468 41.5582828, 20.477965 41.5584337, 20.478097 41.5584714, 20.4780809 41.5585838, 20.4784188 41.5585959, 20.4783566 41.5587147, 20.4786517 41.5588512, 20.4793147 41.5588126, 20.4797921 41.558636, 20.4797439 41.5585437, 20.4801033 41.5584594, 20.4801247 41.558351, 20.4802588 41.558355, 20.480291 41.5582587, 20.480452 41.5582667, 20.4805861 41.5583189, 20.4808006 41.5582667, 20.4808972 41.5584072, 20.4811171 41.5583952, 20.4814819 41.5585196, 20.4815195 41.5586119, 20.4817931 41.5585638, 20.4820452 41.5586481, 20.482292 41.5587966, 20.4822941 41.5589595, 20.482587 41.5589009, 20.4829893 41.5589371, 20.4833005 41.5588488, 20.4835848 41.5588849, 20.4838423 41.5590495, 20.4843197 41.5590615, 20.4846898 41.5591378, 20.4846738 41.5592622, 20.4844753 41.5593023, 20.4845021 41.559495, 20.4850385 41.5595432, 20.4852799 41.5594428, 20.4857788 41.5594509, 20.485811 41.5593866, 20.4861275 41.559487, 20.4862777 41.559475, 20.4861973 41.5593104, 20.4864333 41.5591859, 20.4866693 41.5591418, 20.4872809 41.5591458, 20.4873613 41.5588447, 20.4874311 41.5588086, 20.4876242 41.5587765, 20.4879782 41.5588287, 20.48793 41.5590454, 20.4881123 41.558913, 20.4886166 41.5589893, 20.4891316 41.5591418, 20.48977 41.5595552, 20.4899094 41.5595673, 20.4903761 41.5598483, 20.4904727 41.5598483, 20.4906787 41.5599751, 20.4909415 41.560232, 20.4913042 41.5604744, 20.4912205 41.5606053, 20.4919694 41.5610123, 20.4922269 41.5610605, 20.4922505 41.5611351, 20.4925004 41.5611407, 20.4925509 41.5612315, 20.4930959 41.561209, 20.4930712 41.5612917, 20.4933856 41.5612973, 20.4933963 41.5611849, 20.4936068 41.5608708, 20.4938837 41.5609928, 20.4943748 41.561179, 20.4947767 41.5612024, 20.4957241 41.5612388, 20.4965713 41.5612425, 20.4973034 41.5613597, 20.4979903 41.5615826, 20.4985316 41.5619513, 20.4991 41.5620888, 20.5008367 41.5626628, 20.502266 41.5630219, 20.503921 41.5633053, 20.5057192 41.5635892, 20.5075779 41.5639808, 20.5086401 41.5642002, 20.5094378 41.564219, 20.5104741 41.5640552, 20.511886 41.5640151, 20.5122583 41.5640188, 20.5133588 41.5640521, 20.5146472 41.5641189, 20.5152825 41.5639681, 20.5163702 41.5635123, 20.5173133 41.5632401, 20.5179274 41.5631966, 20.5185405 41.5632759, 20.5191315 41.5635853, 20.5199776 41.5641282, 20.5218916 41.5653638, 20.5224626 41.5656117, 20.5236482 41.5657547, 20.5248132 41.565913, 20.5251597 41.5660986, 20.525383 41.5663297, 20.5255856 41.5666067, 20.5260579 41.5674478, 20.5270924 41.5686644, 20.527906 41.5693276, 20.5294345 41.5701625, 20.5307813 41.5706591, 20.5319741 41.5711469, 20.5336863 41.5720439, 20.5346437 41.5726462, 20.5361732 41.5733583, 20.5370151 41.573955, 20.5387263 41.5750207, 20.5401514 41.5760392, 20.5411467 41.5770867, 20.5420451 41.578191, 20.5424333 41.5782692, 20.5428426 41.5782709, 20.5447275 41.5779407, 20.546304 41.5778242, 20.547531 41.5779365, 20.5482247 41.5782308, 20.5486726 41.5785548, 20.5494435 41.5795092, 20.5500337 41.5799872, 20.5508613 41.5806383, 20.5515358 41.5807484, 20.5530708 41.5807237, 20.5537048 41.5807722, 20.5543994 41.5809437, 20.5554403 41.5813467, 20.5562568 41.5816567, 20.5573808 41.5818759, 20.5577075 41.5819846, 20.5571741 41.5823188, 20.5563748 41.5826518, 20.5551839 41.5827321, 20.5545133 41.583013, 20.5545401 41.5834704, 20.5550068 41.5835186, 20.5548674 41.5837794, 20.5552214 41.5839399, 20.5553341 41.5838155, 20.5554145 41.5839439, 20.5554896 41.5840442, 20.5552804 41.5841405, 20.5550873 41.5842809, 20.5549425 41.5844735, 20.5548995 41.5847384, 20.5550605 41.5853202, 20.5555862 41.5857776, 20.5559456 41.585902, 20.5559885 41.5866001, 20.5559992 41.5873665, 20.5563372 41.5883735, 20.5562299 41.5890476, 20.5560529 41.58985, 20.5557525 41.590163, 20.555731 41.5904237, 20.5555755 41.590825, 20.555373 41.5909842, 20.5550899 41.5911793, 20.5547048 41.5915852, 20.5544193 41.5921272, 20.5537871 41.5933469, 20.5533173 41.5941722, 20.5528654 41.5954983, 20.5527386 41.5963729, 20.5527147 41.596916, 20.5528723 41.5974145, 20.5533814 41.5981752, 20.553893 41.5985891, 20.5547387 41.6000284, 20.5548744 41.6000916, 20.5551571 41.6007221, 20.5548587 41.6014935, 20.5539846 41.6027425, 20.5534463 41.6033709, 20.5527371 41.6040622, 20.5504725 41.605532, 20.5482695 41.6068209, 20.5476423 41.6072862, 20.5472974 41.6076771, 20.5470502 41.6084138, 20.5470798 41.6099378, 20.5472079 41.611764, 20.5471408 41.6127294, 20.546895 41.613332, 20.5467253 41.6140542, 20.5467971 41.6144991, 20.5463704 41.6150225, 20.5458516 41.6155549, 20.5454447 41.61576, 20.5434201 41.6174209, 20.542325 41.6183342, 20.5410709 41.6191591, 20.5405444 41.6195945, 20.5404814 41.6199564, 20.5406206 41.6201984, 20.5409415 41.6203807, 20.5418851 41.6207466, 20.5427888 41.6210821, 20.5433706 41.6213711, 20.5435681 41.6219151, 20.5435993 41.6224688, 20.5432135 41.6229199, 20.542607 41.6232796, 20.541718 41.6237136, 20.5407862 41.6245096, 20.5395888 41.6258325, 20.538595 41.6268395, 20.5377543 41.6276799, 20.5366399 41.6286411, 20.5354023 41.6299488, 20.5345725 41.6305338, 20.5341062 41.6309695, 20.5337721 41.6316091, 20.5331629 41.6323158, 20.5325152 41.6327809, 20.5302958 41.6333754, 20.5282576 41.6339705, 20.5267033 41.6344772, 20.5260567 41.6347763, 20.5255693 41.6353325, 20.5252638 41.6358434, 20.5250779 41.6364763, 20.5251144 41.6369894, 20.5251159 41.6374218, 20.5252451 41.6377832, 20.5254269 41.6378932, 20.5257922 41.6384808, 20.5260082 41.6386596, 20.5257575 41.6390118, 20.5256753 41.6398017, 20.5259949 41.6404935, 20.5262106 41.641354, 20.5261868 41.6418669, 20.5262217 41.6425913, 20.5263763 41.6434821, 20.5268303 41.6447514, 20.5271637 41.6459749, 20.527137 41.6465464, 20.5266654 41.6476912, 20.5263572 41.6485198, 20.5262304 41.649334, 20.5261253 41.649922, 20.5264615 41.6503857, 20.5267067 41.6506339, 20.5266519 41.6508888, 20.5266858 41.6517309, 20.5266147 41.6519951, 20.5264062 41.652501, 20.5259806 41.6528614, 20.5251698 41.6535521, 20.5245824 41.6539872, 20.5233902 41.6544952, 20.522259 41.654913, 20.5216117 41.6552875, 20.5208616 41.6559332, 20.5203259 41.6568493, 20.5200191 41.6574666, 20.5198113 41.6583258, 20.5197257 41.6590044, 20.5195009 41.6594259, 20.5188523 41.6599664, 20.5179012 41.6605357, 20.5171718 41.6610278, 20.5167866 41.6613581, 20.5167413 41.6620218, 20.5170969 41.6629738, 20.5174751 41.6635789, 20.5180349 41.6641546, 20.5187757 41.6647763, 20.5197773 41.66555, 20.5204977 41.6661709, 20.5209029 41.6668497, 20.5212286 41.6671723, 20.5214278 41.6675322, 20.5213758 41.6677399, 20.5211951 41.6682871, 20.5212433 41.6685897, 20.5219696 41.6693297, 20.5225459 41.6698991, 20.52322 41.6708845, 20.5234902 41.6718872, 20.5238375 41.6727013, 20.5242895 41.6734543, 20.5251875 41.6748942, 20.5258099 41.6760496, 20.5259558 41.6768061, 20.5259532 41.6771651, 20.5258991 41.6776562, 20.5257905 41.678597, 20.525814 41.6788239, 20.5260394 41.6790705, 20.5268164 41.6798107, 20.5269153 41.6800946, 20.5268862 41.6806236, 20.5268828 41.6810771, 20.5270812 41.6815693, 20.5277012 41.6830647, 20.5280738 41.6838977, 20.5287541 41.6846132, 20.5294562 41.6852586, 20.5298794 41.6860729, 20.5299993 41.6869427, 20.5300449 41.6876043, 20.5299376 41.6884732, 20.5295274 41.689135, 20.529578 41.6894104, 20.5281052 41.6905949, 20.5278493 41.6910663, 20.5278205 41.6915575, 20.5278153 41.6922567, 20.5278552 41.693712, 20.528 41.694463, 20.5283687 41.6958251, 20.5285889 41.6967898, 20.5285601 41.697281, 20.5279987 41.6980913, 20.5275128 41.6989397, 20.5275074 41.6995566, 20.5271693 41.7004047, 20.5270892 41.7007075, 20.5270826 41.701008, 20.5275913 41.7019002, 20.5275347 41.7027315, 20.527401 41.7037514, 20.5271124 41.7051627, 20.5269075 41.7055587, 20.5267004 41.705897, 20.5253574 41.706894, 20.5242643 41.707891, 20.5238413 41.708286, 20.5231964 41.7088882, 20.5228587 41.7093908, 20.5227806 41.7097117, 20.5228775 41.7102602, 20.5228492 41.7106758, 20.5222888 41.7113349, 20.5217786 41.7120319, 20.5214224 41.7123895, 20.5209408 41.7126332, 20.5206356 41.7129154, 20.5203301 41.7132542, 20.5201271 41.7133857, 20.5191149 41.7136649, 20.5185838 41.7137761, 20.5181923 41.7140889, 20.5176812 41.7148994, 20.5175008 41.7153899, 20.5173196 41.715975, 20.5169865 41.7166161, 20.5168554 41.7172581, 20.5168474 41.7183352, 20.5168195 41.7188776, 20.5161046 41.719914, 20.5154384 41.7211962, 20.5151027 41.7221774, 20.5147213 41.722516, 20.5143156 41.7227221, 20.5142884 41.7229866, 20.5145376 41.7234223, 20.5150099 41.7242878, 20.5148155 41.7250742, 20.5146817 41.7255869, 20.5148796 41.7258678, 20.5147815 41.7262526, 20.5146909 41.726403, 20.5142043 41.7272891, 20.5141507 41.7277046, 20.5144265 41.7279704, 20.5147475 41.7286578, 20.5149501 41.7288749, 20.5147676 41.7296301, 20.514835 41.7307453, 20.5151822 41.7315971, 20.5157289 41.73279, 20.5159793 41.7330934, 20.5165585 41.7333226, 20.5182971 41.7339157, 20.5186844 41.7341953, 20.5191306 41.7347635, 20.5190411 41.7365962, 20.5192329 41.7379765, 20.5191343 41.7389142, 20.5191439 41.7395969, 20.5192161 41.7400886, 20.5197122 41.741319, 20.5196692 41.7425488, 20.519813 41.742865, 20.5195078 41.7435023, 20.5194366 41.7443981, 20.5194026 41.7455645, 20.519675 41.7463026, 20.5197227 41.7466808, 20.5196441 41.7470584, 20.5194135 41.7474921, 20.5194109 41.7478322, 20.5195848 41.7482298, 20.5199592 41.748855, 20.5200326 41.7491765, 20.5200803 41.7495041, 20.5202373 41.7503289, 20.520321 41.7507687, 20.5204133 41.7511387, 20.5205445 41.7513809, 20.5212645 41.7516541, 20.5223075 41.7519427, 20.5232555 41.752231, 20.5235876 41.7525689, 20.5242432 41.7538511, 20.5250863 41.7554895, 20.5254842 41.7559962, 20.5260024 41.7560947, 20.5268218 41.7561488, 20.5278304 41.7563522, 20.5278321 41.7571895, 20.5278261 41.7580141, 20.5280296 41.7587684, 20.5285152 41.7599362, 20.5285812 41.7602783, 20.528625 41.7605053, 20.528415 41.7611144, 20.5282798 41.7614123, 20.5282966 41.761711, 20.5284846 41.7619961, 20.5288052 41.7623386, 20.5304524 41.7631983, 20.5308686 41.7634559, 20.5311709 41.7636989, 20.5315469 41.7642691, 20.5324337 41.7651683, 20.5332889 41.7658949, 20.5341574 41.7666946, 20.5345721 41.7671797, 20.5348726 41.7676785, 20.5350029 41.7680628, 20.5350572 41.7684327, 20.5351694 41.7686891, 20.5355285 41.7689748, 20.5355362 41.7693523, 20.5356384 41.769544, 20.5354652 41.7698418, 20.5350046 41.7704345, 20.5348279 41.7712157, 20.5347111 41.7715991, 20.5338094 41.772747, 20.5329476 41.7737763, 20.5321998 41.7746689, 20.5319915 41.7750717, 20.5319084 41.7755349, 20.5319254 41.7758051, 20.5317521 41.7761445, 20.5319359 41.7765699, 20.5335319 41.7770912, 20.5357469 41.7783512, 20.5379203 41.7794591, 20.5381747 41.7797366, 20.5383825 41.7798409, 20.5385367 41.7798941, 20.5386258 41.7798622, 20.5386146 41.7797641, 20.5386981 41.7796896, 20.539022 41.7795914, 20.5396882 41.7794804, 20.5410385 41.7794005, 20.5424835 41.7793636, 20.5447648 41.7793584, 20.5456767 41.7794473, 20.5461691 41.7797052, 20.5463944 41.7800617, 20.5468482 41.780914, 20.5470027 41.7812721, 20.5481202 41.7838619, 20.5479097 41.7846411, 20.5480911 41.7851809, 20.5478006 41.7859474, 20.5470498 41.7872666, 20.5464506 41.787873, 20.5458519 41.7880799, 20.5460174 41.7886078, 20.5460679 41.7890225, 20.5459346 41.7894598, 20.5453606 41.7897404, 20.5446874 41.7898648, 20.5445453 41.7902319, 20.5444682 41.7911716, 20.5439922 41.7916232, 20.5450247 41.7920158, 20.5458166 41.791397, 20.5465802 41.7913532, 20.547718 41.791365, 20.5491307 41.7910138, 20.5539358 41.7892178, 20.5550322 41.7889321, 20.5573579 41.7880597, 20.5576908 41.7879557, 20.5579414 41.7878775, 20.5584821 41.7877086, 20.5605193 41.7872899, 20.5615199 41.7871115, 20.5631029 41.7868292, 20.5644375 41.7866293, 20.5651393 41.7865241, 20.5665288 41.7862877, 20.5667339 41.7862885, 20.5670992 41.7862898, 20.5677827 41.7864204, 20.5692821 41.7868098, 20.569661 41.7873671, 20.5701707 41.7875003, 20.5716951 41.787682, 20.5730987 41.7881991, 20.5739692 41.7888136, 20.5744037 41.7892417, 20.5744212 41.7894693, 20.5742471 41.7899093, 20.5731745 41.7910995, 20.5726957 41.7916238, 20.5726201 41.7920185, 20.5730779 41.7946645, 20.573299 41.7959981, 20.5730312 41.7977586, 20.5725318 41.7984324, 20.5725117 41.7988311, 20.5721823 41.7993111, 20.5691851 41.8010344, 20.5687268 41.8013312, 20.5682966 41.802807, 20.567554 41.8057754, 20.5671418 41.8073351, 20.5661495 41.810658, 20.5657577 41.8119907, 20.5652135 41.8137088, 20.5649029 41.8146459, 20.5648052 41.8150781, 20.5648219 41.8153707, 20.5648373 41.8158967, 20.5646956 41.8167189, 20.5637263 41.8194022, 20.5632183 41.8206057, 20.5630636 41.8209747, 20.5624649 41.8222946, 20.562041 41.8230891, 20.5616394 41.8234003, 20.5603434 41.8237508, 20.5598447 41.8237608, 20.5594325 41.823989, 20.5594993 41.8241718, 20.5597688 41.8243173, 20.5601104 41.8249984, 20.5604847 41.8259097, 20.5609539 41.8268498, 20.5611389 41.8276182, 20.5612275 41.8285711, 20.5612233 41.8293351, 20.5611821 41.8297898, 20.5611001 41.8306567, 20.5610383 41.8313531, 20.5610334 41.8320639, 20.5611609 41.8328452, 20.5610181 41.8347102, 20.5613383 41.8361918, 20.5624331 41.8371006, 20.5629361 41.8386926, 20.5633279 41.8404486, 20.5634282 41.8426667, 20.5611602 41.8446109, 20.5614346 41.8447158, 20.5617605 41.8447806, 20.5621075 41.8449118, 20.5622234 41.8452038, 20.5621918 41.8459718, 20.562243 41.8460418, 20.5620212 41.8464653, 20.5619112 41.8470708, 20.561548 41.847432, 20.5618396 41.8478724, 20.5616942 41.8485993, 20.5620601 41.8489849, 20.56198 41.8496215, 20.5622132 41.8497421, 20.5619614 41.850277, 20.5620864 41.8504526, 20.5617763 41.85102, 20.5615821 41.8516919, 20.5616524 41.8516975, 20.5615542 41.8520709, 20.5609799 41.8532814, 20.5612665 41.8534039, 20.5613984 41.8536434, 20.561373 41.8537287, 20.5615716 41.8538428, 20.5615536 41.8539003, 20.5617562 41.8540182, 20.5616923 41.85454, 20.5609526 41.8554618, 20.5603963 41.8563822, 20.5605041 41.8571144, 20.5603795 41.8575173, 20.560341 41.8583546, 20.560399 41.8584798, 20.5603069 41.8587494, 20.5600342 41.858496, 20.5596399 41.8587651, 20.559825 41.8590122, 20.5594194 41.8597647, 20.5592392 41.8603484, 20.5593144 41.860608, 20.55921 41.8608496, 20.5589747 41.8616799, 20.5595466 41.8626603, 20.55924 41.8630899, 20.5589044 41.8630304, 20.5587272 41.8632484, 20.5585689 41.863524, 20.5589871 41.8637517, 20.5593465 41.863988, 20.5592349 41.8651238, 20.5591751 41.8651716, 20.55885 41.8651498, 20.5586217 41.8653034, 20.5588135 41.8666798, 20.5583652 41.8676706, 20.5583252 41.8678384, 20.55819 41.8678544, 20.5581155 41.8679215, 20.5579808 41.8679134, 20.5579179 41.8678468, 20.5578475 41.8679201, 20.55763 41.867933, 20.5575459 41.868084, 20.5575104 41.8680896, 20.5574933 41.8681337, 20.5575809 41.8681536, 20.5575568 41.8681948, 20.5574834 41.868242, 20.5574986 41.8682557, 20.5574514 41.8683091, 20.557432 41.8683463, 20.5574759 41.8683398, 20.5575418 41.8683637, 20.5576156 41.8683436, 20.5576474 41.8682959, 20.5577102 41.8682974, 20.5577302 41.8683281, 20.5577945 41.8682847, 20.5579079 41.8683376, 20.5579539 41.868397, 20.5580778 41.8683997, 20.5582649 41.8684107, 20.5583115 41.8684568, 20.5585461 41.8684046, 20.5587545 41.868521, 20.5588175 41.8687334, 20.5588554 41.8687592, 20.5588656 41.8688621, 20.558903 41.8688586, 20.5589173 41.8688786, 20.5589958 41.8688568, 20.5590829 41.8688924, 20.5591213 41.8689655, 20.5592471 41.868979, 20.5593478 41.8689877, 20.559488 41.8690543, 20.5596104 41.8690567, 20.5596411 41.869041, 20.5597514 41.8690956, 20.5597531 41.8689373, 20.5598216 41.8689018, 20.5598764 41.8688593, 20.559952 41.8688466, 20.5600409 41.8689392, 20.5601105 41.8689421, 20.5601692 41.8689869, 20.560192 41.8690264, 20.560283 41.8690176, 20.5602822 41.8690794, 20.5603711 41.8691548, 20.5603798 41.8691956, 20.5604407 41.8692717, 20.5604865 41.8692986, 20.5605236 41.8693583, 20.5606396 41.8694245, 20.560683 41.8694492, 20.5606824 41.869503, 20.5607348 41.8695398, 20.5607843 41.8695405, 20.5608436 41.869548, 20.560874 41.8695935, 20.5609187 41.8696022, 20.5609291 41.869648, 20.5609743 41.8696808, 20.5610494 41.8697562, 20.5609756 41.869848, 20.5607364 41.8699148, 20.560754 41.8699503, 20.5608245 41.8699644, 20.5607377 41.8700761, 20.5608937 41.8700991, 20.5608449 41.8701684, 20.5609465 41.8703056, 20.5612334 41.8705538, 20.5614513 41.8704552, 20.561557 41.8705652, 20.5620774 41.8704806, 20.5623469 41.8704532, 20.5624334 41.8704516, 20.5624835 41.8704377, 20.5625066 41.8704613, 20.5625687 41.870435, 20.5626099 41.8704632, 20.5626602 41.870538, 20.5627062 41.8705276, 20.5626897 41.8704889, 20.5627424 41.8704701, 20.5627816 41.8704938, 20.5628501 41.8704591, 20.5629414 41.8704348, 20.562939 41.8703278, 20.5629735 41.8703528, 20.5630127 41.8703216, 20.5630509 41.8703425, 20.5630919 41.8703106, 20.5631472 41.8703203, 20.5632058 41.8702574, 20.5633068 41.8702844, 20.5633369 41.8702547, 20.5634418 41.8701999, 20.5636179 41.8701369, 20.5637729 41.8700271, 20.56382 41.8701173, 20.5638757 41.8700577, 20.5639147 41.8701037, 20.5639754 41.8700703, 20.5640271 41.8701102, 20.5640932 41.8700849, 20.5641531 41.8701215, 20.5642116 41.8700944, 20.5642062 41.8699907, 20.5642576 41.8699976, 20.5643007 41.8699415, 20.5643582 41.8699317, 20.5643994 41.8698794, 20.56456 41.8698023, 20.5647218 41.8698289, 20.5648388 41.8698855, 20.5649143 41.869884, 20.5649986 41.869926, 20.5652031 41.870061, 20.5656714 41.8703401, 20.5656778 41.87042, 20.5656287 41.8705103, 20.5654114 41.8705676, 20.5654704 41.8705946, 20.5654803 41.8706458, 20.5655193 41.8706743, 20.5655663 41.8706632, 20.5656729 41.8706812, 20.5658058 41.8706677, 20.5658722 41.8707478, 20.5660064 41.8707145, 20.5660905 41.8707076, 20.566186 41.8708542, 20.5661669 41.8709209, 20.566217 41.8709616, 20.5662718 41.8709687, 20.5663209 41.8710417, 20.566425 41.8710304, 20.5665508 41.8710577, 20.5665934 41.8711642, 20.5666732 41.8711597, 20.5667589 41.8710915, 20.5669311 41.8712016, 20.5670149 41.8711768, 20.5670474 41.8712269, 20.5671089 41.8712037, 20.5671923 41.8712049, 20.5672689 41.8711466, 20.5673348 41.871157, 20.567474 41.8711168, 20.5675925 41.8711398, 20.5676652 41.8712247, 20.5676399 41.871332, 20.5676629 41.8714382, 20.5675468 41.8715083, 20.5673967 41.8715342, 20.5673739 41.8716367, 20.5673554 41.8716912, 20.5674344 41.8717074, 20.5677709 41.8719107, 20.5677804 41.8719806, 20.5678416 41.8721157, 20.5679189 41.8720698, 20.5679656 41.8721992, 20.5680659 41.8722603, 20.5681414 41.8723276, 20.5685116 41.8720603, 20.5684335 41.8718772, 20.5685422 41.871844, 20.5686964 41.8718175, 20.5688871 41.8718826, 20.5690266 41.8717895, 20.5692075 41.8716469, 20.5694337 41.8717529, 20.5695846 41.8718938, 20.569673 41.8720039, 20.569771 41.8722393, 20.569865 41.8722305, 20.5700797 41.8725054, 20.570185 41.8725826, 20.5703003 41.8728634, 20.5703392 41.8731078, 20.5703859 41.8732116, 20.5703773 41.8733339, 20.5703329 41.8734584, 20.5703198 41.8737105, 20.5701957 41.8742149, 20.570242 41.8743311, 20.5701936 41.8743679, 20.5702116 41.8745063, 20.5702771 41.8745802, 20.570181 41.8746988, 20.5701508 41.8748503, 20.570037 41.8750814, 20.5700722 41.8751785, 20.5702167 41.8753525, 20.5702391 41.8755587, 20.5702723 41.8757984, 20.5702742 41.8761901, 20.5700948 41.8763602, 20.569973 41.8765789, 20.5701564 41.8768002, 20.5702802 41.8768638, 20.5703827 41.8770029, 20.5704617 41.8769705, 20.5705322 41.8770156, 20.5706068 41.8769632, 20.5707105 41.8768895, 20.570708 41.8768381, 20.5706519 41.87679, 20.570562 41.8767271, 20.5706348 41.8765773, 20.57082 41.8763748, 20.5709469 41.8762995, 20.5710194 41.8763739, 20.5711004 41.8763759, 20.5711533 41.8763129, 20.5710011 41.8762166, 20.5710787 41.876157, 20.5711864 41.8760391, 20.5712834 41.8760513, 20.5713571 41.8760452, 20.5713427 41.8760118, 20.5714957 41.8759572, 20.5715474 41.8760095, 20.5716098 41.8760159, 20.5717037 41.8760716, 20.571912 41.8760635, 20.5719448 41.8761096, 20.5720479 41.8761262, 20.5721181 41.8761258, 20.5723796 41.8762678, 20.5724477 41.8763584, 20.5724631 41.8764739, 20.5723669 41.8764907, 20.5723541 41.8765542, 20.5723278 41.8765961, 20.5723589 41.8767304, 20.5724458 41.8768061, 20.5725289 41.8768207, 20.5726014 41.8767414, 20.5725613 41.8768648, 20.5725818 41.8769543, 20.5726435 41.8770167, 20.5727742 41.8769766, 20.5728683 41.8768961, 20.5728856 41.8769232, 20.5730185 41.8768883, 20.573055 41.8768495, 20.5731313 41.8767538, 20.5729146 41.8765158, 20.5729847 41.8761445, 20.5733164 41.8759626, 20.5734561 41.8759101, 20.5736983 41.8758557, 20.5739121 41.8758802, 20.5739612 41.8759427, 20.5739809 41.8759295, 20.5740202 41.8759754, 20.5740601 41.87594, 20.5740927 41.8760017, 20.5741344 41.8760322, 20.5741714 41.8759802, 20.5742129 41.8760214, 20.5742409 41.8759403, 20.57433 41.8758273, 20.5743984 41.8757701, 20.5744036 41.8757016, 20.5743537 41.8755603, 20.5742478 41.8754551, 20.5744686 41.8753863, 20.5745828 41.8754043, 20.5748003 41.8753596, 20.5749836 41.8753456, 20.5751297 41.8752424, 20.575259 41.8751908, 20.5753665 41.8751962, 20.5754269 41.8751399, 20.5755851 41.8750995, 20.5756109 41.8750361, 20.5757574 41.874928, 20.5758516 41.8749133, 20.5758806 41.874942, 20.575941 41.8749367, 20.5760483 41.874964, 20.5764576 41.8747934, 20.5766752 41.87467, 20.5768585 41.8745954, 20.5772272 41.8745458, 20.5775294 41.8745226, 20.5778064 41.8745298, 20.5780825 41.8746193, 20.5782999 41.8747439, 20.578397 41.8747363, 20.578498 41.8748005, 20.5786947 41.8749368, 20.5788205 41.8750746, 20.5790756 41.8751965, 20.5795026 41.8753771, 20.5795313 41.8754338, 20.5797388 41.8755628, 20.5799764 41.875589, 20.5803093 41.8758866, 20.5806295 41.8761015, 20.5810823 41.8761306, 20.5815731 41.8764532, 20.5816965 41.8766253, 20.5818926 41.8766097, 20.582031 41.8766629, 20.5830052 41.8764828, 20.5832679 41.8765021, 20.5835078 41.8764762, 20.584076 41.876589, 20.5843067 41.8765047, 20.5844593 41.8765043, 20.5846984 41.8763639, 20.5850076 41.8762534, 20.5851415 41.8760951, 20.5854174 41.8763283, 20.585603 41.8763687, 20.5861891 41.8763282, 20.5868047 41.8763939, 20.5872719 41.8765368, 20.5878093 41.8764144, 20.5884274 41.8762365, 20.589682 41.8757469, 20.5918669 41.8758888, 20.5923112 41.8759516, 20.5928942 41.8763631, 20.5933907 41.8765434, 20.5936356 41.8766818, 20.5937042 41.8768716, 20.5934633 41.8769962, 20.5935556 41.8772496, 20.5940163 41.8774009, 20.5943749 41.8771924, 20.5942861 41.8773274, 20.5937187 41.8844177, 20.5929883 41.8851046, 20.5917086 41.8863081, 20.5886391 41.8896202, 20.5875728 41.8925589, 20.5871055 41.8942668, 20.586785 41.8949652, 20.5859665 41.8966762, 20.5851511 41.8987894, 20.5837124 41.9011208, 20.5814048 41.9061916, 20.579259 41.9102847, 20.5788493 41.9111325, 20.5778301 41.9132121, 20.5766105 41.9161837, 20.5763265 41.9168757, 20.5757715 41.9175143, 20.57741 41.9170963, 20.5784127 41.9167527, 20.5788465 41.9167112, 20.5789834 41.9167016, 20.5797145 41.9169169, 20.5807137 41.9169104, 20.5813689 41.9168467, 20.5817043 41.9166132, 20.5827296 41.9165669, 20.5832397 41.9165704, 20.5837706 41.9167171, 20.5844187 41.9170711, 20.5855309 41.9175883, 20.5862618 41.9186888, 20.5879061 41.9204936, 20.5885395 41.92149, 20.5896361 41.9233515, 20.590065 41.9247422, 20.590184 41.9254633, 20.5901359 41.9267174, 20.590718 41.9270899, 20.5925325 41.927611, 20.5991785 41.9294148, 20.6003312 41.9291747, 20.601594 41.9295544, 20.6051676 41.9308347, 20.6060256 41.9314072, 20.6101979 41.9342128, 20.6122689 41.9357971, 20.6180161 41.9384973, 20.6190277 41.9389694, 20.6194349 41.9393997, 20.6200194 41.9405607, 20.6205625 41.9449064, 20.6211378 41.9457304, 20.6214274 41.9478477, 20.621642 41.9493777, 20.6217705 41.9505273, 20.6225025 41.9528314, 20.6225285 41.9529443, 20.6228282 41.9539162, 20.623599 41.9565375, 20.6254736 41.9580461, 20.626014 41.9594615, 20.626587 41.9609839, 20.6263455 41.9619443, 20.626083 41.9630289, 20.6260285 41.9633795, 20.6257761 41.9648954, 20.6254388 41.965788, 20.6250124 41.9669432, 20.6241086 41.9697392, 20.6240863 41.9712259, 20.6240767 41.9715647, 20.6243708 41.9734723, 20.6242583 41.9743339, 20.6234127 41.9756367, 20.6225265 41.9770175, 20.6215987 41.9785434, 20.619202 41.9794812, 20.6180374 41.9797867, 20.6169985 41.9805094, 20.6141313 41.9830026, 20.6133705 41.9848134, 20.6118202 41.9854165, 20.6125395 41.9868609, 20.6113459 41.9878224, 20.6116002 41.9889113, 20.6117111 41.9896508, 20.6109603 41.990286, 20.6098405 41.9914901, 20.6095539 41.9923203, 20.6090288 41.9940217, 20.6085246 41.9955801, 20.6078485 41.9977761, 20.6074156 41.9992092, 20.6072398 41.9998171, 20.6069012 42.0008738, 20.6066687 42.0018744, 20.6066449 42.0019447, 20.606552 42.0023062, 20.6061958 42.0031417, 20.6059066 42.0040638, 20.6056376 42.005728, 20.6055894 42.0058267, 20.6051042 42.0067291, 20.6046371 42.007877, 20.6042241 42.0095502, 20.603995 42.0102986, 20.6024941 42.0144745, 20.6017929 42.0161434, 20.6015746 42.0170635, 20.5995141 42.0189477, 20.5972987 42.0196978, 20.5968876 42.0224394, 20.59674 42.0240377, 20.5964606 42.0260058, 20.5960656 42.0298701, 20.595786 42.0321473, 20.5956296 42.0330388, 20.5954913 42.0337894, 20.5953625 42.0345427, 20.5943001 42.036218, 20.5954919 42.0387321, 20.5948028 42.0407169, 20.5949544 42.0418336, 20.5946227 42.0424566, 20.5945492 42.0427847, 20.5940427 42.0431512, 20.5937248 42.0432176, 20.5935826 42.043397, 20.5934609 42.0435594, 20.593297 42.0436645, 20.5931071 42.0439828, 20.592978 42.0440888, 20.5926867 42.0442113, 20.5922491 42.0443041, 20.5920589 42.0443849, 20.5919292 42.0445706, 20.5917001 42.0446463, 20.5915004 42.0448943, 20.5913352 42.0449157, 20.5909268 42.0451433, 20.5907586 42.0453499, 20.5907148 42.0454311, 20.5905328 42.0455558, 20.5903108 42.0456825, 20.5895436 42.0463, 20.5892979 42.0464933, 20.5887899 42.0469722, 20.5878968 42.0478461, 20.5875541 42.0481706, 20.5868419 42.0486653, 20.5857228 42.0493474, 20.584556 42.0504695, 20.5834841 42.0514909, 20.5818524 42.0528717, 20.5805691 42.053685, 20.5803599 42.0540465, 20.5800391 42.0542526, 20.5788708 42.055268, 20.5767095 42.0570052, 20.5764402 42.0574077, 20.5758975 42.0581306, 20.5735984 42.0585492, 20.5722054 42.0586028, 20.5718055 42.0586237, 20.5713169 42.0586575, 20.5708642 42.0586566, 20.5698156 42.0590583, 20.5699516 42.0606817, 20.568378 42.0627857, 20.5668234 42.0648734, 20.5652502 42.0669771, 20.563369 42.0692491, 20.5611955 42.0718592, 20.5611108 42.0719531, 20.5594626 42.0736328, 20.5582475 42.0747378, 20.5577638 42.0751965, 20.5585283 42.077451, 20.5590014 42.078863, 20.5587956 42.0788495, 20.5586944 42.0788606, 20.5586465 42.0788724, 20.5585734 42.0789083, 20.5582693 42.0790983, 20.5577528 42.0794672, 20.557405 42.0797765, 20.5571302 42.0800565, 20.5570138 42.0801531, 20.5568703 42.0802997, 20.5566774 42.0804797, 20.5566682 42.0804883, 20.5550358 42.081775, 20.5545817 42.0825878, 20.5551063 42.0835389, 20.5564035 42.0858907, 20.5570187 42.0867919, 20.5573318 42.0872119, 20.5573925 42.0873408, 20.557427 42.0874684, 20.557609 42.0877164, 20.5576856 42.0878505, 20.5577716 42.0879713, 20.5578669 42.0880897, 20.5579756 42.0882069, 20.5583443 42.0885216, 20.5584632 42.0886338, 20.5587113 42.0888419, 20.5588659 42.0889129, 20.5590018 42.0890101, 20.5590995 42.0891385, 20.5591981 42.0892588, 20.5595686 42.0896859, 20.5597812 42.0899058, 20.5598975 42.0900199, 20.5601312 42.0902361, 20.5602308 42.0903457, 20.5603092 42.0904672, 20.5603645 42.0906363, 20.5604899 42.0907786, 20.5607651 42.0909737, 20.5611736 42.0912546, 20.5615619 42.0915424, 20.5616792 42.0916458, 20.5618168 42.0917417, 20.5619603 42.0918327, 20.5621393 42.0919156, 20.5631305 42.0941493, 20.5635869 42.0951482, 20.5675194 42.097851, 20.5677911 42.0987534, 20.5661439 42.1011672, 20.566085 42.1012609, 20.565201 42.1025462, 20.5624428 42.1065823, 20.5622987 42.1068042, 20.5609414 42.1086457, 20.5614074 42.1094302, 20.5615299 42.1102489, 20.561971 42.1112423, 20.5627877 42.1124438, 20.563302 42.1129705, 20.563938 42.1136382, 20.564313 42.1140808, 20.5644613 42.1142751, 20.5646756 42.1151203, 20.5648169 42.1159173, 20.5648519 42.1160791, 20.5663507 42.1170466, 20.5669546 42.1176193, 20.5675403 42.1181251, 20.5676081 42.1184011, 20.5676482 42.1191973, 20.5678969 42.120166, 20.5681815 42.1209482, 20.5681202 42.1212163, 20.5679885 42.1214899, 20.5675543 42.1220932, 20.5672777 42.1224003, 20.5670237 42.1227216, 20.5667971 42.1231491, 20.5667073 42.1237871, 20.566786 42.1242336, 20.5667967 42.1245994, 20.5665928 42.1252111, 20.5658367 42.1264744, 20.5656347 42.1268193, 20.5643923 42.1288833, 20.5636035 42.130181, 20.5628856 42.1313979, 20.5625528 42.1320516, 20.5622734 42.1326796, 20.5621314 42.1329287, 20.5619239 42.133166, 20.5611028 42.1334984, 20.5605773 42.1339862, 20.5601137 42.1346652, 20.5599072 42.1349556, 20.5597706 42.1351862, 20.5593933 42.1358801, 20.5588393 42.1369662, 20.5580398 42.1372904, 20.5576808 42.1375071, 20.557312 42.1378178, 20.5569663 42.138336, 20.5568725 42.1387365, 20.5566647 42.1390986, 20.5560291 42.1394758, 20.5553937 42.1400426, 20.5556286 42.1410827, 20.555988 42.1416784, 20.5562047 42.1419024, 20.5572428 42.1430895, 20.5572839 42.1433214, 20.5574005 42.1437153, 20.5574935 42.1438628, 20.5576929 42.1439807, 20.5580346 42.1443826, 20.5581716 42.1445121, 20.5583892 42.1446972, 20.5587529 42.1451669, 20.5588518 42.1454456, 20.5587897 42.1457916, 20.5587471 42.146227, 20.55854 42.1465692, 20.5582341 42.1470355, 20.5577274 42.1474928, 20.5570805 42.1478883, 20.5564358 42.148396, 20.5556934 42.1486203, 20.5552999 42.1489302, 20.5552472 42.1489363, 20.5551457 42.1489878, 20.5550087 42.1490698, 20.554857 42.1491762, 20.5547383 42.1492743, 20.5545021 42.1494987, 20.5542633 42.1496861, 20.5541446 42.1497904, 20.5537347 42.1502511, 20.5534096 42.1505871, 20.5532147 42.1508003, 20.5531185 42.1509229, 20.5530451 42.1510367, 20.5529345 42.1511727, 20.5526869 42.151378, 20.5523139 42.1516704, 20.5519165 42.1519482, 20.5517899 42.152048, 20.5514284 42.1523728, 20.5511903 42.1525642, 20.5509206 42.1527547, 20.5507748 42.1528327, 20.5507187 42.1528487, 20.5503286 42.1529962, 20.5498389 42.1532948, 20.5496442 42.1534809, 20.5495036 42.1536703, 20.5492225 42.1537792, 20.5488647 42.1539765, 20.5486073 42.154174, 20.5484543 42.1546846, 20.5482214 42.1549608, 20.5479333 42.15528, 20.54768 42.1554402, 20.547149 42.155635, 20.5470466 42.1557071, 20.5469304 42.1557889, 20.5469162 42.1558453, 20.5469099 42.1558703, 20.5465225 42.1565674, 20.5463142 42.1570652, 20.5461285 42.1573836, 20.5459408 42.1576634, 20.5458865 42.1577245, 20.5455507 42.1581534, 20.5451851 42.1584108, 20.5435075 42.1602286, 20.5433817 42.1603381, 20.5430661 42.1606649, 20.5470475 42.1643707, 20.547089 42.164712, 20.5464847 42.164825, 20.5458942 42.1648564, 20.545694 42.1648195, 20.5452465 42.1647124, 20.5449794 42.1649883, 20.5448072 42.1651726, 20.5446976 42.1653138, 20.5446523 42.1654849, 20.5446118 42.1655734, 20.5447142 42.1659231, 20.5448291 42.1660863, 20.5446455 42.1662468, 20.5445119 42.1663512, 20.5442072 42.1664332, 20.5438901 42.1663517, 20.543441 42.1662425, 20.5432483 42.1662502, 20.5429475 42.1662045, 20.5427648 42.1662259, 20.5425896 42.1665294, 20.5426028 42.1666318, 20.542659 42.1666958, 20.5426499 42.1668604, 20.5426844 42.1669456, 20.5426414 42.1671015, 20.5427016 42.1671584, 20.542658 42.1673784, 20.5426542 42.1675743, 20.5425211 42.1678258, 20.5426122 42.1682049, 20.5424585 42.1685663, 20.5424907 42.168654, 20.5424415 42.1687453, 20.5425031 42.1688316, 20.5424735 42.1689132, 20.5424732 42.1690826, 20.5423481 42.1692429, 20.5422518 42.1696897, 20.5422626 42.170282, 20.5424769 42.1707023, 20.5425828 42.1712313, 20.5425562 42.1717248, 20.5423193 42.171913, 20.5420266 42.1721877, 20.5416682 42.1722996, 20.5414458 42.1724489, 20.540834 42.1727158, 20.5407488 42.1727418, 20.540462 42.1731529, 20.5396345 42.1735241, 20.5391225 42.174268, 20.5387863 42.1745753, 20.5372052 42.176603, 20.5369593 42.1768234, 20.5367127 42.1772118, 20.5365969 42.1774046, 20.5349205 42.180111, 20.5338887 42.1818974, 20.5323897 42.1844677, 20.5314881 42.1859409, 20.5288482 42.1947219, 20.5278015 42.1980114, 20.5272762 42.1997091, 20.5271552 42.2000644, 20.5266671 42.2018337, 20.5263468 42.203025, 20.5262218 42.2034663, 20.5259838 42.2043725, 20.5250602 42.207424, 20.5249869 42.2076375, 20.524552 42.2091331, 20.5241577 42.2104536, 20.5212222 42.2144532, 20.5139964 42.2242973, 20.513599 42.2243298, 20.5120487 42.2244685, 20.5090118 42.2247517, 20.5077238 42.2253916, 20.5076734 42.2254267, 20.5065333 42.2259954, 20.5057488 42.2263799, 20.5050525 42.226713, 20.5042895 42.227088, 20.5040503 42.2271943, 20.5033139 42.2275491, 20.5021499 42.2281214, 20.5009384 42.2296247, 20.5014676 42.2310957, 20.5007342 42.2324264, 20.5006636 42.2325613, 20.5003986 42.2332322, 20.5000407 42.2341142, 20.4993551 42.2358286, 20.4992702 42.2360496, 20.4984099 42.238171, 20.4982351 42.2386238, 20.4980003 42.2389152, 20.4977016 42.2395332, 20.4975179 42.2398663, 20.4972298 42.2404119, 20.4963963 42.2411959, 20.4959595 42.2415447, 20.4954353 42.2419051, 20.4946736 42.242307, 20.4943678 42.2424757, 20.4940882 42.2425752, 20.4937086 42.2427462, 20.4909322 42.2436339, 20.4902297 42.2438646, 20.4900355 42.2439219, 20.4899469 42.2441303, 20.4891804 42.2460313, 20.4889251 42.2466434, 20.4869277 42.2479743, 20.4854229 42.2484588, 20.4851198 42.2486273, 20.4842031 42.2491171, 20.4836454 42.2493895, 20.4827618 42.2498306, 20.4819991 42.250227, 20.4813173 42.2506235, 20.4801683 42.2513284, 20.4785285 42.252322, 20.4767255 42.253429, 20.4766809 42.2541638, 20.4760186 42.2553568, 20.4758957 42.2557526, 20.4756782 42.2565687, 20.4755857 42.2569736, 20.4755587 42.2571201, 20.4755577 42.2572441, 20.4756181 42.2575552, 20.475663 42.257974, 20.4756642 42.2580567, 20.4756033 42.258235, 20.4755766 42.2583687, 20.4755158 42.2585103, 20.4754802 42.2585597, 20.4753957 42.2587017, 20.4753022 42.2588033, 20.4751959 42.2588881, 20.4750319 42.2589921, 20.4748683 42.259082, 20.4746762 42.2592149, 20.4745736 42.2592888, 20.4744474 42.2594006, 20.4739367 42.2596795, 20.4736463 42.2598747, 20.4733329 42.2601104, 20.4729704 42.2602881, 20.4728063 42.2603548, 20.4721114 42.2606525, 20.4719618 42.2607769, 20.4717183 42.2609022, 20.4712116 42.2612331, 20.4708571 42.2613874, 20.4706802 42.2614248, 20.4704467 42.2616025, 20.4702091 42.2617213, 20.4698897 42.2619002, 20.4694724 42.2620224, 20.4690819 42.2621044, 20.4688333 42.2622176, 20.4686716 42.2623252, 20.468526 42.2624459, 20.4681627 42.2627711, 20.4679494 42.2629182, 20.4677849 42.2630184, 20.4675707 42.2631101, 20.4672657 42.2632771, 20.4669659 42.2634234, 20.4668099 42.2635234, 20.4666754 42.2636012, 20.4664995 42.2637196, 20.4662215 42.2638984, 20.4658587 42.2641974, 20.4657834 42.2642473, 20.4657075 42.2643409, 20.4656404 42.2644759, 20.4655656 42.2646037, 20.465422 42.2648363, 20.465329 42.2649618, 20.4652258 42.2650619, 20.4650986 42.2651489, 20.4649531 42.2652205, 20.464751 42.2652944, 20.4646232 42.2653264, 20.4644985 42.2653494, 20.4642215 42.2653529, 20.464059 42.2653747, 20.4638434 42.2654589, 20.4638089 42.2654872, 20.463699 42.2657148, 20.4636647 42.2658048, 20.4635862 42.265963, 20.4634363 42.2662123, 20.4633566 42.2663105, 20.4632567 42.266416, 20.4631393 42.2665899, 20.4630486 42.2667109, 20.462905 42.2668703, 20.4627949 42.2670876, 20.4626583 42.2672011, 20.4624818 42.2673267, 20.462411 42.2674332, 20.4623284 42.2675377, 20.4622047 42.2676721, 20.4621508 42.2678014, 20.4620946 42.2679117, 20.461981 42.2680825, 20.4619451 42.2681252, 20.4618967 42.2682259, 20.461825 42.2684588, 20.4617236 42.2687435, 20.4615998 42.2688759, 20.461459 42.2690162, 20.461382 42.2690835, 20.4613036 42.2691283, 20.4605711 42.2692414, 20.4603629 42.2692679, 20.4600376 42.2693497, 20.4596805 42.2694695, 20.4595732 42.2695423, 20.4594299 42.2696289, 20.459157 42.2698028, 20.45897 42.2699342, 20.4587062 42.2701032, 20.4586174 42.2701645, 20.4583915 42.2703663, 20.4581789 42.2705707, 20.4580499 42.270688, 20.4578565 42.2708962, 20.4564037 42.272253, 20.4560941 42.2723474, 20.4558656 42.2723908, 20.4556833 42.2724139, 20.455317 42.2724002, 20.4551348 42.272413, 20.4549571 42.2724412, 20.4547655 42.2724797, 20.454581 42.2724977, 20.4542487 42.2725526, 20.4540988 42.2725655, 20.4536374 42.2726181, 20.4529206 42.2728903, 20.4518969 42.2732089, 20.4517654 42.2732253, 20.4512207 42.2733186, 20.4503174 42.2733074, 20.4500176 42.2733334, 20.4498468 42.2733616, 20.4494431 42.2733991, 20.4492931 42.2734309, 20.4488911 42.2735453, 20.4485702 42.2736003, 20.4482949 42.273729, 20.4480034 42.2738577, 20.447723 42.2740258, 20.4474128 42.2741801, 20.4464635 42.2746838, 20.4444181 42.2748177, 20.444248 42.2750325, 20.4434396 42.2760213, 20.4424797 42.2771874, 20.4419481 42.2773611, 20.4410945 42.2774596, 20.4346638 42.2772381, 20.432536 42.2775563, 20.4289904 42.2776525, 20.4288566 42.2776561, 20.424772 42.2784761, 20.4246463 42.2798772, 20.4240767 42.2806788, 20.4237589 42.2819095, 20.4232264 42.2825201, 20.4222233 42.2821863, 20.4217791 42.2821451, 20.4206437 42.2820546, 20.4177107 42.2824667, 20.416622 42.2826404, 20.4151713 42.2830932, 20.4143892 42.2831821, 20.4140864 42.283115, 20.4132711 42.2831365, 20.4119601 42.2835519, 20.4085933 42.2847395, 20.4069406 42.2844912, 20.4046938 42.2846842, 20.4040547 42.2851538, 20.4018307 42.2867662, 20.4012596 42.2874975, 20.4009836 42.2880119, 20.4007502 42.2885576, 20.4006205 42.2888441, 20.4004094 42.2891584, 20.3992411 42.2908289, 20.3991783 42.2908685, 20.3991087 42.2909371, 20.398991 42.291104, 20.3988046 42.2914738, 20.3987139 42.2917086, 20.3985943 42.292329, 20.3985074 42.2928584, 20.3983865 42.2933493, 20.3982707 42.293745, 20.39813 42.2940448, 20.3979807 42.2943464, 20.3976667 42.294768, 20.3975707 42.2948891, 20.3973688 42.2951018, 20.3970886 42.2955875, 20.3969123 42.2959699, 20.3968143 42.2962162, 20.3961101 42.2970608, 20.3951478 42.2981971, 20.3947711 42.298649, 20.3943423 42.2985953, 20.3906004 42.2982007, 20.3880189 42.2996564, 20.3877417 42.2999329, 20.38774 42.2999291, 20.3877369 42.2999322, 20.3875088 42.3001688, 20.3867261 42.3009576, 20.3866327 42.3010593, 20.3846404 42.3015347, 20.38297 42.3021733, 20.3810388 42.3029117, 20.3808049 42.3030364, 20.3804805 42.3031489, 20.3784376 42.3040312, 20.3768789 42.3046341, 20.3745894 42.3055339, 20.3741352 42.3057092, 20.3735914 42.3057258, 20.3732112 42.305582, 20.3726831 42.3055987, 20.3724328 42.3055998, 20.3720625 42.3055707, 20.37122 42.3055129, 20.3692466 42.3054294, 20.3688137 42.3055297, 20.3682171 42.3057201, 20.3678264 42.3058114, 20.3674877 42.3059314, 20.3671997 42.3060286, 20.3666566 42.3061204, 20.3663185 42.3062107, 20.3659036 42.3062357, 20.3651738 42.3062978, 20.3643549 42.3065956, 20.3619184 42.3084914, 20.3604394 42.3087561, 20.3591185 42.3088991, 20.3577457 42.3090235, 20.3533992 42.3096401, 20.3547056 42.3143169, 20.353913 42.3172232, 20.3509036 42.31886, 20.3484277 42.3206151, 20.3480298 42.3224658, 20.3474608 42.3235413, 20.3458318 42.3249068, 20.34189 42.3259719, 20.340034 42.3265547, 20.339135 42.3276986, 20.3360773 42.32794, 20.3339543 42.3278458, 20.3311013 42.3278567, 20.327235 42.3277277, 20.326554 42.326807, 20.3261733 42.3267238, 20.324448 42.3261806, 20.3226947 42.3243925, 20.3219172 42.3235919, 20.3211574 42.3220147, 20.3192696 42.3214768, 20.3164707 42.3210803, 20.3140174 42.3204282, 20.3123471 42.3189949, 20.3122328 42.3189313, 20.3104453 42.3180902, 20.3098648 42.3163487, 20.3087232 42.315319, 20.3065077 42.3150401, 20.3055176 42.3149229, 20.3043958 42.3156539, 20.3037492 42.3160634, 20.3026897 42.316751, 20.3016218 42.3172111, 20.3009565 42.3181325, 20.2986984 42.319297, 20.2982384 42.3195309, 20.2969934 42.31998, 20.2941593 42.3209335, 20.2929497 42.3228902, 20.2929109 42.3230957, 20.2927131 42.3234393, 20.2927012 42.3234664, 20.2882114 42.3233684, 20.2870351 42.3233484, 20.2858864 42.3233214, 20.2847887 42.3228168, 20.2836329 42.3222726, 20.2812457 42.3219274, 20.2790443 42.3216142, 20.2782474 42.3212977, 20.2765623 42.3208826, 20.2756145 42.320656, 20.2737394 42.3206385, 20.2731131 42.3206371, 20.2718947 42.3197234, 20.2718439 42.3196765, 20.2704373 42.3194337, 20.2695979 42.3199191, 20.2687949 42.3197109, 20.2680028 42.3195532, 20.2662557 42.3197815, 20.2647559 42.3195449, 20.2636144 42.3189601, 20.2622718 42.3187572, 20.2616066 42.3188428, 20.2596672 42.3188642, 20.2591263 42.3188668, 20.2587833 42.3188543, 20.257428 42.3187911, 20.257258 42.31878, 20.2568189 42.3194992, 20.2566084 42.3198341, 20.2559807 42.3208552, 20.2553074 42.3218989, 20.2550412 42.3223271, 20.255001 42.3223607, 20.2547598 42.3225092, 20.2543991 42.3225674, 20.2540557 42.3226275, 20.2534748 42.3227372, 20.2524884 42.3229687, 20.2518608 42.323121, 20.251529 42.3230365, 20.2507514 42.3228284, 20.2496031 42.3227477, 20.2484104 42.3226694, 20.2483575 42.3226695, 20.2481115 42.322821, 20.2468777 42.3235603, 20.2467784 42.3236458, 20.2435227 42.3262298, 20.2426066 42.3269621, 20.2426021 42.3270006, 20.2423786 42.3278202, 20.2427059 42.3284305, 20.2433398 42.3291723, 20.2435111 42.3293575, 20.243699 42.3295212, 20.2455488 42.3310721, 20.2461002 42.3315217, 20.247093 42.3323755, 20.2474842 42.3326023, 20.2475321 42.3326383, 20.247852 42.3328384, 20.2478521 42.3331733, 20.2474905 42.333944, 20.2470715 42.3348558, 20.246858 42.3353043, 20.2459937 42.3371607, 20.2455847 42.3377, 20.2452715 42.3381255, 20.2450109 42.3384626, 20.2444357 42.3392284, 20.2438139 42.3400196, 20.2422506 42.3420316, 20.2403918 42.3432494, 20.239253 42.3444991, 20.2387757 42.3449138, 20.2369403 42.3465345, 20.2366361 42.3468086, 20.2360649 42.3473351, 20.2362166 42.3477316, 20.2366103 42.3482073, 20.2369227 42.3483997, 20.2373581 42.34859, 20.2377503 42.3488137, 20.2380449 42.3490698, 20.238332 42.3493357, 20.2386095 42.3498069, 20.2387926 42.3499541, 20.2392442 42.3501748, 20.2396325 42.3505794, 20.2398241 42.3506459, 20.2400692 42.3509413, 20.2401007 42.3510434, 20.2406246 42.3514901, 20.2409516 42.3517781, 20.2438393 42.352207, 20.2448046 42.3529628, 20.2444773 42.3549145, 20.2444815 42.3549158, 20.2447714 42.3562035, 20.2449977 42.3571828, 20.2457703 42.3603879, 20.2460158 42.3613834, 20.2452373 42.3646272, 20.2449158 42.3659432, 20.24617 42.3674857, 20.246148 42.3675265, 20.2451976 42.370002, 20.240969 42.373089, 20.2402351 42.3736314, 20.240475 42.3737495, 20.2412117 42.3741337, 20.2416182 42.3756915, 20.2416453 42.3757749, 20.2400875 42.3801073, 20.2375312 42.3806702, 20.2356559 42.3812333, 20.2354613 42.3822246, 20.2345419 42.3837357, 20.2337802 42.3849757, 20.232233 42.3857725, 20.2306579 42.3867408, 20.2296007 42.3869852, 20.2295439 42.3870092, 20.2287716 42.3871851, 20.225945 42.3889254, 20.2238337 42.3913697, 20.2232243 42.3916962, 20.2229312 42.3918424, 20.2215199 42.3931597, 20.2202446 42.393382, 20.2191978 42.3935595, 20.2178736 42.3941383, 20.2162276 42.3955453, 20.2124208 42.3979505, 20.2108656 42.3981587, 20.2098836 42.3982947, 20.2080119 42.4016194, 20.2084721 42.4021017, 20.2103634 42.4029365, 20.2116606 42.4046723, 20.2117253 42.4059677, 20.21182 42.4069775, 20.2121995 42.4076626, 20.212592 42.4079546, 20.2140092 42.409712, 20.2172017 42.4107421, 20.218046 42.4112404, 20.2189839 42.4116235, 20.2212469 42.4123582, 20.22172 42.4125096, 20.2218286 42.4125353, 20.2236127 42.4132469, 20.2253938 42.4139463, 20.2256727 42.4140602, 20.2257264 42.4140743, 20.2257656 42.4141015, 20.2258044 42.4141454, 20.2260957 42.4144005, 20.226106 42.414488, 20.2261436 42.4159966, 20.22633 42.4163147, 20.2264677 42.4169631, 20.2264808 42.4170068, 20.2267274 42.4181224, 20.2267911 42.4184347, 20.2272468 42.4187594, 20.2275687 42.4190698, 20.227645 42.4192508, 20.227569 42.4195231, 20.2272474 42.4197687, 20.2271441 42.4198429, 20.2270814 42.4198964, 20.2268397 42.4201661, 20.2265688 42.4206311, 20.2262746 42.421485, 20.2260809 42.4221152, 20.2265862 42.4232359, 20.2266393 42.4232998, 20.2265501 42.4234652, 20.2264487 42.4236069, 20.226255 42.423859, 20.2261902 42.4239959, 20.2254321 42.4240794, 20.2246704 42.4242116, 20.2236028 42.4254353, 20.2230928 42.4256974, 20.2227552 42.4262847, 20.2222197 42.4275358, 20.2224048 42.4283581, 20.2223218 42.4286982, 20.222043 42.4291473, 20.2218314 42.4296008, 20.2216882 42.4299305, 20.2215153 42.4302223, 20.2212589 42.4311863, 20.2206667 42.4322743, 20.2207326 42.433238, 20.2206287 42.4337015, 20.220052 42.4343162, 20.2195138 42.4348988, 20.218976 42.4356656, 20.2182378 42.4362032, 20.2176409 42.4367646, 20.2167846 42.4371631, 20.2151146 42.4379565, 20.2140641 42.4379852, 20.2135821 42.4374537, 20.2122123 42.4384781, 20.2113696 42.4391171, 20.2112187 42.4394356, 20.2101822 42.4417108, 20.2081963 42.4418549, 20.2080574 42.4439901, 20.2078135 42.4445329, 20.2067641 42.4448584, 20.2049547 42.445725, 20.20426 42.445861, 20.2032957 42.4466606, 20.2030928 42.4473904, 20.202682 42.4476245, 20.2018731 42.4476841, 20.2012322 42.4479434, 20.2002158 42.4480681, 20.1999275 42.4485213, 20.1991525 42.4487923, 20.1989832 42.4489386, 20.1977224 42.4499804, 20.1976338 42.4500602, 20.1967456 42.4506752, 20.1946618 42.451224, 20.1935088 42.4518872, 20.1929945 42.4524692, 20.1924109 42.4544575, 20.192039 42.4567633, 20.1928376 42.4571324, 20.1933517 42.4574968, 20.1937843 42.4580441, 20.1940451 42.458492, 20.1944335 42.4588587, 20.1952017 42.459355, 20.1959978 42.4608944, 20.1968012 42.4624634, 20.1957971 42.463912, 20.1956935 42.4640555, 20.1938233 42.464557, 20.1931192 42.4650939, 20.1922976 42.4671094, 20.1915445 42.4674039, 20.1891616 42.4703277, 20.1876189 42.4710168, 20.1851614 42.4721059, 20.1834869 42.4728423, 20.1824549 42.4730057, 20.1827298 42.4737175, 20.1821263 42.4769425, 20.1817544 42.4775953, 20.1800127 42.4806524, 20.1803367 42.4826048, 20.18073 42.4850181, 20.18046 42.4860006, 20.1802623 42.4865872, 20.1779822 42.4869972, 20.1767026 42.4880902, 20.1735598 42.4895052, 20.1712361 42.490741, 20.1708138 42.4912812, 20.1673506 42.4957604, 20.1673153 42.4976518, 20.1673158 42.4978358, 20.1660433 42.4991315, 20.1659689 42.4992186, 20.1659588 42.4996071, 20.1665118 42.5004151, 20.1674 42.500875, 20.1674521 42.5010643, 20.167312 42.5016609, 20.1671419 42.5019249, 20.1671727 42.5025144, 20.1669784 42.5028923, 20.1666415 42.503157, 20.1663333 42.5040172, 20.1650476 42.5066803, 20.1623476 42.506827, 20.161453 42.506991, 20.1605659 42.507827, 20.1595215 42.5090241, 20.156329 42.5095433, 20.1542166 42.5117433, 20.1514858 42.5129439, 20.1509711 42.5130196, 20.1507601 42.5132592, 20.1498911 42.5139679, 20.1495265 42.5143983, 20.1490775 42.514538, 20.1483137 42.5148138, 20.1467619 42.5148986, 20.144138 42.5154127, 20.1401403 42.5169002, 20.1391313 42.5176035, 20.136664 42.5187153, 20.1338294 42.5195735, 20.1311833 42.5203484, 20.1295529 42.5207412, 20.1289448 42.5208498, 20.1282634 42.5207636, 20.1276923 42.5208419, 20.1264633 42.5209169, 20.1259545 42.5212591, 20.1252306 42.5212451, 20.1249348 42.5213899, 20.1239625 42.5217521, 20.1228607 42.5222063, 20.1228415 42.5226008, 20.1226222 42.5228151, 20.122352 42.5228571, 20.1222361 42.5229778, 20.1220035 42.5232884, 20.1212542 42.523467, 20.121583 42.5237449, 20.1216317 42.5240847, 20.1215967 42.5242296, 20.1216512 42.5245604, 20.1216698 42.5249706, 20.1219097 42.525285, 20.1218872 42.5256556, 20.120871 42.5257979, 20.1205623 42.5259553, 20.1199585 42.526252, 20.1193674 42.5261565, 20.1180858 42.526171, 20.1174406 42.5262355, 20.1170058 42.5264808, 20.1164974 42.5265013, 20.1140776 42.5271427, 20.1132098 42.5281316, 20.1124576 42.5282106, 20.11151 42.5285151, 20.1098469 42.5291073, 20.1084055 42.5296852, 20.1076063 42.5299468, 20.1067705 42.5309337, 20.106105 42.5311684, 20.1055233 42.5313667, 20.1050719 42.5310565, 20.1048562 42.5309985, 20.1045402 42.53105, 20.1039425 42.5309029, 20.1036662 42.5310723, 20.1031533 42.5311749, 20.102618 42.5314065, 20.1024895 42.5315463, 20.1011388 42.5320766, 20.1009934 42.5321845, 20.1002231 42.5325797, 20.0997198 42.5333487, 20.0993241 42.5337504, 20.0989347 42.5339041, 20.0979485 42.5342791, 20.0982952 42.536562, 20.097272 42.5386613, 20.0969909 42.5393885, 20.0965687 42.5396993, 20.0958624 42.5407178, 20.0957188 42.5415548, 20.0952811 42.5418464, 20.0952324 42.5419939, 20.0940215 42.5426191, 20.0932886 42.543326, 20.0913042 42.5439898, 20.0899996 42.5447737, 20.089528 42.5453715, 20.0896819 42.5462176, 20.0895915 42.5469473, 20.0896433 42.5478062, 20.0898926 42.5482965, 20.0893901 42.5486438, 20.0892451 42.5488463, 20.0890275 42.5490115, 20.0886936 42.5494443, 20.0883607 42.5500491, 20.0883101 42.5506721, 20.0877598 42.5509576, 20.087756 42.5510981, 20.0875829 42.5513097, 20.0873713 42.5514528, 20.0872504 42.5516606, 20.0870808 42.551759, 20.086384 42.5518409, 20.0850737 42.5521637, 20.0846236 42.5523562, 20.0843601 42.5524922, 20.0834734 42.5528431, 20.082805 42.5531352, 20.0824651 42.5532962, 20.0818744 42.5537377, 20.0814964 42.5540923, 20.081189 42.5543627, 20.0801723 42.5549475, 20.0799305 42.5551259, 20.0795142 42.5553849, 20.0789465 42.5554699, 20.0762998 42.5558234, 20.0763003 42.5559325, 20.0759943 42.5557187, 20.075784 42.5556744, 20.0755015 42.5556432, 20.0753603 42.555633, 20.0747945 42.5556237, 20.0743443 42.5555086, 20.0740576 42.5554965, 20.0738651 42.5554598, 20.0736536 42.5554931, 20.0734883 42.5554965, 20.0731394 42.555542, 20.0730191 42.5555653, 20.0728597 42.5556113, 20.072524 42.5556816, 20.0723023 42.555761, 20.0717202 42.5559065, 20.0715422 42.555951, 20.0712037 42.5560021, 20.0710484 42.5560311, 20.0708482 42.556056, 20.0705594 42.5560857, 20.0697031 42.5562053, 20.0692588 42.5562944, 20.0685369 42.5564818, 20.0680082 42.55661, 20.0676475 42.5566865, 20.0669037 42.5569098, 20.06663 42.5570042, 20.0663518 42.5570593, 20.0655496 42.5571631, 20.0651285 42.5570958, 20.0650858 42.5570939, 20.0649334 42.5571225, 20.0647824 42.5572133, 20.0642989 42.5576549, 20.063848 42.5579996, 20.0635811 42.5580915, 20.0633328 42.5581153, 20.0631213 42.5581529, 20.0629477 42.5581645, 20.0627169 42.5581889, 20.0624287 42.5582402, 20.0621436 42.5583094, 20.0616444 42.558347, 20.0612776 42.558404, 20.0609927 42.558432, 20.0603931 42.5585012, 20.0600941 42.5585478, 20.0599331 42.5586003, 20.0592095 42.5586938, 20.0590093 42.5587353, 20.0587295 42.5587644, 20.0585709 42.5587591, 20.0583774 42.5588116, 20.0581318 42.5588796, 20.0579008 42.5588988, 20.0577938 42.5589134, 20.0575586 42.5589646, 20.0572495 42.5590512, 20.0565081 42.5591476, 20.056252 42.5586812, 20.0561293 42.5582975, 20.0558194 42.5577805, 20.0556488 42.5575192, 20.0553519 42.5572464, 20.0546122 42.5567225, 20.0543996 42.5563654, 20.0542703 42.5561295, 20.0539352 42.5556495, 20.0536767 42.5555214, 20.0533874 42.555407, 20.0530261 42.5550713, 20.0528803 42.5547512, 20.0520623 42.5536041, 20.0511067 42.5526532, 20.0508257 42.5520849, 20.0506756 42.5517653, 20.0504692 42.5513538, 20.0504193 42.5510133, 20.0502965 42.55071, 20.0501113 42.5504549, 20.0499007 42.5502866, 20.049386 42.5500633, 20.0488041 42.549883, 20.0480553 42.5497345, 20.0471666 42.5495713, 20.0468787 42.5495076, 20.0465571 42.5493825, 20.0462417 42.5492077, 20.0458539 42.5490252, 20.0455522 42.5489358, 20.0451902 42.5488286, 20.0447162 42.5486565, 20.0443184 42.5486478, 20.0442173 42.5486685, 20.0436504 42.5486614, 20.043039 42.5486785, 20.0428354 42.5486495, 20.0421658 42.5485675, 20.0416118 42.5485001, 20.0408522 42.5482111, 20.0398952 42.5477823, 20.0397893 42.5477114, 20.0389548 42.5473901, 20.0388086 42.5473343, 20.0384594 42.5472253, 20.0377596 42.5469683, 20.0371293 42.5467092, 20.0366248 42.54645, 20.0357759 42.546175, 20.034173 42.5458024, 20.0327534 42.5455556, 20.0322889 42.5455683, 20.0321952 42.5455596, 20.032029 42.5455835, 20.031408 42.5455211, 20.0308591 42.5452669, 20.0304847 42.5450794, 20.0299708 42.5449343, 20.0297566 42.544821, 20.02959 42.5447674, 20.0293704 42.5446478, 20.0291029 42.5444637, 20.0287219 42.5442494, 20.0284541 42.5440581, 20.0280055 42.543839, 20.0278801 42.5436685, 20.027715 42.5435715, 20.0271255 42.5434478, 20.0267608 42.5434227, 20.0263468 42.5433445, 20.0257008 42.5433165, 20.0254799 42.5432647, 20.0250429 42.5432339, 20.0249014 42.5432062, 20.0247912 42.5432356, 20.0246345 42.5432602, 20.0245592 42.5432739, 20.0244451 42.5433159, 20.0240856 42.5433693, 20.02377 42.5433872, 20.023563 42.5434288, 20.0230285 42.5433606, 20.0228315 42.5433366, 20.0225514 42.5433421, 20.0223041 42.5433406, 20.0220733 42.5433711, 20.021874 42.5433516, 20.0216953 42.5433757, 20.0212611 42.5434819, 20.0208009 42.5435648, 20.0200345 42.5435713, 20.0197603 42.5435919, 20.0194843 42.5435901, 20.0188177 42.5436491, 20.0184008 42.5437022, 20.0181917 42.5436903, 20.017994 42.543681, 20.0176412 42.5436141, 20.0168695 42.5431889, 20.0167815 42.5431497, 20.0164062 42.5428087, 20.0162945 42.5427174, 20.0161854 42.5426943, 20.0157856 42.5423756, 20.0155902 42.5421759, 20.0153918 42.5419259, 20.0153171 42.5417806, 20.0153142 42.5417039, 20.0150808 42.5413995, 20.0149869 42.5411252, 20.0149882 42.5410657, 20.0149677 42.5409803, 20.014996 42.540858, 20.0149252 42.5404297, 20.0149351 42.5403172, 20.0148721 42.5400619, 20.0148179 42.5399398, 20.0148133 42.5398225, 20.0147948 42.5397595, 20.0148385 42.5396715, 20.0148199 42.5395987, 20.0148266 42.5394843, 20.0147982 42.5393554, 20.014727 42.5391932, 20.0147047 42.5391403, 20.0146851 42.5387869, 20.0147107 42.5386814, 20.014441 42.5383224, 20.0143576 42.538233, 20.0143304 42.5381021, 20.0143448 42.5379574, 20.0143633 42.5378016, 20.0143544 42.5375474, 20.0142556 42.5374097, 20.0141546 42.5372285, 20.0140586 42.5371026, 20.0139085 42.5367699, 20.0138514 42.5364421, 20.0138673 42.5362144, 20.0140277 42.5359327, 20.0140645 42.5358165, 20.0143529 42.535427, 20.014404 42.535262, 20.0145119 42.5351473, 20.0146318 42.5349508, 20.0150285 42.5344113, 20.0151363 42.5342071, 20.0151912 42.5340526, 20.015223 42.5336569, 20.015122 42.5331409, 20.0150196 42.5326382, 20.0149616 42.5324624, 20.0149612 42.5323997, 20.0149384 42.5321172, 20.0149816 42.5319229, 20.0155216 42.5310917, 20.0156649 42.5309784, 20.015857 42.5308788, 20.0161915 42.530829, 20.0163478 42.5307665, 20.0163525 42.5306289, 20.0162616 42.5305557, 20.0162312 42.5305027, 20.0161472 42.5304668, 20.0160296 42.5303108, 20.0158428 42.529983, 20.0157109 42.5297985, 20.0156606 42.5296267, 20.0156804 42.5294358, 20.0155898 42.5291897, 20.0155685 42.5290714, 20.0155715 42.5289351, 20.0153817 42.5287765, 20.0152356 42.5285929, 20.0151847 42.5284952, 20.0151112 42.5280488, 20.0148207 42.5277039, 20.0147582 42.5276443, 20.0146571 42.5274582, 20.0145667 42.5273536, 20.014501 42.5271285, 20.0143832 42.526954, 20.014012 42.526436, 20.0139372 42.526294, 20.013695 42.5261001, 20.0132265 42.5258988, 20.0126224 42.5257761, 20.012425 42.5257472, 20.0123077 42.5257503, 20.0120993 42.5257032, 20.0121154 42.5255956, 20.0121571 42.5254406, 20.0121401 42.5252815, 20.0121907 42.5250725, 20.0122025 42.5249848, 20.0121803 42.5248836, 20.0121856 42.5247731, 20.0121927 42.5245873, 20.0123021 42.5242475, 20.0122689 42.5240325, 20.0122116 42.5238909, 20.0121759 42.5237822, 20.0121193 42.5237095, 20.0121264 42.5235899, 20.0122565 42.5232077, 20.0123481 42.5230666, 20.0123862 42.5228954, 20.0124479 42.5225732, 20.0124333 42.5224784, 20.0123987 42.5223867, 20.0124352 42.5219811, 20.0123405 42.5218787, 20.0123027 42.5218087, 20.012026 42.5216598, 20.0115232 42.5213096, 20.0114252 42.5211972, 20.0113329 42.5210476, 20.0109276 42.5207721, 20.010563 42.5204974, 20.0102296 42.5202803, 20.0101482 42.5201819, 20.0100524 42.5199969, 20.0099387 42.5195415, 20.0098058 42.5191779, 20.0098239 42.5188204, 20.0098026 42.5185748, 20.0097154 42.5182903, 20.0096141 42.5181817, 20.0095618 42.5180693, 20.0094531 42.5179464, 20.0093015 42.5176189, 20.009236 42.5175058, 20.0091265 42.5171389, 20.0091262 42.5170684, 20.0090804 42.5169878, 20.0091279 42.5168291, 20.009149 42.5167077, 20.0091448 42.516517, 20.0090624 42.5163127, 20.0090073 42.5162446, 20.0089656 42.516031, 20.0089463 42.5158429, 20.009042 42.5155573, 20.0090257 42.5154756, 20.0090564 42.5152524, 20.0091799 42.5148431, 20.0091262 42.5147682, 20.0089443 42.5145289, 20.0087482 42.514284, 20.0086471 42.5141764, 20.0085342 42.5140013, 20.0084211 42.5136848, 20.0083937 42.5135045, 20.0083715 42.513432, 20.0083345 42.5133128, 20.0082231 42.5129637, 20.0081845 42.5128874, 20.0078104 42.5126111, 20.0073815 42.512334, 20.0071178 42.5122259, 20.0066567 42.5118484, 20.0061686 42.511481, 20.0059181 42.5113278, 20.0056881 42.5111246, 20.0052893 42.5109401, 20.0051705 42.5108342, 20.004937 42.5107292, 20.0048583 42.5106131, 20.0045625 42.5104466, 20.0044371 42.5103351, 20.0043191 42.510291, 20.0042071 42.5101366, 20.0041148 42.5100888, 20.0040743 42.5100369, 20.0037832 42.5098687, 20.0037349 42.5098175, 20.0036673 42.5098038, 20.0035089 42.5096517, 20.0033905 42.5095226, 20.0033626 42.5093419, 20.0033151 42.5091535, 20.0033678 42.5088556, 20.003143 42.5087718, 20.0027954 42.5088332, 20.0024685 42.5088997, 20.0019174 42.5090012, 20.0015324 42.5091389, 20.0011346 42.5092286, 20.0004657 42.5093689, 19.9998166 42.5095663, 19.9995551 42.5097053, 19.9994228 42.5098102, 19.999161 42.5099114, 19.99893 42.5100479, 19.9987977 42.510097, 19.9986639 42.5101789, 19.9984195 42.5102533, 19.9981053 42.5104157, 19.9979586 42.5105067, 19.9973809 42.5106363, 19.9970092 42.5106641, 19.9967508 42.5107049, 19.9963377 42.5107949, 19.9960191 42.5109165, 19.9958222 42.5111675, 19.9955001 42.5113921, 19.9936697 42.511009, 19.9929361 42.5109993, 19.9920505 42.511009, 19.9915795 42.5111603, 19.9908577 42.5112726, 19.989692 42.5111769, 19.9885901 42.5110824, 19.9877525 42.5110583, 19.9871023 42.5111522, 19.986476 42.5111486, 19.9860613 42.5111816, 19.9852124 42.5109995, 19.9847755 42.510895, 19.9842602 42.5109731, 19.9836865 42.5112736, 19.9834819 42.5115881, 19.9830714 42.5120422, 19.9829741 42.5121137, 19.9825334 42.5123492, 19.982086 42.5123533, 19.9812846 42.5123096, 19.9803477 42.5121354, 19.9795157 42.5120573, 19.9780086 42.5118048, 19.977482 42.5116384, 19.9770534 42.5116026, 19.9755516 42.5113151, 19.9749862 42.5111832, 19.9739297 42.5112847, 19.9733715 42.5113104, 19.972561 42.511414, 19.971958 42.5113906, 19.9708307 42.5108471, 19.9696838 42.5102102, 19.9691484 42.5098286, 19.9679023 42.5094111, 19.9669385 42.5092972, 19.9656795 42.509366, 19.9646506 42.5094401, 19.9640227 42.5096248, 19.9622616 42.5100661, 19.9617605 42.5103172, 19.9611479 42.5105015, 19.9610012 42.5105875, 19.9607668 42.5106292, 19.9596507 42.5103846, 19.9590622 42.5103753, 19.9586312 42.5103202, 19.9581028 42.5103945, 19.9575586 42.5105436, 19.9570691 42.510823, 19.9567089 42.5108999, 19.9558433 42.5108997, 19.9548576 42.5107393, 19.9539942 42.5106183, 19.9532703 42.5106539, 19.9530155 42.5107425, 19.9526115 42.5108372, 19.952335 42.5110557, 19.9519882 42.5116787, 19.9513184 42.5124041, 19.9506457 42.513121, 19.9500406 42.5134101, 19.9489482 42.5135744, 19.9482615 42.5136999, 19.9477186 42.5138344, 19.9474987 42.5140117, 19.9472895 42.514229, 19.947132 42.5144886, 19.9469408 42.514594, 19.9465892 42.5149823, 19.9463008 42.5151525, 19.9458829 42.5155613, 19.9452912 42.5159443, 19.9445383 42.5166991, 19.9438852 42.5171149, 19.9435545 42.5174136, 19.9434775 42.5176263, 19.9428539 42.5178446, 19.9422646 42.5177594, 19.9413696 42.5178169, 19.9405134 42.5178786, 19.9401473 42.5178774, 19.9391173 42.5174719, 19.9388437 42.5172262, 19.9385348 42.5170955, 19.9381045 42.5168314, 19.9377821 42.5164785, 19.9373559 42.5161614, 19.9364925 42.5159577, 19.9354888 42.5157707, 19.93527 42.5157286, 19.9342161 42.5156543, 19.9335397 42.5154917, 19.9328332 42.5151495, 19.9321052 42.5151701, 19.931922 42.5151473, 19.9316232 42.5149484, 19.9309395 42.51459, 19.9301515 42.5142416, 19.929986 42.5140955, 19.9290067 42.5138531, 19.9284279 42.5137051, 19.9274926 42.5133023, 19.9265801 42.5130038, 19.9260233 42.512695, 19.9254201 42.5123397, 19.9252723 42.5121754, 19.9249703 42.5120217, 19.9238027 42.5116239, 19.9235492 42.5114851, 19.9226542 42.511251, 19.9222635 42.5111288, 19.9221682 42.510961, 19.921879 42.5107704, 19.921695 42.5106567, 19.9215322 42.5104451, 19.920759 42.5099258, 19.9206782 42.5098716, 19.9199613 42.5092784, 19.9198065 42.5090461, 19.919494 42.5088912, 19.9190195 42.5085915, 19.9182658 42.5080705, 19.9176696 42.5078589, 19.9173075 42.5075362, 19.9168518 42.5073968, 19.9165291 42.5073618, 19.915534 42.5073638, 19.9142044 42.5072622, 19.9128977 42.506958, 19.9122392 42.5068748, 19.9119431 42.5068829, 19.9107095 42.5066937, 19.9097911 42.5065657, 19.9093024 42.5066116, 19.9080139 42.5068647, 19.9069491 42.5069626, 19.9063193 42.5072875, 19.9062914 42.5071991, 19.9064692 42.5068467, 19.9065089 42.5065385, 19.9052619 42.5048973, 19.9049039 42.5036723, 19.904854 42.5032979, 19.9049047 42.5029515, 19.9046654 42.5020893, 19.9045651 42.50189, 19.9041016 42.5013897, 19.9038465 42.5009821, 19.903746 42.5006129, 19.9035909 42.5004597, 19.9035263 42.5002287, 19.9046025 42.499123, 19.9047253 42.4981808, 19.9051648 42.4963638, 19.9054394 42.4956761, 19.9053542 42.4954788, 19.9050909 42.4953321, 19.9025175 42.4944821, 19.9019922 42.4941102, 19.9017686 42.493715, 19.9017605 42.4931646, 19.9018772 42.4925761, 19.9023325 42.4917838, 19.9026775 42.4913154, 19.9029023 42.4906231, 19.9028532 42.4903868, 19.9021664 42.4901313, 19.9009529 42.4895825, 19.9002177 42.4890513, 19.8998608 42.4886865, 19.8998675 42.4883066, 19.8997381 42.4875978, 19.8989446 42.4853366, 19.8987037 42.4849281, 19.8981398 42.4847392, 19.8978857 42.4847435, 19.8971469 42.4847559, 19.8960297 42.4849208, 19.8953317 42.4851708, 19.8947924 42.4855979, 19.8945033 42.4859096, 19.8943873 42.4864588, 19.8941495 42.4868758, 19.8934437 42.4872836, 19.8927046 42.487984, 19.8899726 42.4891105, 19.8890597 42.4896127, 19.888432 42.4900259, 19.8875592 42.490984, 19.8870877 42.4915821, 19.8862457 42.4930807, 19.885648 42.4937955, 19.8848861 42.4941852, 19.8839036 42.494608, 19.8829583 42.4949264, 19.8816414 42.4952149, 19.8810154 42.4955232, 19.8801595 42.4958031, 19.8789523 42.4958961, 19.8779784 42.4958342, 19.8764448 42.4953475, 19.8755533 42.4946443, 19.8751922 42.4937939, 19.8752117 42.4927066, 19.8752965 42.4919344, 19.8755409 42.4911507, 19.8755475 42.4907839, 19.8754806 42.4905605, 19.8747603 42.4901996, 19.8735153 42.4899773, 19.8728989 42.4894127, 19.8726644 42.4887857, 19.8727668 42.4876181, 19.8726247 42.4873637, 19.871935 42.4867425, 19.8719066 42.4865133, 19.8720302 42.4859844, 19.8723366 42.4852315, 19.8723084 42.4849903, 19.8721504 42.4847116, 19.8716016 42.484417, 19.8702256 42.4838975, 19.8693583 42.4834182, 19.8682473 42.4829388, 19.867947 42.4825826, 19.8678678 42.4822768, 19.8678998 42.4820722, 19.8679296 42.4819039, 19.8679338 42.4817978, 19.8679371 42.4816655, 19.8677874 42.4815538, 19.8674878 42.481502, 19.8672177 42.4814428, 19.8645657 42.4811618, 19.8619982 42.4824503, 19.8608772 42.4831864, 19.8601875 42.4834139, 19.8596261 42.483482, 19.8587273 42.4837617, 19.8582807 42.4841832, 19.8568141 42.4839457, 19.8555342 42.4841861, 19.8544839 42.4841885, 19.8535114 42.4839008, 19.8530972 42.4831588, 19.8531439 42.4823777, 19.8529936 42.4821062, 19.8523236 42.4816415, 19.8508 42.4802633, 19.850621 42.4797959, 19.850511 42.4794798, 19.8504981 42.4791494, 19.8495454 42.4781224, 19.848686 42.4772875, 19.8479082 42.4770106, 19.8468922 42.4767977, 19.8465896 42.4769481, 19.8462581 42.4774901, 19.8455124 42.4777956, 19.8436392 42.4788385, 19.8432267 42.4790945, 19.8410761 42.4796929, 19.8405562 42.4797341, 19.8398583 42.4796674, 19.8392123 42.4795156, 19.8380195 42.4787694, 19.837451 42.4786406, 19.8365886 42.47872, 19.8362857 42.4787013, 19.836248 42.4785847, 19.8366523 42.4775348, 19.8383085 42.4740528, 19.8384111 42.4736451, 19.8378193 42.4728642, 19.8373983 42.4724, 19.8358721 42.4708215, 19.8352613 42.4700725, 19.8343389 42.4689008, 19.8339512 42.4684895, 19.8335698 42.4680937, 19.8333962 42.4679421, 19.8330813 42.4672527, 19.8325479 42.4667906, 19.8317652 42.466156, 19.8314213 42.4658321, 19.8303971 42.4661889, 19.8299325 42.4663188, 19.826465 42.4670107, 19.8230836 42.4678747, 19.818738 42.4696998, 19.8175454 42.4702078, 19.8162262 42.4705691, 19.8151578 42.4706888, 19.8143281 42.4709221, 19.8136392 42.4712735, 19.8126557 42.4716468, 19.811905 42.4719434, 19.8113283 42.4722525, 19.8107651 42.4724452, 19.8093165 42.4727096, 19.8085595 42.4732106, 19.8082102 42.4733905, 19.8071075 42.4735096, 19.8062712 42.474055, 19.8056907 42.4746528, 19.8051525 42.4752989, 19.8043622 42.4757139, 19.8039317 42.4760077, 19.8033698 42.476952, 19.8032181 42.4776883, 19.8028968 42.4779027, 19.8018584 42.4780266, 19.7990293 42.4788405, 19.7956056 42.480306, 19.7941379 42.4808228, 19.7925163 42.4814553, 19.791267 42.4822235, 19.7904322 42.4831557, 19.7900875 42.4838125, 19.7889484 42.4857, 19.7878211 42.4873812, 19.7877113 42.4875534, 19.7860455 42.4902, 19.7853118 42.4912271, 19.7831427 42.4935509, 19.7812136 42.4963341, 19.7807156 42.4967455, 19.7792011 42.4972846, 19.7754543 42.4984265, 19.774043 42.4990225, 19.7731729 42.4995753, 19.7720043 42.5000539, 19.7702442 42.5004446, 19.7664698 42.5016286, 19.7656465 42.5023446, 19.7650915 42.5034148, 19.7620438 42.5076638, 19.7612277 42.5085868, 19.7609309 42.5092021, 19.7608602 42.5098242, 19.7611535 42.511882, 19.7615766 42.5137047, 19.7612369 42.5145003, 19.7602927 42.5156946, 19.7603668 42.5175267, 19.7598155 42.5195342, 19.7595479 42.5207995, 19.7589833 42.5221016, 19.7589329 42.5221871, 19.7582135 42.5234071, 19.7576733 42.5239423, 19.7569337 42.525068, 19.7567946 42.5256216, 19.7564724 42.5259746, 19.7550897 42.5265387, 19.7534187 42.5279728, 19.7529228 42.5286521, 19.7525748 42.5296404, 19.7525006 42.531226, 19.7527324 42.5317659, 19.7527324 42.5320461, 19.7526231 42.5324939, 19.7503324 42.535345, 19.7491957 42.5361156, 19.74796 42.5365372, 19.7477707 42.5367273, 19.7472792 42.5384631, 19.7465743 42.5394607, 19.7461232 42.5399902, 19.7458788 42.5408069, 19.7456975 42.5417587, 19.7445234 42.5425989, 19.7442094 42.543219, 19.7439087 42.5441812, 19.7433901 42.5451387, 19.744304 42.5476662, 19.7455356 42.5485075, 19.7484663 42.5494162, 19.7489229 42.5500106, 19.7491859 42.5502139, 19.7496062 42.5506705, 19.7497276 42.5510874, 19.7496724 42.5516876, 19.7495228 42.5522912, 19.7494012 42.5527183, 19.7492601 42.5532052, 19.7491603 42.5536526, 19.7493785 42.5541856, 19.7493408 42.5545672, 19.7492881 42.5549163, 19.7492298 42.5551495, 19.7489347 42.5555949, 19.7489364 42.5558186, 19.7489317 42.556089, 19.7490745 42.5565038, 19.7492512 42.556796, 19.7494382 42.5573308, 19.7497321 42.5579474, 19.749922 42.5583961, 19.7500595 42.5586829, 19.7502639 42.558976, 19.7506098 42.5593998, 19.7513474 42.560388, 19.7519571 42.5610452, 19.7524998 42.5616195, 19.7526212 42.5617814, 19.7530299 42.5619801, 19.7534447 42.562625, 19.7536098 42.5633273, 19.7536439 42.5635162, 19.753878 42.5639335, 19.7539337 42.5641008, 19.753986 42.5642669, 19.7538666 42.5647802, 19.7536832 42.5650001, 19.7534143 42.5654485, 19.7531799 42.5658042, 19.7531127 42.5660711, 19.7532611 42.5663375, 19.753428 42.5675054, 19.7532703 42.568407, 19.7530176 42.5691453, 19.7522092 42.5697903, 19.7513095 42.5704869, 19.7500522 42.5711937, 19.7492917 42.5718562, 19.749139 42.5721698, 19.7486664 42.5727227, 19.7483934 42.5731748, 19.747969 42.5733959, 19.7480145 42.5744993, 19.7481417 42.5752096, 19.7485863 42.5754126, 19.7504324 42.5763705, 19.7520626 42.5772816, 19.7532412 42.5774996, 19.7531575 42.5781104, 19.7527153 42.5784878, 19.7521962 42.5787738, 19.7515734 42.5793008, 19.7513518 42.5798856, 19.7514332 42.5812674, 19.7515353 42.5814472, 19.7524631 42.5813805, 19.7534207 42.5813698, 19.7537694 42.5813925, 19.7546008 42.5812569, 19.7552445 42.5812068, 19.7558239 42.5811409, 19.7562326 42.5809441, 19.7566983 42.5804774, 19.756992 42.5803392, 19.7575137 42.5801812, 19.7580729 42.5800985, 19.7583123 42.580069, 19.7585647 42.580071, 19.7588708 42.5801066, 19.7594422 42.5803216, 19.7601745 42.58074, 19.760372 42.5808641, 19.7609021 42.5814542, 19.7614649 42.5822346, 19.761769 42.58259, 19.7619629 42.5827661, 19.7620901 42.5829119, 19.7622538 42.5831136, 19.7623512 42.5832054, 19.7626132 42.5833725, 19.7628353 42.5834945, 19.763095 42.5835869, 19.7633819 42.5836437, 19.7637762 42.583669, 19.7643931 42.5836611, 19.7648369 42.5835809, 19.765109 42.5835086, 19.7658119 42.5830496, 19.7665032 42.5829933, 19.767756 42.5829691, 19.7685591 42.5827169, 19.7694174 42.5823121, 19.7698271 42.5818071, 19.7701822 42.5816585, 19.7712979 42.5815161, 19.7720754 42.5812812, 19.7723369 42.5812753, 19.7726682 42.5813602, 19.7732209 42.5814886, 19.7740533 42.5815879, 19.7749374 42.5818649, 19.7749955 42.5825477, 19.7746107 42.5827724, 19.7745291 42.5828864, 19.7749272 42.5837178, 19.7759664 42.5842963, 19.7758651 42.5857284, 19.7759609 42.5864214, 19.7754593 42.5869139, 19.7753541 42.5878294, 19.7747498 42.5891947, 19.7752704 42.5898208, 19.7756175 42.5910975, 19.7755333 42.5915469, 19.7751953 42.5922986, 19.7737298 42.5928219, 19.7723927 42.5948515, 19.7724107 42.5961489, 19.7698776 42.5977055, 19.7685376 42.5977618, 19.7673733 42.5983335, 19.7666039 42.5991569, 19.7658575 42.6004339, 19.7647666 42.6020246, 19.7622564 42.6053193, 19.7615828 42.6060373, 19.7611151 42.6069794, 19.7607994 42.6080164, 19.760333 42.6105446, 19.7557579 42.6122384, 19.7550949 42.6124443, 19.7549688 42.6125367, 19.7546636 42.612648, 19.7529856 42.6130876, 19.7524204 42.6133541, 19.7516367 42.6135452, 19.7515793 42.6141214, 19.752871 42.6178269, 19.7535016 42.6193613, 19.7531068 42.6202389, 19.7517071 42.6215683, 19.7509238 42.6229288, 19.7498082 42.624467, 19.7494977 42.6251599, 19.7493781 42.6254129, 19.749281 42.6258774, 19.7493824 42.626029, 19.7496678 42.6269009, 19.7496694 42.6274697, 19.749127 42.6280345, 19.7502428 42.6302574, 19.7510405 42.6309536, 19.7521687 42.6316305, 19.7551743 42.6333954, 19.7570768 42.6344439, 19.7573598 42.6346682, 19.7569569 42.6354074, 19.7568657 42.6361702, 19.7563829 42.6367768, 19.7552843 42.6377472, 19.7540982 42.6383679, 19.7538182 42.6387417, 19.7533327 42.63942, 19.7521306 42.6398632, 19.7514654 42.6401568, 19.7496316 42.6408767, 19.7451676 42.6409847, 19.7436588 42.6409661, 19.7429344 42.6411621, 19.7417904 42.6416642, 19.7409969 42.6419214, 19.7393263 42.6424103, 19.7385533 42.6425673, 19.7381428 42.6427069, 19.7378076 42.6429188, 19.7371758 42.6436284, 19.7375037 42.6450727, 19.7374622 42.6456633, 19.7374712 42.6460156, 19.7369841 42.6472465, 19.736784 42.6486056, 19.7365692 42.6491719, 19.7358582 42.6500304, 19.7351419 42.6512218, 19.7348448 42.651776, 19.7349022 42.6528101, 19.7348097 42.6536303, 19.7340664 42.6547861, 19.7336788 42.6554103, 19.7326961 42.656896, 19.7316903 42.6577367, 19.7301193 42.6587876, 19.7291124 42.659168, 19.7277 42.6599029, 19.7272923 42.6603878, 19.7273204 42.6610848, 19.727007 42.660967, 19.7264674 42.6607119, 19.7260088 42.6605343, 19.7251846 42.6604369, 19.7246036 42.6605183, 19.7238027 42.6607483, 19.7230952 42.6609752, 19.7228958 42.6607095, 19.7224433 42.6603818, 19.721368 42.6599781, 19.7205568 42.6598107, 19.7198094 42.6595668, 19.7189613 42.6591644, 19.7182322 42.6585651, 19.7176438 42.6583033, 19.7170918 42.6581003, 19.7152598 42.6577346, 19.7145724 42.6575708, 19.7143048 42.6574398, 19.7143489 42.6568514, 19.7141685 42.6564923, 19.7134977 42.6560024, 19.7133278 42.6558933, 19.7129258 42.6557699, 19.7119425 42.6557064, 19.7106873 42.6557238, 19.7093762 42.6555993, 19.7085608 42.6553531, 19.7076274 42.6549229, 19.7067819 42.6547102, 19.7062492 42.6546364, 19.7057967 42.654722, 19.7053106 42.655202, 19.7051174 42.6554576, 19.7045365 42.6556887, 19.704146 42.6557692, 19.7040136 42.6555914, 19.703971 42.6551333, 19.7038826 42.6540806, 19.7038197 42.6537909, 19.703706 42.6529891, 19.7034728 42.6526444, 19.7033449 42.6523742, 19.7025749 42.6518307, 19.7011742 42.6512834, 19.6999495 42.6510171, 19.6997356 42.6509302, 19.6992975 42.6506445, 19.6988285 42.6497264, 19.6987026 42.6490491, 19.6989242 42.6485255, 19.6990955 42.648368, 19.6995246 42.6480296, 19.6998746 42.6475145, 19.700141 42.6473194, 19.700189 42.6470449, 19.700188 42.6466537, 19.7002465 42.6464749, 19.700276 42.6462082, 19.7003597 42.6459288, 19.7005179 42.6456704, 19.7003516 42.6450976, 19.6997836 42.6449089, 19.6994467 42.6446973, 19.699069 42.6445024, 19.6989225 42.644283, 19.6985358 42.6438103, 19.6978074 42.6426232, 19.6974308 42.6423521, 19.6972906 42.6421204, 19.6970183 42.641961, 19.6964884 42.6418157, 19.6960698 42.641595, 19.6951744 42.6413483, 19.6939245 42.640966, 19.6935373 42.6407995, 19.6932529 42.6402785, 19.6931277 42.640065, 19.6929378 42.6398667, 19.6927691 42.6396808, 19.6924164 42.6394658, 19.6919926 42.6392631, 19.6916868 42.6391315, 19.6909857 42.6387612, 19.6905177 42.6383844, 19.6902837 42.6382316, 19.6900686 42.6380079, 19.689764 42.6376591, 19.6893712 42.6377111, 19.687676 42.6384609, 19.6867078 42.6388567, 19.6864412 42.6384392, 19.6861048 42.6376282, 19.6860125 42.6366992, 19.6862146 42.635872, 19.6851352 42.6351936, 19.6846294 42.6341427, 19.6843982 42.6335345, 19.6837546 42.6327952, 19.683703 42.6313039, 19.6830346 42.6306432, 19.6822117 42.630198, 19.6815873 42.6296644, 19.6806989 42.6288569, 19.6798571 42.6282568, 19.6794552 42.6280785, 19.6782312 42.6277734, 19.6772538 42.6277146, 19.6754492 42.6279249, 19.6743651 42.6280919, 19.6733579 42.6282548, 19.6722779 42.6285459, 19.6718827 42.6296205, 19.6714378 42.6297323, 19.6704776 42.6299218, 19.6696536 42.6300165, 19.6687631 42.6300275, 19.6680056 42.6305035, 19.6671541 42.6313195, 19.6669019 42.6311988, 19.6667214 42.630378, 19.6655895 42.6297584, 19.6647645 42.629426, 19.6639555 42.6291497, 19.6631781 42.6288329, 19.6628165 42.6286297, 19.6626424 42.6285391, 19.6620796 42.6282463, 19.6613959 42.6271682, 19.6604582 42.6263015, 19.6597415 42.6254718, 19.6587756 42.6242188, 19.6570973 42.6223616, 19.6563288 42.621506, 19.655049 42.620036, 19.6537754 42.6186188, 19.6520477 42.6167084, 19.6513096 42.6158078, 19.6494036 42.6136853, 19.6493282 42.6136111, 19.6478404 42.6121465, 19.6475137 42.6118021, 19.6473446 42.6116238, 19.646692 42.6111009, 19.6458533 42.6102812, 19.6442578 42.6086994, 19.6438594 42.608165, 19.6423259 42.6066114, 19.6409418 42.6053605, 19.6394204 42.6036867, 19.6385373 42.602839, 19.6382436 42.6025203, 19.6368901 42.6009678, 19.6357951 42.6001205, 19.6348926 42.5993774, 19.6342008 42.5987843, 19.633473 42.5981832, 19.632633 42.5975917, 19.6305372 42.5958932, 19.6292842 42.5949384, 19.6272654 42.5933027, 19.6276358 42.5930018, 19.6274359 42.5926215, 19.6263245 42.5914083, 19.6256517 42.5906983, 19.6252885 42.5904186, 19.6246855 42.5898089, 19.6239893 42.5891402, 19.6235151 42.5885196, 19.6233503 42.5883519, 19.6229032 42.5878968, 19.621703 42.5867796, 19.6195939 42.5853322, 19.6182507 42.5838265, 19.6174085 42.582847, 19.6157026 42.5808618, 19.6148851 42.5801081, 19.6132306 42.5786609, 19.6120902 42.577513, 19.6109176 42.5763856, 19.6099734 42.5755061, 19.6098758 42.5748458, 19.6100109 42.5737278, 19.6101965 42.5731866, 19.6109529 42.5720022, 19.6119207 42.5701336, 19.611969 42.5690496, 19.6115636 42.5678223, 19.6113877 42.5669909, 19.6107158 42.5655531, 19.6097639 42.5638651, 19.6097742 42.5634028, 19.6099288 42.5622724, 19.6102747 42.5614664, 19.6108523 42.5607398, 19.6119743 42.5598124, 19.6123214 42.5587641, 19.6125917 42.5574649, 19.6132184 42.555495, 19.6137799 42.5535402, 19.6145511 42.5521115, 19.6142312 42.5506666, 19.6143913 42.5495579, 19.6152999 42.5480913, 19.6160262 42.5469883, 19.6158754 42.5463567, 19.6156766 42.5455819, 19.6155761 42.5445552, 19.6159816 42.5433109, 19.6172016 42.5428374, 19.6155333 42.5421435, 19.6147888 42.5408889, 19.6129717 42.5397875, 19.6121465 42.5395786, 19.6113045 42.5395175, 19.6095399 42.5393488, 19.6055491 42.5381064, 19.6049094 42.5348801, 19.603563 42.5330845, 19.6023258 42.5313628, 19.6020761 42.5308332, 19.5975756 42.5291398, 19.5957778 42.5281868, 19.5930811 42.527165, 19.5914807 42.5265549, 19.5618449 42.5139779, 19.5628298 42.5013992, 19.5621354 42.5001761, 19.5617427 42.4991237, 19.5608436 42.4982184, 19.5602372 42.4972172, 19.5596152 42.4961585, 19.5586675 42.4948516, 19.5574423 42.4933648, 19.5562207 42.4916799, 19.5559295 42.4908588, 19.5549752 42.4895598, 19.5538714 42.4882686, 19.5526999 42.4870706, 19.552344 42.4868566, 19.5515706 42.4868659, 19.5507135 42.4868826, 19.5502554 42.4866268, 19.5499391 42.4860367, 19.5493369 42.4850404, 19.5492108 42.4847434, 19.5489604 42.4842656, 19.548748 42.4837689, 19.5482401 42.4828078, 19.5475065 42.4814965, 19.5467746 42.4801402, 19.5460751 42.4793809, 19.5450112 42.4784625, 19.5440393 42.4775318, 19.5432259 42.4767365, 19.5425129 42.4760771, 19.541561 42.4751692, 19.5409813 42.4744252, 19.5408147 42.4736203, 19.5402117 42.4728795, 19.5391025 42.4712409, 19.5388387 42.4707872, 19.5387623 42.4701443, 19.5383195 42.4696467, 19.5382684 42.4686686, 19.5388106 42.4678917, 19.5385091 42.4667944, 19.5383413 42.4659153, 19.5377879 42.465158, 19.5343149 42.4638264, 19.5340014 42.4632859, 19.5334833 42.462123, 19.5328484 42.4606292, 19.5321752 42.4596682, 19.5311206 42.4584928, 19.5301786 42.4578001, 19.5281455 42.4566122, 19.526421 42.4554471, 19.5249275 42.4543232, 19.5236333 42.4534875, 19.5224121 42.4523503, 19.5211775 42.4511725, 19.5206939 42.4498393, 19.5206259 42.4489794, 19.5204509 42.4481406, 19.5205137 42.4473016, 19.5203937 42.4464416, 19.5204164 42.4458473, 19.5203202 42.4454538, 19.5203224 42.4448961, 19.5201847 42.4444525, 19.5198883 42.4438914, 19.519595 42.4427364, 19.5190091 42.4422602, 19.5180423 42.4417525, 19.5163831 42.4411215, 19.5151296 42.4407624, 19.5135662 42.4404374, 19.5123131 42.4400592, 19.5112643 42.4397599, 19.5095731 42.4393951, 19.508653 42.4390974, 19.5073824 42.4383761, 19.5063824 42.4381916, 19.5049317 42.4379713, 19.5037316 42.4375366, 19.5033527 42.4372269, 19.503359 42.4369603, 19.5035004 42.4364288, 19.5037986 42.4358042, 19.50379 42.4350802, 19.5036514 42.4344118, 19.5030201 42.4337221, 19.5022099 42.4331401, 19.5011635 42.4327455, 19.5004417 42.4327741, 19.4997669 42.4329939, 19.4995876 42.4329534, 19.4992621 42.4325682, 19.4989649 42.4320691, 19.49852 42.4316829, 19.4965817 42.4306712, 19.4973409 42.4276301, 19.4976928 42.4255545, 19.4978693 42.4237622, 19.4970361 42.4235271, 19.4961187 42.4232933, 19.4958365 42.4232802, 19.4954226 42.423421, 19.4948345 42.4236181, 19.4940457 42.4239446, 19.4936647 42.4233594, 19.4932659 42.4229221, 19.4893478 42.4161524, 19.4884299 42.4140835, 19.4875932 42.4121588, 19.4873101 42.4108171, 19.4865443 42.4101257, 19.4856395 42.4092892, 19.4846777 42.408203, 19.4836318 42.4071156, 19.4827056 42.4062943, 19.4818286 42.4057104, 19.4805007 42.4049927, 19.4794268 42.4042006, 19.4788546 42.403524, 19.4786039 42.4025872, 19.478153 42.4012432, 19.4778551 42.4003084, 19.4773626 42.3989483, 19.4769574 42.3983206, 19.4761572 42.3975165, 19.4759602 42.3969694, 19.4757457 42.396282, 19.475528 42.3955656, 19.4752853 42.3951734, 19.4748899 42.3950126, 19.4736605 42.3945761, 19.4731007 42.3942575, 19.4729023 42.3937726, 19.4723567 42.3920072, 19.4719017 42.3917056, 19.4699821 42.3911354, 19.4693501 42.3908502, 19.4686033 42.3904512, 19.4684458 42.3900135, 19.4682261 42.3895438, 19.4678517 42.3893832, 19.4667593 42.3893686, 19.4658346 42.3893718, 19.4644789 42.3889491, 19.4631225 42.3885576, 19.4618349 42.3879335, 19.4602982 42.3871817, 19.4595384 42.3867711, 19.4579587 42.3860653, 19.4550246 42.38489, 19.4542756 42.3845843, 19.4536099 42.3843108, 19.4533574 42.384323, 19.4520871 42.3847104, 19.4507798 42.384895, 19.4500718 42.3848679, 19.4496513 42.3848777, 19.4483642 42.3850937, 19.4475209 42.3852067, 19.4468735 42.3850424, 19.4453978 42.3843845, 19.4434871 42.3834717, 19.4417361 42.3829034, 19.4409865 42.3826287, 19.4402827 42.3821991, 19.4395541 42.3819247, 19.4383109 42.381479, 19.4368567 42.3808057, 19.4356998 42.380012, 19.434155 42.3787618, 19.4327526 42.3777003, 19.4319072 42.3767121, 19.4304986 42.3750592, 19.4292602 42.374171, 19.4282828 42.3737687, 19.4271152 42.3734104, 19.4266613 42.3730774, 19.4261431 42.3725145, 19.4252797 42.3717558, 19.4252027 42.3714747, 19.4254652 42.3710583, 19.4254298 42.3707933, 19.4251754 42.370043, 19.424554 42.368852, 19.4242238 42.3686141, 19.4233673 42.3681862, 19.4226887 42.3676012, 19.4224336 42.366882, 19.4224257 42.3662793, 19.4224628 42.3658899, 19.4224045 42.3655583, 19.422198 42.3647194, 19.4222489 42.3643491, 19.4226041 42.3628543, 19.4230361 42.3615362, 19.4235971 42.3604314, 19.424266 42.3593987, 19.4242019 42.358931, 19.4235683 42.3574147, 19.4231478 42.3564706, 19.4227059 42.3558487, 19.4221699 42.3553607, 19.4210712 42.3546872, 19.420183 42.3543207, 19.4185764 42.3534133, 19.4165101 42.35251, 19.4137735 42.3511173, 19.4136129 42.3509127, 19.4136044 42.3504181, 19.4138218 42.3494685, 19.4147795 42.3450965, 19.4151245 42.3432175, 19.4157531 42.3398608, 19.415974 42.338117, 19.416615 42.3348466, 19.4172703 42.3328964, 19.4179463 42.332107, 19.4194775 42.3304112, 19.4197487 42.3301253, 19.4198088 42.3300595, 19.4199765 42.3298529, 19.4220475 42.3273086, 19.3840704 42.2934579, 19.3844926 42.282923, 19.3733166 42.2717818, 19.3727266 42.271182, 19.3721045 42.2705826, 19.3716144 42.2700549, 19.3698327 42.2681564, 19.3663691 42.2644633, 19.363671 42.2615822, 19.3629903 42.2608523, 19.3622452 42.2600192, 19.359117 42.2565186, 19.358339 42.2556308, 19.3492029 42.2404276, 19.3284416 42.2222312, 19.2808461 42.1804052, 19.3348946 42.1463095, 19.4024196 42.103624, 19.3941622 42.0921908, 19.3860281 42.0810621, 19.3849298 42.0786509, 19.3809488 42.0751584, 19.3782734 42.0725549, 19.3791608 42.0674015, 19.3785122 42.0645474, 19.3780796 42.0630595, 19.3774354 42.061617, 19.3767731 42.0599821, 19.3777496 42.0560125, 19.3782537 42.0539921, 19.3784669 42.0533001, 19.3795456 42.0522991, 19.379592 42.0520094, 19.3794027 42.0517703, 19.3789873 42.0512459, 19.377012 42.0491564, 19.3763891 42.0475796, 19.3754137 42.0460559, 19.3745544 42.0461018, 19.3743861 42.0450542, 19.373864 42.0441176, 19.3735303 42.0426835, 19.3730723 42.0417397, 19.372545 42.0408897, 19.3721091 42.0402638, 19.3718926 42.0394285, 19.3705268 42.0370251, 19.3702637 42.0361537, 19.3702499 42.035764, 19.37028 42.0355165, 19.3711432 42.034307, 19.3714138 42.0339567, 19.3718566 42.0333787, 19.3719173 42.0328661, 19.3717307 42.0327218, 19.3709083 42.0323276, 19.3702634 42.031504, 19.3698702 42.0310734, 19.3699677 42.0300478, 19.3698068 42.0298331, 19.3692713 42.0293828, 19.3691665 42.0288324, 19.3693155 42.0285866, 19.369682 42.0282023, 19.3697399 42.0277958, 19.3697545 42.0263662, 19.3698188 42.025712, 19.3696866 42.0253029, 19.3694735 42.024758, 19.3694675 42.0245738, 19.369694 42.0240812, 19.3725882 42.023414, 19.3728784 42.0232234, 19.3732242 42.0227148, 19.3732642 42.0220808, 19.3728621 42.0210658, 19.3717818 42.020537, 19.3715774 42.0201623, 19.3714126 42.0191684, 19.3718631 42.017351, 19.3718442 42.0171074, 19.371714 42.015689, 19.3717164 42.014662, 19.3711843 42.0140879, 19.3713601 42.0137185, 19.3719961 42.0130193, 19.3726655 42.0119347, 19.3731133 42.0102235, 19.3730739 42.0099042, 19.3729937 42.0093188, 19.3732005 42.0086666, 19.3733096 42.0081192, 19.373285 42.0072158, 19.3735308 42.0065826, 19.3739376 42.0055711, 19.3740133 42.0047539, 19.3744599 42.0044738, 19.3749551 42.0044399, 19.3756065 42.0041969, 19.3763963 42.0037112, 19.3775391 42.0031752, 19.3784748 42.0027744, 19.3793906 42.0024284, 19.3799936 42.0020091, 19.3801601 42.0017107, 19.3801938 42.0014657, 19.3801275 42.0008306, 19.3799509 42.0002143, 19.3799572 41.9999689, 19.379624 41.9994829, 19.3795087 41.9991607, 19.3790372 41.9985179, 19.3789698 41.9979717, 19.3790151 41.9976883, 19.3790422 41.9975183, 19.3792703 41.9973398, 19.3795141 41.9973432, 19.3797372 41.9973615, 19.3802198 41.9975653, 19.3807094 41.9974964, 19.381412 41.9970368, 19.3820959 41.9965163, 19.3824843 41.9962281, 19.3825394 41.9958562, 19.3823685 41.9953842, 19.3811071 41.9907277, 19.3809596 41.9893321, 19.3809639 41.9883628, 19.3809769 41.9878481, 19.3811716 41.9873813, 19.3815535 41.9866918, 19.3817498 41.9861645, 19.3817992 41.9858168, 19.3818257 41.9855748, 19.3816179 41.9849509, 19.3813251 41.9844772, 19.3774739 41.9798451, 19.376906 41.979004, 19.3767929 41.9785439, 19.3765428 41.9781052, 19.3762809 41.9764203, 19.3761813 41.9755404, 19.376237 41.9749505, 19.3763711 41.9745025, 19.3766248 41.9741123, 19.3769778 41.9738144, 19.3778051 41.9733897, 19.3783815 41.973187, 19.384051 41.9701457, 19.386507 41.9686202, 19.3875239 41.9677711, 19.3882086 41.9672052, 19.3885422 41.9668615, 19.3886284 41.9666658, 19.3886361 41.966363, 19.3882114 41.9657376, 19.3878976 41.965294, 19.3860772 41.9633751, 19.3845708 41.962272, 19.3825602 41.9614561, 19.3802063 41.9613623, 19.3787838 41.9613877, 19.376463 41.9610976, 19.3747873 41.9609279, 19.3735321 41.9607691, 19.3706288 41.9605284, 19.3701335 41.9604603, 19.3688243 41.9603928, 19.3660722 41.9603537, 19.363689 41.9604176, 19.3618552 41.9603588, 19.3589746 41.9602198, 19.3565615 41.9597451, 19.3550132 41.9593316, 19.3537113 41.9587458, 19.3524027 41.9578544, 19.3519624 41.9572247, 19.3513547 41.9562214, 19.3512707 41.9558514, 19.3509948 41.954608, 19.3515638 41.953192, 19.3517167 41.9514987, 19.3514878 41.9502074, 19.3511506 41.948882, 19.3507655 41.9477189, 19.3505496 41.946727, 19.3501972 41.9451708, 19.3501829 41.9442048, 19.3502591 41.9436194, 19.35043 41.942073, 19.3509805 41.9410538, 19.3518737 41.9394526, 19.3526761 41.9388283, 19.3540138 41.9377714, 19.3556176 41.9365554, 19.3566622 41.935853, 19.3572086 41.9355551, 19.3599124 41.934189, 19.3602162 41.9339851, 19.3617431 41.933208, 19.3635378 41.9322065, 19.3653987 41.9311733, 19.3671701 41.9302203, 19.368392 41.9294062, 19.3689477 41.928915, 19.3692634 41.928636, 19.3698598 41.9280818, 19.3707569 41.9265867, 19.3711233 41.9259782, 19.3715445 41.9248428, 19.3716963 41.9240737, 19.3716621 41.9233928, 19.3713203 41.9226972, 19.3707533 41.9216891, 19.3700015 41.9206805, 19.3693948 41.9202439, 19.368172 41.9193789, 19.3665261 41.9185141, 19.3634961 41.9173473, 19.3580259 41.9163292, 19.3573844 41.9160103, 19.3569264 41.9159615, 19.3560399 41.9158142, 19.3512905 41.9146052, 19.3467811 41.9135555, 19.3443081 41.9119703, 19.3438977 41.9116778, 19.3429649 41.9103018, 19.3426649 41.9097104, 19.3421739 41.9086215, 19.34175 41.9077531, 19.3424318 41.9056199, 19.3428538 41.9049021, 19.3433799 41.9044911, 19.3452227 41.9035085, 19.3480182 41.9020774, 19.3510224 41.9009135, 19.356834 41.8999264, 19.3593208 41.8995862, 19.3645663 41.8985261, 19.3653159 41.8981323, 19.3673083 41.8952282, 19.3684601 41.890901, 19.3685115 41.8889805, 19.3696797 41.8878779, 19.3711374 41.8876019, 19.3724843 41.8873196, 19.3735337 41.8871564, 19.374561 41.8872132, 19.3751572 41.8872479, 19.3787016 41.8870368, 19.3801757 41.8866605, 19.3815529 41.8852294, 19.3814753 41.8844608, 19.3814341 41.8836275, 19.3798372 41.8819968, 19.3793356 41.8814639, 19.3788963 41.8811366, 19.3771697 41.8788314, 19.3757352 41.8770542, 19.3746774 41.8757416, 19.3748073 41.874593, 19.3744077 41.873624, 19.374279 41.8719055, 19.3741651 41.8701408, 19.3744915 41.867522, 19.3749125 41.8642662, 19.3744478 41.8616936, 19.373588 41.8605635, 19.3729152 41.8597881, 19.372075 41.8572277, 19.3723433 41.8560595, 19.3728073 41.8550748, 19.3729305 41.8531965, 19.3727067 41.851783, 19.3727463 41.8509, 19.3728644 41.8482871, 19.372955 41.8443657))\nFilling geometry with H3 cells using h3.polyfill at resolution h3_res_5...\nError during h3.polyfill for AL: module 'h3' has no attribute 'polyfill'\nFetched 0 hex cells for Albania.\nMap centered on Albania: Lat=48.0000, Lon=9.0000\nNo data to visualize.\nNo visualization generated for Albania.\n--- Finished update for: Albania ---\n"
        }
       ]
      }
     },
     "201aa50a9ec64ca4a297d986d7604945": {
      "model_module": "@jupyter-widgets/base",
      "model_module_version": "2.0.0",
      "model_name": "LayoutModel",
      "state": {
       "margin": "20 20 auto 20 20",
       "width": "70%"
      }
     },
     "20ebb3cd379545398ba8c82dffb51137": {
      "model_module": "@jupyter-widgets/controls",
      "model_module_version": "2.0.0",
      "model_name": "ButtonModel",
      "state": {
       "button_style": "success",
       "description": "Render Map",
       "layout": "IPY_MODEL_61d382fc80dc4968a8eb538de7dc46be",
       "style": "IPY_MODEL_ee9af5b2ef9b4524934306e4903aec93",
       "tooltip": null
      }
     },
     "2281b1056f62442f933f02a819d1c727": {
      "model_module": "@jupyter-widgets/controls",
      "model_module_version": "2.0.0",
      "model_name": "CheckboxModel",
      "state": {
       "description": "Force Download",
       "disabled": false,
       "layout": "IPY_MODEL_7641ec3e7ab34133abc00eab38091618",
       "style": "IPY_MODEL_c5327c9e60b5435c8c29633989ba578c",
       "tooltip": "If checked, download will be forced even if files exist locally",
       "value": false
      }
     },
     "260254263ce7429484d8d5492b09dca0": {
      "model_module": "@jupyter-widgets/output",
      "model_module_version": "1.0.0",
      "model_name": "OutputModel",
      "state": {
       "layout": "IPY_MODEL_9c7706c329484784a2cd194eae025746"
      }
     },
     "26e2d9bf6692479895274375d423cb65": {
      "model_module": "@jupyter-widgets/base",
      "model_module_version": "2.0.0",
      "model_name": "LayoutModel",
      "state": {}
     },
     "2b0c5388281a4f1aa856009c4cc1ee14": {
      "model_module": "@jupyter-widgets/base",
      "model_module_version": "2.0.0",
      "model_name": "LayoutModel",
      "state": {
       "margin": "20 20 auto 20 20",
       "width": "70%"
      }
     },
     "2b253ac2c9ba4d6092bff221b8f19e52": {
      "model_module": "@jupyter-widgets/controls",
      "model_module_version": "2.0.0",
      "model_name": "HTMLModel",
      "state": {
       "layout": "IPY_MODEL_f4a6e4a600b74545a3071e3e20fee64a",
       "style": "IPY_MODEL_8357b89c48264c6588fff73c353e45f5",
       "value": "\n    <style>\n    .dataset-table {\n        border-collapse: collapse;\n        width: 30%;\n        margin: 20px auto;\n        font-family: Arial, sans-serif;\n    }\n    .dataset-table th, .dataset-table td {\n        border: 1px solid #ddd;\n        padding: 8px;\n        text-align: left;\n    }\n    .dataset-table th {\n        background-color: #f2f2f2;\n        font-weight: bold;\n    }\n    </style>\n    <table class=\"dataset-table\">\n        <tr><th>Metadata</th><th>Value</th></tr>\n        <tr><td>DOI/URL</td><td>10.5281/zenodo.4059881</td></tr>\n        <tr><td>Repository</td><td>zenodo</td></tr>\n        <tr><td>Compression</td><td>None</td></tr>\n        <tr><td>Label Format</td><td>geojson</td></tr>\n        <tr><td>Has Images</td><td>False</td></tr>\n        <tr><td>Label Count</td><td>265418</td></tr>\n    </table>\n    "
      }
     },
     "2ce1175b3e774e75a85a91c1ef6cbf9f": {
      "model_module": "@jupyter-widgets/base",
      "model_module_version": "2.0.0",
      "model_name": "LayoutModel",
      "state": {}
     },
     "2f328420095946df9644e4ed67c41242": {
      "model_module": "@jupyter-widgets/controls",
      "model_module_version": "2.0.0",
      "model_name": "ButtonModel",
      "state": {
       "button_style": "success",
       "description": "Render Map",
       "layout": "IPY_MODEL_87f7315244cf4cfb9df7e78ecd0cc8ea",
       "style": "IPY_MODEL_c85c44990f3949b6ae89454944fbb911",
       "tooltip": null
      }
     },
     "2f40268481aa462b84685bb3f6d38559": {
      "model_module": "@jupyter-widgets/output",
      "model_module_version": "1.0.0",
      "model_name": "OutputModel",
      "state": {
       "layout": "IPY_MODEL_cc4f639db2724c6b9e9daf3925031c72",
       "outputs": [
        {
         "name": "stdout",
         "output_type": "stream",
         "text": "Dataset ind_pv_solar_farms_2022 has 1285 geometries and 10 columns.\n"
        },
        {
         "data": {
          "text/html": "<div>\n<style scoped>\n    .dataframe tbody tr th:only-of-type {\n        vertical-align: middle;\n    }\n\n    .dataframe tbody tr th {\n        vertical-align: top;\n    }\n\n    .dataframe thead th {\n        text-align: right;\n    }\n</style>\n<table border=\"1\" class=\"dataframe\">\n  <thead>\n    <tr style=\"text-align: right;\">\n      <th></th>\n      <th>Area</th>\n      <th>Latitude</th>\n      <th>Longitude</th>\n      <th>fid</th>\n      <th>area_m2</th>\n      <th>centroid_lon</th>\n      <th>centroid_lat</th>\n    </tr>\n  </thead>\n  <tbody>\n    <tr>\n      <th>count</th>\n      <td>1.285000e+03</td>\n      <td>1285.000000</td>\n      <td>1285.000000</td>\n      <td>1285.000000</td>\n      <td>1.285000e+03</td>\n      <td>1.285000e+03</td>\n      <td>1.285000e+03</td>\n    </tr>\n    <tr>\n      <th>mean</th>\n      <td>8.499965e+05</td>\n      <td>18.544576</td>\n      <td>77.210345</td>\n      <td>713.745525</td>\n      <td>2.354296e+05</td>\n      <td>8.594837e+06</td>\n      <td>2.112882e+06</td>\n    </tr>\n    <tr>\n      <th>std</th>\n      <td>1.908736e+06</td>\n      <td>5.722106</td>\n      <td>2.792198</td>\n      <td>426.892108</td>\n      <td>1.260193e+06</td>\n      <td>3.105883e+05</td>\n      <td>6.805262e+05</td>\n    </tr>\n    <tr>\n      <th>min</th>\n      <td>8.135934e+02</td>\n      <td>8.535580</td>\n      <td>69.025734</td>\n      <td>1.000000</td>\n      <td>3.820240e+02</td>\n      <td>7.683906e+06</td>\n      <td>9.536845e+05</td>\n    </tr>\n    <tr>\n      <th>25%</th>\n      <td>1.190131e+05</td>\n      <td>14.169228</td>\n      <td>75.875751</td>\n      <td>355.000000</td>\n      <td>2.428915e+04</td>\n      <td>8.446456e+06</td>\n      <td>1.593633e+06</td>\n    </tr>\n    <tr>\n      <th>50%</th>\n      <td>3.053947e+05</td>\n      <td>17.556943</td>\n      <td>77.392034</td>\n      <td>706.000000</td>\n      <td>6.929333e+04</td>\n      <td>8.615243e+06</td>\n      <td>1.985677e+06</td>\n    </tr>\n    <tr>\n      <th>75%</th>\n      <td>7.659148e+05</td>\n      <td>23.038854</td>\n      <td>78.350397</td>\n      <td>1063.000000</td>\n      <td>2.181776e+05</td>\n      <td>8.721718e+06</td>\n      <td>2.636691e+06</td>\n    </tr>\n    <tr>\n      <th>max</th>\n      <td>3.074492e+07</td>\n      <td>31.962736</td>\n      <td>91.276737</td>\n      <td>4421.000000</td>\n      <td>3.424121e+07</td>\n      <td>1.016088e+07</td>\n      <td>3.758313e+06</td>\n    </tr>\n  </tbody>\n</table>\n</div>",
          "text/plain": "               Area     Latitude    Longitude          fid       area_m2  \\\ncount  1.285000e+03  1285.000000  1285.000000  1285.000000  1.285000e+03   \nmean   8.499965e+05    18.544576    77.210345   713.745525  2.354296e+05   \nstd    1.908736e+06     5.722106     2.792198   426.892108  1.260193e+06   \nmin    8.135934e+02     8.535580    69.025734     1.000000  3.820240e+02   \n25%    1.190131e+05    14.169228    75.875751   355.000000  2.428915e+04   \n50%    3.053947e+05    17.556943    77.392034   706.000000  6.929333e+04   \n75%    7.659148e+05    23.038854    78.350397  1063.000000  2.181776e+05   \nmax    3.074492e+07    31.962736    91.276737  4421.000000  3.424121e+07   \n\n       centroid_lon  centroid_lat  \ncount  1.285000e+03  1.285000e+03  \nmean   8.594837e+06  2.112882e+06  \nstd    3.105883e+05  6.805262e+05  \nmin    7.683906e+06  9.536845e+05  \n25%    8.446456e+06  1.593633e+06  \n50%    8.615243e+06  1.985677e+06  \n75%    8.721718e+06  2.636691e+06  \nmax    1.016088e+07  3.758313e+06  "
         },
         "metadata": {},
         "output_type": "display_data"
        },
        {
         "name": "stdout",
         "output_type": "stream",
         "text": "Unique geometry types in the dataset: ['MultiPolygon']\nCount of Point geometries: 0\nCount of Polygon geometries: 0\nCount of MultiPoint geometries: 0\nCount of MultiPolygon geometries: 1285\nSee data samples below:\n"
        },
        {
         "data": {
          "text/html": "<div>\n<style scoped>\n    .dataframe tbody tr th:only-of-type {\n        vertical-align: middle;\n    }\n\n    .dataframe tbody tr th {\n        vertical-align: top;\n    }\n\n    .dataframe thead th {\n        text-align: right;\n    }\n</style>\n<table border=\"1\" class=\"dataframe\">\n  <thead>\n    <tr style=\"text-align: right;\">\n      <th></th>\n      <th>State</th>\n      <th>Area</th>\n      <th>Latitude</th>\n      <th>Longitude</th>\n      <th>fid</th>\n      <th>geometry</th>\n      <th>dataset</th>\n      <th>area_m2</th>\n      <th>centroid_lon</th>\n      <th>centroid_lat</th>\n    </tr>\n  </thead>\n  <tbody>\n    <tr>\n      <th>294</th>\n      <td>Rajasthan</td>\n      <td>7.333760e+04</td>\n      <td>28.021158</td>\n      <td>73.061875</td>\n      <td>992</td>\n      <td>MULTIPOLYGON (((73.07035 28.01621, 73.07061 28...</td>\n      <td>ind_pv_solar_farms_2022</td>\n      <td>1.328173e+06</td>\n      <td>8.133742e+06</td>\n      <td>3.251772e+06</td>\n    </tr>\n    <tr>\n      <th>744</th>\n      <td>Telangana</td>\n      <td>1.331974e+05</td>\n      <td>18.238406</td>\n      <td>78.338888</td>\n      <td>47</td>\n      <td>MULTIPOLYGON (((78.33859 18.23887, 78.33947 18...</td>\n      <td>ind_pv_solar_farms_2022</td>\n      <td>1.119125e+04</td>\n      <td>8.720655e+06</td>\n      <td>2.065472e+06</td>\n    </tr>\n    <tr>\n      <th>369</th>\n      <td>Rajasthan</td>\n      <td>1.029384e+06</td>\n      <td>27.389172</td>\n      <td>72.312985</td>\n      <td>1034</td>\n      <td>MULTIPOLYGON (((72.31128 27.38665, 72.30869 27...</td>\n      <td>ind_pv_solar_farms_2022</td>\n      <td>3.171803e+05</td>\n      <td>8.049865e+06</td>\n      <td>3.172108e+06</td>\n    </tr>\n  </tbody>\n</table>\n</div>",
          "text/plain": "         State          Area   Latitude  Longitude   fid  \\\n294  Rajasthan  7.333760e+04  28.021158  73.061875   992   \n744  Telangana  1.331974e+05  18.238406  78.338888    47   \n369  Rajasthan  1.029384e+06  27.389172  72.312985  1034   \n\n                                              geometry  \\\n294  MULTIPOLYGON (((73.07035 28.01621, 73.07061 28...   \n744  MULTIPOLYGON (((78.33859 18.23887, 78.33947 18...   \n369  MULTIPOLYGON (((72.31128 27.38665, 72.30869 27...   \n\n                     dataset       area_m2  centroid_lon  centroid_lat  \n294  ind_pv_solar_farms_2022  1.328173e+06  8.133742e+06  3.251772e+06  \n744  ind_pv_solar_farms_2022  1.119125e+04  8.720655e+06  2.065472e+06  \n369  ind_pv_solar_farms_2022  3.171803e+05  8.049865e+06  3.172108e+06  "
         },
         "metadata": {},
         "output_type": "display_data"
        }
       ]
      }
     },
     "2fae9513bd95421490480b737d23c936": {
      "model_module": "@jupyter-widgets/controls",
      "model_module_version": "2.0.0",
      "model_name": "DescriptionStyleModel",
      "state": {
       "description_width": ""
      }
     },
     "2fbb9303216b4b06991a7f8358317e71": {
      "model_module": "@jupyter-widgets/base",
      "model_module_version": "2.0.0",
      "model_name": "LayoutModel",
      "state": {}
     },
     "304d03d4c0014878b373f8e0890d4345": {
      "model_module": "@jupyter-widgets/base",
      "model_module_version": "2.0.0",
      "model_name": "LayoutModel",
      "state": {}
     },
     "31650134ea234f9da0938837ed4405ec": {
      "model_module": "@jupyter-widgets/controls",
      "model_module_version": "2.0.0",
      "model_name": "DropdownModel",
      "state": {
       "_options_labels": [
        "Albania",
        "Austria",
        "Belarus",
        "Belgium",
        "Bosnia and Herzegovina",
        "Bulgaria",
        "Croatia",
        "Czechia",
        "Denmark",
        "Estonia",
        "Finland",
        "France",
        "Germany",
        "Greece",
        "Guernsey",
        "Hungary",
        "Ireland",
        "Italy",
        "Liechtenstein",
        "Lithuania",
        "Luxembourg",
        "Netherlands",
        "North Macedonia",
        "Norway",
        "Poland",
        "Portugal",
        "Romania",
        "Russian Federation",
        "San Marino",
        "Serbia",
        "Slovakia",
        "Slovenia",
        "Spain",
        "Sweden",
        "Switzerland",
        "Türkiye",
        "Ukraine",
        "United Kingdom",
        "XK"
       ],
       "description": "Country:",
       "index": 0,
       "layout": "IPY_MODEL_964355fc07c84c0c8878fcc2269c303a",
       "style": "IPY_MODEL_b2f0cbc905af483dae80268c976649f9"
      }
     },
     "320464ccd66d49eb827a5e71a3fac648": {
      "model_module": "@jupyter-widgets/controls",
      "model_module_version": "2.0.0",
      "model_name": "VBoxModel",
      "state": {
       "_dom_classes": [
        "widget-interact"
       ],
       "children": [
        "IPY_MODEL_9b90206f378a418eaebf868d6f45051d",
        "IPY_MODEL_45892611c6ed448892c8448fa30f8d0c"
       ],
       "layout": "IPY_MODEL_8aed0c2b3af24ae6a7d8ed2c0e83d265"
      }
     },
     "327378248c8c49efb80bbf452268e57b": {
      "model_module": "@jupyter-widgets/controls",
      "model_module_version": "2.0.0",
      "model_name": "HTMLModel",
      "state": {
       "layout": "IPY_MODEL_e87f7646955146cc9ec32ee8604e4052",
       "style": "IPY_MODEL_043b21b3ce3a45819d7bd7e4be739136",
       "value": "\n    <div style=\"color: #d9534f; font-size: 1.5em; font-weight: bold; text-align: center; \n               padding: 20px; border: 2px solid #d9534f; border-radius: 10px; background-color: #f9f2f4;\">\n    ⚠️ WARNING: This will permanently delete the Overture Maps Divisions table (~6.4GB) from the database and will need to be re-downloaded.<br>\n    Only do this if you're SURE you no longer need direct access to the division geometries.\n    </div>\n    "
      }
     },
     "32e6ee58ccdf48f8b564d0e4e0cf9a9a": {
      "model_module": "@jupyter-widgets/controls",
      "model_module_version": "2.0.0",
      "model_name": "VBoxModel",
      "state": {
       "_dom_classes": [
        "widget-interact"
       ],
       "children": [
        "IPY_MODEL_d48b01ed598b40e19bee82c6f3e7a94f",
        "IPY_MODEL_a7ccb1baf1ef4599ac0d760f552050fe"
       ],
       "layout": "IPY_MODEL_bcbdb361f7874d41993d11b51087ece0"
      }
     },
     "33622228605a41989dfe640553b8efdb": {
      "model_module": "@jupyter-widgets/base",
      "model_module_version": "2.0.0",
      "model_name": "LayoutModel",
      "state": {
       "margin": "10px 0"
      }
     },
     "355723800ecf4269bf57c5b804f8b448": {
      "model_module": "@deck.gl/jupyter-widget",
      "model_module_version": "2.0.0",
      "model_name": "JupyterTransportModel",
      "state": {
       "_model_module": "@deck.gl/jupyter-widget",
       "_model_name": "JupyterTransportModel",
       "_view_name": "ErrorWidgetView",
       "carto_key": "",
       "configuration": null,
       "custom_libraries": null,
       "data_buffer": null,
       "error": {},
       "google_maps_key": "",
       "height": 500,
       "json_input": "",
       "layout": "IPY_MODEL_13e977d00f6e4f9b8249ba80abe4a91a",
       "mapbox_key": "",
       "msg": "Failed to load model class 'JupyterTransportModel' from module '@deck.gl/jupyter-widget'",
       "tooltip": true,
       "width": "100%"
      }
     },
     "35c81dc43864430593ba9e66b7dc375c": {
      "model_module": "@deck.gl/jupyter-widget",
      "model_module_version": "2.0.0",
      "model_name": "JupyterTransportModel",
      "state": {
       "_model_module": "@deck.gl/jupyter-widget",
       "_model_name": "JupyterTransportModel",
       "_view_name": "ErrorWidgetView",
       "carto_key": null,
       "configuration": null,
       "custom_libraries": [],
       "data_buffer": null,
       "error": {},
       "google_maps_key": null,
       "height": 500,
       "json_input": "",
       "layout": "IPY_MODEL_f9bbbcc71e7b4624a3418b2deb9c70a2",
       "mapbox_key": null,
       "msg": "Failed to load model class 'JupyterTransportModel' from module '@deck.gl/jupyter-widget'",
       "tooltip": false,
       "width": "100%"
      }
     },
     "3676ee05f34f4b29b3cdd66714f071ad": {
      "model_module": "@jupyter-widgets/output",
      "model_module_version": "1.0.0",
      "model_name": "OutputModel",
      "state": {
       "layout": "IPY_MODEL_b1a2f4d2f1d44cf2925fce467c2da740",
       "outputs": [
        {
         "data": {
          "application/vnd.jupyter.widget-view+json": {
           "model_id": "0d2622cca8a34e7c9b1757c00650e053",
           "version_major": 2,
           "version_minor": 0
          },
          "text/plain": "Button(button_style='success', description='Render Map', layout=Layout(width='auto'), style=ButtonStyle())"
         },
         "metadata": {},
         "output_type": "display_data"
        }
       ]
      }
     },
     "36f49f2af9b54a0c8e9b1d4a3adbb9d8": {
      "model_module": "@deck.gl/jupyter-widget",
      "model_module_version": "2.0.0",
      "model_name": "JupyterTransportModel",
      "state": {
       "_model_module": "@deck.gl/jupyter-widget",
       "_model_name": "JupyterTransportModel",
       "_view_name": "ErrorWidgetView",
       "carto_key": "",
       "configuration": null,
       "custom_libraries": null,
       "data_buffer": null,
       "error": {},
       "google_maps_key": "",
       "height": 500,
       "json_input": "",
       "layout": "IPY_MODEL_d16acb090f6841ca850a756e3d39187d",
       "mapbox_key": "",
       "msg": "Failed to load model class 'JupyterTransportModel' from module '@deck.gl/jupyter-widget'",
       "tooltip": true,
       "width": "100%"
      }
     },
     "37d3fdea3e194040bab426cd6e94aeba": {
      "model_module": "@jupyter-widgets/controls",
      "model_module_version": "2.0.0",
      "model_name": "DropdownModel",
      "state": {
       "_options_labels": [
        "Argentina",
        "Bolivia, Plurinational State of",
        "Chile",
        "Colombia",
        "Ecuador",
        "French Guiana",
        "Panama",
        "Peru",
        "Uruguay"
       ],
       "description": "Country:",
       "index": 0,
       "layout": "IPY_MODEL_f5a03655fb9243caaca5c3dede6cbae3",
       "style": "IPY_MODEL_bc2c486167d14113a33466449a8b166b"
      }
     },
     "38539e8318964e67995843fab8fd0caf": {
      "model_module": "@jupyter-widgets/output",
      "model_module_version": "1.0.0",
      "model_name": "OutputModel",
      "state": {
       "layout": "IPY_MODEL_0743e8feb6f844dbb0bbf9b4129fa7fc",
       "outputs": [
        {
         "data": {
          "application/vnd.jupyter.widget-view+json": {
           "model_id": "1df33aacfc34499e8dda2e3abf805750",
           "version_major": 2,
           "version_minor": 0
          },
          "text/plain": "Button(button_style='success', description='Render Map', layout=Layout(width='auto'), style=ButtonStyle())"
         },
         "metadata": {},
         "output_type": "display_data"
        }
       ]
      }
     },
     "3ddbd9efbdf94fd7add8c50f749a3773": {
      "model_module": "@jupyter-widgets/base",
      "model_module_version": "2.0.0",
      "model_name": "LayoutModel",
      "state": {
       "border_bottom": "1px solid #ddd",
       "border_left": "1px solid #ddd",
       "border_right": "1px solid #ddd",
       "border_top": "1px solid #ddd",
       "overflow": "auto",
       "padding": "10px",
       "width": "80%"
      }
     },
     "3de97753022a4aa7a4e15c3639b2533d": {
      "model_module": "@jupyter-widgets/controls",
      "model_module_version": "2.0.0",
      "model_name": "ButtonStyleModel",
      "state": {
       "font_family": null,
       "font_size": null,
       "font_style": null,
       "font_variant": null,
       "font_weight": null,
       "text_color": null,
       "text_decoration": null
      }
     },
     "4064c40b190c459087eae4855765eb96": {
      "model_module": "@jupyter-widgets/output",
      "model_module_version": "1.0.0",
      "model_name": "OutputModel",
      "state": {
       "layout": "IPY_MODEL_e47ab867f0964f20b02c6124b49547e3",
       "outputs": [
        {
         "name": "stdout",
         "output_type": "stream",
         "text": "Creating Pydeck scatterplot for 139072 features...\nUsing column 'area_m2' for point size (sqrt scaled).\n"
        }
       ]
      }
     },
     "43cc1c763e6b47d191d897f87fb4395b": {
      "model_module": "@jupyter-widgets/controls",
      "model_module_version": "2.0.0",
      "model_name": "ButtonStyleModel",
      "state": {
       "font_family": null,
       "font_size": null,
       "font_style": null,
       "font_variant": null,
       "font_weight": null,
       "text_color": null,
       "text_decoration": null
      }
     },
     "45892611c6ed448892c8448fa30f8d0c": {
      "model_module": "@jupyter-widgets/output",
      "model_module_version": "1.0.0",
      "model_name": "OutputModel",
      "state": {
       "layout": "IPY_MODEL_4a9ecfb4d0484431b6f1c4cb4d85e2aa",
       "outputs": [
        {
         "data": {
          "image/png": "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",
          "text/plain": "<Figure size 800x1200 with 2 Axes>"
         },
         "metadata": {},
         "output_type": "display_data"
        }
       ]
      }
     },
     "4734b91daa0441d3b1a0b6e8309ae2d5": {
      "model_module": "@jupyter-widgets/controls",
      "model_module_version": "2.0.0",
      "model_name": "DescriptionStyleModel",
      "state": {
       "description_width": ""
      }
     },
     "4a387efaa7f149b6a89046e453c79784": {
      "model_module": "@jupyter-widgets/controls",
      "model_module_version": "2.0.0",
      "model_name": "HTMLModel",
      "state": {
       "layout": "IPY_MODEL_7eb0a07a07d342ba9357339cefdd4c66",
       "style": "IPY_MODEL_0a94ad45f2954df69fade4ae90bd4ec1",
       "value": "\n    <style>\n    .dataset-table {\n        border-collapse: collapse;\n        width: 30%;\n        margin: 20px auto;\n        font-family: Arial, sans-serif;\n    }\n    .dataset-table th, .dataset-table td {\n        border: 1px solid #ddd;\n        padding: 8px;\n        text-align: left;\n    }\n    .dataset-table th {\n        background-color: #f2f2f2;\n        font-weight: bold;\n    }\n    </style>\n    <table class=\"dataset-table\">\n        <tr><th>Metadata</th><th>Value</th></tr>\n        <tr><td>DOI/URL</td><td>10.6084/m9.figshare.3385780.v4</td></tr>\n        <tr><td>Repository</td><td>figshare</td></tr>\n        <tr><td>Compression</td><td>None</td></tr>\n        <tr><td>Label Format</td><td>geojson</td></tr>\n        <tr><td>Has Images</td><td>False</td></tr>\n        <tr><td>Label Count</td><td>19433</td></tr>\n    </table>\n    "
      }
     },
     "4a9ecfb4d0484431b6f1c4cb4d85e2aa": {
      "model_module": "@jupyter-widgets/base",
      "model_module_version": "2.0.0",
      "model_name": "LayoutModel",
      "state": {}
     },
     "4db43e3385884db4b648365b753bcd3a": {
      "model_module": "@jupyter-widgets/base",
      "model_module_version": "2.0.0",
      "model_name": "LayoutModel",
      "state": {}
     },
     "4ee12ba037ef42648b4556c470414ae5": {
      "model_module": "@jupyter-widgets/output",
      "model_module_version": "1.0.0",
      "model_name": "OutputModel",
      "state": {
       "layout": "IPY_MODEL_642777c7648a487597b2411c623ec958"
      }
     },
     "5070c156208f43c484cad35022a74527": {
      "model_module": "@jupyter-widgets/controls",
      "model_module_version": "2.0.0",
      "model_name": "HBoxModel",
      "state": {
       "children": [
        "IPY_MODEL_52317e2356cb444c96651d7812976ede",
        "IPY_MODEL_f500161f33fd475faabfcfbb9765f5ab"
       ],
       "layout": "IPY_MODEL_dc5e2ed3350e46268291317cac398ba2"
      }
     },
     "511e993767d648c2a3ab8dbc23e2e126": {
      "model_module": "@deck.gl/jupyter-widget",
      "model_module_version": "2.0.0",
      "model_name": "JupyterTransportModel",
      "state": {
       "_model_module": "@deck.gl/jupyter-widget",
       "_model_name": "JupyterTransportModel",
       "_view_name": "ErrorWidgetView",
       "carto_key": "",
       "configuration": null,
       "custom_libraries": null,
       "data_buffer": null,
       "error": {},
       "google_maps_key": "",
       "height": 500,
       "json_input": "",
       "layout": "IPY_MODEL_c79f258eeaeb4043b0f2901b563736eb",
       "mapbox_key": "",
       "msg": "Failed to load model class 'JupyterTransportModel' from module '@deck.gl/jupyter-widget'",
       "tooltip": true,
       "width": "100%"
      }
     },
     "51c5e72ef9d7498a8dd5081156ca617e": {
      "model_module": "@jupyter-widgets/controls",
      "model_module_version": "2.0.0",
      "model_name": "ProgressStyleModel",
      "state": {
       "bar_color": "black",
       "description_width": ""
      }
     },
     "52317e2356cb444c96651d7812976ede": {
      "model_module": "@jupyter-widgets/output",
      "model_module_version": "1.0.0",
      "model_name": "OutputModel",
      "state": {
       "layout": "IPY_MODEL_3ddbd9efbdf94fd7add8c50f749a3773"
      }
     },
     "530815f3f97d48c79011e83730c65b60": {
      "model_module": "@deck.gl/jupyter-widget",
      "model_module_version": "2.0.0",
      "model_name": "JupyterTransportModel",
      "state": {
       "_model_module": "@deck.gl/jupyter-widget",
       "_model_name": "JupyterTransportModel",
       "_view_name": "ErrorWidgetView",
       "carto_key": "",
       "configuration": null,
       "custom_libraries": null,
       "data_buffer": null,
       "error": {},
       "google_maps_key": "",
       "height": 500,
       "json_input": "",
       "layout": "IPY_MODEL_921ae86800e646f0aaf77825d4a368c3",
       "mapbox_key": "",
       "msg": "Failed to load model class 'JupyterTransportModel' from module '@deck.gl/jupyter-widget'",
       "tooltip": true,
       "width": "100%"
      }
     },
     "5352c3bc410349e1952d6180fea45e3f": {
      "model_module": "@jupyter-widgets/base",
      "model_module_version": "2.0.0",
      "model_name": "LayoutModel",
      "state": {
       "margin": "20 20 auto 20 20",
       "width": "70%"
      }
     },
     "57163d54460c4601bdfdbc5605f5e5f1": {
      "model_module": "@jupyter-widgets/base",
      "model_module_version": "2.0.0",
      "model_name": "LayoutModel",
      "state": {}
     },
     "5716404eeb484244bcba42e37d595b35": {
      "model_module": "@jupyter-widgets/base",
      "model_module_version": "2.0.0",
      "model_name": "LayoutModel",
      "state": {}
     },
     "59148db041dc41c18e5f6e6ca591d5ff": {
      "model_module": "@jupyter-widgets/controls",
      "model_module_version": "2.0.0",
      "model_name": "HTMLModel",
      "state": {
       "layout": "IPY_MODEL_33622228605a41989dfe640553b8efdb",
       "style": "IPY_MODEL_b136313c9fff48ddb3064c0ef7817abe",
       "value": "Status: Ready to begin"
      }
     },
     "594551fa631a41cb862f2e43de85aabc": {
      "model_module": "@deck.gl/jupyter-widget",
      "model_module_version": "2.0.0",
      "model_name": "JupyterTransportModel",
      "state": {
       "_model_module": "@deck.gl/jupyter-widget",
       "_model_name": "JupyterTransportModel",
       "_view_name": "ErrorWidgetView",
       "carto_key": "",
       "configuration": null,
       "custom_libraries": null,
       "data_buffer": null,
       "error": {},
       "google_maps_key": "",
       "height": 500,
       "json_input": "",
       "layout": "IPY_MODEL_7ac67fbdfee84cbbaec8124b12666822",
       "mapbox_key": "",
       "msg": "Failed to load model class 'JupyterTransportModel' from module '@deck.gl/jupyter-widget'",
       "tooltip": true,
       "width": "100%"
      }
     },
     "59547becbbfa4cd080e5459719649d5f": {
      "model_module": "@deck.gl/jupyter-widget",
      "model_module_version": "2.0.0",
      "model_name": "JupyterTransportModel",
      "state": {
       "_model_module": "@deck.gl/jupyter-widget",
       "_model_name": "JupyterTransportModel",
       "_view_name": "ErrorWidgetView",
       "carto_key": "",
       "configuration": null,
       "custom_libraries": null,
       "data_buffer": null,
       "error": {},
       "google_maps_key": "",
       "height": 500,
       "json_input": "",
       "layout": "IPY_MODEL_a9b685c229b44e0283571da17a117b1c",
       "mapbox_key": "",
       "msg": "Failed to load model class 'JupyterTransportModel' from module '@deck.gl/jupyter-widget'",
       "tooltip": true,
       "width": "100%"
      }
     },
     "6036856157874794be528229357453b5": {
      "model_module": "@jupyter-widgets/controls",
      "model_module_version": "2.0.0",
      "model_name": "DescriptionStyleModel",
      "state": {
       "description_width": ""
      }
     },
     "60e62ff7c373430eb6eebf8f365f4ec4": {
      "model_module": "@jupyter-widgets/controls",
      "model_module_version": "2.0.0",
      "model_name": "HBoxModel",
      "state": {
       "children": [
        "IPY_MODEL_b27250de47464ba98517245dcd80d8eb",
        "IPY_MODEL_8536bffa07324f8c9287950c2a30aa40",
        "IPY_MODEL_e9c258f0f12242078de6c869060f5bc2"
       ],
       "layout": "IPY_MODEL_9f5f3f0d8b15492bba7adf57ef5138ed"
      }
     },
     "61d382fc80dc4968a8eb538de7dc46be": {
      "model_module": "@jupyter-widgets/base",
      "model_module_version": "2.0.0",
      "model_name": "LayoutModel",
      "state": {
       "width": "auto"
      }
     },
     "63429b683fa04b22bb53712a579cbb85": {
      "model_module": "@jupyter-widgets/controls",
      "model_module_version": "2.0.0",
      "model_name": "DescriptionStyleModel",
      "state": {
       "description_width": ""
      }
     },
     "6395c6e4616b4287b1bae10c64769cd0": {
      "model_module": "@jupyter-widgets/controls",
      "model_module_version": "2.0.0",
      "model_name": "FloatProgressModel",
      "state": {
       "layout": "IPY_MODEL_6f2c712b996f434d81f9d447326adc39",
       "style": "IPY_MODEL_e677f92a15674f3d93ceb30e04ccfd00",
       "value": 100
      }
     },
     "642777c7648a487597b2411c623ec958": {
      "model_module": "@jupyter-widgets/base",
      "model_module_version": "2.0.0",
      "model_name": "LayoutModel",
      "state": {}
     },
     "65bb7658aeaf406c8e0a401a56187478": {
      "model_module": "@jupyter-widgets/base",
      "model_module_version": "2.0.0",
      "model_name": "LayoutModel",
      "state": {
       "height": "60px",
       "margin": "0 auto",
       "width": "80%"
      }
     },
     "65fce5b627ef4649b741d054a2723c89": {
      "model_module": "@jupyter-widgets/controls",
      "model_module_version": "2.0.0",
      "model_name": "ButtonStyleModel",
      "state": {
       "font_family": null,
       "font_size": null,
       "font_style": null,
       "font_variant": null,
       "font_weight": null,
       "text_color": null,
       "text_decoration": null
      }
     },
     "6626fb5c1c9849f0bc481eb05cb7f7e9": {
      "model_module": "@jupyter-widgets/output",
      "model_module_version": "1.0.0",
      "model_name": "OutputModel",
      "state": {
       "layout": "IPY_MODEL_8a3a0ea8865c4fdc916173f9bc4b39e6"
      }
     },
     "69785d5e8dd74d27a742a1d8f7fd3843": {
      "model_module": "@jupyter-widgets/base",
      "model_module_version": "2.0.0",
      "model_name": "LayoutModel",
      "state": {}
     },
     "6a778ada96d143939d6c65c3533e55f3": {
      "model_module": "@jupyter-widgets/base",
      "model_module_version": "2.0.0",
      "model_name": "LayoutModel",
      "state": {}
     },
     "6aff87e27e4c40cd9bebf6e5e9ffdf44": {
      "model_module": "@jupyter-widgets/base",
      "model_module_version": "2.0.0",
      "model_name": "LayoutModel",
      "state": {}
     },
     "6d296ccfed744ecfb6d1a56cb7f9af55": {
      "model_module": "@jupyter-widgets/controls",
      "model_module_version": "2.0.0",
      "model_name": "DropdownModel",
      "state": {
       "_options_labels": [
        "Argentina",
        "Bolivia, Plurinational State of",
        "Brazil",
        "Chile",
        "Colombia",
        "Ecuador",
        "Falkland Islands (Malvinas)",
        "French Guiana",
        "Guyana",
        "Panama",
        "Peru",
        "Paraguay",
        "Suriname",
        "Uruguay",
        "Venezuela, Bolivarian Republic of"
       ],
       "description": "Country:",
       "index": 6,
       "layout": "IPY_MODEL_d97b0a267c694cbd8411480c6f1f998d",
       "style": "IPY_MODEL_2fae9513bd95421490480b737d23c936"
      }
     },
     "6f2c712b996f434d81f9d447326adc39": {
      "model_module": "@jupyter-widgets/base",
      "model_module_version": "2.0.0",
      "model_name": "LayoutModel",
      "state": {
       "width": "auto"
      }
     },
     "6fb0ac5735714627a456ef2b31f3c458": {
      "model_module": "@deck.gl/jupyter-widget",
      "model_module_version": "2.0.0",
      "model_name": "JupyterTransportModel",
      "state": {
       "_model_module": "@deck.gl/jupyter-widget",
       "_model_name": "JupyterTransportModel",
       "_view_name": "ErrorWidgetView",
       "carto_key": "",
       "configuration": null,
       "custom_libraries": null,
       "data_buffer": null,
       "error": {},
       "google_maps_key": "",
       "height": 500,
       "json_input": "",
       "layout": "IPY_MODEL_2fbb9303216b4b06991a7f8358317e71",
       "mapbox_key": "",
       "msg": "Failed to load model class 'JupyterTransportModel' from module '@deck.gl/jupyter-widget'",
       "tooltip": true,
       "width": "100%"
      }
     },
     "72a62cb4cdb14a92a51362833c0ff413": {
      "model_module": "@jupyter-widgets/base",
      "model_module_version": "2.0.0",
      "model_name": "LayoutModel",
      "state": {}
     },
     "7330739f5bb94bf19baeb7bca4fa18ab": {
      "model_module": "@jupyter-widgets/base",
      "model_module_version": "2.0.0",
      "model_name": "LayoutModel",
      "state": {}
     },
     "759e2feb18e1442e8049c1fa9dac879a": {
      "model_module": "@jupyter-widgets/output",
      "model_module_version": "1.0.0",
      "model_name": "OutputModel",
      "state": {
       "layout": "IPY_MODEL_f94a5f8ce4f14e8c95bb2b814a22eef4",
       "outputs": [
        {
         "name": "stdout",
         "output_type": "stream",
         "text": "Dataset global_harmonized_large_solar_farms_2020 has 35271 geometries and 11 columns.\n"
        },
        {
         "data": {
          "text/html": "<div>\n<style scoped>\n    .dataframe tbody tr th:only-of-type {\n        vertical-align: middle;\n    }\n\n    .dataframe tbody tr th {\n        vertical-align: top;\n    }\n\n    .dataframe thead th {\n        text-align: right;\n    }\n</style>\n<table border=\"1\" class=\"dataframe\">\n  <thead>\n    <tr style=\"text-align: right;\">\n      <th></th>\n      <th>sol_id</th>\n      <th>panels</th>\n      <th>panel.area</th>\n      <th>landscape.area</th>\n      <th>water</th>\n      <th>urban</th>\n      <th>power</th>\n      <th>area_m2</th>\n      <th>centroid_lon</th>\n      <th>centroid_lat</th>\n    </tr>\n  </thead>\n  <tbody>\n    <tr>\n      <th>count</th>\n      <td>35271.000000</td>\n      <td>35271.000000</td>\n      <td>3.527100e+04</td>\n      <td>35271.000000</td>\n      <td>35271.000000</td>\n      <td>35271.000000</td>\n      <td>12043.000000</td>\n      <td>3.527100e+04</td>\n      <td>3.527100e+04</td>\n      <td>3.527100e+04</td>\n    </tr>\n    <tr>\n      <th>mean</th>\n      <td>17636.689433</td>\n      <td>44.741402</td>\n      <td>9.243955e-02</td>\n      <td>0.195207</td>\n      <td>0.000879</td>\n      <td>0.315500</td>\n      <td>10.433003</td>\n      <td>1.548248e+05</td>\n      <td>1.102017e+06</td>\n      <td>5.322659e+06</td>\n    </tr>\n    <tr>\n      <th>std</th>\n      <td>10182.375876</td>\n      <td>928.767007</td>\n      <td>9.422780e-01</td>\n      <td>1.560260</td>\n      <td>0.029634</td>\n      <td>0.464721</td>\n      <td>35.192312</td>\n      <td>1.411027e+06</td>\n      <td>6.341953e+06</td>\n      <td>2.000069e+06</td>\n    </tr>\n    <tr>\n      <th>min</th>\n      <td>1.000000</td>\n      <td>1.000000</td>\n      <td>6.121647e-07</td>\n      <td>0.000000</td>\n      <td>0.000000</td>\n      <td>0.000000</td>\n      <td>0.834827</td>\n      <td>0.000000e+00</td>\n      <td>-1.980676e+07</td>\n      <td>-7.020178e+06</td>\n    </tr>\n    <tr>\n      <th>25%</th>\n      <td>8818.500000</td>\n      <td>3.000000</td>\n      <td>2.812534e-04</td>\n      <td>0.000322</td>\n      <td>0.000000</td>\n      <td>0.000000</td>\n      <td>1.769038</td>\n      <td>0.000000e+00</td>\n      <td>-2.065885e+05</td>\n      <td>4.602298e+06</td>\n    </tr>\n    <tr>\n      <th>50%</th>\n      <td>17637.000000</td>\n      <td>5.000000</td>\n      <td>3.393563e-03</td>\n      <td>0.013201</td>\n      <td>0.000000</td>\n      <td>0.000000</td>\n      <td>3.567367</td>\n      <td>4.164975e+03</td>\n      <td>1.024119e+06</td>\n      <td>5.698551e+06</td>\n    </tr>\n    <tr>\n      <th>75%</th>\n      <td>26454.500000</td>\n      <td>11.000000</td>\n      <td>3.375040e-02</td>\n      <td>0.079947</td>\n      <td>0.000000</td>\n      <td>1.000000</td>\n      <td>8.255421</td>\n      <td>6.514491e+04</td>\n      <td>1.987648e+06</td>\n      <td>6.703288e+06</td>\n    </tr>\n    <tr>\n      <th>max</th>\n      <td>35272.000000</td>\n      <td>110246.000000</td>\n      <td>1.455738e+02</td>\n      <td>145.573832</td>\n      <td>1.000000</td>\n      <td>1.000000</td>\n      <td>2681.877828</td>\n      <td>2.232180e+08</td>\n      <td>1.972151e+07</td>\n      <td>1.098945e+07</td>\n    </tr>\n  </tbody>\n</table>\n</div>",
          "text/plain": "             sol_id         panels    panel.area  landscape.area  \\\ncount  35271.000000   35271.000000  3.527100e+04    35271.000000   \nmean   17636.689433      44.741402  9.243955e-02        0.195207   \nstd    10182.375876     928.767007  9.422780e-01        1.560260   \nmin        1.000000       1.000000  6.121647e-07        0.000000   \n25%     8818.500000       3.000000  2.812534e-04        0.000322   \n50%    17637.000000       5.000000  3.393563e-03        0.013201   \n75%    26454.500000      11.000000  3.375040e-02        0.079947   \nmax    35272.000000  110246.000000  1.455738e+02      145.573832   \n\n              water         urban         power       area_m2  centroid_lon  \\\ncount  35271.000000  35271.000000  12043.000000  3.527100e+04  3.527100e+04   \nmean       0.000879      0.315500     10.433003  1.548248e+05  1.102017e+06   \nstd        0.029634      0.464721     35.192312  1.411027e+06  6.341953e+06   \nmin        0.000000      0.000000      0.834827  0.000000e+00 -1.980676e+07   \n25%        0.000000      0.000000      1.769038  0.000000e+00 -2.065885e+05   \n50%        0.000000      0.000000      3.567367  4.164975e+03  1.024119e+06   \n75%        0.000000      1.000000      8.255421  6.514491e+04  1.987648e+06   \nmax        1.000000      1.000000   2681.877828  2.232180e+08  1.972151e+07   \n\n       centroid_lat  \ncount  3.527100e+04  \nmean   5.322659e+06  \nstd    2.000069e+06  \nmin   -7.020178e+06  \n25%    4.602298e+06  \n50%    5.698551e+06  \n75%    6.703288e+06  \nmax    1.098945e+07  "
         },
         "metadata": {},
         "output_type": "display_data"
        },
        {
         "name": "stdout",
         "output_type": "stream",
         "text": "Unique geometry types in the dataset: ['Point' 'MultiPoint' 'MultiPolygon' 'Polygon']\nCount of Point geometries: 4885\nCount of Polygon geometries: 16148\nCount of MultiPoint geometries: 5640\nCount of MultiPolygon geometries: 8598\nSee data samples below:\n"
        },
        {
         "data": {
          "text/html": "<div>\n<style scoped>\n    .dataframe tbody tr th:only-of-type {\n        vertical-align: middle;\n    }\n\n    .dataframe tbody tr th {\n        vertical-align: top;\n    }\n\n    .dataframe thead th {\n        text-align: right;\n    }\n</style>\n<table border=\"1\" class=\"dataframe\">\n  <thead>\n    <tr style=\"text-align: right;\">\n      <th></th>\n      <th>sol_id</th>\n      <th>panels</th>\n      <th>panel.area</th>\n      <th>landscape.area</th>\n      <th>water</th>\n      <th>urban</th>\n      <th>power</th>\n      <th>geometry</th>\n      <th>area_m2</th>\n      <th>centroid_lon</th>\n      <th>centroid_lat</th>\n    </tr>\n  </thead>\n  <tbody>\n    <tr>\n      <th>21641</th>\n      <td>21643</td>\n      <td>4.0</td>\n      <td>0.001532</td>\n      <td>0.001532</td>\n      <td>0.0</td>\n      <td>0.0</td>\n      <td>NaN</td>\n      <td>POLYGON ((-4.40398 42.26479, -4.40426 42.26437...</td>\n      <td>2.796685e+03</td>\n      <td>-4.902518e+05</td>\n      <td>5.200687e+06</td>\n    </tr>\n    <tr>\n      <th>97</th>\n      <td>98</td>\n      <td>1.0</td>\n      <td>0.000141</td>\n      <td>0.000000</td>\n      <td>0.0</td>\n      <td>0.0</td>\n      <td>NaN</td>\n      <td>POINT (-97.8008 30.34967)</td>\n      <td>0.000000e+00</td>\n      <td>-1.088714e+07</td>\n      <td>3.548576e+06</td>\n    </tr>\n    <tr>\n      <th>17978</th>\n      <td>17980</td>\n      <td>6.0</td>\n      <td>1.159752</td>\n      <td>1.160038</td>\n      <td>0.0</td>\n      <td>0.0</td>\n      <td>45.733863</td>\n      <td>POLYGON ((98.08155 39.76704, 98.096 39.75663, ...</td>\n      <td>1.962637e+06</td>\n      <td>1.091863e+07</td>\n      <td>4.831299e+06</td>\n    </tr>\n  </tbody>\n</table>\n</div>",
          "text/plain": "       sol_id  panels  panel.area  landscape.area  water  urban      power  \\\n21641   21643     4.0    0.001532        0.001532    0.0    0.0        NaN   \n97         98     1.0    0.000141        0.000000    0.0    0.0        NaN   \n17978   17980     6.0    1.159752        1.160038    0.0    0.0  45.733863   \n\n                                                geometry       area_m2  \\\n21641  POLYGON ((-4.40398 42.26479, -4.40426 42.26437...  2.796685e+03   \n97                             POINT (-97.8008 30.34967)  0.000000e+00   \n17978  POLYGON ((98.08155 39.76704, 98.096 39.75663, ...  1.962637e+06   \n\n       centroid_lon  centroid_lat  \n21641 -4.902518e+05  5.200687e+06  \n97    -1.088714e+07  3.548576e+06  \n17978  1.091863e+07  4.831299e+06  "
         },
         "metadata": {},
         "output_type": "display_data"
        }
       ]
      }
     },
     "7641ec3e7ab34133abc00eab38091618": {
      "model_module": "@jupyter-widgets/base",
      "model_module_version": "2.0.0",
      "model_name": "LayoutModel",
      "state": {
       "width": "auto"
      }
     },
     "7a85c87c8aab4fed85dfab3b9a82a023": {
      "model_module": "@deck.gl/jupyter-widget",
      "model_module_version": "2.0.0",
      "model_name": "JupyterTransportModel",
      "state": {
       "_model_module": "@deck.gl/jupyter-widget",
       "_model_name": "JupyterTransportModel",
       "_view_name": "ErrorWidgetView",
       "carto_key": null,
       "configuration": null,
       "custom_libraries": [],
       "data_buffer": null,
       "error": {},
       "google_maps_key": null,
       "height": 500,
       "json_input": "",
       "layout": "IPY_MODEL_813d28c01c0f4b6680514624d5a6faf0",
       "mapbox_key": null,
       "msg": "Failed to load model class 'JupyterTransportModel' from module '@deck.gl/jupyter-widget'",
       "tooltip": false,
       "width": "100%"
      }
     },
     "7ac67fbdfee84cbbaec8124b12666822": {
      "model_module": "@jupyter-widgets/base",
      "model_module_version": "2.0.0",
      "model_name": "LayoutModel",
      "state": {}
     },
     "7b468597ddc64bdb8eeeab6b7e5f7ac8": {
      "model_module": "@jupyter-widgets/base",
      "model_module_version": "2.0.0",
      "model_name": "LayoutModel",
      "state": {
       "margin": "0 auto",
       "width": "50%"
      }
     },
     "7b656203ffa24fc58bd456d6f02aa6b4": {
      "model_module": "@jupyter-widgets/controls",
      "model_module_version": "2.0.0",
      "model_name": "ButtonModel",
      "state": {
       "button_style": "success",
       "description": "Render Map",
       "layout": "IPY_MODEL_1aa61e3a458640d58b1085cac614ef79",
       "style": "IPY_MODEL_db94eece423048efb80361cba5fc8cd7",
       "tooltip": null
      }
     },
     "7d0b376a09a74c5dbb181ceac62ec5c6": {
      "model_module": "@jupyter-widgets/base",
      "model_module_version": "2.0.0",
      "model_name": "LayoutModel",
      "state": {}
     },
     "7eb0a07a07d342ba9357339cefdd4c66": {
      "model_module": "@jupyter-widgets/base",
      "model_module_version": "2.0.0",
      "model_name": "LayoutModel",
      "state": {}
     },
     "813d28c01c0f4b6680514624d5a6faf0": {
      "model_module": "@jupyter-widgets/base",
      "model_module_version": "2.0.0",
      "model_name": "LayoutModel",
      "state": {}
     },
     "81eb463510f2453e87ff878d932974db": {
      "model_module": "@jupyter-widgets/output",
      "model_module_version": "1.0.0",
      "model_name": "OutputModel",
      "state": {
       "layout": "IPY_MODEL_2ce1175b3e774e75a85a91c1ef6cbf9f",
       "outputs": [
        {
         "data": {
          "application/vnd.jupyter.widget-view+json": {
           "model_id": "f94b07e5aec04f7db22a1214c4379fd7",
           "version_major": 2,
           "version_minor": 0
          },
          "text/plain": "Button(button_style='success', description='Render Map', layout=Layout(width='auto'), style=ButtonStyle())"
         },
         "metadata": {},
         "output_type": "display_data"
        }
       ]
      }
     },
     "82a9e80274c14546902cb51fcb73a42d": {
      "model_module": "@jupyter-widgets/controls",
      "model_module_version": "2.0.0",
      "model_name": "HTMLModel",
      "state": {
       "layout": "IPY_MODEL_b36195512a2d42259d6e37128ff6d1d0",
       "style": "IPY_MODEL_f8c2aabaee8147a4acd2e84fb42f5bfb",
       "value": "\n    <style>\n    .dataset-table {\n        border-collapse: collapse;\n        width: 30%;\n        margin: 20px auto;\n        font-family: Arial, sans-serif;\n    }\n    .dataset-table th, .dataset-table td {\n        border: 1px solid #ddd;\n        padding: 8px;\n        text-align: left;\n    }\n    .dataset-table th {\n        background-color: #f2f2f2;\n        font-weight: bold;\n    }\n    </style>\n    <table class=\"dataset-table\">\n        <tr><th>Metadata</th><th>Value</th></tr>\n        <tr><td>DOI/URL</td><td>10.5281/zenodo.5005867</td></tr>\n        <tr><td>Repository</td><td>zenodo</td></tr>\n        <tr><td>Compression</td><td>None</td></tr>\n        <tr><td>Label Format</td><td>geojson</td></tr>\n        <tr><td>Has Images</td><td>False</td></tr>\n        <tr><td>Label Count</td><td>[50426, 68661]</td></tr>\n    </table>\n    "
      }
     },
     "8357b89c48264c6588fff73c353e45f5": {
      "model_module": "@jupyter-widgets/controls",
      "model_module_version": "2.0.0",
      "model_name": "HTMLStyleModel",
      "state": {
       "description_width": "",
       "font_size": null,
       "text_color": null
      }
     },
     "83c51b7c1ad7421190f14f41f2d73179": {
      "model_module": "@deck.gl/jupyter-widget",
      "model_module_version": "2.0.0",
      "model_name": "JupyterTransportModel",
      "state": {
       "_model_module": "@deck.gl/jupyter-widget",
       "_model_name": "JupyterTransportModel",
       "_view_name": "ErrorWidgetView",
       "carto_key": null,
       "configuration": null,
       "custom_libraries": [],
       "data_buffer": null,
       "error": {},
       "google_maps_key": null,
       "height": 500,
       "json_input": "",
       "layout": "IPY_MODEL_a6ca3288eb544811ba66754c386d79ad",
       "mapbox_key": null,
       "msg": "Failed to load model class 'JupyterTransportModel' from module '@deck.gl/jupyter-widget'",
       "tooltip": {
        "html": "Dataset:</b> {dataset}<br><b>Area M2:</b> {area_m2}"
       },
       "width": "100%"
      }
     },
     "8536bffa07324f8c9287950c2a30aa40": {
      "model_module": "@jupyter-widgets/controls",
      "model_module_version": "2.0.0",
      "model_name": "ButtonModel",
      "state": {
       "button_style": "success",
       "description": "Add Dataset",
       "layout": "IPY_MODEL_0c3e701f4409422892ab7227bc75909f",
       "style": "IPY_MODEL_ffdb4a5c3b9c463aaa86127a67c9aab6",
       "tooltip": null
      }
     },
     "87f7315244cf4cfb9df7e78ecd0cc8ea": {
      "model_module": "@jupyter-widgets/base",
      "model_module_version": "2.0.0",
      "model_name": "LayoutModel",
      "state": {
       "width": "auto"
      }
     },
     "8829aea11d154c248a7564963e6e53ac": {
      "model_module": "@jupyter-widgets/controls",
      "model_module_version": "2.0.0",
      "model_name": "ButtonModel",
      "state": {
       "button_style": "primary",
       "description": "Fetch Next Dataset",
       "layout": "IPY_MODEL_9f52191d71204205b4d751fdf0295a31",
       "style": "IPY_MODEL_eaf722e042a5487196f3626dfae54c31",
       "tooltip": null
      }
     },
     "887b7cafbc42491f884044a67702f25a": {
      "model_module": "@jupyter-widgets/controls",
      "model_module_version": "2.0.0",
      "model_name": "HTMLStyleModel",
      "state": {
       "description_width": "",
       "font_size": null,
       "text_color": null
      }
     },
     "8a3a0ea8865c4fdc916173f9bc4b39e6": {
      "model_module": "@jupyter-widgets/base",
      "model_module_version": "2.0.0",
      "model_name": "LayoutModel",
      "state": {}
     },
     "8aed0c2b3af24ae6a7d8ed2c0e83d265": {
      "model_module": "@jupyter-widgets/base",
      "model_module_version": "2.0.0",
      "model_name": "LayoutModel",
      "state": {}
     },
     "8d42c401acc34d52964e18c7b02ab647": {
      "model_module": "@jupyter-widgets/base",
      "model_module_version": "2.0.0",
      "model_name": "LayoutModel",
      "state": {
       "border_bottom": "1px solid #d9534f",
       "border_left": "1px solid #d9534f",
       "border_right": "1px solid #d9534f",
       "border_top": "1px solid #d9534f",
       "margin": "0 auto",
       "padding": "20px",
       "width": "70%"
      }
     },
     "91283d0261854a8aaf7dd1c800f8dbc9": {
      "model_module": "@jupyter-widgets/base",
      "model_module_version": "2.0.0",
      "model_name": "LayoutModel",
      "state": {
       "width": "auto"
      }
     },
     "921ae86800e646f0aaf77825d4a368c3": {
      "model_module": "@jupyter-widgets/base",
      "model_module_version": "2.0.0",
      "model_name": "LayoutModel",
      "state": {}
     },
     "946619e8aa50421c95b8c7afdbb065e6": {
      "model_module": "@jupyter-widgets/base",
      "model_module_version": "2.0.0",
      "model_name": "LayoutModel",
      "state": {}
     },
     "964355fc07c84c0c8878fcc2269c303a": {
      "model_module": "@jupyter-widgets/base",
      "model_module_version": "2.0.0",
      "model_name": "LayoutModel",
      "state": {
       "width": "300px"
      }
     },
     "977cb8f19ee44825aa0005f1eddf0daf": {
      "model_module": "@deck.gl/jupyter-widget",
      "model_module_version": "2.0.0",
      "model_name": "JupyterTransportModel",
      "state": {
       "_model_module": "@deck.gl/jupyter-widget",
       "_model_name": "JupyterTransportModel",
       "_view_name": "ErrorWidgetView",
       "carto_key": null,
       "configuration": null,
       "custom_libraries": [],
       "data_buffer": null,
       "error": {},
       "google_maps_key": null,
       "height": 500,
       "json_input": "",
       "layout": "IPY_MODEL_72a62cb4cdb14a92a51362833c0ff413",
       "mapbox_key": null,
       "msg": "Failed to load model class 'JupyterTransportModel' from module '@deck.gl/jupyter-widget'",
       "tooltip": {
        "html": "Dataset:</b> {dataset}<br><b>Area M2:</b> {area_m2}"
       },
       "width": "100%"
      }
     },
     "97902ee00e3e4898a09da228ba6bf681": {
      "model_module": "@jupyter-widgets/controls",
      "model_module_version": "2.0.0",
      "model_name": "ButtonStyleModel",
      "state": {
       "font_family": null,
       "font_size": null,
       "font_style": null,
       "font_variant": null,
       "font_weight": null,
       "text_color": null,
       "text_decoration": null
      }
     },
     "996e802492de42f0ba365fab4772a3c6": {
      "model_module": "@deck.gl/jupyter-widget",
      "model_module_version": "2.0.0",
      "model_name": "JupyterTransportModel",
      "state": {
       "_model_module": "@deck.gl/jupyter-widget",
       "_model_name": "JupyterTransportModel",
       "_view_name": "ErrorWidgetView",
       "carto_key": "",
       "configuration": null,
       "custom_libraries": null,
       "data_buffer": null,
       "error": {},
       "google_maps_key": "",
       "height": 500,
       "json_input": "",
       "layout": "IPY_MODEL_f66b344710f24b9aa670800a8fccdebd",
       "mapbox_key": "",
       "msg": "Failed to load model class 'JupyterTransportModel' from module '@deck.gl/jupyter-widget'",
       "tooltip": true,
       "width": "100%"
      }
     },
     "999eab5317a1499ab0fcd08b565691d0": {
      "model_module": "@jupyter-widgets/controls",
      "model_module_version": "2.0.0",
      "model_name": "HTMLStyleModel",
      "state": {
       "description_width": "",
       "font_size": null,
       "text_color": null
      }
     },
     "99b5a9212adb42348a5b57c783feb865": {
      "model_module": "@jupyter-widgets/base",
      "model_module_version": "2.0.0",
      "model_name": "LayoutModel",
      "state": {}
     },
     "9b90206f378a418eaebf868d6f45051d": {
      "model_module": "@jupyter-widgets/controls",
      "model_module_version": "2.0.0",
      "model_name": "DropdownModel",
      "state": {
       "_options_labels": [
        "Andorra",
        "Albania",
        "Austria",
        "Åland Islands",
        "Bosnia and Herzegovina",
        "Belgium",
        "Bulgaria",
        "Belarus",
        "Switzerland",
        "Czechia",
        "Germany",
        "Denmark",
        "Estonia",
        "Spain",
        "Finland",
        "Faroe Islands",
        "France",
        "United Kingdom",
        "Guernsey",
        "Greece",
        "Croatia",
        "Hungary",
        "Ireland",
        "Isle of Man",
        "Italy",
        "Jersey",
        "Liechtenstein",
        "Lithuania",
        "Luxembourg",
        "Latvia",
        "Monaco",
        "Moldova, Republic of",
        "Montenegro",
        "North Macedonia",
        "Netherlands",
        "Norway",
        "Poland",
        "Portugal",
        "Romania",
        "Serbia",
        "Russian Federation",
        "Sweden",
        "Slovenia",
        "Slovakia",
        "San Marino",
        "Türkiye",
        "Ukraine",
        "Holy See (Vatican City State)",
        "XK"
       ],
       "description": "Country:",
       "index": 27,
       "layout": "IPY_MODEL_2b0c5388281a4f1aa856009c4cc1ee14",
       "style": "IPY_MODEL_4734b91daa0441d3b1a0b6e8309ae2d5"
      }
     },
     "9c7706c329484784a2cd194eae025746": {
      "model_module": "@jupyter-widgets/base",
      "model_module_version": "2.0.0",
      "model_name": "LayoutModel",
      "state": {}
     },
     "9dce244ad1eb4455bb504b5218bcffe8": {
      "model_module": "@deck.gl/jupyter-widget",
      "model_module_version": "2.0.0",
      "model_name": "JupyterTransportModel",
      "state": {
       "_model_module": "@deck.gl/jupyter-widget",
       "_model_name": "JupyterTransportModel",
       "_view_name": "ErrorWidgetView",
       "carto_key": "",
       "configuration": null,
       "custom_libraries": null,
       "data_buffer": null,
       "error": {},
       "google_maps_key": "",
       "height": 500,
       "json_input": "",
       "layout": "IPY_MODEL_4db43e3385884db4b648365b753bcd3a",
       "mapbox_key": "",
       "msg": "Failed to load model class 'JupyterTransportModel' from module '@deck.gl/jupyter-widget'",
       "tooltip": true,
       "width": "100%"
      }
     },
     "9e91aacb5e39476aafe8df966a82892f": {
      "model_module": "@jupyter-widgets/base",
      "model_module_version": "2.0.0",
      "model_name": "LayoutModel",
      "state": {}
     },
     "9f52191d71204205b4d751fdf0295a31": {
      "model_module": "@jupyter-widgets/base",
      "model_module_version": "2.0.0",
      "model_name": "LayoutModel",
      "state": {}
     },
     "9f5f3f0d8b15492bba7adf57ef5138ed": {
      "model_module": "@jupyter-widgets/base",
      "model_module_version": "2.0.0",
      "model_name": "LayoutModel",
      "state": {}
     },
     "a06df641f2884b798963e580777aff1f": {
      "model_module": "@deck.gl/jupyter-widget",
      "model_module_version": "2.0.0",
      "model_name": "JupyterTransportModel",
      "state": {
       "_model_module": "@deck.gl/jupyter-widget",
       "_model_name": "JupyterTransportModel",
       "_view_name": "ErrorWidgetView",
       "carto_key": "",
       "configuration": null,
       "custom_libraries": null,
       "data_buffer": null,
       "error": {},
       "google_maps_key": "",
       "height": 500,
       "json_input": "",
       "layout": "IPY_MODEL_946619e8aa50421c95b8c7afdbb065e6",
       "mapbox_key": "",
       "msg": "Failed to load model class 'JupyterTransportModel' from module '@deck.gl/jupyter-widget'",
       "tooltip": true,
       "width": "100%"
      }
     },
     "a105481f0f484fbc8876092e324e6575": {
      "model_module": "@deck.gl/jupyter-widget",
      "model_module_version": "2.0.0",
      "model_name": "JupyterTransportModel",
      "state": {
       "_model_module": "@deck.gl/jupyter-widget",
       "_model_name": "JupyterTransportModel",
       "_view_name": "ErrorWidgetView",
       "carto_key": "",
       "configuration": null,
       "custom_libraries": null,
       "data_buffer": null,
       "error": {},
       "google_maps_key": "",
       "height": 500,
       "json_input": "",
       "layout": "IPY_MODEL_9e91aacb5e39476aafe8df966a82892f",
       "mapbox_key": "",
       "msg": "Failed to load model class 'JupyterTransportModel' from module '@deck.gl/jupyter-widget'",
       "tooltip": true,
       "width": "100%"
      }
     },
     "a10bed329312477986435b7decabfe59": {
      "model_module": "@jupyter-widgets/controls",
      "model_module_version": "2.0.0",
      "model_name": "VBoxModel",
      "state": {
       "_dom_classes": [
        "widget-interact"
       ],
       "children": [
        "IPY_MODEL_084ff4bfa589485da5cc020564e58673",
        "IPY_MODEL_e62d18f899ef46c08cb53b45480afebe"
       ],
       "layout": "IPY_MODEL_ef68755e8d1747f2899c4a24d24f4433"
      }
     },
     "a1e14747899045019cf6d0ee7593e772": {
      "model_module": "@jupyter-widgets/controls",
      "model_module_version": "2.0.0",
      "model_name": "ProgressStyleModel",
      "state": {
       "bar_color": "black",
       "description_width": ""
      }
     },
     "a45eae719c2d44a3bbdb108268e89ab9": {
      "model_module": "@jupyter-widgets/controls",
      "model_module_version": "2.0.0",
      "model_name": "HTMLModel",
      "state": {
       "layout": "IPY_MODEL_a6101ec7113a4807886e5022759a6e69",
       "style": "IPY_MODEL_999eab5317a1499ab0fcd08b565691d0",
       "value": "<b>Ready to start:</b><br>First dataset: global_harmonized_large_solar_farms_2020"
      }
     },
     "a6101ec7113a4807886e5022759a6e69": {
      "model_module": "@jupyter-widgets/base",
      "model_module_version": "2.0.0",
      "model_name": "LayoutModel",
      "state": {}
     },
     "a621799d7ed14678beadb243e97b2b4d": {
      "model_module": "@jupyter-widgets/controls",
      "model_module_version": "2.0.0",
      "model_name": "AccordionModel",
      "state": {
       "children": [
        "IPY_MODEL_e1ea67b8b33c4c8a9d0f6c203d9b957d",
        "IPY_MODEL_82a9e80274c14546902cb51fcb73a42d",
        "IPY_MODEL_b63f3351aa1640699585af78a60389ca",
        "IPY_MODEL_4a387efaa7f149b6a89046e453c79784",
        "IPY_MODEL_2b253ac2c9ba4d6092bff221b8f19e52"
       ],
       "layout": "IPY_MODEL_7b468597ddc64bdb8eeeab6b7e5f7ac8",
       "titles": [
        "global_harmonized_large_solar_farms_2020",
        "global_pv_inventory_sent2_spot_2021",
        "ind_pv_solar_farms_2022",
        "usa_cali_usgs_pv_2016",
        "uk_crowdsourced_pv_2020"
       ]
      }
     },
     "a6ca3288eb544811ba66754c386d79ad": {
      "model_module": "@jupyter-widgets/base",
      "model_module_version": "2.0.0",
      "model_name": "LayoutModel",
      "state": {}
     },
     "a7ccb1baf1ef4599ac0d760f552050fe": {
      "model_module": "@jupyter-widgets/output",
      "model_module_version": "1.0.0",
      "model_name": "OutputModel",
      "state": {
       "layout": "IPY_MODEL_d2870d6359644eddb87b77966d434293",
       "outputs": [
        {
         "data": {
          "image/png": "iVBORw0KGgoAAAANSUhEUgAAAmwAAAOwCAYAAACDHijFAAAAOnRFWHRTb2Z0d2FyZQBNYXRwbG90bGliIHZlcnNpb24zLjEwLjAsIGh0dHBzOi8vbWF0cGxvdGxpYi5vcmcvlHJYcgAAAAlwSFlzAAAPYQAAD2EBqD+naQAAUj5JREFUeJzt3QuYpFV9J/5T1be5wMwoioAOFzdowKiQQDTgRsga0WDkiRFEQdzERQlhSTAhEbOJxigEV/x7W0nAhIiummQNBnERzAaJURTFmDyLBljBgLjIJuIMAzPTt/o/v7em2u6mu6cv71t13qrP53lKme7qqtPV1V3f+p1zfqfRarVaCQCAbDV7PQAAAJYmsAEAZE5gAwDInMAGAJA5gQ0AIHMCGwBA5gQ2AIDMCWwAAJkb7vUAAID+tGvXrjQ+Pp7qZnR0NK1bty7lRGADACoJa09cvz7tSPVzwAEHpHvuuSer0CawAQCli8pahLULUkpjqT52p5T+vwceKMYvsAEAA2GsZoEtVzYdAABkToUNAKhMo2bVoUbKU50eQwCAgSSwAQBkzpQoAFDpFGOu04wLyXWsKmwAAJkT2AAAMiewAQBkzho2AKDSylCdqkPNlKdcxwUAwB4CGwBA5kyJAgCVMSXa3+MCAGAPgQ0AIHMCGwBA5qxhAwAq42iqcqiwAQBkTmADAMicwAYAkDlr2ACAyujD1t/jAgBgD4ENACBzpkQBgMpo61EOFTYAgMwJbAAAmRPYAAAyZw0bAFAZbT36e1wAAOwhsAEAZM6UKABQGVOi/T0uAAD2ENgAADInsAEAZM4aNgCgMo6mKocKGwBA5gQ2AIDMCWwAAJmzhg0AqIw+bP09LgAA9hDYAAAyZ0oUAKi0TUadqkONlKc6PYYAAANJYAMAyJzABgCQOWvYAIDKOJqqHCpsAACZE9gAADInsAEAZM4aNgCgMo6m6u9xAQCwh8AGAJA5U6IAQGW09SiHChsAQOYENgCAzAlsAACZs4YNAKiMth79PS4AAPYQ2AAAMmdKFACojCnR/h4XAAB7CGwAAJkT2AAAMmcNGwBQGUdTlUOFDQAgcwIbAEDmBDYAgMxZwwYAVEYftv4eFwAAewhsAACZMyUKAFTGlGh/jwsAgD0ENgCAzAlsAACZs4YNAKiMo6nKocIGAJA5gQ0AIHOmRAGAymjr0d/jAgBgD4ENACBzAhsAQOasYQMAKm2TUafqUCPlqU6PIQDAQBLYAAAyJ7ABAGTOGjYAoDKOpiqHChsAQOYENgCAzJkSBQAq42iq/h4XAEAt3H///enMM89M++23X9qwYUM66qij0m233Tbz+R07dqTzzjsvPeUpT0nr169PRxxxRLr88stXdB8qbAAAq/TQQw+l448/Pp144onp+uuvT/vvv3/61re+lbZs2TJznQsuuCDddNNN6SMf+Ug69NBD04033pjOPffcdNBBB6VTTjllWfcjsAEArNKll16atm7dmq666qqZj0Uom+2WW25Jr3nNa9IJJ5xQ/Pt1r3td+uM//uP01a9+ddmBzZQoAFB5W486XcL27dvnXHbv3p0Wcu2116ZjjjkmnXrqqUV17eijj05XXnnlnOs873nPK64XU6etVquott15553ppJNOSsslsAEAzBNVs82bN89cLrnkkrSQu+++u1iPdvjhh6cbbrghnXPOOen8889PV1999cx13vve96YjjzyyWMM2OjqaXvSiF6UPfOADRZBbLlOiAADz3HfffWnTpk0z/x4bG0sLmZ6eLipsF198cfHvqLDdfvvtRYg766yzZgLbl770paLKdsghh6S/+7u/K9awHXjggekFL3hBWg6BDQCoTF3bemzatGlOYFtMhK6ons0Wu0A/8YlPFP+9c+fO9KY3vSldc8016eSTTy4+9qxnPSt9/etfT+985zuXHdjq9BgCAGQldojecccdcz4W69OikhYmJiaKS7M5N3INDQ0V1bnlUmEDAFilaNlx3HHHFVOip512Wrr11lvTFVdcUVxCVOme//znpwsvvLDowRZB7uabby7WuL3rXe9a9v00WrFdAQCgRLGzMhbrfyiltCHVx6MppdeklLZt27asKdFw3XXXpYsuuijddddd6bDDDktveMMb0tlnnz3z+QceeKD4fPRf+/73v1+EtmjtEWGv0VjecfMCGwBQWWD7cA0D26tXGNi6wRo2AIDMCWwAAJkT2AAAMmeXKABQmdnHPdVBI+VJhQ0AIHMCGwBA5kyJAgCVqevRVLnJdVwAAOwhsAEAZE5gAwDInDVsAEBlrGHr73EBALCHwAYAkDmBDQAgc9awAQCVcTRVOVTYAAAyJ7ABAGTOlCgAUJlGIy65TjQ+VqPVSqmVsqPCBgCQOYENACBzAhsAQOasYQMAKhPr12q1hi2llGIdW2ZU2AAAMiewAQBkzpQoAFCZRrORmnWaEm2llKZNiQIAsEICGwBA5gQ2AIDMWcMGAFSmlm09MqTCBgCQOYENACBzAhsAQOasYQMAKu3DVqs1bK2UJRU2AIDMCWwAAJkzJQoAVEZbj3KosAEAZE5gAwDInMAGAJA5a9gAgMpo61EOFTYAgMwJbAAAmTMlCgBURluPcqiwAQBkTmADAMicwAYAkDlr2ACAymjrUQ4VNgCAzAlsAACZE9gAADJnDRsAUBl92MqhwgYAkDmBDQAgc6ZEAYDKNJuN1KzRlGhTWw8AAFZDYAMAyJzABgCQOWvYAIDKaOtRDhU2AIDMCWwAAJkT2DLwT//0T+mXfumX0mGHHZbWrVuX9tlnn/TjP/7j6R3veEf6/ve/n3Lw0Y9+NL373e9e0dd8+9vfLsrgf/Znf5bq6tBDD03/8T/+x5STeDzjcY3Hdykx7nguDbr/+T//Z3rLW95SyW2/733vSz/yIz+SRkdHi5/JD37wgyV/Zp3L8PBwespTnlL83t9///3FdS644ILic//8z/+86P39zu/8TnGdr33ta0v+3ON5uxonnHBC+rEf+7FVfe1StxkXBlfxvG/W6NLIc1JUYOuxK6+8Mv3ET/xE+spXvpIuvPDC9JnPfCZdc8016dRTT01/9Ed/lF772temuga2Aw88MN1yyy3p5JNPrmxcsJzA9vu///ul3+7Xv/71dP7556cTTzwx/e3f/m3xXN93332X/JqrrrqquN5nP/vZdPbZZ6ePfexj6d//+3+fHnnkkZnf9T/90z9d8Gunp6fT1VdfnY466qjiDR0wWGw66KH4w/0rv/Ir6Wd/9mfTJz/5yTQ2NjbzufjYb/zGbxQBrm6mpqbS5ORk8f0897nP7fVwsnxcqL/bb7+9+P8IXj/5kz+5rK+J6tUxxxxT/HcEvXhO/MEf/EHx+3/GGWcUt/PhD384XXzxxUUVbrYbb7wxfec730m//du/XcF3A+ROha2H4o9ylF6vuOKKBV/EY5rlpS996Zx32DFN+qM/+qPF9ffff/901llnFX/ElzONN39q4nOf+1xx//EuP6ZaDjrooLRp06b0ghe8IN1xxx1zvu7Tn/50+pd/+Zc50zqzpz1jXG9729uKad0Y20033bTolOhdd92VXvWqVxXjj+seccQR6b/9t/825zrxvcbtPf3pT0/r169PW7ZsSc961rPSe97znr0+rjEtFWH3qU996szj9HM/93Nzpppiqvncc89NT37yk4vHOa4bj8Hu3bv3evv33ntvOvPMM+eM/7LLLivG3LHU4xK++tWvFj/bxz/+8cU0+NFHH53+4i/+4jH39aUvfSkdf/zxxXXi53PRRReliYmJtNJg8R/+w39IGzduTE984hPTeeedlx599NGZz8fn4jnVas1t7x3/jum+5VRIowL7Uz/1U8UUbFyiCvQnf/Inc64TlaNnP/vZxfcS3/cv/MIvpG9+85vLmj6bP83XeXzf+c53pne9613F4xv3G2OIx2z213WeW7Ofu3ubTt7bWGOM8RwIz3nOc4rbXM3UeecNTfxuhaiyPfDAA+n6669fsDoXz6EIdisVj8FP//RPF8/ZeB4885nPLJ6biz2XPv/5zxdji9+9+B353d/93SJczjY+Pl48tzt/j+K5FVO8/+///b+9jufyyy8vHt/4mUVVMm7jTW9604q/LxgkKmw9En/8YholpkO3bt26rK+JalyEu3jBfclLXlK86MQf0ghesablCU94wqrGEn8oIxR88IMfTNu3by/ewf/8z/988QI1NDSUPvCBD6TXve516Vvf+lYxXbuQ9773velpT3ta8QIaoe/www9f8Hrf+MY30nHHHZcOPvjgIuQccMAB6YYbbiimlv71X/81vfnNby6uFy8mse7ov/yX/1K80MQLSwSuxdYIdTz88MPpec97XvHYxPcRL6Y7duxIf/d3f5f+7//9v8ULw65du4rqRnw/MVUWQTBeoC655JJimivC6WLixSjGHy9WURmJEHHdddel3/zN3yxuLx6rvT0uEdpe9KIXFWOLae/Nmzenj3/84+kVr3hFEaQ6L/zxWEWYivuI0Lthw4bi9iMcLVc8bhFWX//616c3vvGN6Ytf/GLxIhsB4VOf+lRxnV/7tV9Lp5xySvpf/+t/FWG9I0JDfE/xPSzl937v94rH4mUve1kRlOP7+d//+3/PhJAQj208z175ylcW//1v//Zvxc83AlYsB1js+bKcIBI/0850ffw+xPd7zz33FOOIf8d04//4H/+jqGjPnq5fzHLGGj+HeKMTj2UEqRhDBJaV+j//5/8U/9/52rjPWMsWgTF+Bzseeuih9Nd//ddFcHzc4x634vuJn2O8SYpgG29Q/vEf/zG9/e1vL36n5k/BRmA8/fTTi+fLW9/61uL3Ib7PGMP73//+4jrx5iSeM/F781u/9VvF70T8vOP3N8JsvCGJsLeQeK7Hm6X//J//c/F70Ww2i8chnu/0p9q19WikPLXoiQceeCDKGa3TTz99Wdf/5je/WVz/3HPPnfPxL3/5y8XH3/SmN8187JBDDmm95jWvecxtPP/5zy8uHTfddFPxtT/3cz8353p/8Rd/UXz8lltumfnYySefXNzufPfcc09x3X/37/5da3x8fMHPXXXVVTMfO+mkk1pPecpTWtu2bZtz3fPOO6+1bt261ve///3i3y95yUtaRx11VGul3vrWtxb3+dnPfnbR6/zRH/1RcZ34Pme79NJLi4/feOONiz6Wb3zjG4vrxOM+26/8yq+0Go1G64477tjr4/KjP/qjraOPPro1MTEx5+PxPR944IGtqamp4t+veMUrWuvXry+eKx2Tk5PF18dtx30sJcYd13vPe94z5+Nvf/vbi4///d//ffHvuL+nPvWprVNOOWXO9V784hcX45+enl70Pu6+++7W0NBQ64wzzlj0Og899FDxfcx/nt17772tsbGx1qte9apFn6Ozv5fZz7/O4/vMZz6zeEw6br311uLjH/vYx2Y+9qu/+qvFx5ZjJWON53Xc7le+8pW93m7nul/60peKn/vDDz/cuu6661pPfOITW/vuu++cn3F8ryMjI63vfe97Mx973/vet9fn9eyvX+h3tSN+3jGGq6++uvjZdX7nQjz2cT9//dd/Pedrzj777Faz2Wz9y7/8S/HveHzjep/4xCfmXC8ei/j4Bz7wgUV/pvG7vmXLlr1+H9Rf/J2P58Nn9tu39fknbqrN5TP77VuMe/7rVK+ZEq2JzlTa/GmXWPMSU3JRHVmt2dOuISpOYXaFZDm3MTIysuR1orIV44wqQVSLYj1X5xJVkfh8Zzorvq+oAsQ78ajAReVvOaIqFBWt2ZWi+aKyGdNCL3/5y+d8vPPYLvVYxtceeeSRj1mzFF8bU4jx+aUel6gkRFWjM601/zGIKmBnOjp+5lFhe9KTnjTz9VHxjErcSsyfQotKS+f2Q1Q4omoblcKY7u1UZGL9ZDz+S70zjsXzUS3+1V/91UWvE5WtnTt3Pua5G5Xln/mZn1nTczema+MxWctzt1tjDTHNGM+HmAaMKnlUmOM5O/tnHNOiURmNtWwdUcU75JBDiufDavzDP/xD8Vzcb7/9iscrxhDLKeJnd+edd865boxt/t+EeM5EVS0q1SGeK7FMIaqAs5/DMRUe31NU/RcTvztRKY9qYlQNo7IO7J3A1iMxfRmhJaZuliOmZRabyom1TZ3Pr0b8EZ+ts54uXriWa6kppo4YY/xRj1YI8YIx+xJhJXT+eMdarZguiQD34he/uBhjvFjFVMtSYsoy2iXsbRzxojI/iMT6nljovdRjGZ9b7GfQ+fxs86/7ve99r/j/mEKd/xhEOJr9GHTGOd9CH1tMfD/zf76dr5891l/+5V8uprBiirYz1Rj/jo8vpbNeaanHPPfnbrfGGmKXZ0yrRoD67ne/W7T0ieUIs8Wu0XjTESEtxHViyUOsD1vNtFKE8LjNaB8Sa0BjGjPG0FnbN/+xmh0eF3vOxPM4QldMr85/HseU6lIh7NWvfnUxDRuh+hd/8ReL37tYHhDhH1icNWw9Eu9yI4DEu+vYNLC3kNF5YYoKzPzrxh/+2evXYqH0Qovn44/oate57c1yXkhi7U183/EHe7GKTKyx6QSNN7zhDcUlXhj+5m/+plhXdNJJJ6X77ruvCLsLibVA8zdhLPRYfvnLXy4qYrPH/eCDDxaBcqnHKL42fgbzxc8gzP/a+Y9L5/MRSGPN10Jio0XnvuLFb76FPraY+H7iRXZ2sOl8/eyPxXqv17zmNcU6xgiTERaiqhJVlKV01l7FY77YWszZz935Fnrubtu27THX61YVZiVjXY2ohnd2iS4lgnKsIbv11luLNYtRBV1tP8DYgRrr+P7qr/6qqNJ1xHrNhXTeVMw2/zkTj0P892K72PfW3iTCZ1xiXFG1i7VvUXGMat/sMdIfOv3N6qKR8qTC1kPxoh2hIdoCxCL2+WJapLMwPKZjwkc+8pE514l3yrE5YPZUSSxSj3fls8Ufwtk7P1cqKherrVp0RMiKxf5RXYipq3jhmn+ZXzEJERpi+jJCXuzuXGqHX1Tj4nudPzU5WzxWsREhXsjmVz86n1/qa2Nx9PzGpfG1Ec7i+1tKhLFYtB7TvQt9/3HpvNjFbcUU3OwX0JjC+vM///O0Ev/9v//3Of/ubFqYvxuzs/EjHusIyTFNujcvfOELixAeu/4WE4v1o1o3/7kbIS9+TvOfu/Hzm/2GIwJnbJZYrZVU3VYy1ipFeI43LX/8x39c/PziflcbZDpvGmbvRI+/O9EDcrGNO9dee+2cj3VCY2wAChGu4ucSz8eFnsOdNx17E0sT4nc2dmjH38BOqxTgsVTYeiheHOKFLqbCYrdo7AJ9xjOeUQS1CDWxIzT6NsU6kfgDGDs1Yzox/nDGH7nOLtGobMTOso6oYEXLgbjdmHKIqYfYdbmaXWwd0QYg3qHHeGOsMYblVArmiymZ2MUZUzTx/cYLdLxAxNquCKedoBXfc6dnVYw7vofYCRgvWkvtKPz1X//1ItDEDraoUMR6mXihvvnmm4sXmQhBsXYnpoPiRTEew/je/v7v/75osxJTs0utf4vHOcJZrJ2KHXQxnthFF7sG4/uJqay9iRfh+PlFtTCqJtE2IYJoBO8Ign/5l39ZXC92yMYLZ4T12IkZgTfGHVWJ5Yopq9iNGwH12GOPndklGvcfP4fZYuyxezWqvvG5aLuwN/Hzi8pn7BKNxznWJUW1LkJthL/YhRuBO56ncb147OM68WIfn4uKWmdncOe5G49PPH/jjUxcL567scN2teLnGy699NLi+46AGW8Y4rGZbyVjrVJMQcZzMSqdEa7W0kA7ejrG9xrfS+zojLWi8Xscuz4XEm+a4rkcU6nxnIjGwxHu4mOxuzvELtIIkjHG2GUcv2cxHRrBNtZGxu9frFVdSPxcIxTHVHBMPUf1LnbjxvMmnqPAInq964FW6+tf/3qxs+vggw9ujY6OtjZu3FjsIvy93/u91oMPPjhnd1fsZHza055W7CJ7whOe0DrzzDNb991335zbi11973jHO4qdf7Hz8phjjmn97d/+7aK7RP/yL/9yr7s7YyfZy1/+8mJ3V+yG7Dx1Otf9r//1vz7m+1rodjof/+Vf/uXWk5/85OL7iJ1yxx13XOttb3vbzHUuu+yy4mPxPcZjEo/Na1/72ta3v/3tZe30+7Vf+7Xia+L2999//2KX6z//8z/PXOff/u3fWuecc06xK3N4eLjYVXfRRRe1du3aNee2FtpxGzvlYrfgfvvtV9z+05/+9OL77+zu3NvjEv7xH/+xddpppxVji9s44IADWj/zMz9T7GCd7Qtf+ELruc99brFDMa5z4YUXtq644opl7xKN59I//dM/tU444YRi9+PjH//4Ykfrjh07FvyaP/uzPytu++Mf/3hrJWLH4bHHHls83/bZZ5/i+Tv/5/7BD36w9axnPav4eW7evLnYlXr77bc/5rY+9KEPtY444ojito488sjWn//5ny+6S3Shxzc+/uY3v3nm37t37279p//0n4rnWee5u7fHbjljXc0u0eVctyN2asbXxM9s/vNypbtEP/WpT7We/exnF49p/N7F8+j6668vbj/+DnTE34dnPOMZrc997nPF34143sXvSOxCn7+rOf79zne+c+Z24+ceO5hf//rXt+666645tzn77078fE888cTWk570pOLxPeigg4rfhXie0p+7RG/cf3PrCwdsqc3lxv03Z7lLtBH/s1iYAwZLVGRjo0dUHve26xdgKbG7PyqnN+6/OW2s0Rq2R6Zb6YUPbivW066lul82U6Iw4GK9WEzFxgL3aIwcJwcIawB5EdhgwMWOyOhUH+8k40SE6EAPQF4ENhhwsXHAygigKtp6lENbDwCAzAlsAACZMyUKAFQmmjev5li1XmlkOlQVNgCAzAlsAACZE9gAADJnDRsAUJlGM6Vmrdp6tFKOVNgAADInsAEAZE5gAwDInDVsAEBl6teHrZFypMIGAJA5gQ0AIHOmRAGAyjSajeJSF42U51hV2AAAMiewAQBkTmADAMicNWwAQGW09SiHChsAQOYENgCAzAlsAACZs4YNAKhMo9m+1EUj5alGDyEAwGAS2AAAMmdKFACojLYe5VBhAwDInMAGAJA5gQ0AIHPWsAEA1a5ha+a5LmwhjVaeY1VhA2AwtVq9HgEsm8AGwOCZ3JXS9HivRwHLZkoUgMGpqEVIa02nNPloSs2RlJqjMWfX65H1tWajUVzqopnpWFXYABgM0xMpTexoh7XOvzv/DZkT2AAYDM0FJpWmdlvLRi0IbAAMiIWmuiKsCWzkzxo2AAZDrE2KNWvzNxtMT6Y0NNqrUfW9aOmhrcfaCWwADI7YcDDfxMMpTTZTGtmnvREBMmRKFIDBEJW01uTiQc7MKBkT2ADofxHIYofoYhrNhTclQCY8OwHo895rEylN7UqpNbXE9aZTmtqZ0vCGbo5ucI6myrS32UJyHavABkB/iNAV054hAlrnY0sFtdk6XwsZEtgA6BOt9gYC6EMCGwD9oTHUviy3ojZfTJ1GRS7Ws1EabT3K4VkJAJA5gQ2A/u6ztqKv19uDPAlsANAx/xQEyIQ1bAD0h6I61iohsK0va0Ro61EaFTYA+kPxQtso4TQE06LkR2ADoH+s+SxQL4vkyZQoAP1jzdNZ0Xx3IqWh0ZIGhLYe5fBWAoD+0SihDhHNdyd3ljEaKI3ABkD/aA6VczuTj6Y0Zcco+RDYAOgfZW4YiEqb80XJhDVsAPSPslsyjG9LaXhDSsNafayWth7lUGEDoM/WsJX8ghvToypt9JjABkD/iOpI2Ts8h8ZSapqQorcENgD6y/RUiTfWaE+JQo95ywBAf4kZ0bL2HkRYa6htrEWj2SwuddHI9KCL+jyCALAcQ+vKuZ3maHs6FDIgsAHQXyJolSEOgm+VOb0KqyewAdCHGuW19XAYfClHU9XpslL3339/OvPMM9N+++2XNmzYkI466qh02223zbnON7/5zfTSl740bd68Oe27777puc99brr33nuXfR/WsAHQfztFY91ZadWxCGx59uai9x566KF0/PHHpxNPPDFdf/31af/990/f+ta30pYtW2auE/9+3vOel1772tem3//93y9CWwS4deuWP33faLW8dQCgz4xvbx/iviaN9vTq6D4lDWqwbN++vQgmtx19aNpnqD4TejumptNP/MO307Zt29KmTZv2ev03vvGN6Qtf+EL6/Oc/v+h1Tj/99DQyMpI+/OEPr3pc9XkEAWC5WtNr+/rmSEpjjxPWBjxwbp912b1794LXu/baa9MxxxyTTj311KK6dvTRR6crr7xy5vPT09Pp05/+dHra056WTjrppOI6z3nOc9InP/nJFY1HYAOgv8TE0VqnQ6M653SDEqeoa3ZJKW3durWoEHYul1xyyYLf3t13350uv/zydPjhh6cbbrghnXPOOen8889PV199dfH5Bx98MO3YsSP94R/+YXrRi16UbrzxxvQLv/AL6WUve1m6+eabl/8wmhIFoK/Ey9ru76/9dkb2Lf/UhEGcEv3xw+o3Jfq1e9J99903Z0p0bGysuMw3OjpaVNi++MUvznwsAttXvvKVdMstt6Tvfve76clPfnJ65StfmT760Y/OXCc2IGzcuDF97GMfW9a46vMIAsBylLXZYM1r4KizTZs2zbksFNbCgQcemI488sg5HzviiCNmdoA+4QlPSMPDw0teZznsEgWAx2ikNLKx14PoC43G6lpl9EpjemVjjR2id9xxx5yP3XnnnemQQw6ZqcAde+yxS15nOQQ2APpLKRW2VkqTu1IaLunUBPrWBRdckI477rh08cUXp9NOOy3deuut6YorriguHRdeeGF6xStekX76p3+6aP/xmc98Jn3qU59Kn/vc55Z9P9awAdBfImhNPlLObUVbj6i0OU901WvYvvYTT037DNfn8dsxOZ1+/La7l93WI1x33XXpoosuSnfddVc67LDD0hve8IZ09tlnz7nOn/7pnxYbF77zne+kpz/96UU/tlNOOWXZ4xLYAOgvU7tSmigpsIWiF9u+5d3egBikwNYNpkQB6C+lliGsZVuz4rin+gS21MyzjlWjRxAAlmONTXPnMx1KBjwLAegvjaFyb8/KITIgsAHQX+JYqdK0Upp4OKWphY8lgm6xhg2A/rLWc0QXO6YqgqDp0dX1Ydtz3FMdNDIdq2ceAH04JVr2i270ZdtZ8m3C8glsAPSXqJBEK44q2oWUXb2DZTIlCkD/iUPbpytYdxZr2YbXl3+7/SyOparR0VQp07GqsAHQhyra2elAeHpEYAOg/9gcQJ/xjAag/+idRp+xhg2A/hMbBMhCHEtVp6OpGo6mAoAuib5pVd1ua6qa24YlCGwA9KGqqiTRj031ju4zJQpAf6m6V1q09hjZWO199BEnHZRDhQ2A/lLVdOiMPF/Q6W8CGwB9puJF4/IaPSCwAdBfqt4UEFOuE49Wex8wjzVsAPSX6S7s4pzamdLwOg16l6HRbBSXumhkOlbPNAD6S7cOaNecly4S2ADoL93qk6YfG10ksAHQP4qqV5cqX6ZD6SJr2ADoI12cpox+bE0vo3sVa8IyXRe2oEzH6u0BAP2jm+vKYkrUOja6RGADoH90c13Z9ET3Njgw8NRyAegjXax4xRq25lD37q+mGo1mcamLRiPPqml9HkEA6PmxVLPludaJ/iSwAdAfYj1Zt1ttLLSGLT42ZbqUcpkSBaA/TjcY3x7/0b37jHA48XBKzZH29GgEtFjXFpcQO0hHNsUcW/fGRN8S2ACot6hoRXDqZljrmB3QHvO5yZQmH01pZGMaZI6mKocpUQDqrditmempA9PjvR4BfUJgA6Decl4rFtOlUAKBDYB6y7W6FgQ2SmINGwA1l2ffrILAZg1bSVTYAKi3XKdEY+dojRrGkjfPJADqLdfzPFXXKJEpUQBqLtMKm8C2R90qja2Uozo9ggBQn5cygY3+f5YDwDINb0jZaQzVrKpE7jybAKi3oZGUhtanrKiuUTJr2ACov9ZkyorANkNbj3KosAFQf7m19oiD36FEAhsA9ZfTejHr16iAtwAAUJpGSsOZrafrMVOi5RDYAKi/njfP3RPUhtal1MjzBZ96E9gA6AO9CmzNPUFtTFCjUgIbAPWvrrWmunynghrdJbABUG/d3CEamwmi55ugtmyNRqO41EUj07EKbADUXJemQxvDKY1uEtToCYENgHrrxnRoVNSisias0SMCGwAsZwdo9FeDHhHYAGBvh8sLa6sXfc2aNWok3Mzs1Iw9avQIAkC3e7A12tOh0GMCGwD1VuW5ndaskQlTogDUW5XTldEyZPLRPdOiwttqOJqqHCpsANRbBKlouVGVqV09aMwLcwlsANRfs+JNAVO7q7192AuBDYD6q3TjQbxU9vpweQadNWwA1F9zJKXp8Wpue2RjSkOj1dz2AHA0VTlU2ACovzjjs8owCD0msAFQb9NTKU08UuUdVHjbsDymRAGot4kd1YWqaJrrlIM1aTSbxaUuGpmONc9RAcByRLuN1mR1tz9d4W3DCghsANR7OrTyQGiHKL0nsAFQX93oj1ZlBQ+WyRo2AOopjo2qqpXHbJO7Uhq1U3S1HE1VDhU2AFiKY6nIgMAGQE1FJaQL1RDr2MiAwAZAPUVH+mi70a3pV+gha9gAqK/mcErdmLEsNh7ox7bqYJ3pcU8LynSsAhvAWqbKosN+9OqK4DC0rt1ktemFvWumJ7pzP9ax0WMCG8BqFWFtT2CI/+/89/DGlIbX9XRog6Mb1ZCoEHm5pLc8A1ciFp1O7WqvZYh1E/GOGhjcvweLVXcmH9lzpFGeUyt9pfJjo5opjW5SNV0DbT3KIXGsxMTDP/wDHc0axzY7Yw4GVRHG4rLI7sF4Y+fvQ/2b2sYbc2GNDNgluqIGjbPfTUe1rQsNG4F8DW9Y5BPNeJve5cEMqKrbbfg5kgkVNoDVinVqUX2JN2+x8SCqPVFVG9loOrRbKm+3of8aeRDYVvIuqzkyt8rWHO3liIAcxN+FuHSqPYJal6trFQe2WP4Su3+tWV61RqOZGs1mrcabozxHlauRfVIaWp9Sc8wiVOCxhLXuKk4g6EJD28lHq78P2AtvGVYiUvfIYmtWAOiqqH51Q8ysxLT3kFkVekdgA6CmbZa6FNg6PfdiWjTT6bKcNRqN4lIXjUzHOpzNL97EjpSmx9u/DNG/qOgY7hcDgBw2BEynNLmzvaEEeiCPRBTrAyKshdaeX4rd2xy2C8DCool5t+mrx0AHts7pAY8x3d1yNwD1ULyx7/JGAKfb0GPDWR/cW3VDRADqpxtv5uM82FjLFDM+w+vbgY3ViaOeMj3uaUGZjnU4i23Zi+n0NgKAjqqXy8RrTzRFLv57VLsWstD7KdHGIpkx+p0NCWwAdFnM7nRmeIQ1MtH7CluEsul1P1zHFmXnKD9b3AnAQqruIBCvQ4Iamel9YAuxTbpziLJfEgCWUuUb+pgOtV6tXM16HU2VMh1rHoEtCGoA9HwNW8PrEVnKM0YCwKItPR6p6Mab7SU5kKF8KmwAsJZWUGsVfdb0Wiudo6nKocIGQH1UGdgc7k7GBDYA6mNqzzGG3WwzBRkQ2ACoh+nJ6g58j52nTe2kyJe3EwDUw1In46w1rEV7KSrRaDaKS100Mh2rChsAg71+LXaGOgqRzAlsAAxw/7U4mNxmA/JnShSAmih5qmpoXXtnaKZtHGA2gQ2AemjFpoMSxZGIwlr14jGu0+PcyHOsAhsA9WjnUdqUaCOlkX2yfWGGhVjDBsBg9V+LTQaa5FIzKmwA5K3VSml6d3m311Cr6KZ4uHNtlVGnp0emwwKAjlb5fdegZgQ2APKurk3uLPf4KQe8U0MCGwD5mtrVvpSm1Q6BUDPeZgAwGNW1Qs1aTPSDeLjr9JA3UpZU2ADIU7HRoORq2NBYubcHXSKwAZCn0qtr+TZFhb0xJQpAnqpYa+bc0O5z0kEpVNgAyFNzpPyzQ6GmBDYA+j+wDa1PaWRjttUT2BuBDYA8lXl2qM0G1Jw1bADkqTmU0lQZtxPNcp1u0CuWsJVDhQ2APMWpBGWYnkhperKc24IeEdgAyFOZB74LbNScwAZA/yttPRz0hjVsAGS8S7Sk5rmtqXZft1wXKPWzZqN9qYtmnmNVYQMg38A2vL6c25oeL+d2oEcENgDyNbwhpZF9SrghL3fUmylRAPIV05ilnClawTFXLIu2HuXwlgOAvDcLxPqztWoM5ftKDMsgsAGQp+mplCYfLee2hko+lxS6zJQoAHlW1sa3lTeVObX7h2vioIYENgDyM7Wr3HVnRR82k0q9UbNFbDHeDHn2ApCfqYmSb9AB8NSbChsA+Sljo0GIkBbHUjVHa1blgbkENgDya+VR1nRoo5nS2JZybovVz+XVaT6vmbKU6bAAGFilnfvZsMmAviGwAdC/06HQJwQ2ADLTKPHweOgP1rABkJey9gY0h0q6Idai0WgUl7poZDpWFTYA+vClKXp/CWz0D4ENgLzEzs61Mh1KnxHYAMhLo4TqWGk7TSEP1rABkGdoW0srtuZwu59bpuuRBi+A1+jn0MhzrCpsAOSntYap0OGNKQ2vz/aFl/5z//33pzPPPDPtt99+acOGDemoo45Kt91224LXff3rX19sbHj3u9+9ovtQYQOgfypsUVkbXlfBgGBhDz30UDr++OPTiSeemK6//vq0//77p29961tpy5bHnrDxyU9+Mn35y19OBx10UFopgQ2A/DTi5WkVB8DbGZqdfp8RvfTSS9PWrVvTVVddNfOxQw89dMEq3HnnnZduuOGGdPLJJ694XKZEAciPHmrUxLXXXpuOOeaYdOqppxbVtaOPPjpdeeWVc64zPT2dXv3qV6cLL7wwPeMZz1jV/QhsAORntZWymBKFEmzfvn3OZffu3Qte7+67706XX355Ovzww4vq2TnnnJPOP//8dPXVV8+pwg0PDxcfXy3PbADyUwSvmJta6UK2Gs29kbWtW7fO+feb3/zm9Ja3vOUx14vqWVTYLr744uLfUWG7/fbbixB31llnFZsP3vOe96Svfe1razpFQWADIFOrCGxFK4+qxsOqNBvtS10022O977770qZNm2Y+PDY2tuDVDzzwwHTkkUfO+dgRRxyRPvGJTxT//fnPfz49+OCD6eCDD575/NTUVPqN3/iNYqfot7/97WUNS2ADIN91bNMrbIA7+WhKI/vUa5U7Wdq0adOcwLaY2CF6xx13zPnYnXfemQ455JDiv2Pt2gte8II5nz/ppJOKj//SL/3SsscjsAGQ8Tq2Fe4UnR7fU5UT2OiOCy64IB133HHFlOhpp52Wbr311nTFFVcUlxC92eIy28jISDrggAPS05/+9GXfj00HAORptcdLtabKHglr0ajhZQWOPfbYdM0116SPfexj6cd+7MfSH/zBHxRTnWeccUYqkwobAP11CPz49nYft5ENDoGnK17ykpcUl+Va7rq12VTYAMjTWlp0tCZTml5F413IlAobAP0nzhMdWnhXH9SRwAZAf61hK752yk7RTETvsbX0H+u2RqZjNSUKQKZavQl7kCGBDYA8NUbWVmGbnixzNNBTAhsA+W46WO2ZohHYphY++xHqyBo2APIUa4mitcdq+6pFha1Yy7bK0Ec5VtHbrKcaKUsqbAD06caDyZQmVdnoDwIbAP1rLb3cICOeyQDkKRrfrvmYqTXsNKUUjWajuNRFI9OxqrABkKepEk4qsFOUPiGwAZCpEnqpTe0S2ugLAhsA+ZkaL68tx8SOcm4HesgaNgDyEhWxiYfLuz1tPXpLW49SqLABkJeYxizTyMZybw96QGADoL9LHGveaQq9Z0oUgLw0R8qtskXz3VarfXICPTqxokaPfSPPsQpsAPR3s9vYvFC0CGmlNLJPti/IsBSBDaDbotoTBIfuTGFGA96Z2562CYFaEtgAumlyZ/sS1Z7maEojGwSIbh1O0BhOqemxpp4ENoC9VcNiSi2qPrG2amh09bcVtzP56A//PT2e0u6JlMa2xHk4pQy3f6ZEm+U0zp1taKzc22NZLGErh8AGsFRYG9/2wym6WAjf2pjS8LrV3dbEIwt9IqXJXe1KG7OmLRvlV9ocBE+NeUsHsJiYupy/nioqZJ01aCtR3M4iX6ftxLxgu72ixyTT0gksg8AGsJgFQ0OrXQFaqaWmPGOqlbbW5Ooe3+Uw7UyNqQ8DLGaxzQCrWeQSYWFo3WP7i8W6Kmurfqis80PJR7PRvtRFM8+xCmwAixnuBKzW3GrYais1wxva66jirMz4/9glmusK516Ynqo2sGnpQY0JbACLiWA2ujmlyUfaL/YRsobXcC5lhDMVtcXF41yl6MemrQc1JbABLCVe4Ec39XoU/S/C1OwGt9XcScW3z0KihlynQnIj5ckKTADymA6tnJc86suzF4De68YOzqk4YQLqyZQoAP0tNncMr7fhgFoT2ADovfntTkoV57Z6uesZZ1OVwpQoAL1XVbPcWEIe1TWoOYENgP41stFJEvQFgQ2ADJR90vueJsexfg36gEl9AHorTn6oYkq0OJUiz/VIg8QStnKosAHQW5MVtNsozm51ogT9Q2ADoHeisjY9Xs3tVjHNCj1iShSA3mlVdMJBrF3Tdy0PzUb7UhfNPMeqwgZA/x1JZTqUPiOwAdAbk7tSmnykmtvWyoM+I7AB0JvKWlVhDfqQNWwA9M9RVCP7to+hyrU3wyDS16MUKmwAdL/vWiWBLV5o7QylPwlsAPTJQe+tlCZ2pDRVQZsQ6DFTogB0z9Tu9mUAp7QGlRnRcqiwAdAH1bXZ91FxIIQeENgAqH/fNehzAhsA3RM7OKsWx1K1bD6gv1jDBkB3RIiq6iiqOfcT9xGBLdPFSIPGIrZSqLAB0J2wNr59z6HsVWt0JxhCFwlsAFRvejyl1mR37iuOpWqYQKK/CGwAdKdZbrdEdS3TaS1YLW9BAOivwNYYak/BCm1ZaDTbl7poZDpWgQ2ALujGrs1GSkOj7elQYY0+I7AB0B+BbWRjSkNj1d8P9IDABkD1zXKr3h3aHBXWcqWtRykENgCqNflohTee54srlE1gA6C63ZrjOyps5xFr1sZSGt5Q0e1DPgQ2AKox8Ui1vdfGtuS7pQ9KJrABUM26temJiu/EdGgtNGr2o2qkLHlrAkD5Jh+p/jSDbp2cABlQYQOgHNGsdmpXe0do1dW14fXt0AYDQmADoKTD3bd16dD1aJ0/1IX7oQyNRqO41EUj07GaEgVg7aKi1pWwVtxZe40cDBCBDYC161pYixLIcEpNL18MFs94AEpYu7a7i/c3Wf3JCZAZa9gAWJvp8e5W2DohkXpoNtqXumjmOVYVNgDWpvJ+a/M1U2radMBgEdgAWJtubwAY2WCXKANHYANgjbo8PTk13t37gwxYwwbA2jRHU5ra2d01c9OTKTW9hNVC9DXLtLfZgjIdqwobAGvUiw0Aeb6oQlUENgDWJqpd3RR92DKtgkBV1JMBWJtGs7tFtqHR9n1SD818W2UsKNOnVqbDAqA2ur2WrJtNeiETAhsAazM01t01ZXHKQbcb9UKPCWwArE1MT0ZvtK6Jo7C63awXessaNgDWrhlVtmjt0aUzPid3pjS8rjv3xRo1a7bmsJlylOeoAKiX2LUZmwG6ZjqlyV1dvD/oLRU2AFZ3+Prkoz/cABDr2Lq9rkxrDwaIwAbAyk3tal9m/7sXoZH8OemgFKZEAVi56QwW/cduURgQAhsAK5fDInKtPRggGfzGAVA7cTxUDlW+aaGNwZDBbxwAtRObDKZ29nhaspXS+LaUxjan1Bjq4ThYUhxLVaujqRopRypsAKxuYfboppSaI+2XkuL/e8TeAwaAChsAqxNVrQhtHbt/0P11ZdH7ram6Rv8T2AAob5o0erN15b7Wtzc+dPvgeegRz3QASgxsO6udo4z7GN6Yba8sFhDBOoddxcuV6VjzHBUA9RMvdFUeTzWyb0oj+whrDCSBDYByK2BVsROUAWZKFICS+7NFLaCCdh/FhgahrXa09SiFChsA5YnpyqEetviAPiWwAVCuqnqyTU9Wc7tQAwIbAAOxyw7qzBo2AMpVyfmezZSG11Vwu3RlmrxOO3sbeY7V2yAAytWqYOoyTjNQuWOAefYDUO46s6nx8m93SHWNwWZKFIDyTOwo96SDaJY7PeGE9zprxhFiNaoPNfMcq8AGQDla0xUc/t5KaWRjybcJ9SOwAbB2UQWr4uD3CIGAwAbAGk3t3jMVWtGauFYr25170C0CGwCrF2FqooLKWsf0eHvXacPpCbWlrUcp8lxZB0A9FFOWFU5bNsf2nE8Kg01gA2D1quyN1hxt336mFQ/oJm9bAMjzfM/hDe2GuYDABsAatCaqvPEKb5uu0YetFHmOCoABPjd0j/GHU5rcWd3tQ40IbADk2SfN0jWYYUoUgPwCW2w2GN1iw0E/0NajFCpsAKy+B1tV68yaI9m+cEIvCGwArP6Eg6oCW+lnkkK9CWwArE6cQFCFxlBKI/tUc9tQU9awAZBfD7YIbfQHa9hKocIGwOraeVQ1bRm3W2UYhBoS2ABYuald9b59qBmBDYC8+q9VfUYp1JA1bADkF6hiB2qcJUr9OZqqFHmOCoC8Vb0pIPqwATMENgBWbkiggm4yJQrA6ipsUQWbnqjm9puj1dwu3dfIt1XGgjIdqgobAKvUqvCmnXQAswlsAKyuD1uVvdK09YA5BDYAVm5q52DOS0GPWMMGwMqra8XB7xVqennqF41GIzWajVqNN0cqbABkVl3b04fN8VQwQ2ADYPlareqrax3duh+oATVnAJavNdk/zXnp3qkYdTpqrJHnWPMcFQB5qqrvWrfbhkDNCGwALF8315XpxQYzBDYAlr9+rZuBLdawxX0C1rABsJKKV4UBamhd+xLTrnFfQ2P1OtKIhUVLjxq19UiZjlVgAyCT9Wvxwh5nlNpsAPOZEgVg+Q1zK7398WpvH2pMYAMgj5YeremUJp0hCgsR2ADYu1j8X/muzVZKkzttNOg3sQ6xbpcVuv/++9OZZ56Z9ttvv7Rhw4Z01FFHpdtuu6343MTERPrt3/7t9MxnPjNt3LgxHXTQQemss85K3/3ud1d0HwIbAPm02IgzRG00oEYeeuihdPzxx6eRkZF0/fXXp2984xvpsssuS1u2bCk+/+ijj6avfe1r6Xd/93eL//+rv/qrdOedd6aXvvSlK7ofmw4A2LtutfMY2did+4GSXHrppWnr1q3pqquumvnYoYceOvPfmzdvTp/97GfnfM373ve+9JM/+ZPp3nvvTQcffPCy7keFDYA8KmzN0WyPBWINms36XVJK27dvn3PZvXvhs22vvfbadMwxx6RTTz017b///unoo49OV1555ZIPybZt21Kj0Zipwi3rYVzhww7AIOpKhc3aNfKxdevWojrWuVxyySULXu/uu+9Ol19+eTr88MPTDTfckM4555x0/vnnp6uvvnrB6+/atSu98Y1vTK961avSpk2blj0eU6IAZLDhAPJy3333zQlUY2NjC15venq6qLBdfPHFxb+jwnb77bcXIS42F8wWGxBOP/304ms+8IEPrGg8KmwA7L3dRjeqX1HF6+bRV7CECGuzL4sFtgMPPDAdeeSRcz52xBFHFOvT5oe10047Ld1zzz3FmraVVNeCChsAve2/9sM7Smni4ZRGN6XUcNpB31hlq4yeaaxsrLFD9I477pjzsdgFesghhzwmrN11113ppptuKtp/rJTABkBvTziYX83bvT2lsc02IFALF1xwQTruuOOKKdEIZbfeemu64oorikuYnJxML3/5y4uWHtddd12amppKDzzwQPG5xz/+8Wl0dHRZ9yOwAbD0+rXKzxCdL0LbD1IaXpfS8IYu3zeszLHHHpuuueaadNFFF6W3vvWt6bDDDkvvfve70xlnnFF8/jvf+U6xkzREQ93Zotp2wgknLOt+BDYAFg9rEzu6OCU6585TmhoX2PpBn0+Jhpe85CXFZSHRk61VwukdAhsAC09Njj/co7AWW+JGUhpaeJE3DCKBDYC5ooVHEdZ62MpjZB9r2GAWvw0AzDW+o/d916YW7ioPg0qFDYC5O0J7NQ06ZxzjKU022tOidVr/xGPNOu6pFpp5jlVgA+CHcghrs5voxg7V2C0aa9pggOUZIwHokdyqWbG7zksVqLAB8EM5TT/GpoORffMaE/SIwAbALI382os4pqreBqAPWzeoMwOQ54tVhLXJR3o9CsiCwAbALBkFtjC0vtcjgCyYEgUgw8AWLT1GUxqyO7T2mo32pS6aeY5VhQ2APKdEnSMKMwQ2ADJ8aWi117AB2fxWApCTbKps0YMNCNawATBPJoEtTjqYmmgHyE61rTiqaiijUMmy+unFpS4aeY5VYANg3lmimUxFTj762I9N7WoHyrHHCW0MlDxjJADdNzWe0vi2SG0pb62Upnb2ehDQVSpsALSrWZM1CUFxXJXD4OtDW49SqLABDLqp3TUIa415x1Xl+aIKVVFhAxh0OYW1qJw14qVpur3BoDW1Z5PBcHsaNDYhRENdGDACG8DAy6la1UhpeP2sCtrI3Ea6XrUYUJ76AIMujn+anExZmN6z8aGorkWVbd2ethA5hUpWJH52dfr5NfIcq8AGMOiaMcWY0bRoTIN2WnpEG48IbKNbsn0hhW6w6QBg0MUasZxFpS0qbzDABDaAQReVq9zbZEw8ktL0RK9HAT1jShSAlJrDmQeiVkrjDzvhoLZvCGpUH2rk+fyq0SMIQGUamVfYZqZuHQjPYFJhA6BdYcvZyD7tnaMwoDL/DQWge60XhlNqZdLeY76WylptaetRCoENgB9W2aYyCmxFO4/N7Wa6mb6IQrcIbADk2x8uQhtg0wEAe5rVRpPanAhrMEOFDYC8DoDvKNqMrO/1KFgra9hK4e0LwKCbjura7pRn1S/DcUEPCGwAg65zbmeOR1JN7Gj/Pww4gQ1gkE1P5n1OZxyZZS0bWMMGMNByra5FPSHajIxs7PVAWKsI3HUK3Y08xyqwAQyqWNSf6/mhw2MpDa3L9sUTus1vAsCgmng0712r49udcAB7qLABDKKp8XyPoZrRyrbFAisQP8I6/RgbKUsqbACDJqpW2a5dmzdOFTYoCGwAgyZ2hUaPs+y1UprWhw2CwAYwaHI81WAxOR1GDz1kDRvAIIkmtLWoru1Rp7GyMEdTlUKFDWDQGuXWRiOl4XW9HgRkQYUNYKDUYRF/I6XmaDusRfNcQGADGCh1aETbGEppdJ9ej4KymBItRQ1+cwEo9WzOuOSsOdTrEUB2BDaAQTMc53PmWUUoTO3O98gs6BGBDWDQRAVrJOcpRy9NMJ81bACDKNN1Om3T7Qpb7lO3LI81bKUQ2AAGUp4vSoXRLdm+aEKvCGwA5LODtTnW/n+BDeYQ2ADovei7NrQupSHToLAQgQ2AHmumNLKxHj3iWIWoltapYtpIOfLbAUAGpy/k+SIJuRDYAOitoromsMFSTIkCDKKp8ZTP2rWxXo+CKpkRLYUKG8CgmZ5KaWpnysLwhl6PAGpBYAMYNJOPpLzWrwF7I7ABDNpUaC7ndBa7QgU2WA5r2AAGRauVV3WtNZ3SxKMpjW3u9UiokqOpSqHCBjAoIiDFJSetqZQmMgqRkCmBDWBg5Dj92Eppale7+gcsypQowMDIOBRFpa3hJakvmRIthQobwKDItYrVGEppanevRwFZ83YGYGBkGtiGNzr0HfZChQ2A3p1yENW15lCvRwLZU2EDGBS5TYk2R1Ia3rfXo6Bq1rCVQoUNYGC08ttoACyLwAZAj2QWICFjAhvAoMhtSjTlOfUEObKGDWBgZBTYRvZJaWis16Oga8G8TuG8kXIksAEMjB4HtghoUeUbXp9S08sPrITfGIBB0csp0UazXVUDVkVgA6A7zXEZTGZES2HTAcCgiCpXLwytT2lotDf3DX1CYAMYFHGqQE9Mp9Sa7tF9Q38Q2AAGRa+OgIqw1qvqHvQJa9gABkWjh4FteqJ9FBWDx9FUpfCWB2BQFFWuRm+OoJrc1f37hT4isAEMkl5Ni0bvNWDVTIkCDJJG/Nmf7O59Dm/QKHeQmRIthd8ggEESwWmqi+EwKmtaesCaCWwAA1dhq/xO9pwVKqhBWaxhAxgk3dh4EEFNWINSqbABDJJYnxMbD6Ynq20fovcaM5xNVQa/TQCDpupp0cmdTjaAkglsAIOm6h2b0SDXrlAolcAGMHBa1d58TLdWOeUKA8hbIIBB02pVf9j71G5VNtr0YSuFChvAwGl15/zQyoMhDA6BDYDyxWHvQGnUqwGoQKt96HtXGvWSf1ePPKcZF5TpUFXYAKhGrGPbW3sP06awLN76AAycLpUQpna1L6Nb2s16I5xFiJseT2lorD1tOjXR3pwwslGjXViCwAYwaLoajGKHYLMd1iYfaQe2+WvciipcpvNQkAmBDWDQxNFRXdNKaXx7ez3bYrtTW5PWu/U7eXzN1J8BBk1XA9ueQLa3ViKdyhuwIIENYNDEjr2hdSkr1q/BktSfAQbR8Pr2hoAcxAYEpyL0LycdlMJbGoBBFBWtXKpswxvaB8YDixLYAAa5ypaDyZ36scFeCGwA9FZMzUZvNmBRFg0ADKrp2L2ZgZgOjXVs9PPZVKk+GilHKmwAgyqXwLa346sAgQ1gYLVmnTbQSzYcwF4JbACDajpOH8igie/QaK9HAdmzhg1gUBVnfPY4tMX9x9FVnQPi6T/6sJVChQ1gUOW00H/i4ZQmM2nkCxkS2AAGVU6BLSptk4/sOSheTzaYz5QowCBPicaC/+lMNh+EGMvEjpRG9+31SCiLKdFSqLABDLKcqmwdNiHAY6iwAQyyZoSjqChkNA0ZFbaJR8q9zThcvjhkfjTbCgosRWADGGQRXiLM5DQtWig5QMb3V3yPjXYFrwhv+r9RHwIbwKCLtWwDo5XS1O72ZY5mO8RFmIsAS3mcTFUKz0qAQTdQgW0x0ylN7WxfZqZOm+3GvqZQyYDABjDwBLY5ZlfgitA2nNLwBo196SmBDWDQqbAtfTB9a9JjRM8JbACDLhbfx9Rfr4+pytXwetOia6EPWym8ZQAYdPECNbo5paH1+a647pWorOXYq46BI7AB0A5tIxtSGnucgDKb6hqZMCUKwA8JJ/Ooa6ydvh5l8EwEAMicwAbAXLEBAciKwAbAXEPrtLGAzFjDBsACGxD2SWl8e69HQj/Q1qMU3kIBsHBvtqLNB5ADgQ2AJVpamIiBHPhNBGAvU6M/6PVIqDNToqVQYQNgcXHg+fDGXo8CBp7ABsDShtel1Bzt9ShgoAlsAOxdTI3GRgSgJ6xhA2CZ69n2TWl8W0qtqV6Phjqxhq0UKmwALP+FbHSTprrQA37rAFi+CGsjm7I9IBv6lcAGwMp3jo7u2+tRQDbuv//+dOaZZ6b99tsvbdiwIR111FHptttum/l8q9VKb3nLW9JBBx2U1q9fn0444YR0++23r+g+BDYAVi42IMSaNhhwDz30UDr++OPTyMhIuv7669M3vvGNdNlll6UtW7bMXOcd73hHete73pXe//73p6985SvpgAMOSD/7sz+bHn744WXfj00HAKzO0GhKrY0pTT7S65FAz1x66aVp69at6aqrrpr52KGHHjqnuvbud787/c7v/E562cteVnzsQx/6UHrSk56UPvrRj6bXv/71y7ofFTYA1tajzZmj9KHt27fPuezevXvB61177bXpmGOOSaeeemraf//909FHH52uvPLKmc/fc8896YEHHkgvfOELZz42NjaWnv/856cvfvGLyx6PwAbA2oxsSGlorNejIPe2HnW6pFRUzTZv3jxzueSSSxb89u6+++50+eWXp8MPPzzdcMMN6Zxzzknnn39+uvrqq4vPR1gLUVGbLf7d+dxymBIFYO3i+KrpiZRa06m/2A07qO677760aVPsiP5hVWwh09PTRYXt4osvLv4dFbbYUBAh7qyzzpq5XmNef7eYKp3/saWosAGwdvHCM7yh16OA0kRYm31ZLLAdeOCB6cgjj5zzsSOOOCLde++9xX/HBoMwv5r24IMPPqbqthSBDYByxHmjjaFejwK6KnaI3nHHHXM+duedd6ZDDjmk+O/DDjusCG2f/exnZz4/Pj6ebr755nTcccct+35MiQJQbpVtYvmtChgAfX401QUXXFAEr5gSPe2009Ktt96arrjiiuLSvrlG+vVf//Xi87HOLS7x39Gv7VWvetWy70dgA6DcVh9TI+31bH2h1esBkLljjz02XXPNNemiiy5Kb33rW4uKWrTxOOOMM2au81u/9Vtp586d6dxzzy36tj3nOc9JN954Y9p33+X3Mmy0YtUbAJRlerJ9SHw/iObAEUJZsWiFEbsrH7rl/WnTPvVp/bJ9x870uJ86L23btm3OpoNeU2EDoFzN4fZ6tunxVH9qGmvW51Oi3WLTAQDV9GbTEgNKI7ABUL7YLTq2pX0KQpw72qjpy41VQ2TClCgA1YiQVlTaZonGusVlatZ/d/49lbITY5vcuachcKdi2Gr/u5jqG2pf4t9FMO2EvEZKTS1OKI/ABkB3Q1xRbVvg5Wd6KqXJR/Na+za1cw1fHG1O1u/5nocHOMA1ajY93kg5EtgAyEMEmtF927tMi+BW99Ygrfb30TGyjzNXWTWBDYD8dpmObkppaqIdeFqTqS9M7GiH0ajgFEWnoXqv76OrBDYA8jQ0ktLQ5pSmdu8Jbn1wsPzUrsd+LALb8Eb93liSwAZA3mIaMfq6FcEt1pT1QXCbrR+C6FL0YSuFwAZATc4pXdcOb1Gliku/BJ3mmOoaeyWwAVCz4La+fYn2GZ22IFF1mxrPa4fpcsQ6tpGNvR4FNSCwAVBPnT5oaU+7jKi+RS+3yajA7a7BsVKN9q7YTKfgym/lUhONPMcqsAHQPzoVq+EN7bYgcYnKW47r3oqwNqi92VgpgQ2A/hNVq1gXFpcIcNFOY3x7PlW3opHuSK9HQY3kWfcDgLJ7u0Xj2lxkOu1GvlTYABgMUW2bXrdwL7Ru6/d1a3M4mqoMIj4AgyPWtg2t6/UoTIeyYipsAAyOqGx1NiXEjtK5n5z1f7OrLLP+O75m/OG1bWKIliTOFGWFBDYABrQlyCpeAuNrxvYclxW7T1dyzmmsW4t1dINWXStmRPOcZlxQpkMV2ABgJYqzP2c17+20D4mdqI8JcI32hocIaTEVW6fgQlYENgAoo31IKE5fiKnWVrvHmt2glERgA4COqYk955TuWd8W1bGh9Sk1h6qdaoW98KwCgBBHWk0+MvdjU1Pt9WqjmwZv7VlZHE1VijxHBQDdtlR/tolHuzkSeAyBDQAKSxxbFZsJWhmeR8rAENgAIDRHl/pkvv0eGAjWsAFAiGa6UWWLNWuzxW7P6J+mJccqOZqqDAIbAMycgrBPO7hFT7XiY832TlHoMc9CAJgtQlqnrxpkQmADAKpT9KbLc5pxQZmO1aYDAIDMCWwAAJkT2AAAMmcNGwBQcW2oTvWhZspRnqMCAGCGwAYAkDlTogBAdbT1KIUKGwBA5gQ2AIDMCWwAAJmzhg0AqFDN1rClPMeqwgYAkDmBDQAgcwIbAEDmrGEDACpeE5bnurCF5TlWFTYAgMwJbAAAmTMlCgBUp9FsX+qikedY8xwVAAAzBDYAgMwJbAAAmbOGDQCoTqNmR1M18hyrChsAQOYENgCAzAlsAACZs4YNAKiQo6nKoMIGAJA5gQ0AIHOmRAGA6jiaqhR5jgoAgBkCGwBA5gQ2AIDMWcMGAFSm0WgUl7poZDpWFTYAgMwJbAAAmTMlCgBUyEkHZVBhAwDInMAGAJA5gQ0AIHPWsAEA1Yk2GZke97QgbT0AAFgNgQ0AIHMCGwBA5qxhAwAqpA9bGVTYAAAyJ7ABAGTOlCgAUHFbjzynGReU6VhV2AAAMiewAQBkTmADAMicNWwAQHXiWKpaHU3VTDnKc1QAAMwQ2AAAMmdKFACokJMOyqDCBgCQOYENACBzAhsAQOasYQMAquNoqlKosAEAZE5gAwDInMAGAJA5a9gAgOo4mqoUeY4KAIAZAhsAQOZMiQIAFXI0VRlU2AAAMiewAQBkTmADAMicNWwAQHUcTVUKFTYAgMwJbAAAmTMlCgBUXBuqU32omXKU56gAAJghsAEAZE5gAwDInDVsAEB1tPUohQobAEDmBDYAgMwJbAAAmbOGDQCojjVspVBhAwDInMAGAJA5U6IAQIUcTdW/owIAYIbABgCQOYENACBz1rABANXR1qMUKmwAAJkT2AAAMiewAQBkzho2AKBiea4LqxMVNgCAzAlsAACZMyUKAFRHW49SqLABAGROYAMAyJzABgCQOWvYAIAKxZqwPNeFLSzPsaqwAQBkTmADAMicKVEAoDraepRChQ0AIHMCGwBA5gQ2AIDMWcMGAFRcG6pTfaiZcpTnqAAAauAtb3lLajQacy4HHHDAzOd37NiRzjvvvPSUpzwlrV+/Ph1xxBHp8ssvX/H9qLABAKzBM57xjPQ3f/M3M/8eGhqa+e8LLrgg3XTTTekjH/lIOvTQQ9ONN96Yzj333HTQQQelU045Zdn3ocIGALAGw8PDRVWtc3niE58487lbbrklveY1r0knnHBCEdhe97rXpWc/+9npq1/96oruQ2ADAKrvw1anywrdddddRcXssMMOS6effnq6++67Zz73vOc9L1177bXp/vvvT61Wq6i23Xnnnemkk05a0X2YEgUAmGf79u1z/j02NlZc5nvOc56Trr766vS0pz0tfe9730tve9vb0nHHHZduv/32tN9++6X3vve96eyzzy7WsEUlrtlspg9+8INFkFsJFTYAgHm2bt2aNm/ePHO55JJL0kJe/OIXp1/8xV9Mz3zmM9MLXvCC9OlPf7r4+Ic+9KHi/yOwfelLXyqqbLfddlu67LLLijVss9e8LYcKGwBQoZhizPO4p4W1x3rfffelTZs2zXx0oeraQjZu3FiEt5gm3blzZ3rTm96UrrnmmnTyyScXn3/Ws56Vvv71r6d3vvOdRcBbLhU2AIB5IqzNviw3sO3evTt985vfTAceeGCamJgoLjENOlvsIp2enk4rocIGALBKv/mbv5l+/ud/Ph188MHpwQcfLNawxfq32BkaQe/5z39+uvDCC4sebIcccki6+eabizVv73rXu1Z0PwIbAMAqfec730mvfOUr07/+678W7Tye+9znFmvWIpyFj3/84+miiy5KZ5xxRvr+979ffPztb397Ouecc1Z0P41W7DEFAChRVJlisf4P7vlC2rTvPqkutj+8I2057Pi0bdu2OWvYes0aNgCAzAlsAACZs4YNAKhQPdt65EaFDQAgcwIbAEDmBDYAgMxZwwYAVKiRUiPPdWELy3OsKmwAAJkT2AAAMiewAQBkzho2AKBC+rCVQYUNACBzAhsAQOZMiQIA1WnUrK1HI8+xqrABAGROYAMAyJzABgCQOWvYAICKa0N1qg81U47yHBUAADMENgCAzJkSBQCqo61HKVTYAAAyJ7ABAGROYAMAyJw1bABAhWJNWJ7rwhaW51hV2AAAMiewAQBkTmADAMicNWwAQIWsYSuDChsAQOYENgCAzJkSBQAqPpkqz2nGheQ6VBU2AIDMCWwAAJkT2AAAMmcNGwBQIW09yqDCBgCQOYENACBzpkQBgKr7eqTaaOQ5VhU2AIDMCWwAAJkT2AAAMmcNGwBQIW09yqDCBgCQOYENACBzAhsAQOasYQMAqtNoti910chzrHmOCgCAGQIbAEDmTIkCABXS1qMMKmwAAJkT2AAAMiewAQBkzho2AKA6jUb7UheNPMeqwgYAkDmBDQAgcwIbAEDmrGEDACqkD1sZVNgAADInsAEAZM6UKABQHW09SqHCBgCQOYENACBzAhsAQOasYQMAKqStRxlU2AAAMiewAQBkzpQoAFAdbT1KocIGAJA5gQ0AIHMCGwBA5qxhAwAqpK1HGVTYAAAyJ7ABAGROYAMAyJw1bABAdRrN9qUuGnmONc9RAQAwQ2ADAMicKVEAoELaepRBhQ0AIHMCGwBA5gQ2AIDMWcMGAFSn0Whf6qKR51hV2AAAMiewAQBkzpQoAFAhbT3KoMIGAJA5gQ0AIHOmRAGAymzf/nCqk+2ZjldgAwBKNzo6mg444IC09fBnpbo54IADivHnpNFqtVq9HgQA0H927dqVxsfHU92Mjo6mdevWpZwIbAAAmbPpAAAgcwIbAEDmBDYAgMwJbAAAmRPYAAAyJ7ABAGROYAMASHn7/wFtWeS02gqWCAAAAABJRU5ErkJggg==",
          "text/plain": "<Figure size 800x1200 with 2 Axes>"
         },
         "metadata": {},
         "output_type": "display_data"
        }
       ]
      }
     },
     "a9b685c229b44e0283571da17a117b1c": {
      "model_module": "@jupyter-widgets/base",
      "model_module_version": "2.0.0",
      "model_name": "LayoutModel",
      "state": {}
     },
     "b136313c9fff48ddb3064c0ef7817abe": {
      "model_module": "@jupyter-widgets/controls",
      "model_module_version": "2.0.0",
      "model_name": "HTMLStyleModel",
      "state": {
       "description_width": "",
       "font_size": null,
       "text_color": null
      }
     },
     "b15606cebdf342e6ab2a91713028dfa7": {
      "model_module": "@jupyter-widgets/base",
      "model_module_version": "2.0.0",
      "model_name": "LayoutModel",
      "state": {
       "overflow": "auto",
       "padding": "10px",
       "width": "20%"
      }
     },
     "b1a2f4d2f1d44cf2925fce467c2da740": {
      "model_module": "@jupyter-widgets/base",
      "model_module_version": "2.0.0",
      "model_name": "LayoutModel",
      "state": {}
     },
     "b23fbd1e484b4a149aae48dc01ef11a2": {
      "model_module": "@jupyter-widgets/output",
      "model_module_version": "1.0.0",
      "model_name": "OutputModel",
      "state": {
       "layout": "IPY_MODEL_99b5a9212adb42348a5b57c783feb865",
       "outputs": [
        {
         "name": "stdout",
         "output_type": "stream",
         "text": "Dataset usa_cali_usgs_pv_2016 has 19373 geometries and 10 columns.\n"
        },
        {
         "data": {
          "text/html": "<div>\n<style scoped>\n    .dataframe tbody tr th:only-of-type {\n        vertical-align: middle;\n    }\n\n    .dataframe tbody tr th {\n        vertical-align: top;\n    }\n\n    .dataframe thead th {\n        text-align: right;\n    }\n</style>\n<table border=\"1\" class=\"dataframe\">\n  <thead>\n    <tr style=\"text-align: right;\">\n      <th></th>\n      <th>polygon_id</th>\n      <th>centroid_latitude</th>\n      <th>centroid_longitude</th>\n      <th>area_meters</th>\n      <th>area_m2</th>\n      <th>centroid_lon</th>\n      <th>centroid_lat</th>\n    </tr>\n  </thead>\n  <tbody>\n    <tr>\n      <th>count</th>\n      <td>19373.000000</td>\n      <td>19373.000000</td>\n      <td>19373.000000</td>\n      <td>19373.000000</td>\n      <td>19373.000000</td>\n      <td>1.937300e+04</td>\n      <td>1.937300e+04</td>\n    </tr>\n    <tr>\n      <th>mean</th>\n      <td>9809.361276</td>\n      <td>36.784912</td>\n      <td>-119.947159</td>\n      <td>40.071570</td>\n      <td>62.766358</td>\n      <td>-1.335246e+07</td>\n      <td>4.409846e+06</td>\n    </tr>\n    <tr>\n      <th>std</th>\n      <td>5697.759931</td>\n      <td>0.874450</td>\n      <td>0.597423</td>\n      <td>124.007862</td>\n      <td>195.616721</td>\n      <td>6.650486e+04</td>\n      <td>1.204254e+05</td>\n    </tr>\n    <tr>\n      <th>min</th>\n      <td>1.000000</td>\n      <td>34.145190</td>\n      <td>-121.380875</td>\n      <td>0.380619</td>\n      <td>0.608265</td>\n      <td>-1.351206e+07</td>\n      <td>4.048314e+06</td>\n    </tr>\n    <tr>\n      <th>25%</th>\n      <td>4889.000000</td>\n      <td>36.787572</td>\n      <td>-119.856832</td>\n      <td>11.812474</td>\n      <td>18.513741</td>\n      <td>-1.334240e+07</td>\n      <td>4.409538e+06</td>\n    </tr>\n    <tr>\n      <th>50%</th>\n      <td>9744.000000</td>\n      <td>36.832362</td>\n      <td>-119.754707</td>\n      <td>20.121304</td>\n      <td>31.529933</td>\n      <td>-1.333103e+07</td>\n      <td>4.415766e+06</td>\n    </tr>\n    <tr>\n      <th>75%</th>\n      <td>14655.000000</td>\n      <td>36.868902</td>\n      <td>-119.685668</td>\n      <td>34.140766</td>\n      <td>53.447099</td>\n      <td>-1.332335e+07</td>\n      <td>4.420849e+06</td>\n    </tr>\n    <tr>\n      <th>max</th>\n      <td>19863.000000</td>\n      <td>38.068118</td>\n      <td>-119.133756</td>\n      <td>6154.611318</td>\n      <td>9946.174753</td>\n      <td>-1.326191e+07</td>\n      <td>4.589053e+06</td>\n    </tr>\n  </tbody>\n</table>\n</div>",
          "text/plain": "         polygon_id  centroid_latitude  centroid_longitude   area_meters  \\\ncount  19373.000000       19373.000000        19373.000000  19373.000000   \nmean    9809.361276          36.784912         -119.947159     40.071570   \nstd     5697.759931           0.874450            0.597423    124.007862   \nmin        1.000000          34.145190         -121.380875      0.380619   \n25%     4889.000000          36.787572         -119.856832     11.812474   \n50%     9744.000000          36.832362         -119.754707     20.121304   \n75%    14655.000000          36.868902         -119.685668     34.140766   \nmax    19863.000000          38.068118         -119.133756   6154.611318   \n\n            area_m2  centroid_lon  centroid_lat  \ncount  19373.000000  1.937300e+04  1.937300e+04  \nmean      62.766358 -1.335246e+07  4.409846e+06  \nstd      195.616721  6.650486e+04  1.204254e+05  \nmin        0.608265 -1.351206e+07  4.048314e+06  \n25%       18.513741 -1.334240e+07  4.409538e+06  \n50%       31.529933 -1.333103e+07  4.415766e+06  \n75%       53.447099 -1.332335e+07  4.420849e+06  \nmax     9946.174753 -1.326191e+07  4.589053e+06  "
         },
         "metadata": {},
         "output_type": "display_data"
        },
        {
         "name": "stdout",
         "output_type": "stream",
         "text": "Unique geometry types in the dataset: ['Polygon']\nCount of Point geometries: 0\nCount of Polygon geometries: 19373\nCount of MultiPoint geometries: 0\nCount of MultiPolygon geometries: 0\nSee data samples below:\n"
        },
        {
         "data": {
          "text/html": "<div>\n<style scoped>\n    .dataframe tbody tr th:only-of-type {\n        vertical-align: middle;\n    }\n\n    .dataframe tbody tr th {\n        vertical-align: top;\n    }\n\n    .dataframe thead th {\n        text-align: right;\n    }\n</style>\n<table border=\"1\" class=\"dataframe\">\n  <thead>\n    <tr style=\"text-align: right;\">\n      <th></th>\n      <th>polygon_id</th>\n      <th>datum</th>\n      <th>centroid_latitude</th>\n      <th>centroid_longitude</th>\n      <th>area_meters</th>\n      <th>image_name</th>\n      <th>geometry</th>\n      <th>area_m2</th>\n      <th>centroid_lon</th>\n      <th>centroid_lat</th>\n    </tr>\n  </thead>\n  <tbody>\n    <tr>\n      <th>11354</th>\n      <td>11428</td>\n      <td>NAD83</td>\n      <td>36.756165</td>\n      <td>-119.734621</td>\n      <td>38.871989</td>\n      <td>11ska550710</td>\n      <td>POLYGON ((-119.73466 36.75619, -119.73466 36.7...</td>\n      <td>60.619006</td>\n      <td>-1.332880e+07</td>\n      <td>4.405174e+06</td>\n    </tr>\n    <tr>\n      <th>931</th>\n      <td>969</td>\n      <td>NAD83</td>\n      <td>36.875960</td>\n      <td>-119.735037</td>\n      <td>10.792794</td>\n      <td>11ska550845</td>\n      <td>POLYGON ((-119.73503 36.87593, -119.73503 36.8...</td>\n      <td>16.885108</td>\n      <td>-1.332884e+07</td>\n      <td>4.421831e+06</td>\n    </tr>\n    <tr>\n      <th>1697</th>\n      <td>1736</td>\n      <td>NAD83</td>\n      <td>36.873055</td>\n      <td>-119.772498</td>\n      <td>28.984284</td>\n      <td>11ska520830</td>\n      <td>POLYGON ((-119.77248 36.87303, -119.77248 36.8...</td>\n      <td>45.344352</td>\n      <td>-1.333301e+07</td>\n      <td>4.421427e+06</td>\n    </tr>\n  </tbody>\n</table>\n</div>",
          "text/plain": "       polygon_id  datum  centroid_latitude  centroid_longitude  area_meters  \\\n11354       11428  NAD83          36.756165         -119.734621    38.871989   \n931           969  NAD83          36.875960         -119.735037    10.792794   \n1697         1736  NAD83          36.873055         -119.772498    28.984284   \n\n        image_name                                           geometry  \\\n11354  11ska550710  POLYGON ((-119.73466 36.75619, -119.73466 36.7...   \n931    11ska550845  POLYGON ((-119.73503 36.87593, -119.73503 36.8...   \n1697   11ska520830  POLYGON ((-119.77248 36.87303, -119.77248 36.8...   \n\n         area_m2  centroid_lon  centroid_lat  \n11354  60.619006 -1.332880e+07  4.405174e+06  \n931    16.885108 -1.332884e+07  4.421831e+06  \n1697   45.344352 -1.333301e+07  4.421427e+06  "
         },
         "metadata": {},
         "output_type": "display_data"
        }
       ]
      }
     },
     "b27250de47464ba98517245dcd80d8eb": {
      "model_module": "@jupyter-widgets/controls",
      "model_module_version": "2.0.0",
      "model_name": "DropdownModel",
      "state": {
       "_options_labels": [
        "deu_maxar_vhr_2023",
        "uk_crowdsourced_pv_2020",
        "usa_eia_large_scale_pv_2023",
        "chn_med_res_pv_2024",
        "usa_cali_usgs_pv_2016",
        "chn_jiangsu_vhr_pv_2021",
        "ind_pv_solar_farms_2022",
        "fra_west_eur_pv_installations_2023",
        "global_pv_inventory_sent2_spot_2021",
        "global_pv_inventory_sent2_2024",
        "global_harmonized_large_solar_farms_2020"
       ],
       "description": "Dataset:",
       "index": 0,
       "layout": "IPY_MODEL_5352c3bc410349e1952d6180fea45e3f",
       "style": "IPY_MODEL_63429b683fa04b22bb53712a579cbb85"
      }
     },
     "b2f0cbc905af483dae80268c976649f9": {
      "model_module": "@jupyter-widgets/controls",
      "model_module_version": "2.0.0",
      "model_name": "DescriptionStyleModel",
      "state": {
       "description_width": ""
      }
     },
     "b3234e6ce0b74da3b707900adacd4c52": {
      "model_module": "@jupyter-widgets/controls",
      "model_module_version": "2.0.0",
      "model_name": "HTMLStyleModel",
      "state": {
       "description_width": "",
       "font_size": null,
       "text_color": null
      }
     },
     "b36195512a2d42259d6e37128ff6d1d0": {
      "model_module": "@jupyter-widgets/base",
      "model_module_version": "2.0.0",
      "model_name": "LayoutModel",
      "state": {}
     },
     "b55713af71c345b49f36ddd8b0412e6a": {
      "model_module": "@jupyter-widgets/base",
      "model_module_version": "2.0.0",
      "model_name": "LayoutModel",
      "state": {}
     },
     "b62085ded195450095d3d3e0925949cf": {
      "model_module": "@jupyter-widgets/base",
      "model_module_version": "2.0.0",
      "model_name": "LayoutModel",
      "state": {}
     },
     "b63f3351aa1640699585af78a60389ca": {
      "model_module": "@jupyter-widgets/controls",
      "model_module_version": "2.0.0",
      "model_name": "HTMLModel",
      "state": {
       "layout": "IPY_MODEL_7330739f5bb94bf19baeb7bca4fa18ab",
       "style": "IPY_MODEL_887b7cafbc42491f884044a67702f25a",
       "value": "\n    <style>\n    .dataset-table {\n        border-collapse: collapse;\n        width: 30%;\n        margin: 20px auto;\n        font-family: Arial, sans-serif;\n    }\n    .dataset-table th, .dataset-table td {\n        border: 1px solid #ddd;\n        padding: 8px;\n        text-align: left;\n    }\n    .dataset-table th {\n        background-color: #f2f2f2;\n        font-weight: bold;\n    }\n    </style>\n    <table class=\"dataset-table\">\n        <tr><th>Metadata</th><th>Value</th></tr>\n        <tr><td>DOI/URL</td><td>https://raw.githubusercontent.com/microsoft/solar-farms-mapping/refs/heads/main/data/solar_farms_india_2021_merged_simplified.geojson</td></tr>\n        <tr><td>Repository</td><td>github</td></tr>\n        <tr><td>Compression</td><td>None</td></tr>\n        <tr><td>Label Format</td><td>geojson</td></tr>\n        <tr><td>Has Images</td><td>False</td></tr>\n        <tr><td>Label Count</td><td>117</td></tr>\n    </table>\n    "
      }
     },
     "b7edbf5cdbab4e3fa63c69835d8abe7f": {
      "model_module": "@jupyter-widgets/base",
      "model_module_version": "2.0.0",
      "model_name": "LayoutModel",
      "state": {
       "width": "auto"
      }
     },
     "b90805ff9a8a47a68bc834fbb799d7cc": {
      "model_module": "@jupyter-widgets/base",
      "model_module_version": "2.0.0",
      "model_name": "LayoutModel",
      "state": {}
     },
     "ba153ec576fa458d9b906b3d1a4b3758": {
      "model_module": "@jupyter-widgets/controls",
      "model_module_version": "2.0.0",
      "model_name": "HTMLStyleModel",
      "state": {
       "description_width": "",
       "font_size": null,
       "text_color": null
      }
     },
     "bb36606fbff447a9b7c964282282130d": {
      "model_module": "@jupyter-widgets/controls",
      "model_module_version": "2.0.0",
      "model_name": "DescriptionStyleModel",
      "state": {
       "description_width": ""
      }
     },
     "bc2c486167d14113a33466449a8b166b": {
      "model_module": "@jupyter-widgets/controls",
      "model_module_version": "2.0.0",
      "model_name": "DescriptionStyleModel",
      "state": {
       "description_width": ""
      }
     },
     "bcbdb361f7874d41993d11b51087ece0": {
      "model_module": "@jupyter-widgets/base",
      "model_module_version": "2.0.0",
      "model_name": "LayoutModel",
      "state": {}
     },
     "be7376b30b8948499ff756e624a356cb": {
      "model_module": "@jupyter-widgets/controls",
      "model_module_version": "2.0.0",
      "model_name": "HTMLModel",
      "state": {
       "layout": "IPY_MODEL_12d7af8f9e37439d8c93354e11afef26",
       "style": "IPY_MODEL_0f9a43930fa044819df38b178c66db24",
       "value": "<h3 style='align:left;'>Fetch Control</h3>"
      }
     },
     "c5327c9e60b5435c8c29633989ba578c": {
      "model_module": "@jupyter-widgets/controls",
      "model_module_version": "2.0.0",
      "model_name": "CheckboxStyleModel",
      "state": {
       "description_width": ""
      }
     },
     "c7168d23451c41ac9748eb0a94f7201f": {
      "model_module": "@jupyter-widgets/controls",
      "model_module_version": "2.0.0",
      "model_name": "HTMLStyleModel",
      "state": {
       "description_width": "",
       "font_size": null,
       "text_color": null
      }
     },
     "c79f258eeaeb4043b0f2901b563736eb": {
      "model_module": "@jupyter-widgets/base",
      "model_module_version": "2.0.0",
      "model_name": "LayoutModel",
      "state": {}
     },
     "c85c44990f3949b6ae89454944fbb911": {
      "model_module": "@jupyter-widgets/controls",
      "model_module_version": "2.0.0",
      "model_name": "ButtonStyleModel",
      "state": {
       "font_family": null,
       "font_size": null,
       "font_style": null,
       "font_variant": null,
       "font_weight": null,
       "text_color": null,
       "text_decoration": null
      }
     },
     "c8a271a71d5647ed9ff2c9af6f0a6572": {
      "model_module": "@jupyter-widgets/base",
      "model_module_version": "2.0.0",
      "model_name": "LayoutModel",
      "state": {
       "width": "auto"
      }
     },
     "c8ca101f2929430eaa726f3e91f129b7": {
      "model_module": "@jupyter-widgets/output",
      "model_module_version": "1.0.0",
      "model_name": "OutputModel",
      "state": {
       "layout": "IPY_MODEL_b62085ded195450095d3d3e0925949cf",
       "outputs": [
        {
         "ename": "ValueError",
         "evalue": "aspect must be finite and positive ",
         "output_type": "error",
         "traceback": [
          "\u001b[31m---------------------------------------------------------------------------\u001b[39m",
          "\u001b[31mValueError\u001b[39m                                Traceback (most recent call last)",
          "\u001b[36mFile \u001b[39m\u001b[32m~/miniforge3/envs/eo-pv-cv/lib/python3.12/site-packages/ipywidgets/widgets/interaction.py:243\u001b[39m, in \u001b[36minteractive.update\u001b[39m\u001b[34m(self, *args)\u001b[39m\n\u001b[32m    241\u001b[39m     value = widget.get_interact_value()\n\u001b[32m    242\u001b[39m     \u001b[38;5;28mself\u001b[39m.kwargs[widget._kwarg] = value\n\u001b[32m--> \u001b[39m\u001b[32m243\u001b[39m \u001b[38;5;28mself\u001b[39m.result = \u001b[38;5;28mself\u001b[39m.f(**\u001b[38;5;28mself\u001b[39m.kwargs)\n\u001b[32m    244\u001b[39m show_inline_matplotlib_plots()\n\u001b[32m    245\u001b[39m \u001b[38;5;28;01mif\u001b[39;00m \u001b[38;5;28mself\u001b[39m.auto_display \u001b[38;5;129;01mand\u001b[39;00m \u001b[38;5;28mself\u001b[39m.result \u001b[38;5;129;01mis\u001b[39;00m \u001b[38;5;129;01mnot\u001b[39;00m \u001b[38;5;28;01mNone\u001b[39;00m:\n",
          "\u001b[36mCell\u001b[39m\u001b[36m \u001b[39m\u001b[32mIn[58]\u001b[39m\u001b[32m, line 27\u001b[39m, in \u001b[36mplot_country\u001b[39m\u001b[34m(country_name)\u001b[39m\n\u001b[32m     25\u001b[39m ax.set_title(\u001b[33mf\u001b[39m\u001b[33m\"\u001b[39m\u001b[33mCountries colored by count of PV labels\u001b[39m\u001b[33m\"\u001b[39m)\n\u001b[32m     26\u001b[39m ax.set_axis_off()\n\u001b[32m---> \u001b[39m\u001b[32m27\u001b[39m filtered_gdf.plot(column=\u001b[33m\"\u001b[39m\u001b[33mcountry_pv_count\u001b[39m\u001b[33m\"\u001b[39m, ax=ax, legend=\u001b[38;5;28;01mTrue\u001b[39;00m, cmap=\u001b[33m'\u001b[39m\u001b[33mOrRd\u001b[39m\u001b[33m'\u001b[39m)\n\u001b[32m     28\u001b[39m plt.show()\n",
          "\u001b[36mFile \u001b[39m\u001b[32m~/miniforge3/envs/eo-pv-cv/lib/python3.12/site-packages/geopandas/plotting.py:968\u001b[39m, in \u001b[36mGeoplotAccessor.__call__\u001b[39m\u001b[34m(self, *args, **kwargs)\u001b[39m\n\u001b[32m    966\u001b[39m kind = kwargs.pop(\u001b[33m\"\u001b[39m\u001b[33mkind\u001b[39m\u001b[33m\"\u001b[39m, \u001b[33m\"\u001b[39m\u001b[33mgeo\u001b[39m\u001b[33m\"\u001b[39m)\n\u001b[32m    967\u001b[39m \u001b[38;5;28;01mif\u001b[39;00m kind == \u001b[33m\"\u001b[39m\u001b[33mgeo\u001b[39m\u001b[33m\"\u001b[39m:\n\u001b[32m--> \u001b[39m\u001b[32m968\u001b[39m     \u001b[38;5;28;01mreturn\u001b[39;00m plot_dataframe(data, *args, **kwargs)\n\u001b[32m    969\u001b[39m \u001b[38;5;28;01mif\u001b[39;00m kind \u001b[38;5;129;01min\u001b[39;00m \u001b[38;5;28mself\u001b[39m._pandas_kinds:\n\u001b[32m    970\u001b[39m     \u001b[38;5;66;03m# Access pandas plots\u001b[39;00m\n\u001b[32m    971\u001b[39m     \u001b[38;5;28;01mreturn\u001b[39;00m PlotAccessor(data)(kind=kind, **kwargs)\n",
          "\u001b[36mFile \u001b[39m\u001b[32m~/miniforge3/envs/eo-pv-cv/lib/python3.12/site-packages/geopandas/plotting.py:664\u001b[39m, in \u001b[36mplot_dataframe\u001b[39m\u001b[34m(df, column, cmap, color, ax, cax, categorical, legend, scheme, k, vmin, vmax, markersize, figsize, legend_kwds, categories, classification_kwds, missing_kwds, aspect, autolim, **style_kwds)\u001b[39m\n\u001b[32m    662\u001b[39m     bounds = df.total_bounds\n\u001b[32m    663\u001b[39m     y_coord = np.mean([bounds[\u001b[32m1\u001b[39m], bounds[\u001b[32m3\u001b[39m]])\n\u001b[32m--> \u001b[39m\u001b[32m664\u001b[39m     ax.set_aspect(\u001b[32m1\u001b[39m / np.cos(y_coord * np.pi / \u001b[32m180\u001b[39m))\n\u001b[32m    665\u001b[39m     \u001b[38;5;66;03m# formula ported from R package sp\u001b[39;00m\n\u001b[32m    666\u001b[39m     \u001b[38;5;66;03m# https://github.com/edzer/sp/blob/master/R/mapasp.R\u001b[39;00m\n\u001b[32m    667\u001b[39m \u001b[38;5;28;01melse\u001b[39;00m:\n\u001b[32m    668\u001b[39m     ax.set_aspect(\u001b[33m\"\u001b[39m\u001b[33mequal\u001b[39m\u001b[33m\"\u001b[39m)\n",
          "\u001b[36mFile \u001b[39m\u001b[32m~/miniforge3/envs/eo-pv-cv/lib/python3.12/site-packages/matplotlib/axes/_base.py:1692\u001b[39m, in \u001b[36m_AxesBase.set_aspect\u001b[39m\u001b[34m(self, aspect, adjustable, anchor, share)\u001b[39m\n\u001b[32m   1690\u001b[39m     aspect = \u001b[38;5;28mfloat\u001b[39m(aspect)  \u001b[38;5;66;03m# raise ValueError if necessary\u001b[39;00m\n\u001b[32m   1691\u001b[39m     \u001b[38;5;28;01mif\u001b[39;00m aspect <= \u001b[32m0\u001b[39m \u001b[38;5;129;01mor\u001b[39;00m \u001b[38;5;129;01mnot\u001b[39;00m np.isfinite(aspect):\n\u001b[32m-> \u001b[39m\u001b[32m1692\u001b[39m         \u001b[38;5;28;01mraise\u001b[39;00m \u001b[38;5;167;01mValueError\u001b[39;00m(\u001b[33m\"\u001b[39m\u001b[33maspect must be finite and positive \u001b[39m\u001b[33m\"\u001b[39m)\n\u001b[32m   1694\u001b[39m \u001b[38;5;28;01mif\u001b[39;00m share:\n\u001b[32m   1695\u001b[39m     axes = {sibling \u001b[38;5;28;01mfor\u001b[39;00m name \u001b[38;5;129;01min\u001b[39;00m \u001b[38;5;28mself\u001b[39m._axis_names\n\u001b[32m   1696\u001b[39m             \u001b[38;5;28;01mfor\u001b[39;00m sibling \u001b[38;5;129;01min\u001b[39;00m \u001b[38;5;28mself\u001b[39m._shared_axes[name].get_siblings(\u001b[38;5;28mself\u001b[39m)}\n",
          "\u001b[31mValueError\u001b[39m: aspect must be finite and positive "
         ]
        }
       ]
      }
     },
     "ca5167ca93454e7b96dca2dd90da5181": {
      "model_module": "@jupyter-widgets/base",
      "model_module_version": "2.0.0",
      "model_name": "LayoutModel",
      "state": {
       "width": "auto"
      }
     },
     "cc4f639db2724c6b9e9daf3925031c72": {
      "model_module": "@jupyter-widgets/base",
      "model_module_version": "2.0.0",
      "model_name": "LayoutModel",
      "state": {}
     },
     "cccccdd28e9e4f09b4296e4c171f0007": {
      "model_module": "@jupyter-widgets/controls",
      "model_module_version": "2.0.0",
      "model_name": "HTMLStyleModel",
      "state": {
       "description_width": "",
       "font_size": null,
       "text_color": null
      }
     },
     "cd01a0c7328744c383df1c45b37dd5aa": {
      "model_module": "@jupyter-widgets/base",
      "model_module_version": "2.0.0",
      "model_name": "LayoutModel",
      "state": {}
     },
     "ce9a03a1479b413581ec9e5223c639b5": {
      "model_module": "@jupyter-widgets/output",
      "model_module_version": "1.0.0",
      "model_name": "OutputModel",
      "state": {
       "layout": "IPY_MODEL_26e2d9bf6692479895274375d423cb65",
       "outputs": [
        {
         "name": "stdout",
         "output_type": "stream",
         "text": "Dataset uk_crowdsourced_pv_2020 has 265406 geometries and 26 columns.\n"
        },
        {
         "data": {
          "text/html": "<div>\n<style scoped>\n    .dataframe tbody tr th:only-of-type {\n        vertical-align: middle;\n    }\n\n    .dataframe tbody tr th {\n        vertical-align: top;\n    }\n\n    .dataframe thead th {\n        text-align: right;\n    }\n</style>\n<table border=\"1\" class=\"dataframe\">\n  <thead>\n    <tr style=\"text-align: right;\">\n      <th></th>\n      <th>repd_id</th>\n      <th>capacity_repd_MWp</th>\n      <th>capacity_osm_MWp</th>\n      <th>area_sqm</th>\n      <th>orientation</th>\n      <th>osm_tag_start_date</th>\n      <th>num_modules</th>\n      <th>repd_operational_date</th>\n      <th>osm_cluster_id</th>\n      <th>repd_cluster_id</th>\n      <th>area_m2</th>\n      <th>centroid_lon</th>\n      <th>centroid_lat</th>\n    </tr>\n  </thead>\n  <tbody>\n    <tr>\n      <th>count</th>\n      <td>8864.000000</td>\n      <td>1597.000000</td>\n      <td>1568.000000</td>\n      <td>2.650860e+05</td>\n      <td>26000.000000</td>\n      <td>1940</td>\n      <td>2.316500e+04</td>\n      <td>8552</td>\n      <td>2.650860e+05</td>\n      <td>8864.000000</td>\n      <td>2.654060e+05</td>\n      <td>265406.000000</td>\n      <td>2.654060e+05</td>\n    </tr>\n    <tr>\n      <th>mean</th>\n      <td>2773.533055</td>\n      <td>6.664872</td>\n      <td>4.910340</td>\n      <td>8.960398e+02</td>\n      <td>179.758308</td>\n      <td>2014-10-06 09:25:36.494000</td>\n      <td>7.087014e+06</td>\n      <td>2015-02-11 21:46:58.709000</td>\n      <td>6.582456e+09</td>\n      <td>2845.510718</td>\n      <td>2.318834e+03</td>\n      <td>-204107.521006</td>\n      <td>6.920311e+06</td>\n    </tr>\n    <tr>\n      <th>min</th>\n      <td>1018.000000</td>\n      <td>0.035821</td>\n      <td>0.000625</td>\n      <td>0.000000e+00</td>\n      <td>0.000000</td>\n      <td>2008-01-01 00:00:00</td>\n      <td>1.000000e+00</td>\n      <td>2011-06-24 00:00:00</td>\n      <td>4.476342e+06</td>\n      <td>1018.000000</td>\n      <td>0.000000e+00</td>\n      <td>-814977.225740</td>\n      <td>6.427386e+06</td>\n    </tr>\n    <tr>\n      <th>25%</th>\n      <td>1727.000000</td>\n      <td>1.800000</td>\n      <td>0.014615</td>\n      <td>0.000000e+00</td>\n      <td>158.000000</td>\n      <td>2014-01-01 00:00:00</td>\n      <td>7.000000e+00</td>\n      <td>2014-03-27 00:00:00</td>\n      <td>6.705050e+09</td>\n      <td>1750.000000</td>\n      <td>0.000000e+00</td>\n      <td>-315377.949711</td>\n      <td>6.710029e+06</td>\n    </tr>\n    <tr>\n      <th>50%</th>\n      <td>1985.000000</td>\n      <td>5.000000</td>\n      <td>4.200000</td>\n      <td>0.000000e+00</td>\n      <td>180.000000</td>\n      <td>2014-03-31 00:00:00</td>\n      <td>1.000000e+01</td>\n      <td>2015-03-26 00:00:00</td>\n      <td>6.938757e+09</td>\n      <td>2026.000000</td>\n      <td>0.000000e+00</td>\n      <td>-179871.241040</td>\n      <td>6.951662e+06</td>\n    </tr>\n    <tr>\n      <th>75%</th>\n      <td>4694.000000</td>\n      <td>7.300000</td>\n      <td>6.000000</td>\n      <td>0.000000e+00</td>\n      <td>202.000000</td>\n      <td>2015-12-19 00:00:00</td>\n      <td>1.600000e+01</td>\n      <td>2016-03-18 00:00:00</td>\n      <td>7.725981e+09</td>\n      <td>4712.000000</td>\n      <td>0.000000e+00</td>\n      <td>-123377.957560</td>\n      <td>7.063681e+06</td>\n    </tr>\n    <tr>\n      <th>max</th>\n      <td>7830.000000</td>\n      <td>69.800000</td>\n      <td>72.200000</td>\n      <td>1.441328e+06</td>\n      <td>1000.000000</td>\n      <td>2019-12-15 00:00:00</td>\n      <td>1.640078e+11</td>\n      <td>2020-02-12 00:00:00</td>\n      <td>7.952482e+09</td>\n      <td>7830.000000</td>\n      <td>3.623259e+06</td>\n      <td>192695.953258</td>\n      <td>8.487808e+06</td>\n    </tr>\n    <tr>\n      <th>std</th>\n      <td>1641.501223</td>\n      <td>8.014747</td>\n      <td>6.704057</td>\n      <td>1.372906e+04</td>\n      <td>48.347172</td>\n      <td>NaN</td>\n      <td>1.077577e+09</td>\n      <td>NaN</td>\n      <td>1.987880e+09</td>\n      <td>1673.500101</td>\n      <td>3.582705e+04</td>\n      <td>153565.241114</td>\n      <td>2.503472e+05</td>\n    </tr>\n  </tbody>\n</table>\n</div>",
          "text/plain": "           repd_id  capacity_repd_MWp  capacity_osm_MWp      area_sqm  \\\ncount  8864.000000        1597.000000       1568.000000  2.650860e+05   \nmean   2773.533055           6.664872          4.910340  8.960398e+02   \nmin    1018.000000           0.035821          0.000625  0.000000e+00   \n25%    1727.000000           1.800000          0.014615  0.000000e+00   \n50%    1985.000000           5.000000          4.200000  0.000000e+00   \n75%    4694.000000           7.300000          6.000000  0.000000e+00   \nmax    7830.000000          69.800000         72.200000  1.441328e+06   \nstd    1641.501223           8.014747          6.704057  1.372906e+04   \n\n        orientation          osm_tag_start_date   num_modules  \\\ncount  26000.000000                        1940  2.316500e+04   \nmean     179.758308  2014-10-06 09:25:36.494000  7.087014e+06   \nmin        0.000000         2008-01-01 00:00:00  1.000000e+00   \n25%      158.000000         2014-01-01 00:00:00  7.000000e+00   \n50%      180.000000         2014-03-31 00:00:00  1.000000e+01   \n75%      202.000000         2015-12-19 00:00:00  1.600000e+01   \nmax     1000.000000         2019-12-15 00:00:00  1.640078e+11   \nstd       48.347172                         NaN  1.077577e+09   \n\n            repd_operational_date  osm_cluster_id  repd_cluster_id  \\\ncount                        8552    2.650860e+05      8864.000000   \nmean   2015-02-11 21:46:58.709000    6.582456e+09      2845.510718   \nmin           2011-06-24 00:00:00    4.476342e+06      1018.000000   \n25%           2014-03-27 00:00:00    6.705050e+09      1750.000000   \n50%           2015-03-26 00:00:00    6.938757e+09      2026.000000   \n75%           2016-03-18 00:00:00    7.725981e+09      4712.000000   \nmax           2020-02-12 00:00:00    7.952482e+09      7830.000000   \nstd                           NaN    1.987880e+09      1673.500101   \n\n            area_m2   centroid_lon  centroid_lat  \ncount  2.654060e+05  265406.000000  2.654060e+05  \nmean   2.318834e+03 -204107.521006  6.920311e+06  \nmin    0.000000e+00 -814977.225740  6.427386e+06  \n25%    0.000000e+00 -315377.949711  6.710029e+06  \n50%    0.000000e+00 -179871.241040  6.951662e+06  \n75%    0.000000e+00 -123377.957560  7.063681e+06  \nmax    3.623259e+06  192695.953258  8.487808e+06  \nstd    3.582705e+04  153565.241114  2.503472e+05  "
         },
         "metadata": {},
         "output_type": "display_data"
        },
        {
         "name": "stdout",
         "output_type": "stream",
         "text": "Unique geometry types in the dataset: ['Point' 'Polygon' 'LineString' 'MultiPolygon' 'GeometryCollection']\nCount of Point geometries: 240321\nCount of Polygon geometries: 21457\nCount of MultiPoint geometries: 0\nCount of MultiPolygon geometries: 3550\nSee data samples below:\n"
        },
        {
         "data": {
          "text/html": "<div>\n<style scoped>\n    .dataframe tbody tr th:only-of-type {\n        vertical-align: middle;\n    }\n\n    .dataframe tbody tr th {\n        vertical-align: top;\n    }\n\n    .dataframe thead th {\n        text-align: right;\n    }\n</style>\n<table border=\"1\" class=\"dataframe\">\n  <thead>\n    <tr style=\"text-align: right;\">\n      <th></th>\n      <th>osm_id</th>\n      <th>osm_name</th>\n      <th>osm_objtype</th>\n      <th>repd_id</th>\n      <th>repd_site_name</th>\n      <th>capacity_repd_MWp</th>\n      <th>capacity_osm_MWp</th>\n      <th>area_sqm</th>\n      <th>located</th>\n      <th>orientation</th>\n      <th>...</th>\n      <th>osm_cluster_id</th>\n      <th>repd_cluster_id</th>\n      <th>source_capacity</th>\n      <th>source_obj</th>\n      <th>match_rule</th>\n      <th>geometry</th>\n      <th>dataset</th>\n      <th>area_m2</th>\n      <th>centroid_lon</th>\n      <th>centroid_lat</th>\n    </tr>\n  </thead>\n  <tbody>\n    <tr>\n      <th>5298</th>\n      <td>6368646620</td>\n      <td>None</td>\n      <td>node</td>\n      <td>NaN</td>\n      <td>None</td>\n      <td>NaN</td>\n      <td>NaN</td>\n      <td>0.0</td>\n      <td>roof</td>\n      <td>NaN</td>\n      <td>...</td>\n      <td>6.368647e+09</td>\n      <td>NaN</td>\n      <td>None</td>\n      <td>None</td>\n      <td>None</td>\n      <td>POINT (0.94565 51.88986)</td>\n      <td>uk_crowdsourced_pv_2020</td>\n      <td>0.0</td>\n      <td>105268.764399</td>\n      <td>6.780236e+06</td>\n    </tr>\n    <tr>\n      <th>87231</th>\n      <td>6780423433</td>\n      <td>None</td>\n      <td>node</td>\n      <td>NaN</td>\n      <td>None</td>\n      <td>NaN</td>\n      <td>NaN</td>\n      <td>0.0</td>\n      <td>roof</td>\n      <td>NaN</td>\n      <td>...</td>\n      <td>6.780423e+09</td>\n      <td>NaN</td>\n      <td>None</td>\n      <td>None</td>\n      <td>None</td>\n      <td>POINT (0.02328 52.08385)</td>\n      <td>uk_crowdsourced_pv_2020</td>\n      <td>0.0</td>\n      <td>2591.094732</td>\n      <td>6.815300e+06</td>\n    </tr>\n    <tr>\n      <th>35910</th>\n      <td>6698826268</td>\n      <td>None</td>\n      <td>node</td>\n      <td>NaN</td>\n      <td>None</td>\n      <td>NaN</td>\n      <td>NaN</td>\n      <td>0.0</td>\n      <td>roof</td>\n      <td>NaN</td>\n      <td>...</td>\n      <td>6.698826e+09</td>\n      <td>NaN</td>\n      <td>None</td>\n      <td>None</td>\n      <td>None</td>\n      <td>POINT (0.69615 52.2568)</td>\n      <td>uk_crowdsourced_pv_2020</td>\n      <td>0.0</td>\n      <td>77494.907668</td>\n      <td>6.846693e+06</td>\n    </tr>\n  </tbody>\n</table>\n<p>3 rows × 26 columns</p>\n</div>",
          "text/plain": "           osm_id osm_name osm_objtype  repd_id repd_site_name  \\\n5298   6368646620     None        node      NaN           None   \n87231  6780423433     None        node      NaN           None   \n35910  6698826268     None        node      NaN           None   \n\n       capacity_repd_MWp  capacity_osm_MWp  area_sqm located  orientation  \\\n5298                 NaN               NaN       0.0    roof          NaN   \n87231                NaN               NaN       0.0    roof          NaN   \n35910                NaN               NaN       0.0    roof          NaN   \n\n       ... osm_cluster_id repd_cluster_id  source_capacity source_obj  \\\n5298   ...   6.368647e+09             NaN             None       None   \n87231  ...   6.780423e+09             NaN             None       None   \n35910  ...   6.698826e+09             NaN             None       None   \n\n      match_rule                  geometry                  dataset  area_m2  \\\n5298        None  POINT (0.94565 51.88986)  uk_crowdsourced_pv_2020      0.0   \n87231       None  POINT (0.02328 52.08385)  uk_crowdsourced_pv_2020      0.0   \n35910       None   POINT (0.69615 52.2568)  uk_crowdsourced_pv_2020      0.0   \n\n        centroid_lon  centroid_lat  \n5298   105268.764399  6.780236e+06  \n87231    2591.094732  6.815300e+06  \n35910   77494.907668  6.846693e+06  \n\n[3 rows x 26 columns]"
         },
         "metadata": {},
         "output_type": "display_data"
        }
       ]
      }
     },
     "d16acb090f6841ca850a756e3d39187d": {
      "model_module": "@jupyter-widgets/base",
      "model_module_version": "2.0.0",
      "model_name": "LayoutModel",
      "state": {}
     },
     "d2870d6359644eddb87b77966d434293": {
      "model_module": "@jupyter-widgets/base",
      "model_module_version": "2.0.0",
      "model_name": "LayoutModel",
      "state": {}
     },
     "d31146a7ae3d4161873825743e02175e": {
      "model_module": "@jupyter-widgets/base",
      "model_module_version": "2.0.0",
      "model_name": "LayoutModel",
      "state": {}
     },
     "d409d6bb923948739c6ac3426b45390d": {
      "model_module": "@jupyter-widgets/controls",
      "model_module_version": "2.0.0",
      "model_name": "HTMLStyleModel",
      "state": {
       "description_width": "",
       "font_size": null,
       "text_color": null
      }
     },
     "d48b01ed598b40e19bee82c6f3e7a94f": {
      "model_module": "@jupyter-widgets/controls",
      "model_module_version": "2.0.0",
      "model_name": "DropdownModel",
      "state": {
       "_options_labels": [
        "Argentina",
        "Bolivia, Plurinational State of",
        "Brazil",
        "Chile",
        "Colombia",
        "Ecuador",
        "Falkland Islands (Malvinas)",
        "French Guiana",
        "Guyana",
        "Panama",
        "Peru",
        "Paraguay",
        "Suriname",
        "Uruguay",
        "Venezuela, Bolivarian Republic of"
       ],
       "description": "Country:",
       "index": 3,
       "layout": "IPY_MODEL_df3cb7330c5e45c2ad003f3ef0ec2cdc",
       "style": "IPY_MODEL_6036856157874794be528229357453b5"
      }
     },
     "d8c05c1d4b2f42129afdb76e7c88ab87": {
      "model_module": "@jupyter-widgets/base",
      "model_module_version": "2.0.0",
      "model_name": "LayoutModel",
      "state": {}
     },
     "d920dd94ef014fc98a8340fae416a49a": {
      "model_module": "@jupyter-widgets/controls",
      "model_module_version": "2.0.0",
      "model_name": "FloatProgressModel",
      "state": {
       "layout": "IPY_MODEL_b7edbf5cdbab4e3fa63c69835d8abe7f",
       "style": "IPY_MODEL_51c5e72ef9d7498a8dd5081156ca617e",
       "value": 100
      }
     },
     "d97b0a267c694cbd8411480c6f1f998d": {
      "model_module": "@jupyter-widgets/base",
      "model_module_version": "2.0.0",
      "model_name": "LayoutModel",
      "state": {
       "margin": "20 20 auto 20 20",
       "width": "70%"
      }
     },
     "d98f037b340c444ea4288627c3bd2ff2": {
      "model_module": "@jupyter-widgets/base",
      "model_module_version": "2.0.0",
      "model_name": "LayoutModel",
      "state": {}
     },
     "daad742ce103454e8e6ccf5a5b0b61cc": {
      "model_module": "@jupyter-widgets/controls",
      "model_module_version": "2.0.0",
      "model_name": "HTMLModel",
      "state": {
       "layout": "IPY_MODEL_6a778ada96d143939d6c65c3533e55f3",
       "style": "IPY_MODEL_c7168d23451c41ac9748eb0a94f7201f",
       "value": "\n<style>\n.jupyter-widgets-output-area pre {\n    white-space: pre-wrap !important;       /* CSS3 */\n    word-wrap: break-word !important;        /* Internet Explorer 5.5+ */\n    overflow-wrap: break-word !important;\n    max-width: 100%;\n}\n</style>\n"
      }
     },
     "db01080a42b34df8b09805cd25168241": {
      "model_module": "@jupyter-widgets/base",
      "model_module_version": "2.0.0",
      "model_name": "LayoutModel",
      "state": {}
     },
     "db94eece423048efb80361cba5fc8cd7": {
      "model_module": "@jupyter-widgets/controls",
      "model_module_version": "2.0.0",
      "model_name": "ButtonStyleModel",
      "state": {
       "font_family": null,
       "font_size": null,
       "font_style": null,
       "font_variant": null,
       "font_weight": null,
       "text_color": null,
       "text_decoration": null
      }
     },
     "dc5e2ed3350e46268291317cac398ba2": {
      "model_module": "@jupyter-widgets/base",
      "model_module_version": "2.0.0",
      "model_name": "LayoutModel",
      "state": {}
     },
     "de45a3cee9eb4c73968e623d634d9c9e": {
      "model_module": "@jupyter-widgets/controls",
      "model_module_version": "2.0.0",
      "model_name": "VBoxModel",
      "state": {
       "_dom_classes": [
        "widget-interact"
       ],
       "children": [
        "IPY_MODEL_6d296ccfed744ecfb6d1a56cb7f9af55",
        "IPY_MODEL_c8ca101f2929430eaa726f3e91f129b7"
       ],
       "layout": "IPY_MODEL_ef5202dcae1e45dab83a01547fee1c8c"
      }
     },
     "df3cb7330c5e45c2ad003f3ef0ec2cdc": {
      "model_module": "@jupyter-widgets/base",
      "model_module_version": "2.0.0",
      "model_name": "LayoutModel",
      "state": {
       "margin": "20 20 auto 20 20",
       "width": "70%"
      }
     },
     "e17a07f4f4c747bc8e15bc1c025270dc": {
      "model_module": "@jupyter-widgets/controls",
      "model_module_version": "2.0.0",
      "model_name": "HTMLModel",
      "state": {
       "layout": "IPY_MODEL_b55713af71c345b49f36ddd8b0412e6a",
       "style": "IPY_MODEL_d409d6bb923948739c6ac3426b45390d",
       "value": "<hr style='margin:10px 0'>"
      }
     },
     "e1cf1dcb084b4e949f941cb276bbc94e": {
      "model_module": "@jupyter-widgets/controls",
      "model_module_version": "2.0.0",
      "model_name": "ButtonModel",
      "state": {
       "button_style": "danger",
       "description": "DROP Overture Divisions Table",
       "icon": "trash",
       "layout": "IPY_MODEL_65bb7658aeaf406c8e0a401a56187478",
       "style": "IPY_MODEL_97902ee00e3e4898a09da228ba6bf681",
       "tooltip": null
      }
     },
     "e1ea67b8b33c4c8a9d0f6c203d9b957d": {
      "model_module": "@jupyter-widgets/controls",
      "model_module_version": "2.0.0",
      "model_name": "HTMLModel",
      "state": {
       "layout": "IPY_MODEL_69785d5e8dd74d27a742a1d8f7fd3843",
       "style": "IPY_MODEL_cccccdd28e9e4f09b4296e4c171f0007",
       "value": "\n    <style>\n    .dataset-table {\n        border-collapse: collapse;\n        width: 30%;\n        margin: 20px auto;\n        font-family: Arial, sans-serif;\n    }\n    .dataset-table th, .dataset-table td {\n        border: 1px solid #ddd;\n        padding: 8px;\n        text-align: left;\n    }\n    .dataset-table th {\n        background-color: #f2f2f2;\n        font-weight: bold;\n    }\n    </style>\n    <table class=\"dataset-table\">\n        <tr><th>Metadata</th><th>Value</th></tr>\n        <tr><td>DOI/URL</td><td>10.6084/m9.figshare.11310269.v6</td></tr>\n        <tr><td>Repository</td><td>figshare</td></tr>\n        <tr><td>Compression</td><td>zip</td></tr>\n        <tr><td>Label Format</td><td>gpkg</td></tr>\n        <tr><td>Has Images</td><td>False</td></tr>\n        <tr><td>Label Count</td><td>35272</td></tr>\n    </table>\n    "
      }
     },
     "e47ab867f0964f20b02c6124b49547e3": {
      "model_module": "@jupyter-widgets/base",
      "model_module_version": "2.0.0",
      "model_name": "LayoutModel",
      "state": {}
     },
     "e62d18f899ef46c08cb53b45480afebe": {
      "model_module": "@jupyter-widgets/output",
      "model_module_version": "1.0.0",
      "model_name": "OutputModel",
      "state": {
       "layout": "IPY_MODEL_d98f037b340c444ea4288627c3bd2ff2",
       "outputs": [
        {
         "name": "stdout",
         "output_type": "stream",
         "text": "Selected region [South America] with bbox: {'xmin': -78.832, 'ymin': -53.5, 'xmax': -34.5, 'ymax': 9.5}\nRegion bbox contains 8 / 13 countries with PV labels.\n"
        },
        {
         "data": {
          "application/vnd.jupyter.widget-view+json": {
           "model_id": "119db10b02334d18a97d4b8504d61af2",
           "version_major": 2,
           "version_minor": 0
          },
          "text/plain": "Output(outputs=({'name': 'stdout', 'text': \"Creating Pydeck heatmap for 139072 features...\\nUsing column 'area…"
         },
         "metadata": {},
         "output_type": "display_data"
        }
       ]
      }
     },
     "e677f92a15674f3d93ceb30e04ccfd00": {
      "model_module": "@jupyter-widgets/controls",
      "model_module_version": "2.0.0",
      "model_name": "ProgressStyleModel",
      "state": {
       "bar_color": "black",
       "description_width": ""
      }
     },
     "e87f7646955146cc9ec32ee8604e4052": {
      "model_module": "@jupyter-widgets/base",
      "model_module_version": "2.0.0",
      "model_name": "LayoutModel",
      "state": {
       "margin": "10px 0px 20px 0px"
      }
     },
     "e8b1ee929f5c4010922963ce0d4ab0db": {
      "model_module": "@deck.gl/jupyter-widget",
      "model_module_version": "2.0.0",
      "model_name": "JupyterTransportModel",
      "state": {
       "_model_module": "@deck.gl/jupyter-widget",
       "_model_name": "JupyterTransportModel",
       "_view_name": "ErrorWidgetView",
       "carto_key": "",
       "configuration": null,
       "custom_libraries": null,
       "data_buffer": null,
       "error": {},
       "google_maps_key": "",
       "height": 500,
       "json_input": "",
       "layout": "IPY_MODEL_d8c05c1d4b2f42129afdb76e7c88ab87",
       "mapbox_key": "",
       "msg": "Failed to load model class 'JupyterTransportModel' from module '@deck.gl/jupyter-widget'",
       "tooltip": true,
       "width": "100%"
      }
     },
     "e9c258f0f12242078de6c869060f5bc2": {
      "model_module": "@jupyter-widgets/controls",
      "model_module_version": "2.0.0",
      "model_name": "ButtonModel",
      "state": {
       "button_style": "danger",
       "description": "Remove Dataset",
       "layout": "IPY_MODEL_d31146a7ae3d4161873825743e02175e",
       "style": "IPY_MODEL_0fc018de631243b589cba99f08545591",
       "tooltip": null
      }
     },
     "e9fe508f54054f97816b1715d493f3f7": {
      "model_module": "@jupyter-widgets/controls",
      "model_module_version": "2.0.0",
      "model_name": "DescriptionStyleModel",
      "state": {
       "description_width": ""
      }
     },
     "eaf722e042a5487196f3626dfae54c31": {
      "model_module": "@jupyter-widgets/controls",
      "model_module_version": "2.0.0",
      "model_name": "ButtonStyleModel",
      "state": {
       "font_family": null,
       "font_size": null,
       "font_style": null,
       "font_variant": null,
       "font_weight": null,
       "text_color": null,
       "text_decoration": null
      }
     },
     "eb30e3fd382d4e1daa01e1ca41f3ec34": {
      "model_module": "@jupyter-widgets/controls",
      "model_module_version": "2.0.0",
      "model_name": "DropdownModel",
      "state": {
       "_options_labels": [
        "Andorra",
        "Albania",
        "Austria",
        "Åland Islands",
        "Bosnia and Herzegovina",
        "Belgium",
        "Bulgaria",
        "Belarus",
        "Switzerland",
        "Czechia",
        "Germany",
        "Denmark",
        "Estonia",
        "Spain",
        "Finland",
        "Faroe Islands",
        "France",
        "United Kingdom",
        "Guernsey",
        "Greece",
        "Croatia",
        "Hungary",
        "Ireland",
        "Isle of Man",
        "Italy",
        "Jersey",
        "Liechtenstein",
        "Lithuania",
        "Luxembourg",
        "Latvia",
        "Monaco",
        "Moldova, Republic of",
        "Montenegro",
        "North Macedonia",
        "Netherlands",
        "Norway",
        "Poland",
        "Portugal",
        "Romania",
        "Serbia",
        "Russian Federation",
        "Sweden",
        "Slovenia",
        "Slovakia",
        "San Marino",
        "Türkiye",
        "Ukraine",
        "Holy See (Vatican City State)",
        "XK"
       ],
       "description": "Country:",
       "index": 0,
       "layout": "IPY_MODEL_ee7a5cf424e6481291f3d755b7d83181",
       "style": "IPY_MODEL_e9fe508f54054f97816b1715d493f3f7"
      }
     },
     "ed4c882d97c74105829ec3f76a13e44e": {
      "model_module": "@jupyter-widgets/controls",
      "model_module_version": "2.0.0",
      "model_name": "TabModel",
      "state": {
       "children": [
        "IPY_MODEL_759e2feb18e1442e8049c1fa9dac879a",
        "IPY_MODEL_f4d728afa69e4996b5ef0438a6d6b9e1",
        "IPY_MODEL_2f40268481aa462b84685bb3f6d38559",
        "IPY_MODEL_b23fbd1e484b4a149aae48dc01ef11a2",
        "IPY_MODEL_ce9a03a1479b413581ec9e5223c639b5"
       ],
       "layout": "IPY_MODEL_b90805ff9a8a47a68bc834fbb799d7cc",
       "selected_index": 0,
       "titles": [
        "global_harmonized_large",
        "global_pv_inventory",
        "ind_pv_solar",
        "usa_cali_usgs",
        "uk_crowdsourced_pv"
       ]
      }
     },
     "ee7a5cf424e6481291f3d755b7d83181": {
      "model_module": "@jupyter-widgets/base",
      "model_module_version": "2.0.0",
      "model_name": "LayoutModel",
      "state": {}
     },
     "ee9af5b2ef9b4524934306e4903aec93": {
      "model_module": "@jupyter-widgets/controls",
      "model_module_version": "2.0.0",
      "model_name": "ButtonStyleModel",
      "state": {
       "font_family": null,
       "font_size": null,
       "font_style": null,
       "font_variant": null,
       "font_weight": null,
       "text_color": null,
       "text_decoration": null
      }
     },
     "ef5202dcae1e45dab83a01547fee1c8c": {
      "model_module": "@jupyter-widgets/base",
      "model_module_version": "2.0.0",
      "model_name": "LayoutModel",
      "state": {}
     },
     "ef68755e8d1747f2899c4a24d24f4433": {
      "model_module": "@jupyter-widgets/base",
      "model_module_version": "2.0.0",
      "model_name": "LayoutModel",
      "state": {}
     },
     "f09ff837935d44c38d112f75624839eb": {
      "model_module": "@deck.gl/jupyter-widget",
      "model_module_version": "2.0.0",
      "model_name": "JupyterTransportModel",
      "state": {
       "_model_module": "@deck.gl/jupyter-widget",
       "_model_name": "JupyterTransportModel",
       "_view_name": "ErrorWidgetView",
       "carto_key": "",
       "configuration": null,
       "custom_libraries": null,
       "data_buffer": null,
       "error": {},
       "google_maps_key": "",
       "height": 500,
       "json_input": "",
       "layout": "IPY_MODEL_57163d54460c4601bdfdbc5605f5e5f1",
       "mapbox_key": "",
       "msg": "Failed to load model class 'JupyterTransportModel' from module '@deck.gl/jupyter-widget'",
       "tooltip": true,
       "width": "100%"
      }
     },
     "f4a6e4a600b74545a3071e3e20fee64a": {
      "model_module": "@jupyter-widgets/base",
      "model_module_version": "2.0.0",
      "model_name": "LayoutModel",
      "state": {}
     },
     "f4d728afa69e4996b5ef0438a6d6b9e1": {
      "model_module": "@jupyter-widgets/output",
      "model_module_version": "1.0.0",
      "model_name": "OutputModel",
      "state": {
       "layout": "IPY_MODEL_1443853fa2774a579a1bd81887ab5e43",
       "outputs": [
        {
         "name": "stdout",
         "output_type": "stream",
         "text": "Dataset global_pv_inventory_sent2_spot_2021 has 68661 geometries and 11 columns.\n"
        },
        {
         "data": {
          "text/html": "<div>\n<style scoped>\n    .dataframe tbody tr th:only-of-type {\n        vertical-align: middle;\n    }\n\n    .dataframe tbody tr th {\n        vertical-align: top;\n    }\n\n    .dataframe thead th {\n        text-align: right;\n    }\n</style>\n<table border=\"1\" class=\"dataframe\">\n  <thead>\n    <tr style=\"text-align: right;\">\n      <th></th>\n      <th>unique_id</th>\n      <th>capacity_mw</th>\n      <th>pvout</th>\n      <th>area</th>\n      <th>area_m2</th>\n      <th>centroid_lon</th>\n      <th>centroid_lat</th>\n    </tr>\n  </thead>\n  <tbody>\n    <tr>\n      <th>count</th>\n      <td>68661.000000</td>\n      <td>68661.000000</td>\n      <td>68661.000000</td>\n      <td>6.866100e+04</td>\n      <td>6.866100e+04</td>\n      <td>6.866100e+04</td>\n      <td>6.866100e+04</td>\n    </tr>\n    <tr>\n      <th>mean</th>\n      <td>34384.772127</td>\n      <td>5.603453</td>\n      <td>1393.722021</td>\n      <td>7.025906e+04</td>\n      <td>1.141996e+05</td>\n      <td>6.031174e+06</td>\n      <td>4.571884e+06</td>\n    </tr>\n    <tr>\n      <th>std</th>\n      <td>19829.831822</td>\n      <td>25.332925</td>\n      <td>221.864411</td>\n      <td>3.282588e+05</td>\n      <td>5.124354e+05</td>\n      <td>8.443706e+06</td>\n      <td>1.343627e+06</td>\n    </tr>\n    <tr>\n      <th>min</th>\n      <td>0.000000</td>\n      <td>0.039531</td>\n      <td>753.145513</td>\n      <td>3.696870e+02</td>\n      <td>4.446542e+02</td>\n      <td>-1.914609e+07</td>\n      <td>-5.028574e+06</td>\n    </tr>\n    <tr>\n      <th>25%</th>\n      <td>17221.000000</td>\n      <td>0.416814</td>\n      <td>1214.090957</td>\n      <td>4.461103e+03</td>\n      <td>7.170963e+03</td>\n      <td>1.197502e+06</td>\n      <td>4.062125e+06</td>\n    </tr>\n    <tr>\n      <th>50%</th>\n      <td>34389.000000</td>\n      <td>1.181696</td>\n      <td>1385.393244</td>\n      <td>1.367550e+04</td>\n      <td>2.302895e+04</td>\n      <td>8.449001e+06</td>\n      <td>4.500262e+06</td>\n    </tr>\n    <tr>\n      <th>75%</th>\n      <td>51554.000000</td>\n      <td>3.446303</td>\n      <td>1545.372730</td>\n      <td>3.981357e+04</td>\n      <td>6.940625e+04</td>\n      <td>1.316031e+07</td>\n      <td>5.201575e+06</td>\n    </tr>\n    <tr>\n      <th>max</th>\n      <td>68728.000000</td>\n      <td>3059.321862</td>\n      <td>2278.429469</td>\n      <td>4.017689e+07</td>\n      <td>6.393412e+07</td>\n      <td>1.849741e+07</td>\n      <td>8.328596e+06</td>\n    </tr>\n  </tbody>\n</table>\n</div>",
          "text/plain": "          unique_id   capacity_mw         pvout          area       area_m2  \\\ncount  68661.000000  68661.000000  68661.000000  6.866100e+04  6.866100e+04   \nmean   34384.772127      5.603453   1393.722021  7.025906e+04  1.141996e+05   \nstd    19829.831822     25.332925    221.864411  3.282588e+05  5.124354e+05   \nmin        0.000000      0.039531    753.145513  3.696870e+02  4.446542e+02   \n25%    17221.000000      0.416814   1214.090957  4.461103e+03  7.170963e+03   \n50%    34389.000000      1.181696   1385.393244  1.367550e+04  2.302895e+04   \n75%    51554.000000      3.446303   1545.372730  3.981357e+04  6.940625e+04   \nmax    68728.000000   3059.321862   2278.429469  4.017689e+07  6.393412e+07   \n\n       centroid_lon  centroid_lat  \ncount  6.866100e+04  6.866100e+04  \nmean   6.031174e+06  4.571884e+06  \nstd    8.443706e+06  1.343627e+06  \nmin   -1.914609e+07 -5.028574e+06  \n25%    1.197502e+06  4.062125e+06  \n50%    8.449001e+06  4.500262e+06  \n75%    1.316031e+07  5.201575e+06  \nmax    1.849741e+07  8.328596e+06  "
         },
         "metadata": {},
         "output_type": "display_data"
        },
        {
         "name": "stdout",
         "output_type": "stream",
         "text": "Unique geometry types in the dataset: ['Polygon']\nCount of Point geometries: 0\nCount of Polygon geometries: 68661\nCount of MultiPoint geometries: 0\nCount of MultiPolygon geometries: 0\nSee data samples below:\n"
        },
        {
         "data": {
          "text/html": "<div>\n<style scoped>\n    .dataframe tbody tr th:only-of-type {\n        vertical-align: middle;\n    }\n\n    .dataframe tbody tr th {\n        vertical-align: top;\n    }\n\n    .dataframe thead th {\n        text-align: right;\n    }\n</style>\n<table border=\"1\" class=\"dataframe\">\n  <thead>\n    <tr style=\"text-align: right;\">\n      <th></th>\n      <th>unique_id</th>\n      <th>confidence</th>\n      <th>install_date</th>\n      <th>capacity_mw</th>\n      <th>iso-3166-2</th>\n      <th>pvout</th>\n      <th>geometry</th>\n      <th>area</th>\n      <th>area_m2</th>\n      <th>centroid_lon</th>\n      <th>centroid_lat</th>\n    </tr>\n  </thead>\n  <tbody>\n    <tr>\n      <th>58283</th>\n      <td>58345</td>\n      <td>B</td>\n      <td></td>\n      <td>0.222920</td>\n      <td>JP-12</td>\n      <td>1309.056040</td>\n      <td>POLYGON ((139.90041 35.13512, 139.90043 35.135...</td>\n      <td>2413.333054</td>\n      <td>3608.495247</td>\n      <td>1.557368e+07</td>\n      <td>4.182259e+06</td>\n    </tr>\n    <tr>\n      <th>1282</th>\n      <td>1314</td>\n      <td>A</td>\n      <td>&lt;2016-06</td>\n      <td>31.733791</td>\n      <td>CN-13</td>\n      <td>1656.043471</td>\n      <td>POLYGON ((114.22237 40.95576, 114.22259 40.955...</td>\n      <td>421061.879378</td>\n      <td>738199.255954</td>\n      <td>1.271482e+07</td>\n      <td>5.005482e+06</td>\n    </tr>\n    <tr>\n      <th>2289</th>\n      <td>2321</td>\n      <td>A</td>\n      <td>2016-09-23,&lt;2016-06</td>\n      <td>3.254146</td>\n      <td>CN-14</td>\n      <td>1669.923010</td>\n      <td>POLYGON ((112.88469 39.94804, 112.88466 39.948...</td>\n      <td>38812.556441</td>\n      <td>66041.694656</td>\n      <td>1.256644e+07</td>\n      <td>4.858557e+06</td>\n    </tr>\n  </tbody>\n</table>\n</div>",
          "text/plain": "       unique_id confidence         install_date  capacity_mw iso-3166-2  \\\n58283      58345          B                          0.222920      JP-12   \n1282        1314          A             <2016-06    31.733791      CN-13   \n2289        2321          A  2016-09-23,<2016-06     3.254146      CN-14   \n\n             pvout                                           geometry  \\\n58283  1309.056040  POLYGON ((139.90041 35.13512, 139.90043 35.135...   \n1282   1656.043471  POLYGON ((114.22237 40.95576, 114.22259 40.955...   \n2289   1669.923010  POLYGON ((112.88469 39.94804, 112.88466 39.948...   \n\n                area        area_m2  centroid_lon  centroid_lat  \n58283    2413.333054    3608.495247  1.557368e+07  4.182259e+06  \n1282   421061.879378  738199.255954  1.271482e+07  5.005482e+06  \n2289    38812.556441   66041.694656  1.256644e+07  4.858557e+06  "
         },
         "metadata": {},
         "output_type": "display_data"
        }
       ]
      }
     },
     "f500161f33fd475faabfcfbb9765f5ab": {
      "model_module": "@jupyter-widgets/controls",
      "model_module_version": "2.0.0",
      "model_name": "VBoxModel",
      "state": {
       "children": [
        "IPY_MODEL_be7376b30b8948499ff756e624a356cb",
        "IPY_MODEL_180a32888cdd4cc8a2bca5b8c935b096",
        "IPY_MODEL_2281b1056f62442f933f02a819d1c727",
        "IPY_MODEL_e17a07f4f4c747bc8e15bc1c025270dc",
        "IPY_MODEL_a45eae719c2d44a3bbdb108268e89ab9",
        "IPY_MODEL_8829aea11d154c248a7564963e6e53ac"
       ],
       "layout": "IPY_MODEL_b15606cebdf342e6ab2a91713028dfa7"
      }
     },
     "f5a03655fb9243caaca5c3dede6cbae3": {
      "model_module": "@jupyter-widgets/base",
      "model_module_version": "2.0.0",
      "model_name": "LayoutModel",
      "state": {
       "width": "300px"
      }
     },
     "f65591a6f915426285d2f3701f7fd9d0": {
      "model_module": "@jupyter-widgets/base",
      "model_module_version": "2.0.0",
      "model_name": "LayoutModel",
      "state": {}
     },
     "f66b344710f24b9aa670800a8fccdebd": {
      "model_module": "@jupyter-widgets/base",
      "model_module_version": "2.0.0",
      "model_name": "LayoutModel",
      "state": {}
     },
     "f6bbd79a2dae4191aec9af13aab12757": {
      "model_module": "@jupyter-widgets/base",
      "model_module_version": "2.0.0",
      "model_name": "LayoutModel",
      "state": {}
     },
     "f797792b05c7415b85fbae16230fb401": {
      "model_module": "@jupyter-widgets/base",
      "model_module_version": "2.0.0",
      "model_name": "LayoutModel",
      "state": {
       "width": "auto"
      }
     },
     "f8c2aabaee8147a4acd2e84fb42f5bfb": {
      "model_module": "@jupyter-widgets/controls",
      "model_module_version": "2.0.0",
      "model_name": "HTMLStyleModel",
      "state": {
       "description_width": "",
       "font_size": null,
       "text_color": null
      }
     },
     "f94a5f8ce4f14e8c95bb2b814a22eef4": {
      "model_module": "@jupyter-widgets/base",
      "model_module_version": "2.0.0",
      "model_name": "LayoutModel",
      "state": {}
     },
     "f94b07e5aec04f7db22a1214c4379fd7": {
      "model_module": "@jupyter-widgets/controls",
      "model_module_version": "2.0.0",
      "model_name": "ButtonModel",
      "state": {
       "button_style": "success",
       "description": "Render Map",
       "layout": "IPY_MODEL_fd6d44af891c4bb0881325f9ced8f9ed",
       "style": "IPY_MODEL_011e3b7640a04364ac4a155982e5fb9e",
       "tooltip": null
      }
     },
     "f9bbbcc71e7b4624a3418b2deb9c70a2": {
      "model_module": "@jupyter-widgets/base",
      "model_module_version": "2.0.0",
      "model_name": "LayoutModel",
      "state": {}
     },
     "fd6d44af891c4bb0881325f9ced8f9ed": {
      "model_module": "@jupyter-widgets/base",
      "model_module_version": "2.0.0",
      "model_name": "LayoutModel",
      "state": {
       "width": "auto"
      }
     },
     "ffdb4a5c3b9c463aaa86127a67c9aab6": {
      "model_module": "@jupyter-widgets/controls",
      "model_module_version": "2.0.0",
      "model_name": "ButtonStyleModel",
      "state": {
       "font_family": null,
       "font_size": null,
       "font_style": null,
       "font_variant": null,
       "font_weight": null,
       "text_color": null,
       "text_decoration": null
      }
     }
    },
    "version_major": 2,
    "version_minor": 0
   }
  }
 },
 "nbformat": 4,
 "nbformat_minor": 5
}
